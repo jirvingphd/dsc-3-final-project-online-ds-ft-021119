{
 "cells": [
  {
   "cell_type": "markdown",
   "metadata": {},
   "source": [
    "# Final Project Submission\n",
    "* Student name: James M. Irivng, Ph.D.\n",
    "* Student pace: full time\n",
    "* Scheduled project review date/time: 05/15/19 2:30 pm\n",
    "* Instructor name: Jeff Herman / Brandon Lewis\n",
    "* Blog post URL:\n"
   ]
  },
  {
   "cell_type": "markdown",
   "metadata": {},
   "source": [
    "# Iowa Prisoner Recidivism"
   ]
  },
  {
   "cell_type": "markdown",
   "metadata": {},
   "source": [
    "<img src=\"images/LSA_map_with_counties_districts_and_B54A5BBCE4156.jpg\" width=80%>"
   ]
  },
  {
   "cell_type": "markdown",
   "metadata": {},
   "source": [
    "## Data Source: Iowa Department of Corrections \n",
    "\n",
    "- Source: https://www.kaggle.com/slonnadube/recidivism-for-offenders-released-from-prison\n",
    "- **Statistics about recidivism in prisoners from a 3 year prisoner**\n",
    "- **Target:**\n",
    "    - Recidivism - Return to Prison\n",
    "- **Features:**\n",
    "    - Fiscal Year Released\n",
    "    - Recidivism Reporting Year\n",
    "    - Race - Ethnicity\n",
    "    - Age At Release\n",
    "    - Convicting Offense Classification\n",
    "    - Convicting Offense Type\n",
    "    - Convicting Offense Subtype\n",
    "    - Main Supervising District\n",
    "    - Release Type\n",
    "    - Release type: Paroled to Detainder united\n",
    "    - Part of Target Population"
   ]
  },
  {
   "cell_type": "markdown",
   "metadata": {},
   "source": [
    "### Detailed variable descriptions:"
   ]
  },
  {
   "cell_type": "markdown",
   "metadata": {},
   "source": [
    "- **Fiscal Year Released**\n",
    "    - Fiscal year (year ending June 30) for which the offender was released from prison.\n",
    "\n",
    "- **Recidivism Reporting Year**\n",
    "    - Fiscal year (year ending June 30) that marks the end of the 3-year tracking period. For example, offenders exited prison in FY 2012 are found in recidivism reporting year FY 2015.\n",
    "\n",
    "- **Race - Ethnicity**\n",
    "    - Offender's Race and Ethnicity\n",
    "\n",
    "- **Convicting Offense Classification**\n",
    "    - Maximum penalties: A Felony = Life; B Felony = 25 or 50 years; C Felony = 10 years; D Felony = 5 years; Aggravated Misdemeanor = 2 years; Serious Misdemeanor = 1 year; Simple Misdemeanor = 30 days\n",
    "\n",
    "- **Convicting Offense Type**\n",
    "    - General category for the most serious offense for which the offender was placed in prison.\n",
    "\n",
    "- **Convicting Offense Subtype**\n",
    "    - Further classification of the most serious offense for which the offender was placed in prison.\n",
    "\n",
    "- **Release Type**\n",
    "    - Reasoning for Offender's release from prison.\n",
    "\n",
    "- **Main Supervising District**\n",
    "    - The Judicial District supervising the offender for the longest time during the tracking period.\n",
    "\n",
    "- **Recidivism - Return to Prison**\n",
    "    - No = No Recidivism; Yes = Prison admission for any reason within the 3-year tracking period\n",
    "    \n",
    "- **Part of Target Population** \n",
    "    - The Department of Corrections has undertaken specific strategies to reduce recidivism rates for prisoners who are on parole and are part of the target population.\n",
    "    ___"
   ]
  },
  {
   "cell_type": "markdown",
   "metadata": {},
   "source": [
    "# USING THE OSEMN MODEL TO GUIDE WORKFLOW"
   ]
  },
  {
   "cell_type": "markdown",
   "metadata": {},
   "source": [
    "1. **OBTAIN:**\n",
    "    - [x] Import data, inspect, check for datatypes to convert and null values\n",
    "<br><br>\n",
    "\n",
    "2. **SCRUB: cast data types, identify outliers, check for multicollinearity, normalize data**<br>\n",
    "    - Check and cast data types\n",
    "    - [x] Check for missing values \n",
    "    - [x] Check for multicollinearity\n",
    "    - [x] Normalize data (may want to do after some exploring)   \n",
    "    <br><br>\n",
    "            \n",
    "3. **EXPLORE:Check distributions, outliers, etc**\n",
    "    - [x] Check scales, ranges (df.describe())\n",
    "    - [x] Check histograms to get an idea of distributions (df.hist()) and data transformations to perform\n",
    "    - [x] Use scatterplots to check for linearity and possible categorical variables (df.plot(kind-'scatter')\n",
    "    <br><br>\n",
    "\n",
    "   \n",
    "4. **FIT AN INITIAL MODEL:** \n",
    "    - [x] Assess the model.\n",
    "        <br><br>\n",
    "5. **REVISE THE FITTED MODEL**\n",
    "    - [x] Adjust chosen model and hyper-parameters\n",
    "    <br><br>\n",
    "6. **HOLDOUT VALIDATION**\n",
    "    - [ ] Perform cross-validation\n",
    "___"
   ]
  },
  {
   "cell_type": "markdown",
   "metadata": {},
   "source": [
    "# OBTAIN:"
   ]
  },
  {
   "cell_type": "markdown",
   "metadata": {},
   "source": [
    "### Using Custom PyPi Package - `fsds`\n"
   ]
  },
  {
   "cell_type": "code",
   "execution_count": null,
   "metadata": {
    "ExecuteTime": {
     "end_time": "2020-10-03T22:07:01.085474Z",
     "start_time": "2020-10-03T22:07:01.082941Z"
    }
   },
   "outputs": [],
   "source": [
    "import bs_ds_local as bs"
   ]
  },
  {
   "cell_type": "code",
   "execution_count": null,
   "metadata": {
    "ExecuteTime": {
     "end_time": "2020-10-03T22:07:01.092450Z",
     "start_time": "2020-10-03T22:07:01.089981Z"
    }
   },
   "outputs": [],
   "source": [
    "# !pip install -U fsds\n",
    "from fsds.imports import *"
   ]
  },
  {
   "cell_type": "code",
   "execution_count": null,
   "metadata": {
    "ExecuteTime": {
     "end_time": "2020-10-03T22:07:01.100222Z",
     "start_time": "2020-10-03T22:07:01.094729Z"
    }
   },
   "outputs": [],
   "source": [
    "## Set Pandas Options\n",
    "pd_options = {\n",
    "    'display.max_rows'    : 200,\n",
    "    'display.max_info_rows':200,\n",
    "    'display.max_columns' : 0,\n",
    "#     'display.float_format':'${:,.2f}'.format\n",
    "}\n",
    "[pd.set_option(option, setting) for option, setting in pd_options.items()]\n",
    "\n",
    "\n",
    "## Set Plot Style\n",
    "plt.style.use('dark_background')\n",
    "\n",
    "## Suppress Warnings\n",
    "import warnings\n",
    "warnings.filterwarnings"
   ]
  },
  {
   "cell_type": "code",
   "execution_count": null,
   "metadata": {
    "ExecuteTime": {
     "end_time": "2020-10-03T22:07:01.104645Z",
     "start_time": "2020-10-03T22:07:01.102285Z"
    }
   },
   "outputs": [],
   "source": [
    "import bs_ds_local as bs"
   ]
  },
  {
   "cell_type": "markdown",
   "metadata": {},
   "source": [
    "## Loading the dataset and removing unrelated columns"
   ]
  },
  {
   "cell_type": "code",
   "execution_count": null,
   "metadata": {
    "ExecuteTime": {
     "end_time": "2020-10-03T22:07:01.228052Z",
     "start_time": "2020-10-03T22:07:01.106844Z"
    }
   },
   "outputs": [],
   "source": [
    "ls data/"
   ]
  },
  {
   "cell_type": "code",
   "execution_count": null,
   "metadata": {
    "ExecuteTime": {
     "end_time": "2020-10-03T22:07:01.336841Z",
     "start_time": "2020-10-03T22:07:01.230403Z"
    }
   },
   "outputs": [],
   "source": [
    "df = pd.read_csv('data/3-Year_Recidivism_for_Offenders_Released_from_Prison_in_Iowa.csv')\n",
    "df"
   ]
  },
  {
   "cell_type": "markdown",
   "metadata": {},
   "source": [
    "**Any columns that are about New Convictions or days to recidivism should be dropped for our initial model predicting recidivism.**\n",
    "- \"New..\", \"Days to Recividism\""
   ]
  },
  {
   "cell_type": "code",
   "execution_count": null,
   "metadata": {
    "ExecuteTime": {
     "end_time": "2020-10-03T22:07:01.368713Z",
     "start_time": "2020-10-03T22:07:01.339671Z"
    }
   },
   "outputs": [],
   "source": [
    "## Drop cols related to recivism details \n",
    "drop_expr = ['New',\"Days\",\"Recidivism Type\",\"Year\"]\n",
    "\n",
    "drop_cols = []\n",
    "for exp in drop_expr:\n",
    "    drop_cols.extend([col for col in df.columns if exp in col])\n",
    "    \n",
    "df.drop(columns=drop_cols,inplace=True)\n",
    "df.head()"
   ]
  },
  {
   "cell_type": "markdown",
   "metadata": {},
   "source": [
    "### Save original names vs short names in column_legend\n",
    "- then map names onto columns"
   ]
  },
  {
   "cell_type": "code",
   "execution_count": null,
   "metadata": {
    "ExecuteTime": {
     "end_time": "2020-10-03T22:07:01.402883Z",
     "start_time": "2020-10-03T22:07:01.370975Z"
    }
   },
   "outputs": [],
   "source": [
    "## Replacing columns with short names\n",
    "rename_map = {\n",
    "    'Fiscal Year Released': 'yr_released',\n",
    "    'Recidivism Reporting Year': 'report_year' ,\n",
    "    'Main Supervising District': 'supervising_dist' ,\n",
    "    'Release Type': 'release_type' ,\n",
    "    'Race - Ethnicity': 'race_ethnicity'  ,\n",
    "    'Age At Release ':  'age_released' ,\n",
    "    'Sex':'sex'   ,\n",
    "    'Offense Classification': 'crime_class' ,\n",
    "    'Offense Type': 'crime_type'  ,\n",
    "    'Offense Subtype':  'crime_subtype' ,\n",
    "    'Return to Prison': 'recidivist'  ,\n",
    "    'Target Population':  'target_pop'\n",
    "}\n",
    "\n",
    "df = df.rename(rename_map,axis=1)\n",
    "df"
   ]
  },
  {
   "cell_type": "code",
   "execution_count": null,
   "metadata": {
    "ExecuteTime": {
     "end_time": "2020-10-03T22:07:01.510075Z",
     "start_time": "2020-10-03T22:07:01.404780Z"
    }
   },
   "outputs": [],
   "source": [
    "df.to_csv('data/iowa_recidivism_renamed_2020.csv')"
   ]
  },
  {
   "cell_type": "markdown",
   "metadata": {},
   "source": [
    "# SCRUB / EXPLORE\n"
   ]
  },
  {
   "cell_type": "code",
   "execution_count": null,
   "metadata": {
    "ExecuteTime": {
     "end_time": "2020-10-03T22:07:01.519495Z",
     "start_time": "2020-10-03T22:07:01.511870Z"
    }
   },
   "outputs": [],
   "source": [
    "## Explore Dtypes and info\n",
    "df.info()"
   ]
  },
  {
   "cell_type": "code",
   "execution_count": null,
   "metadata": {
    "ExecuteTime": {
     "end_time": "2020-10-03T22:07:01.954731Z",
     "start_time": "2020-10-03T22:07:01.521116Z"
    }
   },
   "outputs": [],
   "source": [
    "import missingno as ms\n",
    "\n",
    "\n",
    "def nulls_report(df):\n",
    "    nulls= df.isna().sum()\n",
    "    nulls_only = nulls[nulls>0].to_frame('#')\n",
    "    nulls_only['%'] = ((nulls_only['#']/len(df))*100)\n",
    "    nulls_only = nulls_only.round(2)\n",
    "    capt='Columns with Null Values:'\n",
    "    display(nulls_only.style.set_caption(capt))\n",
    "ms.matrix(df)\n",
    "plt.show()\n",
    "  \n",
    "    \n",
    "nulls_report(df)\n"
   ]
  },
  {
   "cell_type": "markdown",
   "metadata": {},
   "source": [
    "**Results of Null Check**\n",
    "- race_ethnicity has 30 (0.12% of data)\n",
    "    -  drop\n",
    "- age_released has 3 (0.01% of data)\n",
    "    - drop\n",
    "- sex has 3 (0.01% of data)\n",
    "    - drop\n",
    "- super_district has 9581(36.82% of data)\n",
    "    - replace with \"unknown\"\n",
    "- release_type has 1762 (6.77% of data)\n",
    "    - drop\n",
    "    \n",
    "**Dropping all null values from age_released, race_ethnicity, and release_type.**"
   ]
  },
  {
   "cell_type": "markdown",
   "metadata": {},
   "source": [
    "## SIMPLIFYING CATEGORICAL FEATURES"
   ]
  },
  {
   "cell_type": "markdown",
   "metadata": {},
   "source": [
    "### Making `age_released` numerical"
   ]
  },
  {
   "cell_type": "code",
   "execution_count": null,
   "metadata": {
    "ExecuteTime": {
     "end_time": "2020-10-03T22:07:01.959238Z",
     "start_time": "2020-10-03T22:07:01.956460Z"
    }
   },
   "outputs": [],
   "source": [
    "def value_counts(col,dropna=False,normalize=True):\n",
    "    \"\"\"Convenience function for display value counts with default params\"\"\"\n",
    "    return col.value_counts(dropna=dropna,normalize=normalize)"
   ]
  },
  {
   "cell_type": "code",
   "execution_count": null,
   "metadata": {
    "ExecuteTime": {
     "end_time": "2020-10-03T22:07:01.969679Z",
     "start_time": "2020-10-03T22:07:01.961189Z"
    }
   },
   "outputs": [],
   "source": [
    "value_counts(df['age_released'])#.value_counts(dropna=False)"
   ]
  },
  {
   "cell_type": "code",
   "execution_count": null,
   "metadata": {
    "ExecuteTime": {
     "end_time": "2020-10-03T22:07:01.978810Z",
     "start_time": "2020-10-03T22:07:01.974043Z"
    }
   },
   "outputs": [],
   "source": [
    "# Mapping age_map onto 'age_released'\n",
    "# Encoding age groups as ordinal\n",
    "age_ranges = ('Under 25','25-34', '35-44','45-54','55 and Older')\n",
    "age_numbers = (20,30,40,50,70) \n",
    "age_num_map = dict(zip(age_ranges,age_numbers))\n",
    "age_num_map"
   ]
  },
  {
   "cell_type": "code",
   "execution_count": null,
   "metadata": {
    "ExecuteTime": {
     "end_time": "2020-10-03T22:07:01.993215Z",
     "start_time": "2020-10-03T22:07:01.981927Z"
    },
    "scrolled": true
   },
   "outputs": [],
   "source": [
    "df['age_released'] = df['age_released'].map(age_num_map)\n",
    "value_counts(df['age_released'])"
   ]
  },
  {
   "cell_type": "markdown",
   "metadata": {},
   "source": [
    "### df['race_ethnicity']"
   ]
  },
  {
   "cell_type": "code",
   "execution_count": null,
   "metadata": {
    "ExecuteTime": {
     "end_time": "2020-10-03T22:07:02.003818Z",
     "start_time": "2020-10-03T22:07:01.995117Z"
    }
   },
   "outputs": [],
   "source": [
    "value_counts(df['race_ethnicity'])"
   ]
  },
  {
   "cell_type": "markdown",
   "metadata": {},
   "source": [
    "- **Remapping race_ethnicity**\n",
    "    - Due to the low numbers for several of the race_ethnicity types, reducing and combining Hispanic and Non-Hispanic groups\n",
    "    - Alternative approach of separating race and ethnicity into 2 separate features was rejected after modeling"
   ]
  },
  {
   "cell_type": "code",
   "execution_count": null,
   "metadata": {
    "ExecuteTime": {
     "end_time": "2020-10-03T22:07:02.019226Z",
     "start_time": "2020-10-03T22:07:02.005663Z"
    }
   },
   "outputs": [],
   "source": [
    "# Defining Dictionary Map for race_ethnicity categories\n",
    "race_ethnicity_map = {'White - Non-Hispanic':'White',\n",
    "                        'Black - Non-Hispanic': 'Black',\n",
    "                        'White - Hispanic' : 'Hispanic',\n",
    "                        'American Indian or Alaska Native - Non-Hispanic' : 'American Native',\n",
    "                        'Asian or Pacific Islander - Non-Hispanic' : 'Asian or Pacific Islander',\n",
    "                        'Black - Hispanic' : 'Black',\n",
    "                        'American Indian or Alaska Native - Hispanic':'American Native',\n",
    "                        'White -' : 'White',\n",
    "                        'Asian or Pacific Islander - Hispanic' : 'Asian or Pacific Islander',\n",
    "                        'N/A -' : np.nan,\n",
    "                        'Black -':'Black'}\n",
    "\n",
    "# Replacing original race_ethnicity column with remapped one.\n",
    "df['race_ethnicity'] = df['race_ethnicity'].map(race_ethnicity_map)\n",
    "value_counts(df['race_ethnicity'])"
   ]
  },
  {
   "cell_type": "markdown",
   "metadata": {},
   "source": [
    "### df['crime_class']"
   ]
  },
  {
   "cell_type": "markdown",
   "metadata": {},
   "source": [
    "- **Remapping crime_class**\n",
    "    - Combine 'Other Felony' and 'Other Felony (Old Code)' -> nan\n",
    "    - Other Misdemeanor -> np.nan\n",
    "    - Felony - Mandatory Minimum -> np.nan\n",
    "    - Special Sentence 2005 -> Sex Offender\n",
    "    - 'Sexual Predator Community Supervision' -> 'Sex Offender'\n",
    "    - Other Felony -> np.nan    "
   ]
  },
  {
   "cell_type": "code",
   "execution_count": null,
   "metadata": {
    "ExecuteTime": {
     "end_time": "2020-10-03T22:07:02.028841Z",
     "start_time": "2020-10-03T22:07:02.020983Z"
    }
   },
   "outputs": [],
   "source": [
    "value_counts(df['crime_class'])"
   ]
  },
  {
   "cell_type": "code",
   "execution_count": null,
   "metadata": {
    "ExecuteTime": {
     "end_time": "2020-10-03T22:07:02.043922Z",
     "start_time": "2020-10-03T22:07:02.030816Z"
    }
   },
   "outputs": [],
   "source": [
    "# Remapping\n",
    "crime_class_map = {'Other Felony (Old Code)':'Other Felony' ,#or other felony\n",
    "                  'Other Misdemeanor':'Other Misdemeanor',\n",
    "                   'Felony - Mandatory Minimum':'Other Felony',#np.nan, # if minimum then lowest sentence ==  D Felony\n",
    "                   'Special Sentence 2005': 'Sex Offender',\n",
    "                   'Other Felony' : 'Other Felony' ,\n",
    "                   'Sexual Predator Community Supervision' : 'Sex Offender',\n",
    "                   'D Felony': 'D Felony',\n",
    "                   'C Felony' :'C Felony',\n",
    "                   'B Felony' : 'B Felony',\n",
    "                   'A Felony' : 'A Felony',\n",
    "                   'Aggravated Misdemeanor':'Aggravated Misdemeanor',\n",
    "                   'Felony - Enhancement to Original Penalty':'Felony - Enhanced',\n",
    "                   'Felony - Enhanced':'Felony - Enhanced' ,\n",
    "                   'Serious Misdemeanor':'Serious Misdemeanor',\n",
    "                   'Simple Misdemeanor':'Simple Misdemeanor'}\n",
    "\n",
    "df['crime_class'] = df['crime_class'].map(crime_class_map)\n",
    "value_counts(df['crime_class'])"
   ]
  },
  {
   "cell_type": "markdown",
   "metadata": {},
   "source": [
    "### Remapping target"
   ]
  },
  {
   "cell_type": "code",
   "execution_count": null,
   "metadata": {
    "ExecuteTime": {
     "end_time": "2020-10-03T22:07:02.056088Z",
     "start_time": "2020-10-03T22:07:02.045616Z"
    }
   },
   "outputs": [],
   "source": [
    "# Recidivist\n",
    "df['recidivist'] = df['recidivist'].map( {'No':0,'Yes':1})\n",
    "value_counts(df['recidivist'])"
   ]
  },
  {
   "cell_type": "code",
   "execution_count": null,
   "metadata": {
    "ExecuteTime": {
     "end_time": "2020-10-03T22:07:02.081498Z",
     "start_time": "2020-10-03T22:07:02.057962Z"
    }
   },
   "outputs": [],
   "source": [
    "df.head()"
   ]
  },
  {
   "cell_type": "markdown",
   "metadata": {},
   "source": [
    "___\n",
    "## FEATURE ENGINEERING\n",
    "- **Engineering a simple 'felony' true false category**\n",
    "- **Combining crime_type and crime_subtype into types_combined**"
   ]
  },
  {
   "cell_type": "markdown",
   "metadata": {},
   "source": [
    "### Creating a simple 'felony' feature"
   ]
  },
  {
   "cell_type": "code",
   "execution_count": null,
   "metadata": {
    "ExecuteTime": {
     "end_time": "2020-10-03T22:07:02.111410Z",
     "start_time": "2020-10-03T22:07:02.083165Z"
    }
   },
   "outputs": [],
   "source": [
    "# Engineering a simple 'felony' true false category\n",
    "df['felony'] = df['crime_class'].str.contains('felony',case=False)\n",
    "value_counts(df['felony'])"
   ]
  },
  {
   "cell_type": "code",
   "execution_count": null,
   "metadata": {
    "ExecuteTime": {
     "end_time": "2020-10-03T22:07:02.115339Z",
     "start_time": "2020-10-03T22:07:02.113284Z"
    }
   },
   "outputs": [],
   "source": [
    "# df['crime_types_combined'] = df['crime_type']+'_'+df['crime_subtype']\n",
    "# value_counts(df['crime_types_combined'])"
   ]
  },
  {
   "cell_type": "code",
   "execution_count": null,
   "metadata": {
    "ExecuteTime": {
     "end_time": "2020-10-03T22:07:02.133049Z",
     "start_time": "2020-10-03T22:07:02.117255Z"
    }
   },
   "outputs": [],
   "source": [
    "# Combining crime_type and crime_subtype into types_combined\n",
    "# df['crime_class_type_subtype']= df['crime_class']+'_'+df['crime_type']+'_'+df['crime_subtype']\n",
    "# value_counts(df['crime_class_type_subtype'])\n",
    "df.nunique()"
   ]
  },
  {
   "cell_type": "markdown",
   "metadata": {},
   "source": [
    "### Creating a 'max_sentence' feature based on crime class max penalties\n",
    "   "
   ]
  },
  {
   "cell_type": "code",
   "execution_count": null,
   "metadata": {
    "ExecuteTime": {
     "end_time": "2020-10-03T22:07:02.145972Z",
     "start_time": "2020-10-03T22:07:02.134721Z"
    }
   },
   "outputs": [],
   "source": [
    "# Mapping years onto crime class\n",
    "crime_class_max_sentence_map = {'A Felony': 75,  # Life\n",
    "                                'Aggravated Misdemeanor': 2, # 2 years\n",
    "                                'B Felony': 50, # 25 or 50 years\n",
    "                                'C Felony': 10, # 10 years\n",
    "                                'D Felony': 5,  # 5 yeras\n",
    "                                'Felony - Enhanced': 10, # Add on to class C and D felonies, hard to approximate. \n",
    "                                'Serious Misdemeanor': 1, # 1 year\n",
    "                                'Sex Offender': 10, # 10 years\n",
    "                                'Simple Misdemeanor': 0.83} # 30 days\n",
    "\n",
    "# Mapping max_sentence_column\n",
    "df['max_sentence'] =df['crime_class'].map(crime_class_max_sentence_map)\n",
    "value_counts(df['max_sentence'])"
   ]
  },
  {
   "cell_type": "markdown",
   "metadata": {},
   "source": [
    "### Dropping all  values replaced with np.nan"
   ]
  },
  {
   "cell_type": "code",
   "execution_count": null,
   "metadata": {
    "ExecuteTime": {
     "end_time": "2020-10-03T22:07:02.165281Z",
     "start_time": "2020-10-03T22:07:02.147713Z"
    }
   },
   "outputs": [],
   "source": [
    "nulls_report(df)"
   ]
  },
  {
   "cell_type": "markdown",
   "metadata": {},
   "source": [
    "## Checking Final Dtypes"
   ]
  },
  {
   "cell_type": "code",
   "execution_count": null,
   "metadata": {},
   "outputs": [],
   "source": []
  },
  {
   "cell_type": "code",
   "execution_count": null,
   "metadata": {
    "ExecuteTime": {
     "end_time": "2020-10-03T22:07:02.174856Z",
     "start_time": "2020-10-03T22:07:02.167301Z"
    }
   },
   "outputs": [],
   "source": [
    "df.info()\n",
    "dtypes = {'yr_released':str,\n",
    "         'report_year':str}"
   ]
  },
  {
   "cell_type": "markdown",
   "metadata": {},
   "source": [
    "# BOOKMARK"
   ]
  },
  {
   "cell_type": "markdown",
   "metadata": {},
   "source": [
    "## Preprocessing with  Pipelines and ColumnTransformer"
   ]
  },
  {
   "cell_type": "code",
   "execution_count": null,
   "metadata": {
    "ExecuteTime": {
     "end_time": "2020-10-03T22:07:02.180187Z",
     "start_time": "2020-10-03T22:07:02.177063Z"
    }
   },
   "outputs": [],
   "source": [
    "from sklearn.pipeline import Pipeline\n",
    "from sklearn.compose import ColumnTransformer\n",
    "\n",
    "from sklearn.impute import SimpleImputer\n",
    "from sklearn.preprocessing import StandardScaler, MinMaxScaler,OneHotEncoder\n",
    "\n",
    "from sklearn.model_selection import train_test_split"
   ]
  },
  {
   "cell_type": "code",
   "execution_count": null,
   "metadata": {
    "ExecuteTime": {
     "end_time": "2020-10-03T22:07:02.184406Z",
     "start_time": "2020-10-03T22:07:02.182008Z"
    }
   },
   "outputs": [],
   "source": [
    "from sklearn import set_config\n",
    "set_config(display='text')"
   ]
  },
  {
   "cell_type": "code",
   "execution_count": null,
   "metadata": {
    "ExecuteTime": {
     "end_time": "2020-10-03T22:07:02.200833Z",
     "start_time": "2020-10-03T22:07:02.186129Z"
    }
   },
   "outputs": [],
   "source": [
    "## Make x and y\n",
    "target = 'recidivist'\n",
    "X = df.drop(columns=target).copy()\n",
    "y = df[target].copy()\n",
    "value_counts(y)"
   ]
  },
  {
   "cell_type": "code",
   "execution_count": null,
   "metadata": {
    "ExecuteTime": {
     "end_time": "2020-10-03T22:07:02.219882Z",
     "start_time": "2020-10-03T22:07:02.202544Z"
    }
   },
   "outputs": [],
   "source": [
    "X_train, X_test, y_train, y_test = train_test_split(X,y,stratify=y)"
   ]
  },
  {
   "cell_type": "markdown",
   "metadata": {},
   "source": [
    "## BOOKMARK "
   ]
  },
  {
   "cell_type": "code",
   "execution_count": null,
   "metadata": {},
   "outputs": [],
   "source": []
  },
  {
   "cell_type": "code",
   "execution_count": null,
   "metadata": {
    "ExecuteTime": {
     "end_time": "2020-10-03T22:07:02.227528Z",
     "start_time": "2020-10-03T22:07:02.221564Z"
    }
   },
   "outputs": [],
   "source": [
    "## Get a list of columns to be run as numeric data\n",
    "num_cols = X_train.select_dtypes('number').columns\n",
    "num_cols"
   ]
  },
  {
   "cell_type": "code",
   "execution_count": null,
   "metadata": {
    "ExecuteTime": {
     "end_time": "2020-10-03T22:07:02.247270Z",
     "start_time": "2020-10-03T22:07:02.229221Z"
    }
   },
   "outputs": [],
   "source": [
    "nulls_report(df)"
   ]
  },
  {
   "cell_type": "code",
   "execution_count": null,
   "metadata": {
    "ExecuteTime": {
     "end_time": "2020-10-03T22:07:02.258141Z",
     "start_time": "2020-10-03T22:07:02.249056Z"
    },
    "scrolled": true
   },
   "outputs": [],
   "source": [
    "## Make a num_transformer pipeline\n",
    "set_config(display='diagram')\n",
    "num_transformer = Pipeline(steps=[\n",
    "    ('imputer', SimpleImputer(strategy='median')),\n",
    "    ('scaler',StandardScaler())])\n",
    "num_transformer"
   ]
  },
  {
   "cell_type": "code",
   "execution_count": null,
   "metadata": {
    "ExecuteTime": {
     "end_time": "2020-10-03T22:07:02.268969Z",
     "start_time": "2020-10-03T22:07:02.266839Z"
    }
   },
   "outputs": [],
   "source": [
    "# ## vis as diagram\n",
    "# set_config(display='text')\n",
    "# num_transformer"
   ]
  },
  {
   "cell_type": "code",
   "execution_count": null,
   "metadata": {
    "ExecuteTime": {
     "end_time": "2020-10-03T22:07:02.279957Z",
     "start_time": "2020-10-03T22:07:02.273060Z"
    },
    "scrolled": true
   },
   "outputs": [],
   "source": [
    "## Get a list of columns to be run as categorical data\n",
    "cat_cols = X_train.select_dtypes('O').columns\n",
    "cat_cols"
   ]
  },
  {
   "cell_type": "code",
   "execution_count": null,
   "metadata": {
    "ExecuteTime": {
     "end_time": "2020-10-03T22:07:02.292177Z",
     "start_time": "2020-10-03T22:07:02.281662Z"
    }
   },
   "outputs": [],
   "source": [
    "## Create a cat_transformer pipeline \n",
    "cat_transformer = Pipeline(steps=[\n",
    "    ('imputer',SimpleImputer(strategy='constant',fill_value='missing')),\n",
    "    ('encoder', OneHotEncoder(handle_unknown='ignore',sparse=False))])#handle_unknown='ignore',\n",
    "cat_transformer\n",
    "\n",
    "## that will impute using median and then calculate z-scores\n"
   ]
  },
  {
   "cell_type": "code",
   "execution_count": null,
   "metadata": {
    "ExecuteTime": {
     "end_time": "2020-10-03T22:07:02.296170Z",
     "start_time": "2020-10-03T22:07:02.293990Z"
    }
   },
   "outputs": [],
   "source": [
    "# TO DO: make another cat encoder with drop='if_binary'drop='if_binary',"
   ]
  },
  {
   "cell_type": "markdown",
   "metadata": {},
   "source": [
    "### Combine Preprocessing into one ColumnTransformer"
   ]
  },
  {
   "cell_type": "code",
   "execution_count": null,
   "metadata": {
    "ExecuteTime": {
     "end_time": "2020-10-03T22:07:02.360446Z",
     "start_time": "2020-10-03T22:07:02.297717Z"
    },
    "scrolled": true
   },
   "outputs": [],
   "source": [
    "## COMBINE BOTH PIPELINES INTO ONE WITH COLUMN TRANSFORMER\n",
    "from sklearn.compose import ColumnTransformer\n",
    "preprocessing = ColumnTransformer(transformers=[\n",
    "    ('num',num_transformer,num_cols),\n",
    "    ('cat',cat_transformer,cat_cols)])\n",
    "preprocessing"
   ]
  },
  {
   "cell_type": "code",
   "execution_count": null,
   "metadata": {
    "ExecuteTime": {
     "end_time": "2020-10-03T22:07:02.439759Z",
     "start_time": "2020-10-03T22:07:02.362187Z"
    }
   },
   "outputs": [],
   "source": [
    "## Get X_train and X_test from column transformer\n",
    "X_train_tf = preprocessing.fit_transform(X_train)\n",
    "X_train_tf"
   ]
  },
  {
   "cell_type": "markdown",
   "metadata": {},
   "source": [
    "> **One downside of Pipelines is that its harder to get the individual info we need to re-form our dataset as a df**"
   ]
  },
  {
   "cell_type": "code",
   "execution_count": null,
   "metadata": {
    "ExecuteTime": {
     "end_time": "2020-10-03T22:07:02.578786Z",
     "start_time": "2020-10-03T22:07:02.441541Z"
    }
   },
   "outputs": [],
   "source": [
    "cat_features = preprocessing.named_transformers_['cat'].named_steps['encoder'].get_feature_names(cat_cols)\n",
    "X_train_tf = pd.DataFrame(X_train_tf,columns=[*num_cols, *cat_features])\n",
    "X_train_tf.head()"
   ]
  },
  {
   "cell_type": "code",
   "execution_count": null,
   "metadata": {
    "ExecuteTime": {
     "end_time": "2020-10-03T22:07:02.738324Z",
     "start_time": "2020-10-03T22:07:02.580851Z"
    }
   },
   "outputs": [],
   "source": [
    "X_test_tf = pd.DataFrame( preprocessing.transform(X_test),\n",
    "                         columns=[*num_cols, *cat_features])\n",
    "X_test_tf.head()"
   ]
  },
  {
   "cell_type": "markdown",
   "metadata": {},
   "source": [
    "# MODELING"
   ]
  },
  {
   "cell_type": "code",
   "execution_count": null,
   "metadata": {
    "ExecuteTime": {
     "end_time": "2020-10-03T22:07:02.749198Z",
     "start_time": "2020-10-03T22:07:02.740228Z"
    }
   },
   "outputs": [],
   "source": [
    "import sklearn.metrics as metrics\n",
    "\n",
    "def evaluate_classification(model,X_test,y_test,classes=['Non Recid','Recidivst'],\n",
    "                           normalize='true',cmap='Purples',label='',\n",
    "                           return_report=False):\n",
    "    \"\"\"Accepts an sklearn-compatible classification model + test data \n",
    "    and displays several sklearn.metrics functions: \n",
    "    - classifciation_report\n",
    "    - plot_confusion_matrix\n",
    "    - plot_roc_curve\n",
    "    \"\"\"\n",
    "     \n",
    "    ## Get Predictions\n",
    "    y_hat_test = model.predict(X_test)\n",
    "    \n",
    "    ## Classification Report / Scores \n",
    "    table_header = \"[i] CLASSIFICATION REPORT\"\n",
    "    \n",
    "    ## Add Label if given\n",
    "    if len(label)>0:\n",
    "        table_header += f\":\\t{label}\"\n",
    "        \n",
    "    \n",
    "    ## PRINT CLASSIFICATION REPORT\n",
    "    dashes = '---'*20\n",
    "    print(dashes,table_header,dashes,sep='\\n')\n",
    "\n",
    "    print(metrics.classification_report(y_test,y_hat_test,\n",
    "                                    target_names=classes))\n",
    "    \n",
    "    report = metrics.classification_report(y_test,y_hat_test,\n",
    "                                               target_names=classes,\n",
    "                                          output_dict=True)\n",
    "    print(dashes+\"\\n\\n\")\n",
    "    \n",
    "    \n",
    "\n",
    "    ## MAKE FIGURE\n",
    "    fig, axes = plt.subplots(figsize=(10,4),ncols=2)\n",
    "    \n",
    "    ## Plot Confusion Matrix \n",
    "    metrics.plot_confusion_matrix(model, X_test,y_test,\n",
    "                                  display_labels=classes,\n",
    "                                  normalize=normalize,\n",
    "                                 cmap=cmap,ax=axes[0])\n",
    "    axes[0].set(title='Confusion Matrix')\n",
    "    \n",
    "    ## Plot Roc Curve\n",
    "    roc_plot = metrics.plot_roc_curve(model, X_test, y_test,ax=axes[1])\n",
    "    axes[1].legend()\n",
    "    axes[1].plot([0,1],[0,1],ls=':')\n",
    "    axes[1].grid()\n",
    "    axes[1].set_title('Receiving Operator Characteristic (ROC) Curve') \n",
    "    fig.tight_layout()\n",
    "    plt.show()\n",
    "    \n",
    "    if return_report:\n",
    "        return report #fig,axes"
   ]
  },
  {
   "cell_type": "markdown",
   "metadata": {},
   "source": [
    "## Baseline DummyClassifier"
   ]
  },
  {
   "cell_type": "code",
   "execution_count": null,
   "metadata": {
    "ExecuteTime": {
     "end_time": "2020-10-03T22:07:03.172964Z",
     "start_time": "2020-10-03T22:07:02.750936Z"
    }
   },
   "outputs": [],
   "source": [
    "from sklearn.dummy import DummyClassifier\n",
    "dummy= DummyClassifier(strategy='stratified')\n",
    "dummy.fit(X_train_tf,y_train)\n",
    "evaluate_classification(dummy,X_test_tf,y_test,\n",
    "                       label='Dummy Classifier')"
   ]
  },
  {
   "cell_type": "markdown",
   "metadata": {},
   "source": [
    "### Vanilla RandomForest"
   ]
  },
  {
   "cell_type": "code",
   "execution_count": null,
   "metadata": {
    "ExecuteTime": {
     "end_time": "2020-10-03T22:07:06.416338Z",
     "start_time": "2020-10-03T22:07:03.174892Z"
    }
   },
   "outputs": [],
   "source": [
    "from sklearn.ensemble import RandomForestClassifier,StackingClassifier\n",
    "from sklearn.linear_model import LogisticRegression,LogisticRegressionCV\n",
    "\n",
    "## \n",
    "clf = RandomForestClassifier()\n",
    "clf.fit(X_train_tf,y_train)\n",
    "evaluate_classification(clf,X_test_tf,y_test,label=\"Vanilla Random Forest\")"
   ]
  },
  {
   "cell_type": "code",
   "execution_count": null,
   "metadata": {
    "ExecuteTime": {
     "end_time": "2020-10-03T22:07:06.422072Z",
     "start_time": "2020-10-03T22:07:06.418003Z"
    }
   },
   "outputs": [],
   "source": [
    "def get_feature_importance(clf,X_train_tf,plot=True):\n",
    "    importances = pd.Series(clf.feature_importances_,index=X_train_tf.columns)\n",
    "    return importances.sort_values(ascending=False)\n",
    "\n",
    "def plot_importance(clf,X_train_tf,n=25):\n",
    "    importances = get_feature_importance(clf,X_train_tf)\n",
    "    ax = importances.sort_values().tail(n).plot(kind='barh')#,figsize=figsize)\n",
    "    ax.set(title=f\"Top {n} Most Important Features\",xlabel='importance')"
   ]
  },
  {
   "cell_type": "code",
   "execution_count": null,
   "metadata": {
    "ExecuteTime": {
     "end_time": "2020-10-03T22:07:06.699227Z",
     "start_time": "2020-10-03T22:07:06.423674Z"
    }
   },
   "outputs": [],
   "source": [
    "plot_importance(clf, X_test_tf,n=20)"
   ]
  },
  {
   "cell_type": "markdown",
   "metadata": {},
   "source": [
    "### RandomForest - `class_weight=\"balanced\"`"
   ]
  },
  {
   "cell_type": "code",
   "execution_count": null,
   "metadata": {
    "ExecuteTime": {
     "end_time": "2020-10-03T22:07:10.022725Z",
     "start_time": "2020-10-03T22:07:06.700960Z"
    }
   },
   "outputs": [],
   "source": [
    "clf = RandomForestClassifier(class_weight='balanced')\n",
    "clf.fit(X_train_tf,y_train)\n",
    "evaluate_classification(clf,X_test_tf,y_test,label= \"Random Forest (class_weight='balanced')\")\n",
    "plot_importance(clf,X_test_tf)"
   ]
  },
  {
   "cell_type": "code",
   "execution_count": null,
   "metadata": {
    "ExecuteTime": {
     "end_time": "2020-10-03T22:07:10.026741Z",
     "start_time": "2020-10-03T22:07:10.024637Z"
    },
    "scrolled": false
   },
   "outputs": [],
   "source": [
    "# get_feature_importance(clf,X_test_tf).to_frame('importance').style.bar()"
   ]
  },
  {
   "cell_type": "markdown",
   "metadata": {},
   "source": [
    "### SMOTENC"
   ]
  },
  {
   "cell_type": "code",
   "execution_count": null,
   "metadata": {
    "ExecuteTime": {
     "end_time": "2020-10-03T22:07:10.033389Z",
     "start_time": "2020-10-03T22:07:10.029111Z"
    }
   },
   "outputs": [],
   "source": [
    "## Getting cat features index\n",
    "cat_col_index = [False for col in num_cols]\n",
    "cat_col_index.extend([True for col in cat_features])\n",
    "cat_col_index[:5]"
   ]
  },
  {
   "cell_type": "code",
   "execution_count": null,
   "metadata": {
    "ExecuteTime": {
     "end_time": "2020-10-03T22:07:10.037707Z",
     "start_time": "2020-10-03T22:07:10.035062Z"
    }
   },
   "outputs": [],
   "source": [
    "from imblearn.over_sampling import SMOTENC\n",
    "smote = SMOTENC(cat_col_index,n_jobs=-1)"
   ]
  },
  {
   "cell_type": "code",
   "execution_count": null,
   "metadata": {
    "ExecuteTime": {
     "end_time": "2020-10-03T22:07:28.409447Z",
     "start_time": "2020-10-03T22:07:10.039088Z"
    }
   },
   "outputs": [],
   "source": [
    "X_train_smote,y_train_smote = smote.fit_resample(X_train_tf,y_train)\n",
    "y_train_smote.value_counts()"
   ]
  },
  {
   "cell_type": "code",
   "execution_count": null,
   "metadata": {
    "ExecuteTime": {
     "end_time": "2020-10-03T22:07:28.537888Z",
     "start_time": "2020-10-03T22:07:28.411171Z"
    }
   },
   "outputs": [],
   "source": [
    "X_train_smote[:5]"
   ]
  },
  {
   "cell_type": "markdown",
   "metadata": {},
   "source": [
    "### RandomForest with SMOTE"
   ]
  },
  {
   "cell_type": "code",
   "execution_count": null,
   "metadata": {
    "ExecuteTime": {
     "end_time": "2020-10-03T22:07:31.773086Z",
     "start_time": "2020-10-03T22:07:28.539336Z"
    }
   },
   "outputs": [],
   "source": [
    "clf = RandomForestClassifier()#class_weight='balanced')\n",
    "clf.fit(X_train_smote,y_train_smote)\n",
    "evaluate_classification(clf,X_test_tf,y_test,label='RandomForest - SMOTE')\n",
    "plot_importance(clf,X_test_tf)"
   ]
  },
  {
   "cell_type": "markdown",
   "metadata": {},
   "source": [
    "# GridSearch RF"
   ]
  },
  {
   "cell_type": "code",
   "execution_count": null,
   "metadata": {
    "ExecuteTime": {
     "end_time": "2020-10-03T23:35:26.962503Z",
     "start_time": "2020-10-03T23:34:31.455791Z"
    }
   },
   "outputs": [],
   "source": [
    "from sklearn.model_selection import RandomizedSearchCV,GridSearchCV\n",
    "\n",
    "clf = RandomForestClassifier()\n",
    "params ={'max_depth':[None,5,7,10,20,30,],\n",
    "         'min_samples_leaf':[1,2,3],\n",
    "         'criterion':['gini','entropy'],        \n",
    "        }\n",
    "\n",
    "\n",
    "grid = GridSearchCV(clf,params,scoring='recall_macro', n_jobs=-1)\n",
    "\n",
    "grid.fit(X_train_smote,y_train_smote)\n",
    "print(grid.best_params_)\n",
    "\n",
    "print(grid.best_score_)\n",
    "evaluate_classification(grid.best_estimator_,X_test_tf,y_test)"
   ]
  },
  {
   "cell_type": "code",
   "execution_count": null,
   "metadata": {
    "ExecuteTime": {
     "end_time": "2020-10-03T23:35:26.974967Z",
     "start_time": "2020-10-03T23:35:26.964309Z"
    }
   },
   "outputs": [],
   "source": [
    "# scores =['recall','recall_macro','accuracy']\n",
    "GRIDS={}"
   ]
  },
  {
   "cell_type": "code",
   "execution_count": null,
   "metadata": {
    "ExecuteTime": {
     "end_time": "2020-10-03T23:46:30.856842Z",
     "start_time": "2020-10-03T23:39:49.385712Z"
    },
    "scrolled": false
   },
   "outputs": [],
   "source": [
    "## Build loop to make dict of grids for each score method\n",
    "scores =['f1','f1_macro','roc_auc','recall','recall_macro','accuracy','precision']\n",
    "\n",
    "reports = {}\n",
    "for score in scores:\n",
    "    line = '==='*30\n",
    "    print(line)\n",
    "    print(f'[i] Starting {score}',end='\\n'+line)\n",
    "    \n",
    "    GRIDS[score] = GridSearchCV(clf,params,cv=3,scoring=score, n_jobs=-1)\n",
    "    GRIDS[score].fit(X_train_smote,y_train_smote)\n",
    "    \n",
    "    print(f\"\\nFor scoring={score}:\" )\n",
    "    print(GRIDS[score].best_params_)\n",
    "    print('\\n\\n')\n",
    "    \n",
    "    reports[score] = evaluate_classification(GRIDS[score].best_estimator_,\n",
    "                                    X_test_tf,y_test,label=score,return_report=True)"
   ]
  },
  {
   "cell_type": "code",
   "execution_count": null,
   "metadata": {
    "ExecuteTime": {
     "end_time": "2020-10-03T23:55:49.641928Z",
     "start_time": "2020-10-03T23:55:49.603711Z"
    }
   },
   "outputs": [],
   "source": [
    "dfs=[]\n",
    "for metric,result in reports.items():\n",
    "    \n",
    "    result['scoring_param'] = metric\n",
    "    dfs.append(pd.DataFrame(result))\n",
    "    \n",
    "RESULTS = pd.concat(dfs).reset_index().set_index(['scoring_param','index'])\n",
    "# RESULTS.drop('scoring param',inplace=True)\n",
    "RESULTS"
   ]
  },
  {
   "cell_type": "code",
   "execution_count": null,
   "metadata": {},
   "outputs": [],
   "source": []
  },
  {
   "cell_type": "markdown",
   "metadata": {},
   "source": [
    "# BOOKMARK 10/03 7;40PM"
   ]
  },
  {
   "cell_type": "code",
   "execution_count": null,
   "metadata": {},
   "outputs": [],
   "source": []
  },
  {
   "cell_type": "markdown",
   "metadata": {},
   "source": [
    "# LogisticRegression"
   ]
  },
  {
   "cell_type": "code",
   "execution_count": null,
   "metadata": {
    "ExecuteTime": {
     "end_time": "2020-10-03T22:07:55.500787Z",
     "start_time": "2020-10-03T22:07:55.164277Z"
    }
   },
   "outputs": [],
   "source": [
    "X_train_smote.describe()"
   ]
  },
  {
   "cell_type": "code",
   "execution_count": null,
   "metadata": {
    "ExecuteTime": {
     "end_time": "2020-10-03T22:07:55.504002Z",
     "start_time": "2020-10-03T22:07:55.502274Z"
    }
   },
   "outputs": [],
   "source": [
    "# from sklearn.preprocessing import MinMaxScaler\n",
    "# scaler = MinMaxScaler()\n",
    "# X_train_logreg = scaler.fit_transform(X_train_smote)\n",
    "# X_test_logreg = scaler.transform(X_test_tf)"
   ]
  },
  {
   "cell_type": "code",
   "execution_count": null,
   "metadata": {
    "ExecuteTime": {
     "end_time": "2020-10-03T22:12:56.018972Z",
     "start_time": "2020-10-03T22:08:12.234819Z"
    }
   },
   "outputs": [],
   "source": [
    "logregCV = LogisticRegressionCV(scoring='recall',penalty='l1',cv=3,\n",
    "                                solver='liblinear',max_iter=250,n_jobs=-1)\n",
    "\n",
    "logregCV.fit(X_train_smote,y_train_smote)\n",
    "logregCV"
   ]
  },
  {
   "cell_type": "code",
   "execution_count": null,
   "metadata": {
    "ExecuteTime": {
     "end_time": "2020-10-03T22:12:56.473204Z",
     "start_time": "2020-10-03T22:12:56.020712Z"
    },
    "scrolled": false
   },
   "outputs": [],
   "source": [
    "evaluate_classification(logregCV,X_test_tf,y_test)"
   ]
  },
  {
   "cell_type": "code",
   "execution_count": null,
   "metadata": {
    "ExecuteTime": {
     "end_time": "2020-10-03T22:26:21.687551Z",
     "start_time": "2020-10-03T22:26:20.143905Z"
    }
   },
   "outputs": [],
   "source": [
    "def get_coeffs(logregCV, X_train_smote,):\n",
    "    coeffs = pd.Series(logregCV.coef_[0],index=X_train_smote.columns)\n",
    "    coeffs['Intercept'] = logregCV.intercept_\n",
    "    coeffs = coeffs.astype(float)\n",
    "    return coeffs\n",
    "\n",
    "coeffs = get_coeffs(logregCV,X_train_smote)\n",
    "coeffs.sort_values().plot(kind='barh',figsize=(5,10))"
   ]
  },
  {
   "cell_type": "code",
   "execution_count": null,
   "metadata": {
    "ExecuteTime": {
     "end_time": "2020-10-03T22:07:55.512353Z",
     "start_time": "2020-10-03T22:07:01.322Z"
    }
   },
   "outputs": [],
   "source": [
    "# logregCV.C_, logregCV."
   ]
  },
  {
   "cell_type": "markdown",
   "metadata": {},
   "source": [
    "## TO DO: Try tune-sklearn\n",
    "- [Blog Post](https://towardsdatascience.com/5x-faster-scikit-learn-parameter-tuning-in-5-lines-of-code-be6bdd21833c)\n",
    "- [Documentation](https://github.com/ray-project/tune-sklearn)"
   ]
  },
  {
   "cell_type": "markdown",
   "metadata": {},
   "source": [
    "## StackingClassifier"
   ]
  },
  {
   "cell_type": "code",
   "execution_count": null,
   "metadata": {
    "ExecuteTime": {
     "end_time": "2020-10-03T22:07:55.513366Z",
     "start_time": "2020-10-03T22:07:01.326Z"
    }
   },
   "outputs": [],
   "source": [
    "from sklearn.ensemble import StackingClassifier\n",
    "\n",
    "stack = StackingClassifier(estimators=[\n",
    "    ('rf',)\n",
    "])"
   ]
  },
  {
   "cell_type": "markdown",
   "metadata": {},
   "source": [
    "# CONCLUSIONS\n",
    "- **After adjusting for imbalanced classes, the most important factor for determining recidivism are:**\n",
    "    - **Age at Release**\n",
    "    - **Supervising Judicial District**\n",
    "    - **Release Type**\n",
    "    - **Crime Subtype**\n",
    "    \n",
    "    \n",
    "## Recommendatons\n",
    "- This model could be used to predict which prisoners due for release may at the greatest risk for recidivism.<br><br>\n",
    "    - Using this knowledge, the state of Iowa could put new programs into action that target those at high risk for recidivism and provide additional assistance and guidance following release.<br><br>\n",
    "    - Additionally, there could be additional counseling or education _prior_ to release to supply the inmate with tools and options to avoid returning to a life of crime.\n",
    "    \n",
    "# FUTURE DIRECTIONS\n",
    "- With more time and reliable performance, would perform cross-validation of our final model.<br><br>\n",
    "- Additional visuals summarizing the underlying features effects on recidivism.<br><br>\n",
    "- Adapting more available visualization tools to better display the underpinning of the model.\n",
    "<br><br>\n",
    "- Exploration of the predictability of crimes types committed by recidivists."
   ]
  },
  {
   "cell_type": "markdown",
   "metadata": {},
   "source": [
    "### POST-REVIEW SUGGESTIONS / IDEAS:\n",
    "- [ ] Try using reduction instead of SMOTE.\n",
    "- [ ] seaborn catplot bar graphs\n",
    "- [ ] Add tree or other visuals\n",
    "    - Try Mike's SHAP plots"
   ]
  },
  {
   "cell_type": "markdown",
   "metadata": {},
   "source": [
    "# APPENDIX"
   ]
  },
  {
   "cell_type": "code",
   "execution_count": null,
   "metadata": {
    "ExecuteTime": {
     "end_time": "2020-10-03T22:07:55.514316Z",
     "start_time": "2020-10-03T22:07:01.331Z"
    }
   },
   "outputs": [],
   "source": [
    "STOP"
   ]
  },
  {
   "cell_type": "code",
   "execution_count": null,
   "metadata": {
    "ExecuteTime": {
     "end_time": "2020-10-03T22:07:55.515238Z",
     "start_time": "2020-10-03T22:07:01.334Z"
    }
   },
   "outputs": [],
   "source": [
    "from bs_ds import viz_tree"
   ]
  },
  {
   "cell_type": "code",
   "execution_count": null,
   "metadata": {
    "ExecuteTime": {
     "end_time": "2020-10-03T22:07:55.516169Z",
     "start_time": "2020-10-03T22:07:01.337Z"
    }
   },
   "outputs": [],
   "source": [
    "viz_tree(cb_clf)"
   ]
  },
  {
   "cell_type": "code",
   "execution_count": null,
   "metadata": {},
   "outputs": [],
   "source": []
  },
  {
   "cell_type": "code",
   "execution_count": null,
   "metadata": {
    "ExecuteTime": {
     "end_time": "2020-10-03T22:07:55.517077Z",
     "start_time": "2020-10-03T22:07:01.342Z"
    }
   },
   "outputs": [],
   "source": [
    "compare_tree = sklearn.tree.DecisionTreeClassifier()\n",
    "dir(compare_tree)"
   ]
  },
  {
   "cell_type": "code",
   "execution_count": null,
   "metadata": {
    "ExecuteTime": {
     "end_time": "2020-10-03T22:07:55.517950Z",
     "start_time": "2020-10-03T22:07:01.346Z"
    }
   },
   "outputs": [],
   "source": [
    "compare_tree.fit(X_train, y_train)"
   ]
  },
  {
   "cell_type": "code",
   "execution_count": null,
   "metadata": {
    "ExecuteTime": {
     "end_time": "2020-10-03T22:07:55.518861Z",
     "start_time": "2020-10-03T22:07:01.349Z"
    }
   },
   "outputs": [],
   "source": [
    "dir(compare_tree)"
   ]
  },
  {
   "cell_type": "code",
   "execution_count": null,
   "metadata": {
    "ExecuteTime": {
     "end_time": "2020-10-03T22:07:55.519776Z",
     "start_time": "2020-10-03T22:07:01.352Z"
    },
    "scrolled": false
   },
   "outputs": [],
   "source": [
    "# This is the tree object that sklearn generates and is looking for \n",
    "help(compare_tree.tree_)"
   ]
  },
  {
   "cell_type": "code",
   "execution_count": null,
   "metadata": {
    "ExecuteTime": {
     "end_time": "2020-10-03T22:07:55.520741Z",
     "start_time": "2020-10-03T22:07:01.356Z"
    }
   },
   "outputs": [],
   "source": [
    "dir(cb_clf)"
   ]
  },
  {
   "cell_type": "code",
   "execution_count": null,
   "metadata": {
    "ExecuteTime": {
     "end_time": "2020-10-03T22:07:55.521639Z",
     "start_time": "2020-10-03T22:07:01.359Z"
    }
   },
   "outputs": [],
   "source": [
    "help(cb_clf.get_metadata())"
   ]
  },
  {
   "cell_type": "code",
   "execution_count": null,
   "metadata": {
    "ExecuteTime": {
     "end_time": "2020-10-03T22:07:55.522605Z",
     "start_time": "2020-10-03T22:07:01.363Z"
    }
   },
   "outputs": [],
   "source": [
    "test = cb_clf.get_metadata()"
   ]
  },
  {
   "cell_type": "code",
   "execution_count": null,
   "metadata": {
    "ExecuteTime": {
     "end_time": "2020-10-03T22:07:55.523498Z",
     "start_time": "2020-10-03T22:07:01.366Z"
    },
    "scrolled": true
   },
   "outputs": [],
   "source": [
    "help(cb_clf)"
   ]
  },
  {
   "cell_type": "markdown",
   "metadata": {},
   "source": [
    "### SHAP values\n",
    "https://github.com/jirvingphd/shap\n"
   ]
  },
  {
   "cell_type": "code",
   "execution_count": null,
   "metadata": {
    "ExecuteTime": {
     "end_time": "2020-10-03T22:07:55.524438Z",
     "start_time": "2020-10-03T22:07:01.370Z"
    }
   },
   "outputs": [],
   "source": [
    "import shap\n",
    "shap.initjs()"
   ]
  },
  {
   "cell_type": "code",
   "execution_count": null,
   "metadata": {
    "ExecuteTime": {
     "end_time": "2020-10-03T22:07:55.525313Z",
     "start_time": "2020-10-03T22:07:01.374Z"
    }
   },
   "outputs": [],
   "source": [
    "explainer = shap.TreeExplainer(cb_clf)"
   ]
  },
  {
   "cell_type": "code",
   "execution_count": null,
   "metadata": {
    "ExecuteTime": {
     "end_time": "2020-10-03T22:07:55.526245Z",
     "start_time": "2020-10-03T22:07:01.378Z"
    }
   },
   "outputs": [],
   "source": [
    "shap_vals = explainer.shap_values(train_pool)"
   ]
  },
  {
   "cell_type": "code",
   "execution_count": null,
   "metadata": {
    "ExecuteTime": {
     "end_time": "2020-10-03T22:07:55.526970Z",
     "start_time": "2020-10-03T22:07:01.381Z"
    }
   },
   "outputs": [],
   "source": [
    "shap.force_plot(explainer.expected_value, shap_vals[:1000],X_train[:1000])"
   ]
  },
  {
   "cell_type": "code",
   "execution_count": null,
   "metadata": {
    "ExecuteTime": {
     "end_time": "2020-10-03T22:07:55.527944Z",
     "start_time": "2020-10-03T22:07:01.385Z"
    }
   },
   "outputs": [],
   "source": [
    "shap.summary_plot(shap_vals, X_train)"
   ]
  },
  {
   "cell_type": "code",
   "execution_count": null,
   "metadata": {
    "ExecuteTime": {
     "end_time": "2020-10-03T22:07:55.528917Z",
     "start_time": "2020-10-03T22:07:01.389Z"
    }
   },
   "outputs": [],
   "source": [
    "shap.summary_plot(shap_vals, X_train, plot_type=\"bar\")"
   ]
  },
  {
   "cell_type": "code",
   "execution_count": null,
   "metadata": {},
   "outputs": [],
   "source": []
  }
 ],
 "metadata": {
  "kernelspec": {
   "display_name": "learn-env",
   "language": "python",
   "name": "learn-env"
  },
  "language_info": {
   "codemirror_mode": {
    "name": "ipython",
    "version": 3
   },
   "file_extension": ".py",
   "mimetype": "text/x-python",
   "name": "python",
   "nbconvert_exporter": "python",
   "pygments_lexer": "ipython3",
   "version": "3.6.11"
  },
  "toc": {
   "base_numbering": 1,
   "nav_menu": {},
   "number_sections": false,
   "sideBar": true,
   "skip_h1_title": false,
   "title_cell": "Table of Contents",
   "title_sidebar": "Contents",
   "toc_cell": false,
   "toc_position": {
    "height": "calc(100% - 180px)",
    "left": "10px",
    "top": "150px",
    "width": "307.181px"
   },
   "toc_section_display": true,
   "toc_window_display": false
  },
  "varInspector": {
   "cols": {
    "lenName": 16,
    "lenType": 16,
    "lenVar": 40
   },
   "kernels_config": {
    "python": {
     "delete_cmd_postfix": "",
     "delete_cmd_prefix": "del ",
     "library": "var_list.py",
     "varRefreshCmd": "print(var_dic_list())"
    },
    "r": {
     "delete_cmd_postfix": ") ",
     "delete_cmd_prefix": "rm(",
     "library": "var_list.r",
     "varRefreshCmd": "cat(var_dic_list()) "
    }
   },
   "oldHeight": 572.166222,
   "position": {
    "height": "593.931px",
    "left": "841.588px",
    "right": "20px",
    "top": "77px",
    "width": "705.306px"
   },
   "types_to_exclude": [
    "module",
    "function",
    "builtin_function_or_method",
    "instance",
    "_Feature"
   ],
   "varInspector_section_display": "block",
   "window_display": false
  }
 },
 "nbformat": 4,
 "nbformat_minor": 2
}

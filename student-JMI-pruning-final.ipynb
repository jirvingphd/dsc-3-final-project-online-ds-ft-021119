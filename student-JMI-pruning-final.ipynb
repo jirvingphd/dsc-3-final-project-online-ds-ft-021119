{
 "cells": [
  {
   "cell_type": "markdown",
   "metadata": {},
   "source": [
    "# Final Project Submission\n",
    "* Student name: James M. Irivng, Ph.D.\n",
    "* Student pace: full time\n",
    "* Scheduled project review date/time: 05/15/19 2:30 pm\n",
    "* Instructor name: Jeff Herman / Brandon Lewis\n",
    "* Blog post URL:\n"
   ]
  },
  {
   "cell_type": "markdown",
   "metadata": {},
   "source": [
    "# Iowa Prisoner Recidivism"
   ]
  },
  {
   "cell_type": "markdown",
   "metadata": {},
   "source": [
    "<img src=\"images/LSA_map_with_counties_districts_and_B54A5BBCE4156.jpg\" width=80%>"
   ]
  },
  {
   "cell_type": "markdown",
   "metadata": {},
   "source": [
    "## Data Source: Iowa Department of Corrections \n",
    "\n",
    "- Source: https://www.kaggle.com/slonnadube/recidivism-for-offenders-released-from-prison\n",
    "- **Statistics about recidivism in prisoners from a 3 year prisoner**\n",
    "- **Target:**\n",
    "    - Recidivism - Return to Prison\n",
    "- **Features:**\n",
    "    - Fiscal Year Released\n",
    "    - Recidivism Reporting Year\n",
    "    - Race - Ethnicity\n",
    "    - Age At Release\n",
    "    - Convicting Offense Classification\n",
    "    - Convicting Offense Type\n",
    "    - Convicting Offense Subtype\n",
    "    - Main Supervising District\n",
    "    - Release Type\n",
    "    - Release type: Paroled to Detainder united\n",
    "    - Part of Target Population"
   ]
  },
  {
   "cell_type": "markdown",
   "metadata": {},
   "source": [
    "### Detailed variable descriptions:"
   ]
  },
  {
   "cell_type": "markdown",
   "metadata": {},
   "source": [
    "- **Fiscal Year Released**\n",
    "    - Fiscal year (year ending June 30) for which the offender was released from prison.\n",
    "\n",
    "- **Recidivism Reporting Year**\n",
    "    - Fiscal year (year ending June 30) that marks the end of the 3-year tracking period. For example, offenders exited prison in FY 2012 are found in recidivism reporting year FY 2015.\n",
    "\n",
    "- **Race - Ethnicity**\n",
    "    - Offender's Race and Ethnicity\n",
    "\n",
    "- **Convicting Offense Classification**\n",
    "    - Maximum penalties: A Felony = Life; B Felony = 25 or 50 years; C Felony = 10 years; D Felony = 5 years; Aggravated Misdemeanor = 2 years; Serious Misdemeanor = 1 year; Simple Misdemeanor = 30 days\n",
    "\n",
    "- **Convicting Offense Type**\n",
    "    - General category for the most serious offense for which the offender was placed in prison.\n",
    "\n",
    "- **Convicting Offense Subtype**\n",
    "    - Further classification of the most serious offense for which the offender was placed in prison.\n",
    "\n",
    "- **Release Type**\n",
    "    - Reasoning for Offender's release from prison.\n",
    "\n",
    "- **Main Supervising District**\n",
    "    - The Judicial District supervising the offender for the longest time during the tracking period.\n",
    "\n",
    "- **Recidivism - Return to Prison**\n",
    "    - No = No Recidivism; Yes = Prison admission for any reason within the 3-year tracking period\n",
    "    \n",
    "- **Part of Target Population** \n",
    "    - The Department of Corrections has undertaken specific strategies to reduce recidivism rates for prisoners who are on parole and are part of the target population.\n",
    "    ___"
   ]
  },
  {
   "cell_type": "markdown",
   "metadata": {},
   "source": [
    "# USING THE OSEMN MODEL TO GUIDE WORKFLOW"
   ]
  },
  {
   "cell_type": "markdown",
   "metadata": {},
   "source": [
    "1. **OBTAIN:**\n",
    "    - [x] Import data, inspect, check for datatypes to convert and null values\n",
    "<br><br>\n",
    "\n",
    "2. **SCRUB: cast data types, identify outliers, check for multicollinearity, normalize data**<br>\n",
    "    - Check and cast data types\n",
    "    - [x] Check for missing values \n",
    "    - [x] Check for multicollinearity\n",
    "    - [x] Normalize data (may want to do after some exploring)   \n",
    "    <br><br>\n",
    "            \n",
    "3. **EXPLORE:Check distributions, outliers, etc**\n",
    "    - [x] Check scales, ranges (df.describe())\n",
    "    - [x] Check histograms to get an idea of distributions (df.hist()) and data transformations to perform\n",
    "    - [x] Use scatterplots to check for linearity and possible categorical variables (df.plot(kind-'scatter')\n",
    "    <br><br>\n",
    "\n",
    "   \n",
    "4. **FIT AN INITIAL MODEL:** \n",
    "    - [x] Assess the model.\n",
    "        <br><br>\n",
    "5. **REVISE THE FITTED MODEL**\n",
    "    - [x] Adjust chosen model and hyper-parameters\n",
    "    <br><br>\n",
    "6. **HOLDOUT VALIDATION**\n",
    "    - [ ] Perform cross-validation\n",
    "___"
   ]
  },
  {
   "cell_type": "markdown",
   "metadata": {},
   "source": [
    "# OBTAIN:"
   ]
  },
  {
   "cell_type": "markdown",
   "metadata": {},
   "source": [
    "### Using Custom PyPi Package - `fsds`\n"
   ]
  },
  {
   "cell_type": "code",
   "execution_count": 1,
   "metadata": {
    "ExecuteTime": {
     "end_time": "2020-10-03T23:56:29.560515Z",
     "start_time": "2020-10-03T23:56:28.690251Z"
    }
   },
   "outputs": [],
   "source": [
    "import bs_ds_local as bs"
   ]
  },
  {
   "cell_type": "code",
   "execution_count": 2,
   "metadata": {
    "ExecuteTime": {
     "end_time": "2020-10-03T23:56:30.609277Z",
     "start_time": "2020-10-03T23:56:29.562114Z"
    }
   },
   "outputs": [
    {
     "name": "stdout",
     "output_type": "stream",
     "text": [
      "fsds v0.2.25 loaded.  Read the docs: https://fs-ds.readthedocs.io/en/latest/ \n"
     ]
    },
    {
     "data": {
      "text/html": [
       "<style  type=\"text/css\" >\n",
       "</style><table id=\"T_0e81c46c_05d4_11eb_8123_acde48001122\" ><caption>Loaded Packages and Handles</caption><thead>    <tr>        <th class=\"col_heading level0 col0\" >Handle</th>        <th class=\"col_heading level0 col1\" >Package</th>        <th class=\"col_heading level0 col2\" >Description</th>    </tr></thead><tbody>\n",
       "                <tr>\n",
       "                                <td id=\"T_0e81c46c_05d4_11eb_8123_acde48001122row0_col0\" class=\"data row0 col0\" >dp</td>\n",
       "                        <td id=\"T_0e81c46c_05d4_11eb_8123_acde48001122row0_col1\" class=\"data row0 col1\" >IPython.display</td>\n",
       "                        <td id=\"T_0e81c46c_05d4_11eb_8123_acde48001122row0_col2\" class=\"data row0 col2\" >Display modules with helpful display and clearing commands.</td>\n",
       "            </tr>\n",
       "            <tr>\n",
       "                                <td id=\"T_0e81c46c_05d4_11eb_8123_acde48001122row1_col0\" class=\"data row1 col0\" >fs</td>\n",
       "                        <td id=\"T_0e81c46c_05d4_11eb_8123_acde48001122row1_col1\" class=\"data row1 col1\" >fsds</td>\n",
       "                        <td id=\"T_0e81c46c_05d4_11eb_8123_acde48001122row1_col2\" class=\"data row1 col2\" >Custom data science bootcamp student package</td>\n",
       "            </tr>\n",
       "            <tr>\n",
       "                                <td id=\"T_0e81c46c_05d4_11eb_8123_acde48001122row2_col0\" class=\"data row2 col0\" >mpl</td>\n",
       "                        <td id=\"T_0e81c46c_05d4_11eb_8123_acde48001122row2_col1\" class=\"data row2 col1\" >matplotlib</td>\n",
       "                        <td id=\"T_0e81c46c_05d4_11eb_8123_acde48001122row2_col2\" class=\"data row2 col2\" >Matplotlib's base OOP module with formatting artists</td>\n",
       "            </tr>\n",
       "            <tr>\n",
       "                                <td id=\"T_0e81c46c_05d4_11eb_8123_acde48001122row3_col0\" class=\"data row3 col0\" >plt</td>\n",
       "                        <td id=\"T_0e81c46c_05d4_11eb_8123_acde48001122row3_col1\" class=\"data row3 col1\" >matplotlib.pyplot</td>\n",
       "                        <td id=\"T_0e81c46c_05d4_11eb_8123_acde48001122row3_col2\" class=\"data row3 col2\" >Matplotlib's matlab-like plotting module</td>\n",
       "            </tr>\n",
       "            <tr>\n",
       "                                <td id=\"T_0e81c46c_05d4_11eb_8123_acde48001122row4_col0\" class=\"data row4 col0\" >np</td>\n",
       "                        <td id=\"T_0e81c46c_05d4_11eb_8123_acde48001122row4_col1\" class=\"data row4 col1\" >numpy</td>\n",
       "                        <td id=\"T_0e81c46c_05d4_11eb_8123_acde48001122row4_col2\" class=\"data row4 col2\" >scientific computing with Python</td>\n",
       "            </tr>\n",
       "            <tr>\n",
       "                                <td id=\"T_0e81c46c_05d4_11eb_8123_acde48001122row5_col0\" class=\"data row5 col0\" >pd</td>\n",
       "                        <td id=\"T_0e81c46c_05d4_11eb_8123_acde48001122row5_col1\" class=\"data row5 col1\" >pandas</td>\n",
       "                        <td id=\"T_0e81c46c_05d4_11eb_8123_acde48001122row5_col2\" class=\"data row5 col2\" >High performance data structures and tools</td>\n",
       "            </tr>\n",
       "            <tr>\n",
       "                                <td id=\"T_0e81c46c_05d4_11eb_8123_acde48001122row6_col0\" class=\"data row6 col0\" >sns</td>\n",
       "                        <td id=\"T_0e81c46c_05d4_11eb_8123_acde48001122row6_col1\" class=\"data row6 col1\" >seaborn</td>\n",
       "                        <td id=\"T_0e81c46c_05d4_11eb_8123_acde48001122row6_col2\" class=\"data row6 col2\" >High-level data visualization library based on matplotlib</td>\n",
       "            </tr>\n",
       "    </tbody></table>"
      ],
      "text/plain": [
       "<pandas.io.formats.style.Styler at 0x7ffc25f1a7b8>"
      ]
     },
     "metadata": {},
     "output_type": "display_data"
    },
    {
     "data": {
      "text/html": [
       "        <script type=\"text/javascript\">\n",
       "        window.PlotlyConfig = {MathJaxConfig: 'local'};\n",
       "        if (window.MathJax) {MathJax.Hub.Config({SVG: {font: \"STIX-Web\"}});}\n",
       "        if (typeof require !== 'undefined') {\n",
       "        require.undef(\"plotly\");\n",
       "        requirejs.config({\n",
       "            paths: {\n",
       "                'plotly': ['https://cdn.plot.ly/plotly-latest.min']\n",
       "            }\n",
       "        });\n",
       "        require(['plotly'], function(Plotly) {\n",
       "            window._Plotly = Plotly;\n",
       "        });\n",
       "        }\n",
       "        </script>\n",
       "        "
      ]
     },
     "metadata": {},
     "output_type": "display_data"
    },
    {
     "data": {
      "text/html": [
       "        <script type=\"text/javascript\">\n",
       "        window.PlotlyConfig = {MathJaxConfig: 'local'};\n",
       "        if (window.MathJax) {MathJax.Hub.Config({SVG: {font: \"STIX-Web\"}});}\n",
       "        if (typeof require !== 'undefined') {\n",
       "        require.undef(\"plotly\");\n",
       "        requirejs.config({\n",
       "            paths: {\n",
       "                'plotly': ['https://cdn.plot.ly/plotly-latest.min']\n",
       "            }\n",
       "        });\n",
       "        require(['plotly'], function(Plotly) {\n",
       "            window._Plotly = Plotly;\n",
       "        });\n",
       "        }\n",
       "        </script>\n",
       "        "
      ]
     },
     "metadata": {},
     "output_type": "display_data"
    },
    {
     "name": "stdout",
     "output_type": "stream",
     "text": [
      "[i] Pandas .iplot() method activated.\n"
     ]
    }
   ],
   "source": [
    "# !pip install -U fsds\n",
    "from fsds.imports import *"
   ]
  },
  {
   "cell_type": "code",
   "execution_count": 3,
   "metadata": {
    "ExecuteTime": {
     "end_time": "2020-10-03T23:56:30.617291Z",
     "start_time": "2020-10-03T23:56:30.611634Z"
    }
   },
   "outputs": [
    {
     "data": {
      "text/plain": [
       "<function warnings.filterwarnings(action, message='', category=<class 'Warning'>, module='', lineno=0, append=False)>"
      ]
     },
     "execution_count": 3,
     "metadata": {},
     "output_type": "execute_result"
    }
   ],
   "source": [
    "## Set Pandas Options\n",
    "pd_options = {\n",
    "    'display.max_rows'    : 200,\n",
    "    'display.max_info_rows':200,\n",
    "    'display.max_columns' : 0,\n",
    "#     'display.float_format':'${:,.2f}'.format\n",
    "}\n",
    "[pd.set_option(option, setting) for option, setting in pd_options.items()]\n",
    "\n",
    "\n",
    "## Set Plot Style\n",
    "plt.style.use('dark_background')\n",
    "\n",
    "## Suppress Warnings\n",
    "import warnings\n",
    "warnings.filterwarnings"
   ]
  },
  {
   "cell_type": "code",
   "execution_count": 4,
   "metadata": {
    "ExecuteTime": {
     "end_time": "2020-10-03T23:56:30.621674Z",
     "start_time": "2020-10-03T23:56:30.619281Z"
    }
   },
   "outputs": [],
   "source": [
    "import bs_ds_local as bs"
   ]
  },
  {
   "cell_type": "markdown",
   "metadata": {},
   "source": [
    "## Loading the dataset and removing unrelated columns"
   ]
  },
  {
   "cell_type": "code",
   "execution_count": 5,
   "metadata": {
    "ExecuteTime": {
     "end_time": "2020-10-03T23:56:30.748761Z",
     "start_time": "2020-10-03T23:56:30.623215Z"
    }
   },
   "outputs": [
    {
     "name": "stdout",
     "output_type": "stream",
     "text": [
      "3-Year_Recidivism_for_Offenders_Released_from_Prison_in_Iowa.csv\r\n",
      "Iowa_recidivism_features_cleaned_2020.csv\r\n",
      "iowa_recidivism_renamed_2020.csv\r\n"
     ]
    }
   ],
   "source": [
    "ls data/"
   ]
  },
  {
   "cell_type": "code",
   "execution_count": 6,
   "metadata": {
    "ExecuteTime": {
     "end_time": "2020-10-03T23:56:30.866259Z",
     "start_time": "2020-10-03T23:56:30.750876Z"
    }
   },
   "outputs": [
    {
     "data": {
      "text/html": [
       "<div>\n",
       "<style scoped>\n",
       "    .dataframe tbody tr th:only-of-type {\n",
       "        vertical-align: middle;\n",
       "    }\n",
       "\n",
       "    .dataframe tbody tr th {\n",
       "        vertical-align: top;\n",
       "    }\n",
       "\n",
       "    .dataframe thead th {\n",
       "        text-align: right;\n",
       "    }\n",
       "</style>\n",
       "<table border=\"1\" class=\"dataframe\">\n",
       "  <thead>\n",
       "    <tr style=\"text-align: right;\">\n",
       "      <th></th>\n",
       "      <th>Fiscal Year Released</th>\n",
       "      <th>Recidivism Reporting Year</th>\n",
       "      <th>Main Supervising District</th>\n",
       "      <th>Release Type</th>\n",
       "      <th>Race - Ethnicity</th>\n",
       "      <th>Age At Release</th>\n",
       "      <th>Sex</th>\n",
       "      <th>Offense Classification</th>\n",
       "      <th>Offense Type</th>\n",
       "      <th>Offense Subtype</th>\n",
       "      <th>Return to Prison</th>\n",
       "      <th>Days to Return</th>\n",
       "      <th>Recidivism Type</th>\n",
       "      <th>New Offense Classification</th>\n",
       "      <th>New Offense Type</th>\n",
       "      <th>New Offense Sub Type</th>\n",
       "      <th>Target Population</th>\n",
       "    </tr>\n",
       "  </thead>\n",
       "  <tbody>\n",
       "    <tr>\n",
       "      <th>0</th>\n",
       "      <td>2010</td>\n",
       "      <td>2013</td>\n",
       "      <td>7JD</td>\n",
       "      <td>Parole</td>\n",
       "      <td>Black - Non-Hispanic</td>\n",
       "      <td>25-34</td>\n",
       "      <td>Male</td>\n",
       "      <td>C Felony</td>\n",
       "      <td>Violent</td>\n",
       "      <td>Robbery</td>\n",
       "      <td>Yes</td>\n",
       "      <td>433.0</td>\n",
       "      <td>New</td>\n",
       "      <td>C Felony</td>\n",
       "      <td>Drug</td>\n",
       "      <td>Trafficking</td>\n",
       "      <td>Yes</td>\n",
       "    </tr>\n",
       "    <tr>\n",
       "      <th>1</th>\n",
       "      <td>2010</td>\n",
       "      <td>2013</td>\n",
       "      <td>NaN</td>\n",
       "      <td>Discharged – End of Sentence</td>\n",
       "      <td>White - Non-Hispanic</td>\n",
       "      <td>25-34</td>\n",
       "      <td>Male</td>\n",
       "      <td>D Felony</td>\n",
       "      <td>Property</td>\n",
       "      <td>Theft</td>\n",
       "      <td>Yes</td>\n",
       "      <td>453.0</td>\n",
       "      <td>Tech</td>\n",
       "      <td>NaN</td>\n",
       "      <td>NaN</td>\n",
       "      <td>NaN</td>\n",
       "      <td>No</td>\n",
       "    </tr>\n",
       "    <tr>\n",
       "      <th>2</th>\n",
       "      <td>2010</td>\n",
       "      <td>2013</td>\n",
       "      <td>5JD</td>\n",
       "      <td>Parole</td>\n",
       "      <td>White - Non-Hispanic</td>\n",
       "      <td>35-44</td>\n",
       "      <td>Male</td>\n",
       "      <td>B Felony</td>\n",
       "      <td>Drug</td>\n",
       "      <td>Trafficking</td>\n",
       "      <td>Yes</td>\n",
       "      <td>832.0</td>\n",
       "      <td>Tech</td>\n",
       "      <td>NaN</td>\n",
       "      <td>NaN</td>\n",
       "      <td>NaN</td>\n",
       "      <td>Yes</td>\n",
       "    </tr>\n",
       "    <tr>\n",
       "      <th>3</th>\n",
       "      <td>2010</td>\n",
       "      <td>2013</td>\n",
       "      <td>6JD</td>\n",
       "      <td>Parole</td>\n",
       "      <td>White - Non-Hispanic</td>\n",
       "      <td>25-34</td>\n",
       "      <td>Male</td>\n",
       "      <td>B Felony</td>\n",
       "      <td>Other</td>\n",
       "      <td>Other Criminal</td>\n",
       "      <td>No</td>\n",
       "      <td>NaN</td>\n",
       "      <td>No Recidivism</td>\n",
       "      <td>NaN</td>\n",
       "      <td>NaN</td>\n",
       "      <td>NaN</td>\n",
       "      <td>Yes</td>\n",
       "    </tr>\n",
       "    <tr>\n",
       "      <th>4</th>\n",
       "      <td>2010</td>\n",
       "      <td>2013</td>\n",
       "      <td>NaN</td>\n",
       "      <td>Discharged – End of Sentence</td>\n",
       "      <td>Black - Non-Hispanic</td>\n",
       "      <td>35-44</td>\n",
       "      <td>Male</td>\n",
       "      <td>D Felony</td>\n",
       "      <td>Violent</td>\n",
       "      <td>Assault</td>\n",
       "      <td>Yes</td>\n",
       "      <td>116.0</td>\n",
       "      <td>Tech</td>\n",
       "      <td>NaN</td>\n",
       "      <td>NaN</td>\n",
       "      <td>NaN</td>\n",
       "      <td>No</td>\n",
       "    </tr>\n",
       "    <tr>\n",
       "      <th>...</th>\n",
       "      <td>...</td>\n",
       "      <td>...</td>\n",
       "      <td>...</td>\n",
       "      <td>...</td>\n",
       "      <td>...</td>\n",
       "      <td>...</td>\n",
       "      <td>...</td>\n",
       "      <td>...</td>\n",
       "      <td>...</td>\n",
       "      <td>...</td>\n",
       "      <td>...</td>\n",
       "      <td>...</td>\n",
       "      <td>...</td>\n",
       "      <td>...</td>\n",
       "      <td>...</td>\n",
       "      <td>...</td>\n",
       "      <td>...</td>\n",
       "    </tr>\n",
       "    <tr>\n",
       "      <th>26015</th>\n",
       "      <td>2015</td>\n",
       "      <td>2018</td>\n",
       "      <td>NaN</td>\n",
       "      <td>Paroled to Detainer - INS</td>\n",
       "      <td>White - Hispanic</td>\n",
       "      <td>Under 25</td>\n",
       "      <td>Male</td>\n",
       "      <td>C Felony</td>\n",
       "      <td>Violent</td>\n",
       "      <td>Assault</td>\n",
       "      <td>No</td>\n",
       "      <td>NaN</td>\n",
       "      <td>No Recidivism</td>\n",
       "      <td>NaN</td>\n",
       "      <td>NaN</td>\n",
       "      <td>NaN</td>\n",
       "      <td>Yes</td>\n",
       "    </tr>\n",
       "    <tr>\n",
       "      <th>26016</th>\n",
       "      <td>2015</td>\n",
       "      <td>2018</td>\n",
       "      <td>6JD</td>\n",
       "      <td>Released to Special Sentence</td>\n",
       "      <td>White - Non-Hispanic</td>\n",
       "      <td>35-44</td>\n",
       "      <td>Male</td>\n",
       "      <td>C Felony</td>\n",
       "      <td>Violent</td>\n",
       "      <td>Sex</td>\n",
       "      <td>No</td>\n",
       "      <td>NaN</td>\n",
       "      <td>No Recidivism</td>\n",
       "      <td>NaN</td>\n",
       "      <td>NaN</td>\n",
       "      <td>NaN</td>\n",
       "      <td>No</td>\n",
       "    </tr>\n",
       "    <tr>\n",
       "      <th>26017</th>\n",
       "      <td>2015</td>\n",
       "      <td>2018</td>\n",
       "      <td>5JD</td>\n",
       "      <td>Parole Granted</td>\n",
       "      <td>White - Non-Hispanic</td>\n",
       "      <td>25-34</td>\n",
       "      <td>Female</td>\n",
       "      <td>Aggravated Misdemeanor</td>\n",
       "      <td>Public Order</td>\n",
       "      <td>Traffic</td>\n",
       "      <td>No</td>\n",
       "      <td>NaN</td>\n",
       "      <td>No Recidivism</td>\n",
       "      <td>NaN</td>\n",
       "      <td>NaN</td>\n",
       "      <td>NaN</td>\n",
       "      <td>No</td>\n",
       "    </tr>\n",
       "    <tr>\n",
       "      <th>26018</th>\n",
       "      <td>2015</td>\n",
       "      <td>2018</td>\n",
       "      <td>5JD</td>\n",
       "      <td>Paroled w/Immediate Discharge</td>\n",
       "      <td>White - Non-Hispanic</td>\n",
       "      <td>25-34</td>\n",
       "      <td>Male</td>\n",
       "      <td>D Felony</td>\n",
       "      <td>Property</td>\n",
       "      <td>Theft</td>\n",
       "      <td>No</td>\n",
       "      <td>NaN</td>\n",
       "      <td>No Recidivism</td>\n",
       "      <td>NaN</td>\n",
       "      <td>NaN</td>\n",
       "      <td>NaN</td>\n",
       "      <td>Yes</td>\n",
       "    </tr>\n",
       "    <tr>\n",
       "      <th>26019</th>\n",
       "      <td>2015</td>\n",
       "      <td>2018</td>\n",
       "      <td>NaN</td>\n",
       "      <td>Paroled to Detainer - Out of State</td>\n",
       "      <td>White - Non-Hispanic</td>\n",
       "      <td>35-44</td>\n",
       "      <td>Male</td>\n",
       "      <td>D Felony</td>\n",
       "      <td>Violent</td>\n",
       "      <td>Murder/Manslaughter</td>\n",
       "      <td>Yes</td>\n",
       "      <td>369.0</td>\n",
       "      <td>Tech</td>\n",
       "      <td>D Felony</td>\n",
       "      <td>Violent</td>\n",
       "      <td>Murder/Manslaughter</td>\n",
       "      <td>Yes</td>\n",
       "    </tr>\n",
       "  </tbody>\n",
       "</table>\n",
       "<p>26020 rows × 17 columns</p>\n",
       "</div>"
      ],
      "text/plain": [
       "       Fiscal Year Released  ...  Target Population\n",
       "0                      2010  ...                Yes\n",
       "1                      2010  ...                 No\n",
       "2                      2010  ...                Yes\n",
       "3                      2010  ...                Yes\n",
       "4                      2010  ...                 No\n",
       "...                     ...  ...                ...\n",
       "26015                  2015  ...                Yes\n",
       "26016                  2015  ...                 No\n",
       "26017                  2015  ...                 No\n",
       "26018                  2015  ...                Yes\n",
       "26019                  2015  ...                Yes\n",
       "\n",
       "[26020 rows x 17 columns]"
      ]
     },
     "execution_count": 6,
     "metadata": {},
     "output_type": "execute_result"
    }
   ],
   "source": [
    "df = pd.read_csv('data/3-Year_Recidivism_for_Offenders_Released_from_Prison_in_Iowa.csv')\n",
    "df"
   ]
  },
  {
   "cell_type": "markdown",
   "metadata": {},
   "source": [
    "**Any columns that are about New Convictions or days to recidivism should be dropped for our initial model predicting recidivism.**\n",
    "- \"New..\", \"Days to Recividism\""
   ]
  },
  {
   "cell_type": "code",
   "execution_count": 7,
   "metadata": {
    "ExecuteTime": {
     "end_time": "2020-10-03T23:56:30.893386Z",
     "start_time": "2020-10-03T23:56:30.867985Z"
    }
   },
   "outputs": [
    {
     "data": {
      "text/html": [
       "<div>\n",
       "<style scoped>\n",
       "    .dataframe tbody tr th:only-of-type {\n",
       "        vertical-align: middle;\n",
       "    }\n",
       "\n",
       "    .dataframe tbody tr th {\n",
       "        vertical-align: top;\n",
       "    }\n",
       "\n",
       "    .dataframe thead th {\n",
       "        text-align: right;\n",
       "    }\n",
       "</style>\n",
       "<table border=\"1\" class=\"dataframe\">\n",
       "  <thead>\n",
       "    <tr style=\"text-align: right;\">\n",
       "      <th></th>\n",
       "      <th>Main Supervising District</th>\n",
       "      <th>Release Type</th>\n",
       "      <th>Race - Ethnicity</th>\n",
       "      <th>Age At Release</th>\n",
       "      <th>Sex</th>\n",
       "      <th>Offense Classification</th>\n",
       "      <th>Offense Type</th>\n",
       "      <th>Offense Subtype</th>\n",
       "      <th>Return to Prison</th>\n",
       "      <th>Target Population</th>\n",
       "    </tr>\n",
       "  </thead>\n",
       "  <tbody>\n",
       "    <tr>\n",
       "      <th>0</th>\n",
       "      <td>7JD</td>\n",
       "      <td>Parole</td>\n",
       "      <td>Black - Non-Hispanic</td>\n",
       "      <td>25-34</td>\n",
       "      <td>Male</td>\n",
       "      <td>C Felony</td>\n",
       "      <td>Violent</td>\n",
       "      <td>Robbery</td>\n",
       "      <td>Yes</td>\n",
       "      <td>Yes</td>\n",
       "    </tr>\n",
       "    <tr>\n",
       "      <th>1</th>\n",
       "      <td>NaN</td>\n",
       "      <td>Discharged – End of Sentence</td>\n",
       "      <td>White - Non-Hispanic</td>\n",
       "      <td>25-34</td>\n",
       "      <td>Male</td>\n",
       "      <td>D Felony</td>\n",
       "      <td>Property</td>\n",
       "      <td>Theft</td>\n",
       "      <td>Yes</td>\n",
       "      <td>No</td>\n",
       "    </tr>\n",
       "    <tr>\n",
       "      <th>2</th>\n",
       "      <td>5JD</td>\n",
       "      <td>Parole</td>\n",
       "      <td>White - Non-Hispanic</td>\n",
       "      <td>35-44</td>\n",
       "      <td>Male</td>\n",
       "      <td>B Felony</td>\n",
       "      <td>Drug</td>\n",
       "      <td>Trafficking</td>\n",
       "      <td>Yes</td>\n",
       "      <td>Yes</td>\n",
       "    </tr>\n",
       "    <tr>\n",
       "      <th>3</th>\n",
       "      <td>6JD</td>\n",
       "      <td>Parole</td>\n",
       "      <td>White - Non-Hispanic</td>\n",
       "      <td>25-34</td>\n",
       "      <td>Male</td>\n",
       "      <td>B Felony</td>\n",
       "      <td>Other</td>\n",
       "      <td>Other Criminal</td>\n",
       "      <td>No</td>\n",
       "      <td>Yes</td>\n",
       "    </tr>\n",
       "    <tr>\n",
       "      <th>4</th>\n",
       "      <td>NaN</td>\n",
       "      <td>Discharged – End of Sentence</td>\n",
       "      <td>Black - Non-Hispanic</td>\n",
       "      <td>35-44</td>\n",
       "      <td>Male</td>\n",
       "      <td>D Felony</td>\n",
       "      <td>Violent</td>\n",
       "      <td>Assault</td>\n",
       "      <td>Yes</td>\n",
       "      <td>No</td>\n",
       "    </tr>\n",
       "  </tbody>\n",
       "</table>\n",
       "</div>"
      ],
      "text/plain": [
       "  Main Supervising District  ... Target Population\n",
       "0                       7JD  ...               Yes\n",
       "1                       NaN  ...                No\n",
       "2                       5JD  ...               Yes\n",
       "3                       6JD  ...               Yes\n",
       "4                       NaN  ...                No\n",
       "\n",
       "[5 rows x 10 columns]"
      ]
     },
     "execution_count": 7,
     "metadata": {},
     "output_type": "execute_result"
    }
   ],
   "source": [
    "## Drop cols related to recivism details \n",
    "drop_expr = ['New',\"Days\",\"Recidivism Type\",\"Year\"]\n",
    "\n",
    "drop_cols = []\n",
    "for exp in drop_expr:\n",
    "    drop_cols.extend([col for col in df.columns if exp in col])\n",
    "    \n",
    "df.drop(columns=drop_cols,inplace=True)\n",
    "df.head()"
   ]
  },
  {
   "cell_type": "markdown",
   "metadata": {},
   "source": [
    "### Save original names vs short names in column_legend\n",
    "- then map names onto columns"
   ]
  },
  {
   "cell_type": "code",
   "execution_count": 8,
   "metadata": {
    "ExecuteTime": {
     "end_time": "2020-10-03T23:56:30.922601Z",
     "start_time": "2020-10-03T23:56:30.896570Z"
    }
   },
   "outputs": [
    {
     "data": {
      "text/html": [
       "<div>\n",
       "<style scoped>\n",
       "    .dataframe tbody tr th:only-of-type {\n",
       "        vertical-align: middle;\n",
       "    }\n",
       "\n",
       "    .dataframe tbody tr th {\n",
       "        vertical-align: top;\n",
       "    }\n",
       "\n",
       "    .dataframe thead th {\n",
       "        text-align: right;\n",
       "    }\n",
       "</style>\n",
       "<table border=\"1\" class=\"dataframe\">\n",
       "  <thead>\n",
       "    <tr style=\"text-align: right;\">\n",
       "      <th></th>\n",
       "      <th>supervising_dist</th>\n",
       "      <th>release_type</th>\n",
       "      <th>race_ethnicity</th>\n",
       "      <th>age_released</th>\n",
       "      <th>sex</th>\n",
       "      <th>crime_class</th>\n",
       "      <th>crime_type</th>\n",
       "      <th>crime_subtype</th>\n",
       "      <th>recidivist</th>\n",
       "      <th>target_pop</th>\n",
       "    </tr>\n",
       "  </thead>\n",
       "  <tbody>\n",
       "    <tr>\n",
       "      <th>0</th>\n",
       "      <td>7JD</td>\n",
       "      <td>Parole</td>\n",
       "      <td>Black - Non-Hispanic</td>\n",
       "      <td>25-34</td>\n",
       "      <td>Male</td>\n",
       "      <td>C Felony</td>\n",
       "      <td>Violent</td>\n",
       "      <td>Robbery</td>\n",
       "      <td>Yes</td>\n",
       "      <td>Yes</td>\n",
       "    </tr>\n",
       "    <tr>\n",
       "      <th>1</th>\n",
       "      <td>NaN</td>\n",
       "      <td>Discharged – End of Sentence</td>\n",
       "      <td>White - Non-Hispanic</td>\n",
       "      <td>25-34</td>\n",
       "      <td>Male</td>\n",
       "      <td>D Felony</td>\n",
       "      <td>Property</td>\n",
       "      <td>Theft</td>\n",
       "      <td>Yes</td>\n",
       "      <td>No</td>\n",
       "    </tr>\n",
       "    <tr>\n",
       "      <th>2</th>\n",
       "      <td>5JD</td>\n",
       "      <td>Parole</td>\n",
       "      <td>White - Non-Hispanic</td>\n",
       "      <td>35-44</td>\n",
       "      <td>Male</td>\n",
       "      <td>B Felony</td>\n",
       "      <td>Drug</td>\n",
       "      <td>Trafficking</td>\n",
       "      <td>Yes</td>\n",
       "      <td>Yes</td>\n",
       "    </tr>\n",
       "    <tr>\n",
       "      <th>3</th>\n",
       "      <td>6JD</td>\n",
       "      <td>Parole</td>\n",
       "      <td>White - Non-Hispanic</td>\n",
       "      <td>25-34</td>\n",
       "      <td>Male</td>\n",
       "      <td>B Felony</td>\n",
       "      <td>Other</td>\n",
       "      <td>Other Criminal</td>\n",
       "      <td>No</td>\n",
       "      <td>Yes</td>\n",
       "    </tr>\n",
       "    <tr>\n",
       "      <th>4</th>\n",
       "      <td>NaN</td>\n",
       "      <td>Discharged – End of Sentence</td>\n",
       "      <td>Black - Non-Hispanic</td>\n",
       "      <td>35-44</td>\n",
       "      <td>Male</td>\n",
       "      <td>D Felony</td>\n",
       "      <td>Violent</td>\n",
       "      <td>Assault</td>\n",
       "      <td>Yes</td>\n",
       "      <td>No</td>\n",
       "    </tr>\n",
       "    <tr>\n",
       "      <th>...</th>\n",
       "      <td>...</td>\n",
       "      <td>...</td>\n",
       "      <td>...</td>\n",
       "      <td>...</td>\n",
       "      <td>...</td>\n",
       "      <td>...</td>\n",
       "      <td>...</td>\n",
       "      <td>...</td>\n",
       "      <td>...</td>\n",
       "      <td>...</td>\n",
       "    </tr>\n",
       "    <tr>\n",
       "      <th>26015</th>\n",
       "      <td>NaN</td>\n",
       "      <td>Paroled to Detainer - INS</td>\n",
       "      <td>White - Hispanic</td>\n",
       "      <td>Under 25</td>\n",
       "      <td>Male</td>\n",
       "      <td>C Felony</td>\n",
       "      <td>Violent</td>\n",
       "      <td>Assault</td>\n",
       "      <td>No</td>\n",
       "      <td>Yes</td>\n",
       "    </tr>\n",
       "    <tr>\n",
       "      <th>26016</th>\n",
       "      <td>6JD</td>\n",
       "      <td>Released to Special Sentence</td>\n",
       "      <td>White - Non-Hispanic</td>\n",
       "      <td>35-44</td>\n",
       "      <td>Male</td>\n",
       "      <td>C Felony</td>\n",
       "      <td>Violent</td>\n",
       "      <td>Sex</td>\n",
       "      <td>No</td>\n",
       "      <td>No</td>\n",
       "    </tr>\n",
       "    <tr>\n",
       "      <th>26017</th>\n",
       "      <td>5JD</td>\n",
       "      <td>Parole Granted</td>\n",
       "      <td>White - Non-Hispanic</td>\n",
       "      <td>25-34</td>\n",
       "      <td>Female</td>\n",
       "      <td>Aggravated Misdemeanor</td>\n",
       "      <td>Public Order</td>\n",
       "      <td>Traffic</td>\n",
       "      <td>No</td>\n",
       "      <td>No</td>\n",
       "    </tr>\n",
       "    <tr>\n",
       "      <th>26018</th>\n",
       "      <td>5JD</td>\n",
       "      <td>Paroled w/Immediate Discharge</td>\n",
       "      <td>White - Non-Hispanic</td>\n",
       "      <td>25-34</td>\n",
       "      <td>Male</td>\n",
       "      <td>D Felony</td>\n",
       "      <td>Property</td>\n",
       "      <td>Theft</td>\n",
       "      <td>No</td>\n",
       "      <td>Yes</td>\n",
       "    </tr>\n",
       "    <tr>\n",
       "      <th>26019</th>\n",
       "      <td>NaN</td>\n",
       "      <td>Paroled to Detainer - Out of State</td>\n",
       "      <td>White - Non-Hispanic</td>\n",
       "      <td>35-44</td>\n",
       "      <td>Male</td>\n",
       "      <td>D Felony</td>\n",
       "      <td>Violent</td>\n",
       "      <td>Murder/Manslaughter</td>\n",
       "      <td>Yes</td>\n",
       "      <td>Yes</td>\n",
       "    </tr>\n",
       "  </tbody>\n",
       "</table>\n",
       "<p>26020 rows × 10 columns</p>\n",
       "</div>"
      ],
      "text/plain": [
       "      supervising_dist  ... target_pop\n",
       "0                  7JD  ...        Yes\n",
       "1                  NaN  ...         No\n",
       "2                  5JD  ...        Yes\n",
       "3                  6JD  ...        Yes\n",
       "4                  NaN  ...         No\n",
       "...                ...  ...        ...\n",
       "26015              NaN  ...        Yes\n",
       "26016              6JD  ...         No\n",
       "26017              5JD  ...         No\n",
       "26018              5JD  ...        Yes\n",
       "26019              NaN  ...        Yes\n",
       "\n",
       "[26020 rows x 10 columns]"
      ]
     },
     "execution_count": 8,
     "metadata": {},
     "output_type": "execute_result"
    }
   ],
   "source": [
    "## Replacing columns with short names\n",
    "rename_map = {\n",
    "    'Fiscal Year Released': 'yr_released',\n",
    "    'Recidivism Reporting Year': 'report_year' ,\n",
    "    'Main Supervising District': 'supervising_dist' ,\n",
    "    'Release Type': 'release_type' ,\n",
    "    'Race - Ethnicity': 'race_ethnicity'  ,\n",
    "    'Age At Release ':  'age_released' ,\n",
    "    'Sex':'sex'   ,\n",
    "    'Offense Classification': 'crime_class' ,\n",
    "    'Offense Type': 'crime_type'  ,\n",
    "    'Offense Subtype':  'crime_subtype' ,\n",
    "    'Return to Prison': 'recidivist'  ,\n",
    "    'Target Population':  'target_pop'\n",
    "}\n",
    "\n",
    "df = df.rename(rename_map,axis=1)\n",
    "df"
   ]
  },
  {
   "cell_type": "code",
   "execution_count": 9,
   "metadata": {
    "ExecuteTime": {
     "end_time": "2020-10-03T23:56:31.017717Z",
     "start_time": "2020-10-03T23:56:30.925010Z"
    }
   },
   "outputs": [],
   "source": [
    "df.to_csv('data/iowa_recidivism_renamed_2020.csv')"
   ]
  },
  {
   "cell_type": "markdown",
   "metadata": {},
   "source": [
    "# SCRUB / EXPLORE\n"
   ]
  },
  {
   "cell_type": "code",
   "execution_count": 10,
   "metadata": {
    "ExecuteTime": {
     "end_time": "2020-10-03T23:56:31.025914Z",
     "start_time": "2020-10-03T23:56:31.019100Z"
    }
   },
   "outputs": [
    {
     "name": "stdout",
     "output_type": "stream",
     "text": [
      "<class 'pandas.core.frame.DataFrame'>\n",
      "RangeIndex: 26020 entries, 0 to 26019\n",
      "Data columns (total 10 columns):\n",
      " #   Column            Dtype \n",
      "---  ------            ----- \n",
      " 0   supervising_dist  object\n",
      " 1   release_type      object\n",
      " 2   race_ethnicity    object\n",
      " 3   age_released      object\n",
      " 4   sex               object\n",
      " 5   crime_class       object\n",
      " 6   crime_type        object\n",
      " 7   crime_subtype     object\n",
      " 8   recidivist        object\n",
      " 9   target_pop        object\n",
      "dtypes: object(10)\n",
      "memory usage: 2.0+ MB\n"
     ]
    }
   ],
   "source": [
    "## Explore Dtypes and info\n",
    "df.info()"
   ]
  },
  {
   "cell_type": "code",
   "execution_count": 11,
   "metadata": {
    "ExecuteTime": {
     "end_time": "2020-10-03T23:56:31.458340Z",
     "start_time": "2020-10-03T23:56:31.027252Z"
    }
   },
   "outputs": [
    {
     "data": {
      "image/png": "[encoded data removed]",
      "text/plain": [
       "<Figure size 1800x720 with 2 Axes>"
      ]
     },
     "metadata": {},
     "output_type": "display_data"
    },
    {
     "data": {
      "text/html": [
       "<style  type=\"text/css\" >\n",
       "</style><table id=\"T_0f670d4c_05d4_11eb_bb07_acde48001122\" ><caption>Columns with Null Values:</caption><thead>    <tr>        <th class=\"blank level0\" ></th>        <th class=\"col_heading level0 col0\" >#</th>        <th class=\"col_heading level0 col1\" >%</th>    </tr></thead><tbody>\n",
       "                <tr>\n",
       "                        <th id=\"T_0f670d4c_05d4_11eb_bb07_acde48001122level0_row0\" class=\"row_heading level0 row0\" >supervising_dist</th>\n",
       "                        <td id=\"T_0f670d4c_05d4_11eb_bb07_acde48001122row0_col0\" class=\"data row0 col0\" >9581</td>\n",
       "                        <td id=\"T_0f670d4c_05d4_11eb_bb07_acde48001122row0_col1\" class=\"data row0 col1\" >36.820000</td>\n",
       "            </tr>\n",
       "            <tr>\n",
       "                        <th id=\"T_0f670d4c_05d4_11eb_bb07_acde48001122level0_row1\" class=\"row_heading level0 row1\" >release_type</th>\n",
       "                        <td id=\"T_0f670d4c_05d4_11eb_bb07_acde48001122row1_col0\" class=\"data row1 col0\" >1762</td>\n",
       "                        <td id=\"T_0f670d4c_05d4_11eb_bb07_acde48001122row1_col1\" class=\"data row1 col1\" >6.770000</td>\n",
       "            </tr>\n",
       "            <tr>\n",
       "                        <th id=\"T_0f670d4c_05d4_11eb_bb07_acde48001122level0_row2\" class=\"row_heading level0 row2\" >race_ethnicity</th>\n",
       "                        <td id=\"T_0f670d4c_05d4_11eb_bb07_acde48001122row2_col0\" class=\"data row2 col0\" >30</td>\n",
       "                        <td id=\"T_0f670d4c_05d4_11eb_bb07_acde48001122row2_col1\" class=\"data row2 col1\" >0.120000</td>\n",
       "            </tr>\n",
       "            <tr>\n",
       "                        <th id=\"T_0f670d4c_05d4_11eb_bb07_acde48001122level0_row3\" class=\"row_heading level0 row3\" >age_released</th>\n",
       "                        <td id=\"T_0f670d4c_05d4_11eb_bb07_acde48001122row3_col0\" class=\"data row3 col0\" >3</td>\n",
       "                        <td id=\"T_0f670d4c_05d4_11eb_bb07_acde48001122row3_col1\" class=\"data row3 col1\" >0.010000</td>\n",
       "            </tr>\n",
       "            <tr>\n",
       "                        <th id=\"T_0f670d4c_05d4_11eb_bb07_acde48001122level0_row4\" class=\"row_heading level0 row4\" >sex</th>\n",
       "                        <td id=\"T_0f670d4c_05d4_11eb_bb07_acde48001122row4_col0\" class=\"data row4 col0\" >3</td>\n",
       "                        <td id=\"T_0f670d4c_05d4_11eb_bb07_acde48001122row4_col1\" class=\"data row4 col1\" >0.010000</td>\n",
       "            </tr>\n",
       "    </tbody></table>"
      ],
      "text/plain": [
       "<pandas.io.formats.style.Styler at 0x7ffc28e6da90>"
      ]
     },
     "metadata": {},
     "output_type": "display_data"
    }
   ],
   "source": [
    "import missingno as ms\n",
    "\n",
    "\n",
    "def nulls_report(df):\n",
    "    nulls= df.isna().sum()\n",
    "    nulls_only = nulls[nulls>0].to_frame('#')\n",
    "    nulls_only['%'] = ((nulls_only['#']/len(df))*100)\n",
    "    nulls_only = nulls_only.round(2)\n",
    "    capt='Columns with Null Values:'\n",
    "    display(nulls_only.style.set_caption(capt))\n",
    "ms.matrix(df)\n",
    "plt.show()\n",
    "  \n",
    "    \n",
    "nulls_report(df)\n"
   ]
  },
  {
   "cell_type": "markdown",
   "metadata": {},
   "source": [
    "**Results of Null Check**\n",
    "- race_ethnicity has 30 (0.12% of data)\n",
    "    -  drop\n",
    "- age_released has 3 (0.01% of data)\n",
    "    - drop\n",
    "- sex has 3 (0.01% of data)\n",
    "    - drop\n",
    "- super_district has 9581(36.82% of data)\n",
    "    - replace with \"unknown\"\n",
    "- release_type has 1762 (6.77% of data)\n",
    "    - drop\n",
    "    \n",
    "**Dropping all null values from age_released, race_ethnicity, and release_type.**"
   ]
  },
  {
   "cell_type": "markdown",
   "metadata": {},
   "source": [
    "## SIMPLIFYING CATEGORICAL FEATURES"
   ]
  },
  {
   "cell_type": "markdown",
   "metadata": {},
   "source": [
    "### Making `age_released` numerical"
   ]
  },
  {
   "cell_type": "code",
   "execution_count": 12,
   "metadata": {
    "ExecuteTime": {
     "end_time": "2020-10-03T23:56:31.462946Z",
     "start_time": "2020-10-03T23:56:31.460018Z"
    }
   },
   "outputs": [],
   "source": [
    "def value_counts(col,dropna=False,normalize=True):\n",
    "    \"\"\"Convenience function for display value counts with default params\"\"\"\n",
    "    return col.value_counts(dropna=dropna,normalize=normalize)"
   ]
  },
  {
   "cell_type": "code",
   "execution_count": 13,
   "metadata": {
    "ExecuteTime": {
     "end_time": "2020-10-03T23:56:31.472352Z",
     "start_time": "2020-10-03T23:56:31.464605Z"
    }
   },
   "outputs": [
    {
     "data": {
      "text/plain": [
       "25-34           0.367179\n",
       "35-44           0.239162\n",
       "Under 25        0.176403\n",
       "45-54           0.167064\n",
       "55 and Older    0.050077\n",
       "NaN             0.000115\n",
       "Name: age_released, dtype: float64"
      ]
     },
     "execution_count": 13,
     "metadata": {},
     "output_type": "execute_result"
    }
   ],
   "source": [
    "value_counts(df['age_released'])#.value_counts(dropna=False)"
   ]
  },
  {
   "cell_type": "code",
   "execution_count": 14,
   "metadata": {
    "ExecuteTime": {
     "end_time": "2020-10-03T23:56:31.479570Z",
     "start_time": "2020-10-03T23:56:31.474531Z"
    }
   },
   "outputs": [
    {
     "data": {
      "text/plain": [
       "{'Under 25': 20, '25-34': 30, '35-44': 40, '45-54': 50, '55 and Older': 70}"
      ]
     },
     "execution_count": 14,
     "metadata": {},
     "output_type": "execute_result"
    }
   ],
   "source": [
    "# Mapping age_map onto 'age_released'\n",
    "# Encoding age groups as ordinal\n",
    "age_ranges = ('Under 25','25-34', '35-44','45-54','55 and Older')\n",
    "age_numbers = (20,30,40,50,70) \n",
    "age_num_map = dict(zip(age_ranges,age_numbers))\n",
    "age_num_map"
   ]
  },
  {
   "cell_type": "code",
   "execution_count": 15,
   "metadata": {
    "ExecuteTime": {
     "end_time": "2020-10-03T23:56:31.492456Z",
     "start_time": "2020-10-03T23:56:31.481360Z"
    },
    "scrolled": true
   },
   "outputs": [
    {
     "data": {
      "text/plain": [
       "30.0    0.367179\n",
       "40.0    0.239162\n",
       "20.0    0.176403\n",
       "50.0    0.167064\n",
       "70.0    0.050077\n",
       "NaN     0.000115\n",
       "Name: age_released, dtype: float64"
      ]
     },
     "execution_count": 15,
     "metadata": {},
     "output_type": "execute_result"
    }
   ],
   "source": [
    "df['age_released'] = df['age_released'].map(age_num_map)\n",
    "value_counts(df['age_released'])"
   ]
  },
  {
   "cell_type": "markdown",
   "metadata": {},
   "source": [
    "### df['race_ethnicity']"
   ]
  },
  {
   "cell_type": "code",
   "execution_count": 16,
   "metadata": {
    "ExecuteTime": {
     "end_time": "2020-10-03T23:56:31.503177Z",
     "start_time": "2020-10-03T23:56:31.494269Z"
    }
   },
   "outputs": [
    {
     "data": {
      "text/plain": [
       "White - Non-Hispanic                               0.675788\n",
       "Black - Non-Hispanic                               0.234781\n",
       "White - Hispanic                                   0.058493\n",
       "American Indian or Alaska Native - Non-Hispanic    0.019293\n",
       "Asian or Pacific Islander - Non-Hispanic           0.007379\n",
       "Black - Hispanic                                   0.001422\n",
       "NaN                                                0.001153\n",
       "American Indian or Alaska Native - Hispanic        0.000769\n",
       "White -                                            0.000461\n",
       "N/A -                                              0.000192\n",
       "Asian or Pacific Islander - Hispanic               0.000192\n",
       "Black -                                            0.000077\n",
       "Name: race_ethnicity, dtype: float64"
      ]
     },
     "execution_count": 16,
     "metadata": {},
     "output_type": "execute_result"
    }
   ],
   "source": [
    "value_counts(df['race_ethnicity'])"
   ]
  },
  {
   "cell_type": "markdown",
   "metadata": {},
   "source": [
    "- **Remapping race_ethnicity**\n",
    "    - Due to the low numbers for several of the race_ethnicity types, reducing and combining Hispanic and Non-Hispanic groups\n",
    "    - Alternative approach of separating race and ethnicity into 2 separate features was rejected after modeling"
   ]
  },
  {
   "cell_type": "code",
   "execution_count": 17,
   "metadata": {
    "ExecuteTime": {
     "end_time": "2020-10-03T23:56:31.519417Z",
     "start_time": "2020-10-03T23:56:31.505126Z"
    }
   },
   "outputs": [
    {
     "data": {
      "text/plain": [
       "White                        0.676249\n",
       "Black                        0.236280\n",
       "Hispanic                     0.058493\n",
       "American Native              0.020061\n",
       "Asian or Pacific Islander    0.007571\n",
       "NaN                          0.001345\n",
       "Name: race_ethnicity, dtype: float64"
      ]
     },
     "execution_count": 17,
     "metadata": {},
     "output_type": "execute_result"
    }
   ],
   "source": [
    "# Defining Dictionary Map for race_ethnicity categories\n",
    "race_ethnicity_map = {'White - Non-Hispanic':'White',\n",
    "                        'Black - Non-Hispanic': 'Black',\n",
    "                        'White - Hispanic' : 'Hispanic',\n",
    "                        'American Indian or Alaska Native - Non-Hispanic' : 'American Native',\n",
    "                        'Asian or Pacific Islander - Non-Hispanic' : 'Asian or Pacific Islander',\n",
    "                        'Black - Hispanic' : 'Black',\n",
    "                        'American Indian or Alaska Native - Hispanic':'American Native',\n",
    "                        'White -' : 'White',\n",
    "                        'Asian or Pacific Islander - Hispanic' : 'Asian or Pacific Islander',\n",
    "                        'N/A -' : np.nan,\n",
    "                        'Black -':'Black'}\n",
    "\n",
    "# Replacing original race_ethnicity column with remapped one.\n",
    "df['race_ethnicity'] = df['race_ethnicity'].map(race_ethnicity_map)\n",
    "value_counts(df['race_ethnicity'])"
   ]
  },
  {
   "cell_type": "markdown",
   "metadata": {},
   "source": [
    "### df['crime_class']"
   ]
  },
  {
   "cell_type": "markdown",
   "metadata": {},
   "source": [
    "- **Remapping crime_class**\n",
    "    - Combine 'Other Felony' and 'Other Felony (Old Code)' -> nan\n",
    "    - Other Misdemeanor -> np.nan\n",
    "    - Felony - Mandatory Minimum -> np.nan\n",
    "    - Special Sentence 2005 -> Sex Offender\n",
    "    - 'Sexual Predator Community Supervision' -> 'Sex Offender'\n",
    "    - Other Felony -> np.nan    "
   ]
  },
  {
   "cell_type": "code",
   "execution_count": 18,
   "metadata": {
    "ExecuteTime": {
     "end_time": "2020-10-03T23:56:31.528732Z",
     "start_time": "2020-10-03T23:56:31.521139Z"
    }
   },
   "outputs": [
    {
     "data": {
      "text/plain": [
       "D Felony                                    0.403036\n",
       "C Felony                                    0.261453\n",
       "Aggravated Misdemeanor                      0.189470\n",
       "B Felony                                    0.067832\n",
       "Felony - Enhancement to Original Penalty    0.058916\n",
       "Felony - Enhanced                           0.008455\n",
       "Serious Misdemeanor                         0.005957\n",
       "Special Sentence 2005                       0.003766\n",
       "Felony - Mandatory Minimum                  0.000423\n",
       "Other Felony                                0.000231\n",
       "A Felony                                    0.000154\n",
       "Simple Misdemeanor                          0.000115\n",
       "Other Felony (Old Code)                     0.000077\n",
       "Sexual Predator Community Supervision       0.000077\n",
       "Other Misdemeanor                           0.000038\n",
       "Name: crime_class, dtype: float64"
      ]
     },
     "execution_count": 18,
     "metadata": {},
     "output_type": "execute_result"
    }
   ],
   "source": [
    "value_counts(df['crime_class'])"
   ]
  },
  {
   "cell_type": "code",
   "execution_count": 19,
   "metadata": {
    "ExecuteTime": {
     "end_time": "2020-10-03T23:56:31.544245Z",
     "start_time": "2020-10-03T23:56:31.530548Z"
    }
   },
   "outputs": [
    {
     "data": {
      "text/plain": [
       "D Felony                  0.403036\n",
       "C Felony                  0.261453\n",
       "Aggravated Misdemeanor    0.189470\n",
       "B Felony                  0.067832\n",
       "Felony - Enhanced         0.067371\n",
       "Serious Misdemeanor       0.005957\n",
       "Sex Offender              0.003843\n",
       "Other Felony              0.000730\n",
       "A Felony                  0.000154\n",
       "Simple Misdemeanor        0.000115\n",
       "Other Misdemeanor         0.000038\n",
       "Name: crime_class, dtype: float64"
      ]
     },
     "execution_count": 19,
     "metadata": {},
     "output_type": "execute_result"
    }
   ],
   "source": [
    "# Remapping\n",
    "crime_class_map = {'Other Felony (Old Code)':'Other Felony' ,#or other felony\n",
    "                  'Other Misdemeanor':'Other Misdemeanor',\n",
    "                   'Felony - Mandatory Minimum':'Other Felony',#np.nan, # if minimum then lowest sentence ==  D Felony\n",
    "                   'Special Sentence 2005': 'Sex Offender',\n",
    "                   'Other Felony' : 'Other Felony' ,\n",
    "                   'Sexual Predator Community Supervision' : 'Sex Offender',\n",
    "                   'D Felony': 'D Felony',\n",
    "                   'C Felony' :'C Felony',\n",
    "                   'B Felony' : 'B Felony',\n",
    "                   'A Felony' : 'A Felony',\n",
    "                   'Aggravated Misdemeanor':'Aggravated Misdemeanor',\n",
    "                   'Felony - Enhancement to Original Penalty':'Felony - Enhanced',\n",
    "                   'Felony - Enhanced':'Felony - Enhanced' ,\n",
    "                   'Serious Misdemeanor':'Serious Misdemeanor',\n",
    "                   'Simple Misdemeanor':'Simple Misdemeanor'}\n",
    "\n",
    "df['crime_class'] = df['crime_class'].map(crime_class_map)\n",
    "value_counts(df['crime_class'])"
   ]
  },
  {
   "cell_type": "markdown",
   "metadata": {},
   "source": [
    "### Remapping target"
   ]
  },
  {
   "cell_type": "code",
   "execution_count": 20,
   "metadata": {
    "ExecuteTime": {
     "end_time": "2020-10-03T23:56:31.556082Z",
     "start_time": "2020-10-03T23:56:31.546375Z"
    }
   },
   "outputs": [
    {
     "data": {
      "text/plain": [
       "0    0.666372\n",
       "1    0.333628\n",
       "Name: recidivist, dtype: float64"
      ]
     },
     "execution_count": 20,
     "metadata": {},
     "output_type": "execute_result"
    }
   ],
   "source": [
    "# Recidivist\n",
    "df['recidivist'] = df['recidivist'].map( {'No':0,'Yes':1})\n",
    "value_counts(df['recidivist'])"
   ]
  },
  {
   "cell_type": "code",
   "execution_count": 21,
   "metadata": {
    "ExecuteTime": {
     "end_time": "2020-10-03T23:56:31.580195Z",
     "start_time": "2020-10-03T23:56:31.557865Z"
    }
   },
   "outputs": [
    {
     "data": {
      "text/html": [
       "<div>\n",
       "<style scoped>\n",
       "    .dataframe tbody tr th:only-of-type {\n",
       "        vertical-align: middle;\n",
       "    }\n",
       "\n",
       "    .dataframe tbody tr th {\n",
       "        vertical-align: top;\n",
       "    }\n",
       "\n",
       "    .dataframe thead th {\n",
       "        text-align: right;\n",
       "    }\n",
       "</style>\n",
       "<table border=\"1\" class=\"dataframe\">\n",
       "  <thead>\n",
       "    <tr style=\"text-align: right;\">\n",
       "      <th></th>\n",
       "      <th>supervising_dist</th>\n",
       "      <th>release_type</th>\n",
       "      <th>race_ethnicity</th>\n",
       "      <th>age_released</th>\n",
       "      <th>sex</th>\n",
       "      <th>crime_class</th>\n",
       "      <th>crime_type</th>\n",
       "      <th>crime_subtype</th>\n",
       "      <th>recidivist</th>\n",
       "      <th>target_pop</th>\n",
       "    </tr>\n",
       "  </thead>\n",
       "  <tbody>\n",
       "    <tr>\n",
       "      <th>0</th>\n",
       "      <td>7JD</td>\n",
       "      <td>Parole</td>\n",
       "      <td>Black</td>\n",
       "      <td>30.0</td>\n",
       "      <td>Male</td>\n",
       "      <td>C Felony</td>\n",
       "      <td>Violent</td>\n",
       "      <td>Robbery</td>\n",
       "      <td>1</td>\n",
       "      <td>Yes</td>\n",
       "    </tr>\n",
       "    <tr>\n",
       "      <th>1</th>\n",
       "      <td>NaN</td>\n",
       "      <td>Discharged – End of Sentence</td>\n",
       "      <td>White</td>\n",
       "      <td>30.0</td>\n",
       "      <td>Male</td>\n",
       "      <td>D Felony</td>\n",
       "      <td>Property</td>\n",
       "      <td>Theft</td>\n",
       "      <td>1</td>\n",
       "      <td>No</td>\n",
       "    </tr>\n",
       "    <tr>\n",
       "      <th>2</th>\n",
       "      <td>5JD</td>\n",
       "      <td>Parole</td>\n",
       "      <td>White</td>\n",
       "      <td>40.0</td>\n",
       "      <td>Male</td>\n",
       "      <td>B Felony</td>\n",
       "      <td>Drug</td>\n",
       "      <td>Trafficking</td>\n",
       "      <td>1</td>\n",
       "      <td>Yes</td>\n",
       "    </tr>\n",
       "    <tr>\n",
       "      <th>3</th>\n",
       "      <td>6JD</td>\n",
       "      <td>Parole</td>\n",
       "      <td>White</td>\n",
       "      <td>30.0</td>\n",
       "      <td>Male</td>\n",
       "      <td>B Felony</td>\n",
       "      <td>Other</td>\n",
       "      <td>Other Criminal</td>\n",
       "      <td>0</td>\n",
       "      <td>Yes</td>\n",
       "    </tr>\n",
       "    <tr>\n",
       "      <th>4</th>\n",
       "      <td>NaN</td>\n",
       "      <td>Discharged – End of Sentence</td>\n",
       "      <td>Black</td>\n",
       "      <td>40.0</td>\n",
       "      <td>Male</td>\n",
       "      <td>D Felony</td>\n",
       "      <td>Violent</td>\n",
       "      <td>Assault</td>\n",
       "      <td>1</td>\n",
       "      <td>No</td>\n",
       "    </tr>\n",
       "  </tbody>\n",
       "</table>\n",
       "</div>"
      ],
      "text/plain": [
       "  supervising_dist                  release_type  ... recidivist  target_pop\n",
       "0              7JD                        Parole  ...          1         Yes\n",
       "1              NaN  Discharged – End of Sentence  ...          1          No\n",
       "2              5JD                        Parole  ...          1         Yes\n",
       "3              6JD                        Parole  ...          0         Yes\n",
       "4              NaN  Discharged – End of Sentence  ...          1          No\n",
       "\n",
       "[5 rows x 10 columns]"
      ]
     },
     "execution_count": 21,
     "metadata": {},
     "output_type": "execute_result"
    }
   ],
   "source": [
    "df.head()"
   ]
  },
  {
   "cell_type": "markdown",
   "metadata": {},
   "source": [
    "___\n",
    "## FEATURE ENGINEERING\n",
    "- **Engineering a simple 'felony' true false category**\n",
    "- **Combining crime_type and crime_subtype into types_combined**"
   ]
  },
  {
   "cell_type": "markdown",
   "metadata": {},
   "source": [
    "### Creating a simple 'felony' feature"
   ]
  },
  {
   "cell_type": "code",
   "execution_count": 22,
   "metadata": {
    "ExecuteTime": {
     "end_time": "2020-10-03T23:56:31.609234Z",
     "start_time": "2020-10-03T23:56:31.582141Z"
    }
   },
   "outputs": [
    {
     "data": {
      "text/plain": [
       "True     0.800576\n",
       "False    0.199424\n",
       "Name: felony, dtype: float64"
      ]
     },
     "execution_count": 22,
     "metadata": {},
     "output_type": "execute_result"
    }
   ],
   "source": [
    "# Engineering a simple 'felony' true false category\n",
    "df['felony'] = df['crime_class'].str.contains('felony',case=False)\n",
    "value_counts(df['felony'])"
   ]
  },
  {
   "cell_type": "code",
   "execution_count": 23,
   "metadata": {
    "ExecuteTime": {
     "end_time": "2020-10-03T23:56:31.617002Z",
     "start_time": "2020-10-03T23:56:31.615254Z"
    }
   },
   "outputs": [],
   "source": [
    "# df['crime_types_combined'] = df['crime_type']+'_'+df['crime_subtype']\n",
    "# value_counts(df['crime_types_combined'])"
   ]
  },
  {
   "cell_type": "code",
   "execution_count": 24,
   "metadata": {
    "ExecuteTime": {
     "end_time": "2020-10-03T23:56:31.639365Z",
     "start_time": "2020-10-03T23:56:31.621074Z"
    }
   },
   "outputs": [
    {
     "data": {
      "text/plain": [
       "supervising_dist    10\n",
       "release_type        12\n",
       "race_ethnicity       5\n",
       "age_released         5\n",
       "sex                  2\n",
       "crime_class         11\n",
       "crime_type           5\n",
       "crime_subtype       26\n",
       "recidivist           2\n",
       "target_pop           2\n",
       "felony               2\n",
       "dtype: int64"
      ]
     },
     "execution_count": 24,
     "metadata": {},
     "output_type": "execute_result"
    }
   ],
   "source": [
    "# Combining crime_type and crime_subtype into types_combined\n",
    "# df['crime_class_type_subtype']= df['crime_class']+'_'+df['crime_type']+'_'+df['crime_subtype']\n",
    "# value_counts(df['crime_class_type_subtype'])\n",
    "df.nunique()"
   ]
  },
  {
   "cell_type": "markdown",
   "metadata": {},
   "source": [
    "### Creating a 'max_sentence' feature based on crime class max penalties\n",
    "   "
   ]
  },
  {
   "cell_type": "code",
   "execution_count": 25,
   "metadata": {
    "ExecuteTime": {
     "end_time": "2020-10-03T23:56:31.650538Z",
     "start_time": "2020-10-03T23:56:31.641001Z"
    }
   },
   "outputs": [
    {
     "data": {
      "text/plain": [
       "5.00     0.403036\n",
       "10.00    0.332667\n",
       "2.00     0.189470\n",
       "50.00    0.067832\n",
       "1.00     0.005957\n",
       "NaN      0.000769\n",
       "75.00    0.000154\n",
       "0.83     0.000115\n",
       "Name: max_sentence, dtype: float64"
      ]
     },
     "execution_count": 25,
     "metadata": {},
     "output_type": "execute_result"
    }
   ],
   "source": [
    "# Mapping years onto crime class\n",
    "crime_class_max_sentence_map = {'A Felony': 75,  # Life\n",
    "                                'Aggravated Misdemeanor': 2, # 2 years\n",
    "                                'B Felony': 50, # 25 or 50 years\n",
    "                                'C Felony': 10, # 10 years\n",
    "                                'D Felony': 5,  # 5 yeras\n",
    "                                'Felony - Enhanced': 10, # Add on to class C and D felonies, hard to approximate. \n",
    "                                'Serious Misdemeanor': 1, # 1 year\n",
    "                                'Sex Offender': 10, # 10 years\n",
    "                                'Simple Misdemeanor': 0.83} # 30 days\n",
    "\n",
    "# Mapping max_sentence_column\n",
    "df['max_sentence'] =df['crime_class'].map(crime_class_max_sentence_map)\n",
    "value_counts(df['max_sentence'])"
   ]
  },
  {
   "cell_type": "markdown",
   "metadata": {},
   "source": [
    "### Dropping all  values replaced with np.nan"
   ]
  },
  {
   "cell_type": "code",
   "execution_count": 26,
   "metadata": {
    "ExecuteTime": {
     "end_time": "2020-10-03T23:56:31.667832Z",
     "start_time": "2020-10-03T23:56:31.652103Z"
    }
   },
   "outputs": [
    {
     "data": {
      "text/html": [
       "<style  type=\"text/css\" >\n",
       "</style><table id=\"T_0f870c50_05d4_11eb_835e_acde48001122\" ><caption>Columns with Null Values:</caption><thead>    <tr>        <th class=\"blank level0\" ></th>        <th class=\"col_heading level0 col0\" >#</th>        <th class=\"col_heading level0 col1\" >%</th>    </tr></thead><tbody>\n",
       "                <tr>\n",
       "                        <th id=\"T_0f870c50_05d4_11eb_835e_acde48001122level0_row0\" class=\"row_heading level0 row0\" >supervising_dist</th>\n",
       "                        <td id=\"T_0f870c50_05d4_11eb_835e_acde48001122row0_col0\" class=\"data row0 col0\" >9581</td>\n",
       "                        <td id=\"T_0f870c50_05d4_11eb_835e_acde48001122row0_col1\" class=\"data row0 col1\" >36.820000</td>\n",
       "            </tr>\n",
       "            <tr>\n",
       "                        <th id=\"T_0f870c50_05d4_11eb_835e_acde48001122level0_row1\" class=\"row_heading level0 row1\" >release_type</th>\n",
       "                        <td id=\"T_0f870c50_05d4_11eb_835e_acde48001122row1_col0\" class=\"data row1 col0\" >1762</td>\n",
       "                        <td id=\"T_0f870c50_05d4_11eb_835e_acde48001122row1_col1\" class=\"data row1 col1\" >6.770000</td>\n",
       "            </tr>\n",
       "            <tr>\n",
       "                        <th id=\"T_0f870c50_05d4_11eb_835e_acde48001122level0_row2\" class=\"row_heading level0 row2\" >race_ethnicity</th>\n",
       "                        <td id=\"T_0f870c50_05d4_11eb_835e_acde48001122row2_col0\" class=\"data row2 col0\" >35</td>\n",
       "                        <td id=\"T_0f870c50_05d4_11eb_835e_acde48001122row2_col1\" class=\"data row2 col1\" >0.130000</td>\n",
       "            </tr>\n",
       "            <tr>\n",
       "                        <th id=\"T_0f870c50_05d4_11eb_835e_acde48001122level0_row3\" class=\"row_heading level0 row3\" >age_released</th>\n",
       "                        <td id=\"T_0f870c50_05d4_11eb_835e_acde48001122row3_col0\" class=\"data row3 col0\" >3</td>\n",
       "                        <td id=\"T_0f870c50_05d4_11eb_835e_acde48001122row3_col1\" class=\"data row3 col1\" >0.010000</td>\n",
       "            </tr>\n",
       "            <tr>\n",
       "                        <th id=\"T_0f870c50_05d4_11eb_835e_acde48001122level0_row4\" class=\"row_heading level0 row4\" >sex</th>\n",
       "                        <td id=\"T_0f870c50_05d4_11eb_835e_acde48001122row4_col0\" class=\"data row4 col0\" >3</td>\n",
       "                        <td id=\"T_0f870c50_05d4_11eb_835e_acde48001122row4_col1\" class=\"data row4 col1\" >0.010000</td>\n",
       "            </tr>\n",
       "            <tr>\n",
       "                        <th id=\"T_0f870c50_05d4_11eb_835e_acde48001122level0_row5\" class=\"row_heading level0 row5\" >max_sentence</th>\n",
       "                        <td id=\"T_0f870c50_05d4_11eb_835e_acde48001122row5_col0\" class=\"data row5 col0\" >20</td>\n",
       "                        <td id=\"T_0f870c50_05d4_11eb_835e_acde48001122row5_col1\" class=\"data row5 col1\" >0.080000</td>\n",
       "            </tr>\n",
       "    </tbody></table>"
      ],
      "text/plain": [
       "<pandas.io.formats.style.Styler at 0x7ffc0c407898>"
      ]
     },
     "metadata": {},
     "output_type": "display_data"
    }
   ],
   "source": [
    "nulls_report(df)"
   ]
  },
  {
   "cell_type": "markdown",
   "metadata": {},
   "source": [
    "## Checking Final Dtypes"
   ]
  },
  {
   "cell_type": "code",
   "execution_count": null,
   "metadata": {},
   "outputs": [],
   "source": []
  },
  {
   "cell_type": "code",
   "execution_count": 27,
   "metadata": {
    "ExecuteTime": {
     "end_time": "2020-10-03T23:56:31.676528Z",
     "start_time": "2020-10-03T23:56:31.669595Z"
    }
   },
   "outputs": [
    {
     "name": "stdout",
     "output_type": "stream",
     "text": [
      "<class 'pandas.core.frame.DataFrame'>\n",
      "RangeIndex: 26020 entries, 0 to 26019\n",
      "Data columns (total 12 columns):\n",
      " #   Column            Dtype  \n",
      "---  ------            -----  \n",
      " 0   supervising_dist  object \n",
      " 1   release_type      object \n",
      " 2   race_ethnicity    object \n",
      " 3   age_released      float64\n",
      " 4   sex               object \n",
      " 5   crime_class       object \n",
      " 6   crime_type        object \n",
      " 7   crime_subtype     object \n",
      " 8   recidivist        int64  \n",
      " 9   target_pop        object \n",
      " 10  felony            bool   \n",
      " 11  max_sentence      float64\n",
      "dtypes: bool(1), float64(2), int64(1), object(8)\n",
      "memory usage: 2.2+ MB\n"
     ]
    }
   ],
   "source": [
    "df.info()\n",
    "dtypes = {'yr_released':str,\n",
    "         'report_year':str}"
   ]
  },
  {
   "cell_type": "markdown",
   "metadata": {},
   "source": [
    "# BOOKMARK"
   ]
  },
  {
   "cell_type": "markdown",
   "metadata": {},
   "source": [
    "## Preprocessing with  Pipelines and ColumnTransformer"
   ]
  },
  {
   "cell_type": "code",
   "execution_count": 28,
   "metadata": {
    "ExecuteTime": {
     "end_time": "2020-10-03T23:56:31.732703Z",
     "start_time": "2020-10-03T23:56:31.678053Z"
    }
   },
   "outputs": [],
   "source": [
    "from sklearn.pipeline import Pipeline\n",
    "from sklearn.compose import ColumnTransformer\n",
    "\n",
    "from sklearn.impute import SimpleImputer\n",
    "from sklearn.preprocessing import StandardScaler, MinMaxScaler,OneHotEncoder\n",
    "\n",
    "from sklearn.model_selection import train_test_split"
   ]
  },
  {
   "cell_type": "code",
   "execution_count": 29,
   "metadata": {
    "ExecuteTime": {
     "end_time": "2020-10-03T23:56:31.736859Z",
     "start_time": "2020-10-03T23:56:31.734568Z"
    }
   },
   "outputs": [],
   "source": [
    "from sklearn import set_config\n",
    "set_config(display='text')"
   ]
  },
  {
   "cell_type": "code",
   "execution_count": 30,
   "metadata": {
    "ExecuteTime": {
     "end_time": "2020-10-03T23:56:31.749309Z",
     "start_time": "2020-10-03T23:56:31.738647Z"
    }
   },
   "outputs": [
    {
     "data": {
      "text/plain": [
       "0    0.666372\n",
       "1    0.333628\n",
       "Name: recidivist, dtype: float64"
      ]
     },
     "execution_count": 30,
     "metadata": {},
     "output_type": "execute_result"
    }
   ],
   "source": [
    "## Make x and y\n",
    "target = 'recidivist'\n",
    "X = df.drop(columns=target).copy()\n",
    "y = df[target].copy()\n",
    "value_counts(y)"
   ]
  },
  {
   "cell_type": "code",
   "execution_count": 31,
   "metadata": {
    "ExecuteTime": {
     "end_time": "2020-10-03T23:56:31.769002Z",
     "start_time": "2020-10-03T23:56:31.750983Z"
    }
   },
   "outputs": [],
   "source": [
    "X_train, X_test, y_train, y_test = train_test_split(X,y,stratify=y)"
   ]
  },
  {
   "cell_type": "markdown",
   "metadata": {},
   "source": [
    "## BOOKMARK "
   ]
  },
  {
   "cell_type": "code",
   "execution_count": null,
   "metadata": {},
   "outputs": [],
   "source": []
  },
  {
   "cell_type": "code",
   "execution_count": 32,
   "metadata": {
    "ExecuteTime": {
     "end_time": "2020-10-03T23:56:31.777936Z",
     "start_time": "2020-10-03T23:56:31.770703Z"
    }
   },
   "outputs": [
    {
     "data": {
      "text/plain": [
       "Index(['age_released', 'max_sentence'], dtype='object')"
      ]
     },
     "execution_count": 32,
     "metadata": {},
     "output_type": "execute_result"
    }
   ],
   "source": [
    "## Get a list of columns to be run as numeric data\n",
    "num_cols = X_train.select_dtypes('number').columns\n",
    "num_cols"
   ]
  },
  {
   "cell_type": "code",
   "execution_count": 33,
   "metadata": {
    "ExecuteTime": {
     "end_time": "2020-10-03T23:56:31.796261Z",
     "start_time": "2020-10-03T23:56:31.779620Z"
    }
   },
   "outputs": [
    {
     "data": {
      "text/html": [
       "<style  type=\"text/css\" >\n",
       "</style><table id=\"T_0f9a981a_05d4_11eb_8aae_acde48001122\" ><caption>Columns with Null Values:</caption><thead>    <tr>        <th class=\"blank level0\" ></th>        <th class=\"col_heading level0 col0\" >#</th>        <th class=\"col_heading level0 col1\" >%</th>    </tr></thead><tbody>\n",
       "                <tr>\n",
       "                        <th id=\"T_0f9a981a_05d4_11eb_8aae_acde48001122level0_row0\" class=\"row_heading level0 row0\" >supervising_dist</th>\n",
       "                        <td id=\"T_0f9a981a_05d4_11eb_8aae_acde48001122row0_col0\" class=\"data row0 col0\" >9581</td>\n",
       "                        <td id=\"T_0f9a981a_05d4_11eb_8aae_acde48001122row0_col1\" class=\"data row0 col1\" >36.820000</td>\n",
       "            </tr>\n",
       "            <tr>\n",
       "                        <th id=\"T_0f9a981a_05d4_11eb_8aae_acde48001122level0_row1\" class=\"row_heading level0 row1\" >release_type</th>\n",
       "                        <td id=\"T_0f9a981a_05d4_11eb_8aae_acde48001122row1_col0\" class=\"data row1 col0\" >1762</td>\n",
       "                        <td id=\"T_0f9a981a_05d4_11eb_8aae_acde48001122row1_col1\" class=\"data row1 col1\" >6.770000</td>\n",
       "            </tr>\n",
       "            <tr>\n",
       "                        <th id=\"T_0f9a981a_05d4_11eb_8aae_acde48001122level0_row2\" class=\"row_heading level0 row2\" >race_ethnicity</th>\n",
       "                        <td id=\"T_0f9a981a_05d4_11eb_8aae_acde48001122row2_col0\" class=\"data row2 col0\" >35</td>\n",
       "                        <td id=\"T_0f9a981a_05d4_11eb_8aae_acde48001122row2_col1\" class=\"data row2 col1\" >0.130000</td>\n",
       "            </tr>\n",
       "            <tr>\n",
       "                        <th id=\"T_0f9a981a_05d4_11eb_8aae_acde48001122level0_row3\" class=\"row_heading level0 row3\" >age_released</th>\n",
       "                        <td id=\"T_0f9a981a_05d4_11eb_8aae_acde48001122row3_col0\" class=\"data row3 col0\" >3</td>\n",
       "                        <td id=\"T_0f9a981a_05d4_11eb_8aae_acde48001122row3_col1\" class=\"data row3 col1\" >0.010000</td>\n",
       "            </tr>\n",
       "            <tr>\n",
       "                        <th id=\"T_0f9a981a_05d4_11eb_8aae_acde48001122level0_row4\" class=\"row_heading level0 row4\" >sex</th>\n",
       "                        <td id=\"T_0f9a981a_05d4_11eb_8aae_acde48001122row4_col0\" class=\"data row4 col0\" >3</td>\n",
       "                        <td id=\"T_0f9a981a_05d4_11eb_8aae_acde48001122row4_col1\" class=\"data row4 col1\" >0.010000</td>\n",
       "            </tr>\n",
       "            <tr>\n",
       "                        <th id=\"T_0f9a981a_05d4_11eb_8aae_acde48001122level0_row5\" class=\"row_heading level0 row5\" >max_sentence</th>\n",
       "                        <td id=\"T_0f9a981a_05d4_11eb_8aae_acde48001122row5_col0\" class=\"data row5 col0\" >20</td>\n",
       "                        <td id=\"T_0f9a981a_05d4_11eb_8aae_acde48001122row5_col1\" class=\"data row5 col1\" >0.080000</td>\n",
       "            </tr>\n",
       "    </tbody></table>"
      ],
      "text/plain": [
       "<pandas.io.formats.style.Styler at 0x7ffc0aeeef98>"
      ]
     },
     "metadata": {},
     "output_type": "display_data"
    }
   ],
   "source": [
    "nulls_report(df)"
   ]
  },
  {
   "cell_type": "code",
   "execution_count": 34,
   "metadata": {
    "ExecuteTime": {
     "end_time": "2020-10-03T23:56:31.807077Z",
     "start_time": "2020-10-03T23:56:31.798006Z"
    },
    "scrolled": true
   },
   "outputs": [
    {
     "data": {
      "text/html": [
       "<style>div.sk-top-container {color: black;background-color: white;}div.sk-toggleable {background-color: white;}label.sk-toggleable__label {cursor: pointer;display: block;width: 100%;margin-bottom: 0;padding: 0.2em 0.3em;box-sizing: border-box;text-align: center;}div.sk-toggleable__content {max-height: 0;max-width: 0;overflow: hidden;text-align: left;background-color: #f0f8ff;}div.sk-toggleable__content pre {margin: 0.2em;color: black;border-radius: 0.25em;background-color: #f0f8ff;}input.sk-toggleable__control:checked~div.sk-toggleable__content {max-height: 200px;max-width: 100%;overflow: auto;}div.sk-estimator input.sk-toggleable__control:checked~label.sk-toggleable__label {background-color: #d4ebff;}div.sk-label input.sk-toggleable__control:checked~label.sk-toggleable__label {background-color: #d4ebff;}input.sk-hidden--visually {border: 0;clip: rect(1px 1px 1px 1px);clip: rect(1px, 1px, 1px, 1px);height: 1px;margin: -1px;overflow: hidden;padding: 0;position: absolute;width: 1px;}div.sk-estimator {font-family: monospace;background-color: #f0f8ff;margin: 0.25em 0.25em;border: 1px dotted black;border-radius: 0.25em;box-sizing: border-box;}div.sk-estimator:hover {background-color: #d4ebff;}div.sk-parallel-item::after {content: \"\";width: 100%;border-bottom: 1px solid gray;flex-grow: 1;}div.sk-label:hover label.sk-toggleable__label {background-color: #d4ebff;}div.sk-serial::before {content: \"\";position: absolute;border-left: 1px solid gray;box-sizing: border-box;top: 2em;bottom: 0;left: 50%;}div.sk-serial {display: flex;flex-direction: column;align-items: center;background-color: white;}div.sk-item {z-index: 1;}div.sk-parallel {display: flex;align-items: stretch;justify-content: center;background-color: white;}div.sk-parallel-item {display: flex;flex-direction: column;position: relative;background-color: white;}div.sk-parallel-item:first-child::after {align-self: flex-end;width: 50%;}div.sk-parallel-item:last-child::after {align-self: flex-start;width: 50%;}div.sk-parallel-item:only-child::after {width: 0;}div.sk-dashed-wrapped {border: 1px dashed gray;margin: 0.2em;box-sizing: border-box;padding-bottom: 0.1em;background-color: white;position: relative;}div.sk-label label {font-family: monospace;font-weight: bold;background-color: white;display: inline-block;line-height: 1.2em;}div.sk-label-container {position: relative;z-index: 2;text-align: center;}div.sk-container {display: inline-block;position: relative;}</style><div class=\"sk-top-container\"><div class=\"sk-container\"><div class=\"sk-item sk-dashed-wrapped\"><div class=\"sk-label-container\"><div class=\"sk-label sk-toggleable\"><input class=\"sk-toggleable__control sk-hidden--visually\" id=\"088a6d25-5636-4d97-8d3d-78f247583f5c\" type=\"checkbox\" ><label class=\"sk-toggleable__label\" for=\"088a6d25-5636-4d97-8d3d-78f247583f5c\">Pipeline</label><div class=\"sk-toggleable__content\"><pre>Pipeline(steps=[('imputer', SimpleImputer(strategy='median')),\n",
       "                ('scaler', StandardScaler())])</pre></div></div></div><div class=\"sk-serial\"><div class=\"sk-item\"><div class=\"sk-estimator sk-toggleable\"><input class=\"sk-toggleable__control sk-hidden--visually\" id=\"f2c6365b-76e2-456f-b705-c7488ab61086\" type=\"checkbox\" ><label class=\"sk-toggleable__label\" for=\"f2c6365b-76e2-456f-b705-c7488ab61086\">SimpleImputer</label><div class=\"sk-toggleable__content\"><pre>SimpleImputer(strategy='median')</pre></div></div></div><div class=\"sk-item\"><div class=\"sk-estimator sk-toggleable\"><input class=\"sk-toggleable__control sk-hidden--visually\" id=\"49885d39-e9a9-4db7-9119-022dec49aa95\" type=\"checkbox\" ><label class=\"sk-toggleable__label\" for=\"49885d39-e9a9-4db7-9119-022dec49aa95\">StandardScaler</label><div class=\"sk-toggleable__content\"><pre>StandardScaler()</pre></div></div></div></div></div></div></div>"
      ],
      "text/plain": [
       "Pipeline(steps=[('imputer', SimpleImputer(strategy='median')),\n",
       "                ('scaler', StandardScaler())])"
      ]
     },
     "execution_count": 34,
     "metadata": {},
     "output_type": "execute_result"
    }
   ],
   "source": [
    "## Make a num_transformer pipeline\n",
    "set_config(display='diagram')\n",
    "num_transformer = Pipeline(steps=[\n",
    "    ('imputer', SimpleImputer(strategy='median')),\n",
    "    ('scaler',StandardScaler())])\n",
    "num_transformer"
   ]
  },
  {
   "cell_type": "code",
   "execution_count": 35,
   "metadata": {
    "ExecuteTime": {
     "end_time": "2020-10-03T23:56:31.810542Z",
     "start_time": "2020-10-03T23:56:31.808742Z"
    }
   },
   "outputs": [],
   "source": [
    "# ## vis as diagram\n",
    "# set_config(display='text')\n",
    "# num_transformer"
   ]
  },
  {
   "cell_type": "code",
   "execution_count": 36,
   "metadata": {
    "ExecuteTime": {
     "end_time": "2020-10-03T23:56:31.818704Z",
     "start_time": "2020-10-03T23:56:31.812263Z"
    },
    "scrolled": true
   },
   "outputs": [
    {
     "data": {
      "text/plain": [
       "Index(['supervising_dist', 'release_type', 'race_ethnicity', 'sex',\n",
       "       'crime_class', 'crime_type', 'crime_subtype', 'target_pop'],\n",
       "      dtype='object')"
      ]
     },
     "execution_count": 36,
     "metadata": {},
     "output_type": "execute_result"
    }
   ],
   "source": [
    "## Get a list of columns to be run as categorical data\n",
    "cat_cols = X_train.select_dtypes('O').columns\n",
    "cat_cols"
   ]
  },
  {
   "cell_type": "code",
   "execution_count": 37,
   "metadata": {
    "ExecuteTime": {
     "end_time": "2020-10-03T23:56:31.829827Z",
     "start_time": "2020-10-03T23:56:31.820418Z"
    }
   },
   "outputs": [
    {
     "data": {
      "text/html": [
       "<style>div.sk-top-container {color: black;background-color: white;}div.sk-toggleable {background-color: white;}label.sk-toggleable__label {cursor: pointer;display: block;width: 100%;margin-bottom: 0;padding: 0.2em 0.3em;box-sizing: border-box;text-align: center;}div.sk-toggleable__content {max-height: 0;max-width: 0;overflow: hidden;text-align: left;background-color: #f0f8ff;}div.sk-toggleable__content pre {margin: 0.2em;color: black;border-radius: 0.25em;background-color: #f0f8ff;}input.sk-toggleable__control:checked~div.sk-toggleable__content {max-height: 200px;max-width: 100%;overflow: auto;}div.sk-estimator input.sk-toggleable__control:checked~label.sk-toggleable__label {background-color: #d4ebff;}div.sk-label input.sk-toggleable__control:checked~label.sk-toggleable__label {background-color: #d4ebff;}input.sk-hidden--visually {border: 0;clip: rect(1px 1px 1px 1px);clip: rect(1px, 1px, 1px, 1px);height: 1px;margin: -1px;overflow: hidden;padding: 0;position: absolute;width: 1px;}div.sk-estimator {font-family: monospace;background-color: #f0f8ff;margin: 0.25em 0.25em;border: 1px dotted black;border-radius: 0.25em;box-sizing: border-box;}div.sk-estimator:hover {background-color: #d4ebff;}div.sk-parallel-item::after {content: \"\";width: 100%;border-bottom: 1px solid gray;flex-grow: 1;}div.sk-label:hover label.sk-toggleable__label {background-color: #d4ebff;}div.sk-serial::before {content: \"\";position: absolute;border-left: 1px solid gray;box-sizing: border-box;top: 2em;bottom: 0;left: 50%;}div.sk-serial {display: flex;flex-direction: column;align-items: center;background-color: white;}div.sk-item {z-index: 1;}div.sk-parallel {display: flex;align-items: stretch;justify-content: center;background-color: white;}div.sk-parallel-item {display: flex;flex-direction: column;position: relative;background-color: white;}div.sk-parallel-item:first-child::after {align-self: flex-end;width: 50%;}div.sk-parallel-item:last-child::after {align-self: flex-start;width: 50%;}div.sk-parallel-item:only-child::after {width: 0;}div.sk-dashed-wrapped {border: 1px dashed gray;margin: 0.2em;box-sizing: border-box;padding-bottom: 0.1em;background-color: white;position: relative;}div.sk-label label {font-family: monospace;font-weight: bold;background-color: white;display: inline-block;line-height: 1.2em;}div.sk-label-container {position: relative;z-index: 2;text-align: center;}div.sk-container {display: inline-block;position: relative;}</style><div class=\"sk-top-container\"><div class=\"sk-container\"><div class=\"sk-item sk-dashed-wrapped\"><div class=\"sk-label-container\"><div class=\"sk-label sk-toggleable\"><input class=\"sk-toggleable__control sk-hidden--visually\" id=\"5c9343b3-aaab-4ab4-aa91-62ee333f8219\" type=\"checkbox\" ><label class=\"sk-toggleable__label\" for=\"5c9343b3-aaab-4ab4-aa91-62ee333f8219\">Pipeline</label><div class=\"sk-toggleable__content\"><pre>Pipeline(steps=[('imputer',\n",
       "                 SimpleImputer(fill_value='missing', strategy='constant')),\n",
       "                ('encoder',\n",
       "                 OneHotEncoder(handle_unknown='ignore', sparse=False))])</pre></div></div></div><div class=\"sk-serial\"><div class=\"sk-item\"><div class=\"sk-estimator sk-toggleable\"><input class=\"sk-toggleable__control sk-hidden--visually\" id=\"ea438f3b-8609-498d-b350-e2d78ee545b7\" type=\"checkbox\" ><label class=\"sk-toggleable__label\" for=\"ea438f3b-8609-498d-b350-e2d78ee545b7\">SimpleImputer</label><div class=\"sk-toggleable__content\"><pre>SimpleImputer(fill_value='missing', strategy='constant')</pre></div></div></div><div class=\"sk-item\"><div class=\"sk-estimator sk-toggleable\"><input class=\"sk-toggleable__control sk-hidden--visually\" id=\"a973094c-dd00-47b8-860a-53540b4e0f5d\" type=\"checkbox\" ><label class=\"sk-toggleable__label\" for=\"a973094c-dd00-47b8-860a-53540b4e0f5d\">OneHotEncoder</label><div class=\"sk-toggleable__content\"><pre>OneHotEncoder(handle_unknown='ignore', sparse=False)</pre></div></div></div></div></div></div></div>"
      ],
      "text/plain": [
       "Pipeline(steps=[('imputer',\n",
       "                 SimpleImputer(fill_value='missing', strategy='constant')),\n",
       "                ('encoder',\n",
       "                 OneHotEncoder(handle_unknown='ignore', sparse=False))])"
      ]
     },
     "execution_count": 37,
     "metadata": {},
     "output_type": "execute_result"
    }
   ],
   "source": [
    "## Create a cat_transformer pipeline \n",
    "cat_transformer = Pipeline(steps=[\n",
    "    ('imputer',SimpleImputer(strategy='constant',fill_value='missing')),\n",
    "    ('encoder', OneHotEncoder(handle_unknown='ignore',sparse=False))])#handle_unknown='ignore',\n",
    "cat_transformer\n",
    "\n",
    "## that will impute using median and then calculate z-scores\n"
   ]
  },
  {
   "cell_type": "code",
   "execution_count": 38,
   "metadata": {
    "ExecuteTime": {
     "end_time": "2020-10-03T23:56:31.833078Z",
     "start_time": "2020-10-03T23:56:31.831399Z"
    }
   },
   "outputs": [],
   "source": [
    "# TO DO: make another cat encoder with drop='if_binary'drop='if_binary',"
   ]
  },
  {
   "cell_type": "markdown",
   "metadata": {},
   "source": [
    "### Combine Preprocessing into one ColumnTransformer"
   ]
  },
  {
   "cell_type": "code",
   "execution_count": 39,
   "metadata": {
    "ExecuteTime": {
     "end_time": "2020-10-03T23:56:31.890429Z",
     "start_time": "2020-10-03T23:56:31.834703Z"
    },
    "scrolled": true
   },
   "outputs": [
    {
     "data": {
      "text/html": [
       "<style>div.sk-top-container {color: black;background-color: white;}div.sk-toggleable {background-color: white;}label.sk-toggleable__label {cursor: pointer;display: block;width: 100%;margin-bottom: 0;padding: 0.2em 0.3em;box-sizing: border-box;text-align: center;}div.sk-toggleable__content {max-height: 0;max-width: 0;overflow: hidden;text-align: left;background-color: #f0f8ff;}div.sk-toggleable__content pre {margin: 0.2em;color: black;border-radius: 0.25em;background-color: #f0f8ff;}input.sk-toggleable__control:checked~div.sk-toggleable__content {max-height: 200px;max-width: 100%;overflow: auto;}div.sk-estimator input.sk-toggleable__control:checked~label.sk-toggleable__label {background-color: #d4ebff;}div.sk-label input.sk-toggleable__control:checked~label.sk-toggleable__label {background-color: #d4ebff;}input.sk-hidden--visually {border: 0;clip: rect(1px 1px 1px 1px);clip: rect(1px, 1px, 1px, 1px);height: 1px;margin: -1px;overflow: hidden;padding: 0;position: absolute;width: 1px;}div.sk-estimator {font-family: monospace;background-color: #f0f8ff;margin: 0.25em 0.25em;border: 1px dotted black;border-radius: 0.25em;box-sizing: border-box;}div.sk-estimator:hover {background-color: #d4ebff;}div.sk-parallel-item::after {content: \"\";width: 100%;border-bottom: 1px solid gray;flex-grow: 1;}div.sk-label:hover label.sk-toggleable__label {background-color: #d4ebff;}div.sk-serial::before {content: \"\";position: absolute;border-left: 1px solid gray;box-sizing: border-box;top: 2em;bottom: 0;left: 50%;}div.sk-serial {display: flex;flex-direction: column;align-items: center;background-color: white;}div.sk-item {z-index: 1;}div.sk-parallel {display: flex;align-items: stretch;justify-content: center;background-color: white;}div.sk-parallel-item {display: flex;flex-direction: column;position: relative;background-color: white;}div.sk-parallel-item:first-child::after {align-self: flex-end;width: 50%;}div.sk-parallel-item:last-child::after {align-self: flex-start;width: 50%;}div.sk-parallel-item:only-child::after {width: 0;}div.sk-dashed-wrapped {border: 1px dashed gray;margin: 0.2em;box-sizing: border-box;padding-bottom: 0.1em;background-color: white;position: relative;}div.sk-label label {font-family: monospace;font-weight: bold;background-color: white;display: inline-block;line-height: 1.2em;}div.sk-label-container {position: relative;z-index: 2;text-align: center;}div.sk-container {display: inline-block;position: relative;}</style><div class=\"sk-top-container\"><div class=\"sk-container\"><div class=\"sk-item sk-dashed-wrapped\"><div class=\"sk-label-container\"><div class=\"sk-label sk-toggleable\"><input class=\"sk-toggleable__control sk-hidden--visually\" id=\"26c492b9-0a4a-41cb-8eb2-ceb20dce191d\" type=\"checkbox\" ><label class=\"sk-toggleable__label\" for=\"26c492b9-0a4a-41cb-8eb2-ceb20dce191d\">ColumnTransformer</label><div class=\"sk-toggleable__content\"><pre>ColumnTransformer(transformers=[('num',\n",
       "                                 Pipeline(steps=[('imputer',\n",
       "                                                  SimpleImputer(strategy='median')),\n",
       "                                                 ('scaler', StandardScaler())]),\n",
       "                                 Index(['age_released', 'max_sentence'], dtype='object')),\n",
       "                                ('cat',\n",
       "                                 Pipeline(steps=[('imputer',\n",
       "                                                  SimpleImputer(fill_value='missing',\n",
       "                                                                strategy='constant')),\n",
       "                                                 ('encoder',\n",
       "                                                  OneHotEncoder(handle_unknown='ignore',\n",
       "                                                                sparse=False))]),\n",
       "                                 Index(['supervising_dist', 'release_type', 'race_ethnicity', 'sex',\n",
       "       'crime_class', 'crime_type', 'crime_subtype', 'target_pop'],\n",
       "      dtype='object'))])</pre></div></div></div><div class=\"sk-parallel\"><div class=\"sk-parallel-item\"><div class=\"sk-item\"><div class=\"sk-label-container\"><div class=\"sk-label sk-toggleable\"><input class=\"sk-toggleable__control sk-hidden--visually\" id=\"8a66889d-8137-4a16-a5fc-10cc4824b579\" type=\"checkbox\" ><label class=\"sk-toggleable__label\" for=\"8a66889d-8137-4a16-a5fc-10cc4824b579\">num</label><div class=\"sk-toggleable__content\"><pre>Index(['age_released', 'max_sentence'], dtype='object')</pre></div></div></div><div class=\"sk-serial\"><div class=\"sk-item\"><div class=\"sk-serial\"><div class=\"sk-item\"><div class=\"sk-estimator sk-toggleable\"><input class=\"sk-toggleable__control sk-hidden--visually\" id=\"ea0ebbf5-ccb7-4963-9a04-fb60f1743096\" type=\"checkbox\" ><label class=\"sk-toggleable__label\" for=\"ea0ebbf5-ccb7-4963-9a04-fb60f1743096\">SimpleImputer</label><div class=\"sk-toggleable__content\"><pre>SimpleImputer(strategy='median')</pre></div></div></div><div class=\"sk-item\"><div class=\"sk-estimator sk-toggleable\"><input class=\"sk-toggleable__control sk-hidden--visually\" id=\"cd773c71-28bf-4f30-afe9-13956ae35ded\" type=\"checkbox\" ><label class=\"sk-toggleable__label\" for=\"cd773c71-28bf-4f30-afe9-13956ae35ded\">StandardScaler</label><div class=\"sk-toggleable__content\"><pre>StandardScaler()</pre></div></div></div></div></div></div></div></div><div class=\"sk-parallel-item\"><div class=\"sk-item\"><div class=\"sk-label-container\"><div class=\"sk-label sk-toggleable\"><input class=\"sk-toggleable__control sk-hidden--visually\" id=\"089bf008-a33e-4d97-83de-745cabbdeef2\" type=\"checkbox\" ><label class=\"sk-toggleable__label\" for=\"089bf008-a33e-4d97-83de-745cabbdeef2\">cat</label><div class=\"sk-toggleable__content\"><pre>Index(['supervising_dist', 'release_type', 'race_ethnicity', 'sex',\n",
       "       'crime_class', 'crime_type', 'crime_subtype', 'target_pop'],\n",
       "      dtype='object')</pre></div></div></div><div class=\"sk-serial\"><div class=\"sk-item\"><div class=\"sk-serial\"><div class=\"sk-item\"><div class=\"sk-estimator sk-toggleable\"><input class=\"sk-toggleable__control sk-hidden--visually\" id=\"c7bfb983-dc10-41df-a174-ea60b7809dcf\" type=\"checkbox\" ><label class=\"sk-toggleable__label\" for=\"c7bfb983-dc10-41df-a174-ea60b7809dcf\">SimpleImputer</label><div class=\"sk-toggleable__content\"><pre>SimpleImputer(fill_value='missing', strategy='constant')</pre></div></div></div><div class=\"sk-item\"><div class=\"sk-estimator sk-toggleable\"><input class=\"sk-toggleable__control sk-hidden--visually\" id=\"c6755c46-dfea-4420-ab55-424cabad7758\" type=\"checkbox\" ><label class=\"sk-toggleable__label\" for=\"c6755c46-dfea-4420-ab55-424cabad7758\">OneHotEncoder</label><div class=\"sk-toggleable__content\"><pre>OneHotEncoder(handle_unknown='ignore', sparse=False)</pre></div></div></div></div></div></div></div></div></div></div></div></div>"
      ],
      "text/plain": [
       "ColumnTransformer(transformers=[('num',\n",
       "                                 Pipeline(steps=[('imputer',\n",
       "                                                  SimpleImputer(strategy='median')),\n",
       "                                                 ('scaler', StandardScaler())]),\n",
       "                                 Index(['age_released', 'max_sentence'], dtype='object')),\n",
       "                                ('cat',\n",
       "                                 Pipeline(steps=[('imputer',\n",
       "                                                  SimpleImputer(fill_value='missing',\n",
       "                                                                strategy='constant')),\n",
       "                                                 ('encoder',\n",
       "                                                  OneHotEncoder(handle_unknown='ignore',\n",
       "                                                                sparse=False))]),\n",
       "                                 Index(['supervising_dist', 'release_type', 'race_ethnicity', 'sex',\n",
       "       'crime_class', 'crime_type', 'crime_subtype', 'target_pop'],\n",
       "      dtype='object'))])"
      ]
     },
     "execution_count": 39,
     "metadata": {},
     "output_type": "execute_result"
    }
   ],
   "source": [
    "## COMBINE BOTH PIPELINES INTO ONE WITH COLUMN TRANSFORMER\n",
    "from sklearn.compose import ColumnTransformer\n",
    "preprocessing = ColumnTransformer(transformers=[\n",
    "    ('num',num_transformer,num_cols),\n",
    "    ('cat',cat_transformer,cat_cols)])\n",
    "preprocessing"
   ]
  },
  {
   "cell_type": "code",
   "execution_count": 40,
   "metadata": {
    "ExecuteTime": {
     "end_time": "2020-10-03T23:56:31.962129Z",
     "start_time": "2020-10-03T23:56:31.892310Z"
    }
   },
   "outputs": [
    {
     "data": {
      "text/plain": [
       "array([[ 0.32094541,  0.08318531,  0.        , ...,  0.        ,\n",
       "         1.        ,  0.        ],\n",
       "       [-0.48523938,  0.08318531,  0.        , ...,  0.        ,\n",
       "         1.        ,  0.        ],\n",
       "       [-1.29142417,  3.60428813,  0.        , ...,  0.        ,\n",
       "         1.        ,  0.        ],\n",
       "       ...,\n",
       "       [-1.29142417, -0.35695254,  1.        , ...,  0.        ,\n",
       "         0.        ,  1.        ],\n",
       "       [-1.29142417,  0.08318531,  1.        , ...,  0.        ,\n",
       "         0.        ,  1.        ],\n",
       "       [ 0.32094541,  0.08318531,  1.        , ...,  0.        ,\n",
       "         0.        ,  1.        ]])"
      ]
     },
     "execution_count": 40,
     "metadata": {},
     "output_type": "execute_result"
    }
   ],
   "source": [
    "## Get X_train and X_test from column transformer\n",
    "X_train_tf = preprocessing.fit_transform(X_train)\n",
    "X_train_tf"
   ]
  },
  {
   "cell_type": "markdown",
   "metadata": {},
   "source": [
    "> **One downside of Pipelines is that its harder to get the individual info we need to re-form our dataset as a df**"
   ]
  },
  {
   "cell_type": "code",
   "execution_count": 41,
   "metadata": {
    "ExecuteTime": {
     "end_time": "2020-10-03T23:56:32.059754Z",
     "start_time": "2020-10-03T23:56:31.963616Z"
    }
   },
   "outputs": [
    {
     "data": {
      "text/html": [
       "<div>\n",
       "<style scoped>\n",
       "    .dataframe tbody tr th:only-of-type {\n",
       "        vertical-align: middle;\n",
       "    }\n",
       "\n",
       "    .dataframe tbody tr th {\n",
       "        vertical-align: top;\n",
       "    }\n",
       "\n",
       "    .dataframe thead th {\n",
       "        text-align: right;\n",
       "    }\n",
       "</style>\n",
       "<table border=\"1\" class=\"dataframe\">\n",
       "  <thead>\n",
       "    <tr style=\"text-align: right;\">\n",
       "      <th></th>\n",
       "      <th>age_released</th>\n",
       "      <th>max_sentence</th>\n",
       "      <th>supervising_dist_1JD</th>\n",
       "      <th>supervising_dist_2JD</th>\n",
       "      <th>supervising_dist_3JD</th>\n",
       "      <th>supervising_dist_4JD</th>\n",
       "      <th>supervising_dist_5JD</th>\n",
       "      <th>supervising_dist_6JD</th>\n",
       "      <th>supervising_dist_7JD</th>\n",
       "      <th>supervising_dist_8JD</th>\n",
       "      <th>supervising_dist_ISC</th>\n",
       "      <th>supervising_dist_Interstate Compact</th>\n",
       "      <th>supervising_dist_missing</th>\n",
       "      <th>release_type_Discharged - Expiration of Sentence</th>\n",
       "      <th>release_type_Discharged – End of Sentence</th>\n",
       "      <th>release_type_Parole</th>\n",
       "      <th>release_type_Parole Granted</th>\n",
       "      <th>release_type_Paroled to Detainer - INS</th>\n",
       "      <th>release_type_Paroled to Detainer - Iowa</th>\n",
       "      <th>release_type_Paroled to Detainer - Out of State</th>\n",
       "      <th>release_type_Paroled to Detainer - U.S. Marshall</th>\n",
       "      <th>release_type_Paroled w/Immediate Discharge</th>\n",
       "      <th>release_type_Released to Special Sentence</th>\n",
       "      <th>release_type_Special Sentence</th>\n",
       "      <th>release_type_missing</th>\n",
       "      <th>race_ethnicity_American Native</th>\n",
       "      <th>race_ethnicity_Asian or Pacific Islander</th>\n",
       "      <th>race_ethnicity_Black</th>\n",
       "      <th>race_ethnicity_Hispanic</th>\n",
       "      <th>race_ethnicity_White</th>\n",
       "      <th>race_ethnicity_missing</th>\n",
       "      <th>sex_Female</th>\n",
       "      <th>sex_Male</th>\n",
       "      <th>sex_missing</th>\n",
       "      <th>crime_class_A Felony</th>\n",
       "      <th>crime_class_Aggravated Misdemeanor</th>\n",
       "      <th>crime_class_B Felony</th>\n",
       "      <th>crime_class_C Felony</th>\n",
       "      <th>crime_class_D Felony</th>\n",
       "      <th>crime_class_Felony - Enhanced</th>\n",
       "      <th>crime_class_Other Felony</th>\n",
       "      <th>crime_class_Other Misdemeanor</th>\n",
       "      <th>crime_class_Serious Misdemeanor</th>\n",
       "      <th>crime_class_Sex Offender</th>\n",
       "      <th>crime_class_Simple Misdemeanor</th>\n",
       "      <th>crime_type_Drug</th>\n",
       "      <th>crime_type_Other</th>\n",
       "      <th>crime_type_Property</th>\n",
       "      <th>crime_type_Public Order</th>\n",
       "      <th>crime_type_Violent</th>\n",
       "      <th>crime_subtype_Alcohol</th>\n",
       "      <th>crime_subtype_Animals</th>\n",
       "      <th>crime_subtype_Arson</th>\n",
       "      <th>crime_subtype_Assault</th>\n",
       "      <th>crime_subtype_Burglary</th>\n",
       "      <th>crime_subtype_Drug Possession</th>\n",
       "      <th>crime_subtype_Flight/Escape</th>\n",
       "      <th>crime_subtype_Forgery/Fraud</th>\n",
       "      <th>crime_subtype_Kidnap</th>\n",
       "      <th>crime_subtype_Murder/Manslaughter</th>\n",
       "      <th>crime_subtype_OWI</th>\n",
       "      <th>crime_subtype_Other Criminal</th>\n",
       "      <th>crime_subtype_Other Drug</th>\n",
       "      <th>crime_subtype_Other Public Order</th>\n",
       "      <th>crime_subtype_Other Violent</th>\n",
       "      <th>crime_subtype_Prostitution/Pimping</th>\n",
       "      <th>crime_subtype_Robbery</th>\n",
       "      <th>crime_subtype_Sex</th>\n",
       "      <th>crime_subtype_Sex Offender Registry/Residency</th>\n",
       "      <th>crime_subtype_Special Sentence Revocation</th>\n",
       "      <th>crime_subtype_Stolen Property</th>\n",
       "      <th>crime_subtype_Theft</th>\n",
       "      <th>crime_subtype_Traffic</th>\n",
       "      <th>crime_subtype_Trafficking</th>\n",
       "      <th>crime_subtype_Vandalism</th>\n",
       "      <th>crime_subtype_Weapons</th>\n",
       "      <th>target_pop_No</th>\n",
       "      <th>target_pop_Yes</th>\n",
       "    </tr>\n",
       "  </thead>\n",
       "  <tbody>\n",
       "    <tr>\n",
       "      <th>0</th>\n",
       "      <td>0.320945</td>\n",
       "      <td>0.083185</td>\n",
       "      <td>0.0</td>\n",
       "      <td>0.0</td>\n",
       "      <td>0.0</td>\n",
       "      <td>0.0</td>\n",
       "      <td>1.0</td>\n",
       "      <td>0.0</td>\n",
       "      <td>0.0</td>\n",
       "      <td>0.0</td>\n",
       "      <td>0.0</td>\n",
       "      <td>0.0</td>\n",
       "      <td>0.0</td>\n",
       "      <td>0.0</td>\n",
       "      <td>0.0</td>\n",
       "      <td>0.0</td>\n",
       "      <td>1.0</td>\n",
       "      <td>0.0</td>\n",
       "      <td>0.0</td>\n",
       "      <td>0.0</td>\n",
       "      <td>0.0</td>\n",
       "      <td>0.0</td>\n",
       "      <td>0.0</td>\n",
       "      <td>0.0</td>\n",
       "      <td>0.0</td>\n",
       "      <td>0.0</td>\n",
       "      <td>0.0</td>\n",
       "      <td>0.0</td>\n",
       "      <td>0.0</td>\n",
       "      <td>1.0</td>\n",
       "      <td>0.0</td>\n",
       "      <td>1.0</td>\n",
       "      <td>0.0</td>\n",
       "      <td>0.0</td>\n",
       "      <td>0.0</td>\n",
       "      <td>0.0</td>\n",
       "      <td>0.0</td>\n",
       "      <td>1.0</td>\n",
       "      <td>0.0</td>\n",
       "      <td>0.0</td>\n",
       "      <td>0.0</td>\n",
       "      <td>0.0</td>\n",
       "      <td>0.0</td>\n",
       "      <td>0.0</td>\n",
       "      <td>0.0</td>\n",
       "      <td>1.0</td>\n",
       "      <td>0.0</td>\n",
       "      <td>0.0</td>\n",
       "      <td>0.0</td>\n",
       "      <td>0.0</td>\n",
       "      <td>0.0</td>\n",
       "      <td>0.0</td>\n",
       "      <td>0.0</td>\n",
       "      <td>0.0</td>\n",
       "      <td>0.0</td>\n",
       "      <td>0.0</td>\n",
       "      <td>0.0</td>\n",
       "      <td>0.0</td>\n",
       "      <td>0.0</td>\n",
       "      <td>0.0</td>\n",
       "      <td>0.0</td>\n",
       "      <td>0.0</td>\n",
       "      <td>0.0</td>\n",
       "      <td>0.0</td>\n",
       "      <td>0.0</td>\n",
       "      <td>0.0</td>\n",
       "      <td>0.0</td>\n",
       "      <td>0.0</td>\n",
       "      <td>0.0</td>\n",
       "      <td>0.0</td>\n",
       "      <td>0.0</td>\n",
       "      <td>0.0</td>\n",
       "      <td>0.0</td>\n",
       "      <td>1.0</td>\n",
       "      <td>0.0</td>\n",
       "      <td>0.0</td>\n",
       "      <td>1.0</td>\n",
       "      <td>0.0</td>\n",
       "    </tr>\n",
       "    <tr>\n",
       "      <th>1</th>\n",
       "      <td>-0.485239</td>\n",
       "      <td>0.083185</td>\n",
       "      <td>0.0</td>\n",
       "      <td>0.0</td>\n",
       "      <td>0.0</td>\n",
       "      <td>0.0</td>\n",
       "      <td>0.0</td>\n",
       "      <td>0.0</td>\n",
       "      <td>0.0</td>\n",
       "      <td>0.0</td>\n",
       "      <td>0.0</td>\n",
       "      <td>0.0</td>\n",
       "      <td>1.0</td>\n",
       "      <td>0.0</td>\n",
       "      <td>1.0</td>\n",
       "      <td>0.0</td>\n",
       "      <td>0.0</td>\n",
       "      <td>0.0</td>\n",
       "      <td>0.0</td>\n",
       "      <td>0.0</td>\n",
       "      <td>0.0</td>\n",
       "      <td>0.0</td>\n",
       "      <td>0.0</td>\n",
       "      <td>0.0</td>\n",
       "      <td>0.0</td>\n",
       "      <td>0.0</td>\n",
       "      <td>0.0</td>\n",
       "      <td>1.0</td>\n",
       "      <td>0.0</td>\n",
       "      <td>0.0</td>\n",
       "      <td>0.0</td>\n",
       "      <td>0.0</td>\n",
       "      <td>1.0</td>\n",
       "      <td>0.0</td>\n",
       "      <td>0.0</td>\n",
       "      <td>0.0</td>\n",
       "      <td>0.0</td>\n",
       "      <td>1.0</td>\n",
       "      <td>0.0</td>\n",
       "      <td>0.0</td>\n",
       "      <td>0.0</td>\n",
       "      <td>0.0</td>\n",
       "      <td>0.0</td>\n",
       "      <td>0.0</td>\n",
       "      <td>0.0</td>\n",
       "      <td>1.0</td>\n",
       "      <td>0.0</td>\n",
       "      <td>0.0</td>\n",
       "      <td>0.0</td>\n",
       "      <td>0.0</td>\n",
       "      <td>0.0</td>\n",
       "      <td>0.0</td>\n",
       "      <td>0.0</td>\n",
       "      <td>0.0</td>\n",
       "      <td>0.0</td>\n",
       "      <td>0.0</td>\n",
       "      <td>0.0</td>\n",
       "      <td>0.0</td>\n",
       "      <td>0.0</td>\n",
       "      <td>0.0</td>\n",
       "      <td>0.0</td>\n",
       "      <td>0.0</td>\n",
       "      <td>0.0</td>\n",
       "      <td>0.0</td>\n",
       "      <td>0.0</td>\n",
       "      <td>0.0</td>\n",
       "      <td>0.0</td>\n",
       "      <td>0.0</td>\n",
       "      <td>0.0</td>\n",
       "      <td>0.0</td>\n",
       "      <td>0.0</td>\n",
       "      <td>0.0</td>\n",
       "      <td>0.0</td>\n",
       "      <td>1.0</td>\n",
       "      <td>0.0</td>\n",
       "      <td>0.0</td>\n",
       "      <td>1.0</td>\n",
       "      <td>0.0</td>\n",
       "    </tr>\n",
       "    <tr>\n",
       "      <th>2</th>\n",
       "      <td>-1.291424</td>\n",
       "      <td>3.604288</td>\n",
       "      <td>0.0</td>\n",
       "      <td>0.0</td>\n",
       "      <td>0.0</td>\n",
       "      <td>0.0</td>\n",
       "      <td>0.0</td>\n",
       "      <td>0.0</td>\n",
       "      <td>0.0</td>\n",
       "      <td>1.0</td>\n",
       "      <td>0.0</td>\n",
       "      <td>0.0</td>\n",
       "      <td>0.0</td>\n",
       "      <td>0.0</td>\n",
       "      <td>0.0</td>\n",
       "      <td>0.0</td>\n",
       "      <td>0.0</td>\n",
       "      <td>0.0</td>\n",
       "      <td>0.0</td>\n",
       "      <td>0.0</td>\n",
       "      <td>0.0</td>\n",
       "      <td>0.0</td>\n",
       "      <td>1.0</td>\n",
       "      <td>0.0</td>\n",
       "      <td>0.0</td>\n",
       "      <td>0.0</td>\n",
       "      <td>0.0</td>\n",
       "      <td>1.0</td>\n",
       "      <td>0.0</td>\n",
       "      <td>0.0</td>\n",
       "      <td>0.0</td>\n",
       "      <td>0.0</td>\n",
       "      <td>1.0</td>\n",
       "      <td>0.0</td>\n",
       "      <td>0.0</td>\n",
       "      <td>0.0</td>\n",
       "      <td>1.0</td>\n",
       "      <td>0.0</td>\n",
       "      <td>0.0</td>\n",
       "      <td>0.0</td>\n",
       "      <td>0.0</td>\n",
       "      <td>0.0</td>\n",
       "      <td>0.0</td>\n",
       "      <td>0.0</td>\n",
       "      <td>0.0</td>\n",
       "      <td>0.0</td>\n",
       "      <td>0.0</td>\n",
       "      <td>0.0</td>\n",
       "      <td>0.0</td>\n",
       "      <td>1.0</td>\n",
       "      <td>0.0</td>\n",
       "      <td>0.0</td>\n",
       "      <td>0.0</td>\n",
       "      <td>0.0</td>\n",
       "      <td>0.0</td>\n",
       "      <td>0.0</td>\n",
       "      <td>0.0</td>\n",
       "      <td>0.0</td>\n",
       "      <td>0.0</td>\n",
       "      <td>0.0</td>\n",
       "      <td>0.0</td>\n",
       "      <td>0.0</td>\n",
       "      <td>0.0</td>\n",
       "      <td>0.0</td>\n",
       "      <td>0.0</td>\n",
       "      <td>0.0</td>\n",
       "      <td>0.0</td>\n",
       "      <td>1.0</td>\n",
       "      <td>0.0</td>\n",
       "      <td>0.0</td>\n",
       "      <td>0.0</td>\n",
       "      <td>0.0</td>\n",
       "      <td>0.0</td>\n",
       "      <td>0.0</td>\n",
       "      <td>0.0</td>\n",
       "      <td>0.0</td>\n",
       "      <td>1.0</td>\n",
       "      <td>0.0</td>\n",
       "    </tr>\n",
       "    <tr>\n",
       "      <th>3</th>\n",
       "      <td>-0.485239</td>\n",
       "      <td>-0.356953</td>\n",
       "      <td>0.0</td>\n",
       "      <td>0.0</td>\n",
       "      <td>0.0</td>\n",
       "      <td>0.0</td>\n",
       "      <td>1.0</td>\n",
       "      <td>0.0</td>\n",
       "      <td>0.0</td>\n",
       "      <td>0.0</td>\n",
       "      <td>0.0</td>\n",
       "      <td>0.0</td>\n",
       "      <td>0.0</td>\n",
       "      <td>0.0</td>\n",
       "      <td>0.0</td>\n",
       "      <td>0.0</td>\n",
       "      <td>1.0</td>\n",
       "      <td>0.0</td>\n",
       "      <td>0.0</td>\n",
       "      <td>0.0</td>\n",
       "      <td>0.0</td>\n",
       "      <td>0.0</td>\n",
       "      <td>0.0</td>\n",
       "      <td>0.0</td>\n",
       "      <td>0.0</td>\n",
       "      <td>0.0</td>\n",
       "      <td>0.0</td>\n",
       "      <td>0.0</td>\n",
       "      <td>0.0</td>\n",
       "      <td>1.0</td>\n",
       "      <td>0.0</td>\n",
       "      <td>1.0</td>\n",
       "      <td>0.0</td>\n",
       "      <td>0.0</td>\n",
       "      <td>0.0</td>\n",
       "      <td>0.0</td>\n",
       "      <td>0.0</td>\n",
       "      <td>0.0</td>\n",
       "      <td>1.0</td>\n",
       "      <td>0.0</td>\n",
       "      <td>0.0</td>\n",
       "      <td>0.0</td>\n",
       "      <td>0.0</td>\n",
       "      <td>0.0</td>\n",
       "      <td>0.0</td>\n",
       "      <td>0.0</td>\n",
       "      <td>0.0</td>\n",
       "      <td>1.0</td>\n",
       "      <td>0.0</td>\n",
       "      <td>0.0</td>\n",
       "      <td>0.0</td>\n",
       "      <td>0.0</td>\n",
       "      <td>0.0</td>\n",
       "      <td>0.0</td>\n",
       "      <td>1.0</td>\n",
       "      <td>0.0</td>\n",
       "      <td>0.0</td>\n",
       "      <td>0.0</td>\n",
       "      <td>0.0</td>\n",
       "      <td>0.0</td>\n",
       "      <td>0.0</td>\n",
       "      <td>0.0</td>\n",
       "      <td>0.0</td>\n",
       "      <td>0.0</td>\n",
       "      <td>0.0</td>\n",
       "      <td>0.0</td>\n",
       "      <td>0.0</td>\n",
       "      <td>0.0</td>\n",
       "      <td>0.0</td>\n",
       "      <td>0.0</td>\n",
       "      <td>0.0</td>\n",
       "      <td>0.0</td>\n",
       "      <td>0.0</td>\n",
       "      <td>0.0</td>\n",
       "      <td>0.0</td>\n",
       "      <td>0.0</td>\n",
       "      <td>0.0</td>\n",
       "      <td>1.0</td>\n",
       "    </tr>\n",
       "    <tr>\n",
       "      <th>4</th>\n",
       "      <td>0.320945</td>\n",
       "      <td>-0.356953</td>\n",
       "      <td>0.0</td>\n",
       "      <td>0.0</td>\n",
       "      <td>0.0</td>\n",
       "      <td>0.0</td>\n",
       "      <td>0.0</td>\n",
       "      <td>0.0</td>\n",
       "      <td>0.0</td>\n",
       "      <td>0.0</td>\n",
       "      <td>0.0</td>\n",
       "      <td>0.0</td>\n",
       "      <td>1.0</td>\n",
       "      <td>0.0</td>\n",
       "      <td>1.0</td>\n",
       "      <td>0.0</td>\n",
       "      <td>0.0</td>\n",
       "      <td>0.0</td>\n",
       "      <td>0.0</td>\n",
       "      <td>0.0</td>\n",
       "      <td>0.0</td>\n",
       "      <td>0.0</td>\n",
       "      <td>0.0</td>\n",
       "      <td>0.0</td>\n",
       "      <td>0.0</td>\n",
       "      <td>0.0</td>\n",
       "      <td>0.0</td>\n",
       "      <td>0.0</td>\n",
       "      <td>0.0</td>\n",
       "      <td>1.0</td>\n",
       "      <td>0.0</td>\n",
       "      <td>0.0</td>\n",
       "      <td>1.0</td>\n",
       "      <td>0.0</td>\n",
       "      <td>0.0</td>\n",
       "      <td>0.0</td>\n",
       "      <td>0.0</td>\n",
       "      <td>0.0</td>\n",
       "      <td>1.0</td>\n",
       "      <td>0.0</td>\n",
       "      <td>0.0</td>\n",
       "      <td>0.0</td>\n",
       "      <td>0.0</td>\n",
       "      <td>0.0</td>\n",
       "      <td>0.0</td>\n",
       "      <td>0.0</td>\n",
       "      <td>0.0</td>\n",
       "      <td>1.0</td>\n",
       "      <td>0.0</td>\n",
       "      <td>0.0</td>\n",
       "      <td>0.0</td>\n",
       "      <td>0.0</td>\n",
       "      <td>0.0</td>\n",
       "      <td>0.0</td>\n",
       "      <td>0.0</td>\n",
       "      <td>0.0</td>\n",
       "      <td>0.0</td>\n",
       "      <td>0.0</td>\n",
       "      <td>0.0</td>\n",
       "      <td>0.0</td>\n",
       "      <td>0.0</td>\n",
       "      <td>0.0</td>\n",
       "      <td>0.0</td>\n",
       "      <td>0.0</td>\n",
       "      <td>0.0</td>\n",
       "      <td>0.0</td>\n",
       "      <td>0.0</td>\n",
       "      <td>0.0</td>\n",
       "      <td>0.0</td>\n",
       "      <td>0.0</td>\n",
       "      <td>0.0</td>\n",
       "      <td>1.0</td>\n",
       "      <td>0.0</td>\n",
       "      <td>0.0</td>\n",
       "      <td>0.0</td>\n",
       "      <td>0.0</td>\n",
       "      <td>1.0</td>\n",
       "      <td>0.0</td>\n",
       "    </tr>\n",
       "  </tbody>\n",
       "</table>\n",
       "</div>"
      ],
      "text/plain": [
       "   age_released  max_sentence  ...  target_pop_No  target_pop_Yes\n",
       "0      0.320945      0.083185  ...            1.0             0.0\n",
       "1     -0.485239      0.083185  ...            1.0             0.0\n",
       "2     -1.291424      3.604288  ...            1.0             0.0\n",
       "3     -0.485239     -0.356953  ...            0.0             1.0\n",
       "4      0.320945     -0.356953  ...            1.0             0.0\n",
       "\n",
       "[5 rows x 78 columns]"
      ]
     },
     "execution_count": 41,
     "metadata": {},
     "output_type": "execute_result"
    }
   ],
   "source": [
    "cat_features = preprocessing.named_transformers_['cat'].named_steps['encoder'].get_feature_names(cat_cols)\n",
    "X_train_tf = pd.DataFrame(X_train_tf,columns=[*num_cols, *cat_features])\n",
    "X_train_tf.head()"
   ]
  },
  {
   "cell_type": "code",
   "execution_count": 42,
   "metadata": {
    "ExecuteTime": {
     "end_time": "2020-10-03T23:56:32.199287Z",
     "start_time": "2020-10-03T23:56:32.061012Z"
    }
   },
   "outputs": [
    {
     "data": {
      "text/html": [
       "<div>\n",
       "<style scoped>\n",
       "    .dataframe tbody tr th:only-of-type {\n",
       "        vertical-align: middle;\n",
       "    }\n",
       "\n",
       "    .dataframe tbody tr th {\n",
       "        vertical-align: top;\n",
       "    }\n",
       "\n",
       "    .dataframe thead th {\n",
       "        text-align: right;\n",
       "    }\n",
       "</style>\n",
       "<table border=\"1\" class=\"dataframe\">\n",
       "  <thead>\n",
       "    <tr style=\"text-align: right;\">\n",
       "      <th></th>\n",
       "      <th>age_released</th>\n",
       "      <th>max_sentence</th>\n",
       "      <th>supervising_dist_1JD</th>\n",
       "      <th>supervising_dist_2JD</th>\n",
       "      <th>supervising_dist_3JD</th>\n",
       "      <th>supervising_dist_4JD</th>\n",
       "      <th>supervising_dist_5JD</th>\n",
       "      <th>supervising_dist_6JD</th>\n",
       "      <th>supervising_dist_7JD</th>\n",
       "      <th>supervising_dist_8JD</th>\n",
       "      <th>supervising_dist_ISC</th>\n",
       "      <th>supervising_dist_Interstate Compact</th>\n",
       "      <th>supervising_dist_missing</th>\n",
       "      <th>release_type_Discharged - Expiration of Sentence</th>\n",
       "      <th>release_type_Discharged – End of Sentence</th>\n",
       "      <th>release_type_Parole</th>\n",
       "      <th>release_type_Parole Granted</th>\n",
       "      <th>release_type_Paroled to Detainer - INS</th>\n",
       "      <th>release_type_Paroled to Detainer - Iowa</th>\n",
       "      <th>release_type_Paroled to Detainer - Out of State</th>\n",
       "      <th>release_type_Paroled to Detainer - U.S. Marshall</th>\n",
       "      <th>release_type_Paroled w/Immediate Discharge</th>\n",
       "      <th>release_type_Released to Special Sentence</th>\n",
       "      <th>release_type_Special Sentence</th>\n",
       "      <th>release_type_missing</th>\n",
       "      <th>race_ethnicity_American Native</th>\n",
       "      <th>race_ethnicity_Asian or Pacific Islander</th>\n",
       "      <th>race_ethnicity_Black</th>\n",
       "      <th>race_ethnicity_Hispanic</th>\n",
       "      <th>race_ethnicity_White</th>\n",
       "      <th>race_ethnicity_missing</th>\n",
       "      <th>sex_Female</th>\n",
       "      <th>sex_Male</th>\n",
       "      <th>sex_missing</th>\n",
       "      <th>crime_class_A Felony</th>\n",
       "      <th>crime_class_Aggravated Misdemeanor</th>\n",
       "      <th>crime_class_B Felony</th>\n",
       "      <th>crime_class_C Felony</th>\n",
       "      <th>crime_class_D Felony</th>\n",
       "      <th>crime_class_Felony - Enhanced</th>\n",
       "      <th>crime_class_Other Felony</th>\n",
       "      <th>crime_class_Other Misdemeanor</th>\n",
       "      <th>crime_class_Serious Misdemeanor</th>\n",
       "      <th>crime_class_Sex Offender</th>\n",
       "      <th>crime_class_Simple Misdemeanor</th>\n",
       "      <th>crime_type_Drug</th>\n",
       "      <th>crime_type_Other</th>\n",
       "      <th>crime_type_Property</th>\n",
       "      <th>crime_type_Public Order</th>\n",
       "      <th>crime_type_Violent</th>\n",
       "      <th>crime_subtype_Alcohol</th>\n",
       "      <th>crime_subtype_Animals</th>\n",
       "      <th>crime_subtype_Arson</th>\n",
       "      <th>crime_subtype_Assault</th>\n",
       "      <th>crime_subtype_Burglary</th>\n",
       "      <th>crime_subtype_Drug Possession</th>\n",
       "      <th>crime_subtype_Flight/Escape</th>\n",
       "      <th>crime_subtype_Forgery/Fraud</th>\n",
       "      <th>crime_subtype_Kidnap</th>\n",
       "      <th>crime_subtype_Murder/Manslaughter</th>\n",
       "      <th>crime_subtype_OWI</th>\n",
       "      <th>crime_subtype_Other Criminal</th>\n",
       "      <th>crime_subtype_Other Drug</th>\n",
       "      <th>crime_subtype_Other Public Order</th>\n",
       "      <th>crime_subtype_Other Violent</th>\n",
       "      <th>crime_subtype_Prostitution/Pimping</th>\n",
       "      <th>crime_subtype_Robbery</th>\n",
       "      <th>crime_subtype_Sex</th>\n",
       "      <th>crime_subtype_Sex Offender Registry/Residency</th>\n",
       "      <th>crime_subtype_Special Sentence Revocation</th>\n",
       "      <th>crime_subtype_Stolen Property</th>\n",
       "      <th>crime_subtype_Theft</th>\n",
       "      <th>crime_subtype_Traffic</th>\n",
       "      <th>crime_subtype_Trafficking</th>\n",
       "      <th>crime_subtype_Vandalism</th>\n",
       "      <th>crime_subtype_Weapons</th>\n",
       "      <th>target_pop_No</th>\n",
       "      <th>target_pop_Yes</th>\n",
       "    </tr>\n",
       "  </thead>\n",
       "  <tbody>\n",
       "    <tr>\n",
       "      <th>0</th>\n",
       "      <td>-0.485239</td>\n",
       "      <td>-0.356953</td>\n",
       "      <td>0.0</td>\n",
       "      <td>0.0</td>\n",
       "      <td>0.0</td>\n",
       "      <td>0.0</td>\n",
       "      <td>1.0</td>\n",
       "      <td>0.0</td>\n",
       "      <td>0.0</td>\n",
       "      <td>0.0</td>\n",
       "      <td>0.0</td>\n",
       "      <td>0.0</td>\n",
       "      <td>0.0</td>\n",
       "      <td>0.0</td>\n",
       "      <td>0.0</td>\n",
       "      <td>1.0</td>\n",
       "      <td>0.0</td>\n",
       "      <td>0.0</td>\n",
       "      <td>0.0</td>\n",
       "      <td>0.0</td>\n",
       "      <td>0.0</td>\n",
       "      <td>0.0</td>\n",
       "      <td>0.0</td>\n",
       "      <td>0.0</td>\n",
       "      <td>0.0</td>\n",
       "      <td>0.0</td>\n",
       "      <td>0.0</td>\n",
       "      <td>0.0</td>\n",
       "      <td>0.0</td>\n",
       "      <td>1.0</td>\n",
       "      <td>0.0</td>\n",
       "      <td>0.0</td>\n",
       "      <td>1.0</td>\n",
       "      <td>0.0</td>\n",
       "      <td>0.0</td>\n",
       "      <td>0.0</td>\n",
       "      <td>0.0</td>\n",
       "      <td>0.0</td>\n",
       "      <td>1.0</td>\n",
       "      <td>0.0</td>\n",
       "      <td>0.0</td>\n",
       "      <td>0.0</td>\n",
       "      <td>0.0</td>\n",
       "      <td>0.0</td>\n",
       "      <td>0.0</td>\n",
       "      <td>1.0</td>\n",
       "      <td>0.0</td>\n",
       "      <td>0.0</td>\n",
       "      <td>0.0</td>\n",
       "      <td>0.0</td>\n",
       "      <td>0.0</td>\n",
       "      <td>0.0</td>\n",
       "      <td>0.0</td>\n",
       "      <td>0.0</td>\n",
       "      <td>0.0</td>\n",
       "      <td>1.0</td>\n",
       "      <td>0.0</td>\n",
       "      <td>0.0</td>\n",
       "      <td>0.0</td>\n",
       "      <td>0.0</td>\n",
       "      <td>0.0</td>\n",
       "      <td>0.0</td>\n",
       "      <td>0.0</td>\n",
       "      <td>0.0</td>\n",
       "      <td>0.0</td>\n",
       "      <td>0.0</td>\n",
       "      <td>0.0</td>\n",
       "      <td>0.0</td>\n",
       "      <td>0.0</td>\n",
       "      <td>0.0</td>\n",
       "      <td>0.0</td>\n",
       "      <td>0.0</td>\n",
       "      <td>0.0</td>\n",
       "      <td>0.0</td>\n",
       "      <td>0.0</td>\n",
       "      <td>0.0</td>\n",
       "      <td>0.0</td>\n",
       "      <td>1.0</td>\n",
       "    </tr>\n",
       "    <tr>\n",
       "      <th>1</th>\n",
       "      <td>-0.485239</td>\n",
       "      <td>-0.621035</td>\n",
       "      <td>0.0</td>\n",
       "      <td>0.0</td>\n",
       "      <td>0.0</td>\n",
       "      <td>0.0</td>\n",
       "      <td>0.0</td>\n",
       "      <td>0.0</td>\n",
       "      <td>0.0</td>\n",
       "      <td>0.0</td>\n",
       "      <td>0.0</td>\n",
       "      <td>0.0</td>\n",
       "      <td>1.0</td>\n",
       "      <td>1.0</td>\n",
       "      <td>0.0</td>\n",
       "      <td>0.0</td>\n",
       "      <td>0.0</td>\n",
       "      <td>0.0</td>\n",
       "      <td>0.0</td>\n",
       "      <td>0.0</td>\n",
       "      <td>0.0</td>\n",
       "      <td>0.0</td>\n",
       "      <td>0.0</td>\n",
       "      <td>0.0</td>\n",
       "      <td>0.0</td>\n",
       "      <td>0.0</td>\n",
       "      <td>0.0</td>\n",
       "      <td>1.0</td>\n",
       "      <td>0.0</td>\n",
       "      <td>0.0</td>\n",
       "      <td>0.0</td>\n",
       "      <td>0.0</td>\n",
       "      <td>1.0</td>\n",
       "      <td>0.0</td>\n",
       "      <td>0.0</td>\n",
       "      <td>1.0</td>\n",
       "      <td>0.0</td>\n",
       "      <td>0.0</td>\n",
       "      <td>0.0</td>\n",
       "      <td>0.0</td>\n",
       "      <td>0.0</td>\n",
       "      <td>0.0</td>\n",
       "      <td>0.0</td>\n",
       "      <td>0.0</td>\n",
       "      <td>0.0</td>\n",
       "      <td>0.0</td>\n",
       "      <td>0.0</td>\n",
       "      <td>0.0</td>\n",
       "      <td>0.0</td>\n",
       "      <td>1.0</td>\n",
       "      <td>0.0</td>\n",
       "      <td>0.0</td>\n",
       "      <td>0.0</td>\n",
       "      <td>1.0</td>\n",
       "      <td>0.0</td>\n",
       "      <td>0.0</td>\n",
       "      <td>0.0</td>\n",
       "      <td>0.0</td>\n",
       "      <td>0.0</td>\n",
       "      <td>0.0</td>\n",
       "      <td>0.0</td>\n",
       "      <td>0.0</td>\n",
       "      <td>0.0</td>\n",
       "      <td>0.0</td>\n",
       "      <td>0.0</td>\n",
       "      <td>0.0</td>\n",
       "      <td>0.0</td>\n",
       "      <td>0.0</td>\n",
       "      <td>0.0</td>\n",
       "      <td>0.0</td>\n",
       "      <td>0.0</td>\n",
       "      <td>0.0</td>\n",
       "      <td>0.0</td>\n",
       "      <td>0.0</td>\n",
       "      <td>0.0</td>\n",
       "      <td>0.0</td>\n",
       "      <td>0.0</td>\n",
       "      <td>1.0</td>\n",
       "    </tr>\n",
       "    <tr>\n",
       "      <th>2</th>\n",
       "      <td>1.127130</td>\n",
       "      <td>-0.621035</td>\n",
       "      <td>0.0</td>\n",
       "      <td>0.0</td>\n",
       "      <td>0.0</td>\n",
       "      <td>0.0</td>\n",
       "      <td>0.0</td>\n",
       "      <td>0.0</td>\n",
       "      <td>0.0</td>\n",
       "      <td>0.0</td>\n",
       "      <td>0.0</td>\n",
       "      <td>0.0</td>\n",
       "      <td>1.0</td>\n",
       "      <td>0.0</td>\n",
       "      <td>1.0</td>\n",
       "      <td>0.0</td>\n",
       "      <td>0.0</td>\n",
       "      <td>0.0</td>\n",
       "      <td>0.0</td>\n",
       "      <td>0.0</td>\n",
       "      <td>0.0</td>\n",
       "      <td>0.0</td>\n",
       "      <td>0.0</td>\n",
       "      <td>0.0</td>\n",
       "      <td>0.0</td>\n",
       "      <td>0.0</td>\n",
       "      <td>0.0</td>\n",
       "      <td>0.0</td>\n",
       "      <td>0.0</td>\n",
       "      <td>1.0</td>\n",
       "      <td>0.0</td>\n",
       "      <td>0.0</td>\n",
       "      <td>1.0</td>\n",
       "      <td>0.0</td>\n",
       "      <td>0.0</td>\n",
       "      <td>1.0</td>\n",
       "      <td>0.0</td>\n",
       "      <td>0.0</td>\n",
       "      <td>0.0</td>\n",
       "      <td>0.0</td>\n",
       "      <td>0.0</td>\n",
       "      <td>0.0</td>\n",
       "      <td>0.0</td>\n",
       "      <td>0.0</td>\n",
       "      <td>0.0</td>\n",
       "      <td>0.0</td>\n",
       "      <td>0.0</td>\n",
       "      <td>0.0</td>\n",
       "      <td>1.0</td>\n",
       "      <td>0.0</td>\n",
       "      <td>0.0</td>\n",
       "      <td>0.0</td>\n",
       "      <td>0.0</td>\n",
       "      <td>0.0</td>\n",
       "      <td>0.0</td>\n",
       "      <td>0.0</td>\n",
       "      <td>0.0</td>\n",
       "      <td>0.0</td>\n",
       "      <td>0.0</td>\n",
       "      <td>0.0</td>\n",
       "      <td>1.0</td>\n",
       "      <td>0.0</td>\n",
       "      <td>0.0</td>\n",
       "      <td>0.0</td>\n",
       "      <td>0.0</td>\n",
       "      <td>0.0</td>\n",
       "      <td>0.0</td>\n",
       "      <td>0.0</td>\n",
       "      <td>0.0</td>\n",
       "      <td>0.0</td>\n",
       "      <td>0.0</td>\n",
       "      <td>0.0</td>\n",
       "      <td>0.0</td>\n",
       "      <td>0.0</td>\n",
       "      <td>0.0</td>\n",
       "      <td>0.0</td>\n",
       "      <td>1.0</td>\n",
       "      <td>0.0</td>\n",
       "    </tr>\n",
       "    <tr>\n",
       "      <th>3</th>\n",
       "      <td>-0.485239</td>\n",
       "      <td>-0.356953</td>\n",
       "      <td>0.0</td>\n",
       "      <td>0.0</td>\n",
       "      <td>0.0</td>\n",
       "      <td>0.0</td>\n",
       "      <td>0.0</td>\n",
       "      <td>0.0</td>\n",
       "      <td>0.0</td>\n",
       "      <td>0.0</td>\n",
       "      <td>0.0</td>\n",
       "      <td>0.0</td>\n",
       "      <td>1.0</td>\n",
       "      <td>0.0</td>\n",
       "      <td>1.0</td>\n",
       "      <td>0.0</td>\n",
       "      <td>0.0</td>\n",
       "      <td>0.0</td>\n",
       "      <td>0.0</td>\n",
       "      <td>0.0</td>\n",
       "      <td>0.0</td>\n",
       "      <td>0.0</td>\n",
       "      <td>0.0</td>\n",
       "      <td>0.0</td>\n",
       "      <td>0.0</td>\n",
       "      <td>1.0</td>\n",
       "      <td>0.0</td>\n",
       "      <td>0.0</td>\n",
       "      <td>0.0</td>\n",
       "      <td>0.0</td>\n",
       "      <td>0.0</td>\n",
       "      <td>1.0</td>\n",
       "      <td>0.0</td>\n",
       "      <td>0.0</td>\n",
       "      <td>0.0</td>\n",
       "      <td>0.0</td>\n",
       "      <td>0.0</td>\n",
       "      <td>0.0</td>\n",
       "      <td>1.0</td>\n",
       "      <td>0.0</td>\n",
       "      <td>0.0</td>\n",
       "      <td>0.0</td>\n",
       "      <td>0.0</td>\n",
       "      <td>0.0</td>\n",
       "      <td>0.0</td>\n",
       "      <td>0.0</td>\n",
       "      <td>0.0</td>\n",
       "      <td>0.0</td>\n",
       "      <td>1.0</td>\n",
       "      <td>0.0</td>\n",
       "      <td>0.0</td>\n",
       "      <td>0.0</td>\n",
       "      <td>0.0</td>\n",
       "      <td>0.0</td>\n",
       "      <td>0.0</td>\n",
       "      <td>0.0</td>\n",
       "      <td>0.0</td>\n",
       "      <td>0.0</td>\n",
       "      <td>0.0</td>\n",
       "      <td>0.0</td>\n",
       "      <td>1.0</td>\n",
       "      <td>0.0</td>\n",
       "      <td>0.0</td>\n",
       "      <td>0.0</td>\n",
       "      <td>0.0</td>\n",
       "      <td>0.0</td>\n",
       "      <td>0.0</td>\n",
       "      <td>0.0</td>\n",
       "      <td>0.0</td>\n",
       "      <td>0.0</td>\n",
       "      <td>0.0</td>\n",
       "      <td>0.0</td>\n",
       "      <td>0.0</td>\n",
       "      <td>0.0</td>\n",
       "      <td>0.0</td>\n",
       "      <td>0.0</td>\n",
       "      <td>1.0</td>\n",
       "      <td>0.0</td>\n",
       "    </tr>\n",
       "    <tr>\n",
       "      <th>4</th>\n",
       "      <td>-0.485239</td>\n",
       "      <td>0.083185</td>\n",
       "      <td>0.0</td>\n",
       "      <td>0.0</td>\n",
       "      <td>0.0</td>\n",
       "      <td>0.0</td>\n",
       "      <td>1.0</td>\n",
       "      <td>0.0</td>\n",
       "      <td>0.0</td>\n",
       "      <td>0.0</td>\n",
       "      <td>0.0</td>\n",
       "      <td>0.0</td>\n",
       "      <td>0.0</td>\n",
       "      <td>0.0</td>\n",
       "      <td>0.0</td>\n",
       "      <td>0.0</td>\n",
       "      <td>1.0</td>\n",
       "      <td>0.0</td>\n",
       "      <td>0.0</td>\n",
       "      <td>0.0</td>\n",
       "      <td>0.0</td>\n",
       "      <td>0.0</td>\n",
       "      <td>0.0</td>\n",
       "      <td>0.0</td>\n",
       "      <td>0.0</td>\n",
       "      <td>0.0</td>\n",
       "      <td>0.0</td>\n",
       "      <td>0.0</td>\n",
       "      <td>0.0</td>\n",
       "      <td>1.0</td>\n",
       "      <td>0.0</td>\n",
       "      <td>1.0</td>\n",
       "      <td>0.0</td>\n",
       "      <td>0.0</td>\n",
       "      <td>0.0</td>\n",
       "      <td>0.0</td>\n",
       "      <td>0.0</td>\n",
       "      <td>1.0</td>\n",
       "      <td>0.0</td>\n",
       "      <td>0.0</td>\n",
       "      <td>0.0</td>\n",
       "      <td>0.0</td>\n",
       "      <td>0.0</td>\n",
       "      <td>0.0</td>\n",
       "      <td>0.0</td>\n",
       "      <td>0.0</td>\n",
       "      <td>0.0</td>\n",
       "      <td>1.0</td>\n",
       "      <td>0.0</td>\n",
       "      <td>0.0</td>\n",
       "      <td>0.0</td>\n",
       "      <td>0.0</td>\n",
       "      <td>0.0</td>\n",
       "      <td>0.0</td>\n",
       "      <td>0.0</td>\n",
       "      <td>0.0</td>\n",
       "      <td>0.0</td>\n",
       "      <td>0.0</td>\n",
       "      <td>0.0</td>\n",
       "      <td>0.0</td>\n",
       "      <td>0.0</td>\n",
       "      <td>0.0</td>\n",
       "      <td>0.0</td>\n",
       "      <td>0.0</td>\n",
       "      <td>0.0</td>\n",
       "      <td>0.0</td>\n",
       "      <td>0.0</td>\n",
       "      <td>0.0</td>\n",
       "      <td>0.0</td>\n",
       "      <td>0.0</td>\n",
       "      <td>0.0</td>\n",
       "      <td>1.0</td>\n",
       "      <td>0.0</td>\n",
       "      <td>0.0</td>\n",
       "      <td>0.0</td>\n",
       "      <td>0.0</td>\n",
       "      <td>0.0</td>\n",
       "      <td>1.0</td>\n",
       "    </tr>\n",
       "  </tbody>\n",
       "</table>\n",
       "</div>"
      ],
      "text/plain": [
       "   age_released  max_sentence  ...  target_pop_No  target_pop_Yes\n",
       "0     -0.485239     -0.356953  ...            0.0             1.0\n",
       "1     -0.485239     -0.621035  ...            0.0             1.0\n",
       "2      1.127130     -0.621035  ...            1.0             0.0\n",
       "3     -0.485239     -0.356953  ...            1.0             0.0\n",
       "4     -0.485239      0.083185  ...            0.0             1.0\n",
       "\n",
       "[5 rows x 78 columns]"
      ]
     },
     "execution_count": 42,
     "metadata": {},
     "output_type": "execute_result"
    }
   ],
   "source": [
    "X_test_tf = pd.DataFrame( preprocessing.transform(X_test),\n",
    "                         columns=[*num_cols, *cat_features])\n",
    "X_test_tf.head()"
   ]
  },
  {
   "cell_type": "markdown",
   "metadata": {},
   "source": [
    "# MODELING"
   ]
  },
  {
   "cell_type": "code",
   "execution_count": 43,
   "metadata": {
    "ExecuteTime": {
     "end_time": "2020-10-03T23:56:32.209523Z",
     "start_time": "2020-10-03T23:56:32.201062Z"
    }
   },
   "outputs": [],
   "source": [
    "import sklearn.metrics as metrics\n",
    "\n",
    "def evaluate_classification(model,X_test,y_test,classes=['Non Recid','Recidivst'],\n",
    "                           normalize='true',cmap='Purples',label='',\n",
    "                           return_report=False):\n",
    "    \"\"\"Accepts an sklearn-compatible classification model + test data \n",
    "    and displays several sklearn.metrics functions: \n",
    "    - classifciation_report\n",
    "    - plot_confusion_matrix\n",
    "    - plot_roc_curve\n",
    "    \"\"\"\n",
    "     \n",
    "    ## Get Predictions\n",
    "    y_hat_test = model.predict(X_test)\n",
    "    \n",
    "    ## Classification Report / Scores \n",
    "    table_header = \"[i] CLASSIFICATION REPORT\"\n",
    "    \n",
    "    ## Add Label if given\n",
    "    if len(label)>0:\n",
    "        table_header += f\":\\t{label}\"\n",
    "        \n",
    "    \n",
    "    ## PRINT CLASSIFICATION REPORT\n",
    "    dashes = '---'*20\n",
    "    print(dashes,table_header,dashes,sep='\\n')\n",
    "\n",
    "    print(metrics.classification_report(y_test,y_hat_test,\n",
    "                                    target_names=classes))\n",
    "    \n",
    "    report = metrics.classification_report(y_test,y_hat_test,\n",
    "                                               target_names=classes,\n",
    "                                          output_dict=True)\n",
    "    print(dashes+\"\\n\\n\")\n",
    "    \n",
    "    \n",
    "\n",
    "    ## MAKE FIGURE\n",
    "    fig, axes = plt.subplots(figsize=(10,4),ncols=2)\n",
    "    \n",
    "    ## Plot Confusion Matrix \n",
    "    metrics.plot_confusion_matrix(model, X_test,y_test,\n",
    "                                  display_labels=classes,\n",
    "                                  normalize=normalize,\n",
    "                                 cmap=cmap,ax=axes[0])\n",
    "    axes[0].set(title='Confusion Matrix')\n",
    "    \n",
    "    ## Plot Roc Curve\n",
    "    roc_plot = metrics.plot_roc_curve(model, X_test, y_test,ax=axes[1])\n",
    "    axes[1].legend()\n",
    "    axes[1].plot([0,1],[0,1],ls=':')\n",
    "    axes[1].grid()\n",
    "    axes[1].set_title('Receiving Operator Characteristic (ROC) Curve') \n",
    "    fig.tight_layout()\n",
    "    plt.show()\n",
    "    \n",
    "    if return_report:\n",
    "        return report #fig,axes"
   ]
  },
  {
   "cell_type": "markdown",
   "metadata": {},
   "source": [
    "## Baseline DummyClassifier"
   ]
  },
  {
   "cell_type": "code",
   "execution_count": 44,
   "metadata": {
    "ExecuteTime": {
     "end_time": "2020-10-03T23:56:32.572275Z",
     "start_time": "2020-10-03T23:56:32.211445Z"
    }
   },
   "outputs": [
    {
     "name": "stdout",
     "output_type": "stream",
     "text": [
      "------------------------------------------------------------\n",
      "[i] CLASSIFICATION REPORT:\tDummy Classifier\n",
      "------------------------------------------------------------\n",
      "              precision    recall  f1-score   support\n",
      "\n",
      "   Non Recid       0.67      0.67      0.67      4335\n",
      "   Recidivst       0.34      0.34      0.34      2170\n",
      "\n",
      "    accuracy                           0.56      6505\n",
      "   macro avg       0.51      0.51      0.51      6505\n",
      "weighted avg       0.56      0.56      0.56      6505\n",
      "\n",
      "------------------------------------------------------------\n",
      "\n",
      "\n"
     ]
    },
    {
     "data": {
      "image/png": "[encoded data removed]",
      "text/plain": [
       "<Figure size 720x288 with 3 Axes>"
      ]
     },
     "metadata": {},
     "output_type": "display_data"
    }
   ],
   "source": [
    "from sklearn.dummy import DummyClassifier\n",
    "dummy= DummyClassifier(strategy='stratified')\n",
    "dummy.fit(X_train_tf,y_train)\n",
    "evaluate_classification(dummy,X_test_tf,y_test,\n",
    "                       label='Dummy Classifier')"
   ]
  },
  {
   "cell_type": "markdown",
   "metadata": {},
   "source": [
    "### Vanilla RandomForest"
   ]
  },
  {
   "cell_type": "code",
   "execution_count": 45,
   "metadata": {
    "ExecuteTime": {
     "end_time": "2020-10-03T23:56:35.185123Z",
     "start_time": "2020-10-03T23:56:32.574049Z"
    }
   },
   "outputs": [
    {
     "name": "stdout",
     "output_type": "stream",
     "text": [
      "------------------------------------------------------------\n",
      "[i] CLASSIFICATION REPORT:\tVanilla Random Forest\n",
      "------------------------------------------------------------\n",
      "              precision    recall  f1-score   support\n",
      "\n",
      "   Non Recid       0.71      0.80      0.75      4335\n",
      "   Recidivst       0.47      0.35      0.40      2170\n",
      "\n",
      "    accuracy                           0.65      6505\n",
      "   macro avg       0.59      0.57      0.58      6505\n",
      "weighted avg       0.63      0.65      0.63      6505\n",
      "\n",
      "------------------------------------------------------------\n",
      "\n",
      "\n"
     ]
    },
    {
     "data": {
      "image/png": "[encoded data removed]",
      "text/plain": [
       "<Figure size 720x288 with 3 Axes>"
      ]
     },
     "metadata": {},
     "output_type": "display_data"
    }
   ],
   "source": [
    "from sklearn.ensemble import RandomForestClassifier,StackingClassifier\n",
    "from sklearn.linear_model import LogisticRegression,LogisticRegressionCV\n",
    "\n",
    "## \n",
    "clf = RandomForestClassifier()\n",
    "clf.fit(X_train_tf,y_train)\n",
    "evaluate_classification(clf,X_test_tf,y_test,label=\"Vanilla Random Forest\")"
   ]
  },
  {
   "cell_type": "code",
   "execution_count": 46,
   "metadata": {
    "ExecuteTime": {
     "end_time": "2020-10-03T23:56:35.190374Z",
     "start_time": "2020-10-03T23:56:35.186745Z"
    }
   },
   "outputs": [],
   "source": [
    "def get_feature_importance(clf,X_train_tf,plot=True):\n",
    "    importances = pd.Series(clf.feature_importances_,index=X_train_tf.columns)\n",
    "    return importances.sort_values(ascending=False)\n",
    "\n",
    "def plot_importance(clf,X_train_tf,n=25):\n",
    "    importances = get_feature_importance(clf,X_train_tf)\n",
    "    ax = importances.sort_values().tail(n).plot(kind='barh')#,figsize=figsize)\n",
    "    ax.set(title=f\"Top {n} Most Important Features\",xlabel='importance')"
   ]
  },
  {
   "cell_type": "code",
   "execution_count": 47,
   "metadata": {
    "ExecuteTime": {
     "end_time": "2020-10-03T23:56:35.457362Z",
     "start_time": "2020-10-03T23:56:35.191997Z"
    }
   },
   "outputs": [
    {
     "data": {
      "image/png": "[encoded data removed]",
      "text/plain": [
       "<Figure size 432x288 with 1 Axes>"
      ]
     },
     "metadata": {},
     "output_type": "display_data"
    }
   ],
   "source": [
    "plot_importance(clf, X_test_tf,n=20)"
   ]
  },
  {
   "cell_type": "markdown",
   "metadata": {},
   "source": [
    "### RandomForest - `class_weight=\"balanced\"`"
   ]
  },
  {
   "cell_type": "code",
   "execution_count": 48,
   "metadata": {
    "ExecuteTime": {
     "end_time": "2020-10-03T23:56:38.078560Z",
     "start_time": "2020-10-03T23:56:35.460077Z"
    }
   },
   "outputs": [
    {
     "name": "stdout",
     "output_type": "stream",
     "text": [
      "------------------------------------------------------------\n",
      "[i] CLASSIFICATION REPORT:\tRandom Forest (class_weight='balanced')\n",
      "------------------------------------------------------------\n",
      "              precision    recall  f1-score   support\n",
      "\n",
      "   Non Recid       0.73      0.70      0.71      4335\n",
      "   Recidivst       0.44      0.48      0.46      2170\n",
      "\n",
      "    accuracy                           0.62      6505\n",
      "   macro avg       0.58      0.59      0.59      6505\n",
      "weighted avg       0.63      0.62      0.63      6505\n",
      "\n",
      "------------------------------------------------------------\n",
      "\n",
      "\n"
     ]
    },
    {
     "data": {
      "image/png": "[encoded data removed]",
      "text/plain": [
       "<Figure size 720x288 with 3 Axes>"
      ]
     },
     "metadata": {},
     "output_type": "display_data"
    },
    {
     "data": {
      "image/png": "[encoded data removed]",
      "text/plain": [
       "<Figure size 432x288 with 1 Axes>"
      ]
     },
     "metadata": {},
     "output_type": "display_data"
    }
   ],
   "source": [
    "clf = RandomForestClassifier(class_weight='balanced')\n",
    "clf.fit(X_train_tf,y_train)\n",
    "evaluate_classification(clf,X_test_tf,y_test,label= \"Random Forest (class_weight='balanced')\")\n",
    "plot_importance(clf,X_test_tf)"
   ]
  },
  {
   "cell_type": "code",
   "execution_count": 49,
   "metadata": {
    "ExecuteTime": {
     "end_time": "2020-10-03T23:56:38.083435Z",
     "start_time": "2020-10-03T23:56:38.080741Z"
    },
    "scrolled": false
   },
   "outputs": [],
   "source": [
    "# get_feature_importance(clf,X_test_tf).to_frame('importance').style.bar()"
   ]
  },
  {
   "cell_type": "markdown",
   "metadata": {},
   "source": [
    "### SMOTENC"
   ]
  },
  {
   "cell_type": "code",
   "execution_count": 50,
   "metadata": {
    "ExecuteTime": {
     "end_time": "2020-10-03T23:56:38.089041Z",
     "start_time": "2020-10-03T23:56:38.085308Z"
    }
   },
   "outputs": [
    {
     "data": {
      "text/plain": [
       "[False, False, True, True, True]"
      ]
     },
     "execution_count": 50,
     "metadata": {},
     "output_type": "execute_result"
    }
   ],
   "source": [
    "## Getting cat features index\n",
    "cat_col_index = [False for col in num_cols]\n",
    "cat_col_index.extend([True for col in cat_features])\n",
    "cat_col_index[:5]"
   ]
  },
  {
   "cell_type": "code",
   "execution_count": 51,
   "metadata": {
    "ExecuteTime": {
     "end_time": "2020-10-03T23:56:38.131899Z",
     "start_time": "2020-10-03T23:56:38.090808Z"
    }
   },
   "outputs": [],
   "source": [
    "from imblearn.over_sampling import SMOTENC\n",
    "smote = SMOTENC(cat_col_index,n_jobs=-1)"
   ]
  },
  {
   "cell_type": "code",
   "execution_count": 52,
   "metadata": {
    "ExecuteTime": {
     "end_time": "2020-10-03T23:56:57.095686Z",
     "start_time": "2020-10-03T23:56:38.133695Z"
    }
   },
   "outputs": [
    {
     "data": {
      "text/plain": [
       "1    13004\n",
       "0    13004\n",
       "Name: recidivist, dtype: int64"
      ]
     },
     "execution_count": 52,
     "metadata": {},
     "output_type": "execute_result"
    }
   ],
   "source": [
    "X_train_smote,y_train_smote = smote.fit_resample(X_train_tf,y_train)\n",
    "y_train_smote.value_counts()"
   ]
  },
  {
   "cell_type": "code",
   "execution_count": 53,
   "metadata": {
    "ExecuteTime": {
     "end_time": "2020-10-03T23:56:57.220861Z",
     "start_time": "2020-10-03T23:56:57.097377Z"
    }
   },
   "outputs": [
    {
     "data": {
      "text/html": [
       "<div>\n",
       "<style scoped>\n",
       "    .dataframe tbody tr th:only-of-type {\n",
       "        vertical-align: middle;\n",
       "    }\n",
       "\n",
       "    .dataframe tbody tr th {\n",
       "        vertical-align: top;\n",
       "    }\n",
       "\n",
       "    .dataframe thead th {\n",
       "        text-align: right;\n",
       "    }\n",
       "</style>\n",
       "<table border=\"1\" class=\"dataframe\">\n",
       "  <thead>\n",
       "    <tr style=\"text-align: right;\">\n",
       "      <th></th>\n",
       "      <th>age_released</th>\n",
       "      <th>max_sentence</th>\n",
       "      <th>supervising_dist_1JD</th>\n",
       "      <th>supervising_dist_2JD</th>\n",
       "      <th>supervising_dist_3JD</th>\n",
       "      <th>supervising_dist_4JD</th>\n",
       "      <th>supervising_dist_5JD</th>\n",
       "      <th>supervising_dist_6JD</th>\n",
       "      <th>supervising_dist_7JD</th>\n",
       "      <th>supervising_dist_8JD</th>\n",
       "      <th>supervising_dist_ISC</th>\n",
       "      <th>supervising_dist_Interstate Compact</th>\n",
       "      <th>supervising_dist_missing</th>\n",
       "      <th>release_type_Discharged - Expiration of Sentence</th>\n",
       "      <th>release_type_Discharged – End of Sentence</th>\n",
       "      <th>release_type_Parole</th>\n",
       "      <th>release_type_Parole Granted</th>\n",
       "      <th>release_type_Paroled to Detainer - INS</th>\n",
       "      <th>release_type_Paroled to Detainer - Iowa</th>\n",
       "      <th>release_type_Paroled to Detainer - Out of State</th>\n",
       "      <th>release_type_Paroled to Detainer - U.S. Marshall</th>\n",
       "      <th>release_type_Paroled w/Immediate Discharge</th>\n",
       "      <th>release_type_Released to Special Sentence</th>\n",
       "      <th>release_type_Special Sentence</th>\n",
       "      <th>release_type_missing</th>\n",
       "      <th>race_ethnicity_American Native</th>\n",
       "      <th>race_ethnicity_Asian or Pacific Islander</th>\n",
       "      <th>race_ethnicity_Black</th>\n",
       "      <th>race_ethnicity_Hispanic</th>\n",
       "      <th>race_ethnicity_White</th>\n",
       "      <th>race_ethnicity_missing</th>\n",
       "      <th>sex_Female</th>\n",
       "      <th>sex_Male</th>\n",
       "      <th>sex_missing</th>\n",
       "      <th>crime_class_A Felony</th>\n",
       "      <th>crime_class_Aggravated Misdemeanor</th>\n",
       "      <th>crime_class_B Felony</th>\n",
       "      <th>crime_class_C Felony</th>\n",
       "      <th>crime_class_D Felony</th>\n",
       "      <th>crime_class_Felony - Enhanced</th>\n",
       "      <th>crime_class_Other Felony</th>\n",
       "      <th>crime_class_Other Misdemeanor</th>\n",
       "      <th>crime_class_Serious Misdemeanor</th>\n",
       "      <th>crime_class_Sex Offender</th>\n",
       "      <th>crime_class_Simple Misdemeanor</th>\n",
       "      <th>crime_type_Drug</th>\n",
       "      <th>crime_type_Other</th>\n",
       "      <th>crime_type_Property</th>\n",
       "      <th>crime_type_Public Order</th>\n",
       "      <th>crime_type_Violent</th>\n",
       "      <th>crime_subtype_Alcohol</th>\n",
       "      <th>crime_subtype_Animals</th>\n",
       "      <th>crime_subtype_Arson</th>\n",
       "      <th>crime_subtype_Assault</th>\n",
       "      <th>crime_subtype_Burglary</th>\n",
       "      <th>crime_subtype_Drug Possession</th>\n",
       "      <th>crime_subtype_Flight/Escape</th>\n",
       "      <th>crime_subtype_Forgery/Fraud</th>\n",
       "      <th>crime_subtype_Kidnap</th>\n",
       "      <th>crime_subtype_Murder/Manslaughter</th>\n",
       "      <th>crime_subtype_OWI</th>\n",
       "      <th>crime_subtype_Other Criminal</th>\n",
       "      <th>crime_subtype_Other Drug</th>\n",
       "      <th>crime_subtype_Other Public Order</th>\n",
       "      <th>crime_subtype_Other Violent</th>\n",
       "      <th>crime_subtype_Prostitution/Pimping</th>\n",
       "      <th>crime_subtype_Robbery</th>\n",
       "      <th>crime_subtype_Sex</th>\n",
       "      <th>crime_subtype_Sex Offender Registry/Residency</th>\n",
       "      <th>crime_subtype_Special Sentence Revocation</th>\n",
       "      <th>crime_subtype_Stolen Property</th>\n",
       "      <th>crime_subtype_Theft</th>\n",
       "      <th>crime_subtype_Traffic</th>\n",
       "      <th>crime_subtype_Trafficking</th>\n",
       "      <th>crime_subtype_Vandalism</th>\n",
       "      <th>crime_subtype_Weapons</th>\n",
       "      <th>target_pop_No</th>\n",
       "      <th>target_pop_Yes</th>\n",
       "    </tr>\n",
       "  </thead>\n",
       "  <tbody>\n",
       "    <tr>\n",
       "      <th>0</th>\n",
       "      <td>0.320945</td>\n",
       "      <td>0.083185</td>\n",
       "      <td>0.0</td>\n",
       "      <td>0.0</td>\n",
       "      <td>0.0</td>\n",
       "      <td>0.0</td>\n",
       "      <td>1.0</td>\n",
       "      <td>0.0</td>\n",
       "      <td>0.0</td>\n",
       "      <td>0.0</td>\n",
       "      <td>0.0</td>\n",
       "      <td>0.0</td>\n",
       "      <td>0.0</td>\n",
       "      <td>0.0</td>\n",
       "      <td>0.0</td>\n",
       "      <td>0.0</td>\n",
       "      <td>1.0</td>\n",
       "      <td>0.0</td>\n",
       "      <td>0.0</td>\n",
       "      <td>0.0</td>\n",
       "      <td>0.0</td>\n",
       "      <td>0.0</td>\n",
       "      <td>0.0</td>\n",
       "      <td>0.0</td>\n",
       "      <td>0.0</td>\n",
       "      <td>0.0</td>\n",
       "      <td>0.0</td>\n",
       "      <td>0.0</td>\n",
       "      <td>0.0</td>\n",
       "      <td>1.0</td>\n",
       "      <td>0.0</td>\n",
       "      <td>1.0</td>\n",
       "      <td>0.0</td>\n",
       "      <td>0.0</td>\n",
       "      <td>0.0</td>\n",
       "      <td>0.0</td>\n",
       "      <td>0.0</td>\n",
       "      <td>1.0</td>\n",
       "      <td>0.0</td>\n",
       "      <td>0.0</td>\n",
       "      <td>0.0</td>\n",
       "      <td>0.0</td>\n",
       "      <td>0.0</td>\n",
       "      <td>0.0</td>\n",
       "      <td>0.0</td>\n",
       "      <td>1.0</td>\n",
       "      <td>0.0</td>\n",
       "      <td>0.0</td>\n",
       "      <td>0.0</td>\n",
       "      <td>0.0</td>\n",
       "      <td>0.0</td>\n",
       "      <td>0.0</td>\n",
       "      <td>0.0</td>\n",
       "      <td>0.0</td>\n",
       "      <td>0.0</td>\n",
       "      <td>0.0</td>\n",
       "      <td>0.0</td>\n",
       "      <td>0.0</td>\n",
       "      <td>0.0</td>\n",
       "      <td>0.0</td>\n",
       "      <td>0.0</td>\n",
       "      <td>0.0</td>\n",
       "      <td>0.0</td>\n",
       "      <td>0.0</td>\n",
       "      <td>0.0</td>\n",
       "      <td>0.0</td>\n",
       "      <td>0.0</td>\n",
       "      <td>0.0</td>\n",
       "      <td>0.0</td>\n",
       "      <td>0.0</td>\n",
       "      <td>0.0</td>\n",
       "      <td>0.0</td>\n",
       "      <td>0.0</td>\n",
       "      <td>1.0</td>\n",
       "      <td>0.0</td>\n",
       "      <td>0.0</td>\n",
       "      <td>1.0</td>\n",
       "      <td>0.0</td>\n",
       "    </tr>\n",
       "    <tr>\n",
       "      <th>1</th>\n",
       "      <td>-0.485239</td>\n",
       "      <td>0.083185</td>\n",
       "      <td>0.0</td>\n",
       "      <td>0.0</td>\n",
       "      <td>0.0</td>\n",
       "      <td>0.0</td>\n",
       "      <td>0.0</td>\n",
       "      <td>0.0</td>\n",
       "      <td>0.0</td>\n",
       "      <td>0.0</td>\n",
       "      <td>0.0</td>\n",
       "      <td>0.0</td>\n",
       "      <td>1.0</td>\n",
       "      <td>0.0</td>\n",
       "      <td>1.0</td>\n",
       "      <td>0.0</td>\n",
       "      <td>0.0</td>\n",
       "      <td>0.0</td>\n",
       "      <td>0.0</td>\n",
       "      <td>0.0</td>\n",
       "      <td>0.0</td>\n",
       "      <td>0.0</td>\n",
       "      <td>0.0</td>\n",
       "      <td>0.0</td>\n",
       "      <td>0.0</td>\n",
       "      <td>0.0</td>\n",
       "      <td>0.0</td>\n",
       "      <td>1.0</td>\n",
       "      <td>0.0</td>\n",
       "      <td>0.0</td>\n",
       "      <td>0.0</td>\n",
       "      <td>0.0</td>\n",
       "      <td>1.0</td>\n",
       "      <td>0.0</td>\n",
       "      <td>0.0</td>\n",
       "      <td>0.0</td>\n",
       "      <td>0.0</td>\n",
       "      <td>1.0</td>\n",
       "      <td>0.0</td>\n",
       "      <td>0.0</td>\n",
       "      <td>0.0</td>\n",
       "      <td>0.0</td>\n",
       "      <td>0.0</td>\n",
       "      <td>0.0</td>\n",
       "      <td>0.0</td>\n",
       "      <td>1.0</td>\n",
       "      <td>0.0</td>\n",
       "      <td>0.0</td>\n",
       "      <td>0.0</td>\n",
       "      <td>0.0</td>\n",
       "      <td>0.0</td>\n",
       "      <td>0.0</td>\n",
       "      <td>0.0</td>\n",
       "      <td>0.0</td>\n",
       "      <td>0.0</td>\n",
       "      <td>0.0</td>\n",
       "      <td>0.0</td>\n",
       "      <td>0.0</td>\n",
       "      <td>0.0</td>\n",
       "      <td>0.0</td>\n",
       "      <td>0.0</td>\n",
       "      <td>0.0</td>\n",
       "      <td>0.0</td>\n",
       "      <td>0.0</td>\n",
       "      <td>0.0</td>\n",
       "      <td>0.0</td>\n",
       "      <td>0.0</td>\n",
       "      <td>0.0</td>\n",
       "      <td>0.0</td>\n",
       "      <td>0.0</td>\n",
       "      <td>0.0</td>\n",
       "      <td>0.0</td>\n",
       "      <td>0.0</td>\n",
       "      <td>1.0</td>\n",
       "      <td>0.0</td>\n",
       "      <td>0.0</td>\n",
       "      <td>1.0</td>\n",
       "      <td>0.0</td>\n",
       "    </tr>\n",
       "    <tr>\n",
       "      <th>2</th>\n",
       "      <td>-1.291424</td>\n",
       "      <td>3.604288</td>\n",
       "      <td>0.0</td>\n",
       "      <td>0.0</td>\n",
       "      <td>0.0</td>\n",
       "      <td>0.0</td>\n",
       "      <td>0.0</td>\n",
       "      <td>0.0</td>\n",
       "      <td>0.0</td>\n",
       "      <td>1.0</td>\n",
       "      <td>0.0</td>\n",
       "      <td>0.0</td>\n",
       "      <td>0.0</td>\n",
       "      <td>0.0</td>\n",
       "      <td>0.0</td>\n",
       "      <td>0.0</td>\n",
       "      <td>0.0</td>\n",
       "      <td>0.0</td>\n",
       "      <td>0.0</td>\n",
       "      <td>0.0</td>\n",
       "      <td>0.0</td>\n",
       "      <td>0.0</td>\n",
       "      <td>1.0</td>\n",
       "      <td>0.0</td>\n",
       "      <td>0.0</td>\n",
       "      <td>0.0</td>\n",
       "      <td>0.0</td>\n",
       "      <td>1.0</td>\n",
       "      <td>0.0</td>\n",
       "      <td>0.0</td>\n",
       "      <td>0.0</td>\n",
       "      <td>0.0</td>\n",
       "      <td>1.0</td>\n",
       "      <td>0.0</td>\n",
       "      <td>0.0</td>\n",
       "      <td>0.0</td>\n",
       "      <td>1.0</td>\n",
       "      <td>0.0</td>\n",
       "      <td>0.0</td>\n",
       "      <td>0.0</td>\n",
       "      <td>0.0</td>\n",
       "      <td>0.0</td>\n",
       "      <td>0.0</td>\n",
       "      <td>0.0</td>\n",
       "      <td>0.0</td>\n",
       "      <td>0.0</td>\n",
       "      <td>0.0</td>\n",
       "      <td>0.0</td>\n",
       "      <td>0.0</td>\n",
       "      <td>1.0</td>\n",
       "      <td>0.0</td>\n",
       "      <td>0.0</td>\n",
       "      <td>0.0</td>\n",
       "      <td>0.0</td>\n",
       "      <td>0.0</td>\n",
       "      <td>0.0</td>\n",
       "      <td>0.0</td>\n",
       "      <td>0.0</td>\n",
       "      <td>0.0</td>\n",
       "      <td>0.0</td>\n",
       "      <td>0.0</td>\n",
       "      <td>0.0</td>\n",
       "      <td>0.0</td>\n",
       "      <td>0.0</td>\n",
       "      <td>0.0</td>\n",
       "      <td>0.0</td>\n",
       "      <td>0.0</td>\n",
       "      <td>1.0</td>\n",
       "      <td>0.0</td>\n",
       "      <td>0.0</td>\n",
       "      <td>0.0</td>\n",
       "      <td>0.0</td>\n",
       "      <td>0.0</td>\n",
       "      <td>0.0</td>\n",
       "      <td>0.0</td>\n",
       "      <td>0.0</td>\n",
       "      <td>1.0</td>\n",
       "      <td>0.0</td>\n",
       "    </tr>\n",
       "    <tr>\n",
       "      <th>3</th>\n",
       "      <td>-0.485239</td>\n",
       "      <td>-0.356953</td>\n",
       "      <td>0.0</td>\n",
       "      <td>0.0</td>\n",
       "      <td>0.0</td>\n",
       "      <td>0.0</td>\n",
       "      <td>1.0</td>\n",
       "      <td>0.0</td>\n",
       "      <td>0.0</td>\n",
       "      <td>0.0</td>\n",
       "      <td>0.0</td>\n",
       "      <td>0.0</td>\n",
       "      <td>0.0</td>\n",
       "      <td>0.0</td>\n",
       "      <td>0.0</td>\n",
       "      <td>0.0</td>\n",
       "      <td>1.0</td>\n",
       "      <td>0.0</td>\n",
       "      <td>0.0</td>\n",
       "      <td>0.0</td>\n",
       "      <td>0.0</td>\n",
       "      <td>0.0</td>\n",
       "      <td>0.0</td>\n",
       "      <td>0.0</td>\n",
       "      <td>0.0</td>\n",
       "      <td>0.0</td>\n",
       "      <td>0.0</td>\n",
       "      <td>0.0</td>\n",
       "      <td>0.0</td>\n",
       "      <td>1.0</td>\n",
       "      <td>0.0</td>\n",
       "      <td>1.0</td>\n",
       "      <td>0.0</td>\n",
       "      <td>0.0</td>\n",
       "      <td>0.0</td>\n",
       "      <td>0.0</td>\n",
       "      <td>0.0</td>\n",
       "      <td>0.0</td>\n",
       "      <td>1.0</td>\n",
       "      <td>0.0</td>\n",
       "      <td>0.0</td>\n",
       "      <td>0.0</td>\n",
       "      <td>0.0</td>\n",
       "      <td>0.0</td>\n",
       "      <td>0.0</td>\n",
       "      <td>0.0</td>\n",
       "      <td>0.0</td>\n",
       "      <td>1.0</td>\n",
       "      <td>0.0</td>\n",
       "      <td>0.0</td>\n",
       "      <td>0.0</td>\n",
       "      <td>0.0</td>\n",
       "      <td>0.0</td>\n",
       "      <td>0.0</td>\n",
       "      <td>1.0</td>\n",
       "      <td>0.0</td>\n",
       "      <td>0.0</td>\n",
       "      <td>0.0</td>\n",
       "      <td>0.0</td>\n",
       "      <td>0.0</td>\n",
       "      <td>0.0</td>\n",
       "      <td>0.0</td>\n",
       "      <td>0.0</td>\n",
       "      <td>0.0</td>\n",
       "      <td>0.0</td>\n",
       "      <td>0.0</td>\n",
       "      <td>0.0</td>\n",
       "      <td>0.0</td>\n",
       "      <td>0.0</td>\n",
       "      <td>0.0</td>\n",
       "      <td>0.0</td>\n",
       "      <td>0.0</td>\n",
       "      <td>0.0</td>\n",
       "      <td>0.0</td>\n",
       "      <td>0.0</td>\n",
       "      <td>0.0</td>\n",
       "      <td>0.0</td>\n",
       "      <td>1.0</td>\n",
       "    </tr>\n",
       "    <tr>\n",
       "      <th>4</th>\n",
       "      <td>0.320945</td>\n",
       "      <td>-0.356953</td>\n",
       "      <td>0.0</td>\n",
       "      <td>0.0</td>\n",
       "      <td>0.0</td>\n",
       "      <td>0.0</td>\n",
       "      <td>0.0</td>\n",
       "      <td>0.0</td>\n",
       "      <td>0.0</td>\n",
       "      <td>0.0</td>\n",
       "      <td>0.0</td>\n",
       "      <td>0.0</td>\n",
       "      <td>1.0</td>\n",
       "      <td>0.0</td>\n",
       "      <td>1.0</td>\n",
       "      <td>0.0</td>\n",
       "      <td>0.0</td>\n",
       "      <td>0.0</td>\n",
       "      <td>0.0</td>\n",
       "      <td>0.0</td>\n",
       "      <td>0.0</td>\n",
       "      <td>0.0</td>\n",
       "      <td>0.0</td>\n",
       "      <td>0.0</td>\n",
       "      <td>0.0</td>\n",
       "      <td>0.0</td>\n",
       "      <td>0.0</td>\n",
       "      <td>0.0</td>\n",
       "      <td>0.0</td>\n",
       "      <td>1.0</td>\n",
       "      <td>0.0</td>\n",
       "      <td>0.0</td>\n",
       "      <td>1.0</td>\n",
       "      <td>0.0</td>\n",
       "      <td>0.0</td>\n",
       "      <td>0.0</td>\n",
       "      <td>0.0</td>\n",
       "      <td>0.0</td>\n",
       "      <td>1.0</td>\n",
       "      <td>0.0</td>\n",
       "      <td>0.0</td>\n",
       "      <td>0.0</td>\n",
       "      <td>0.0</td>\n",
       "      <td>0.0</td>\n",
       "      <td>0.0</td>\n",
       "      <td>0.0</td>\n",
       "      <td>0.0</td>\n",
       "      <td>1.0</td>\n",
       "      <td>0.0</td>\n",
       "      <td>0.0</td>\n",
       "      <td>0.0</td>\n",
       "      <td>0.0</td>\n",
       "      <td>0.0</td>\n",
       "      <td>0.0</td>\n",
       "      <td>0.0</td>\n",
       "      <td>0.0</td>\n",
       "      <td>0.0</td>\n",
       "      <td>0.0</td>\n",
       "      <td>0.0</td>\n",
       "      <td>0.0</td>\n",
       "      <td>0.0</td>\n",
       "      <td>0.0</td>\n",
       "      <td>0.0</td>\n",
       "      <td>0.0</td>\n",
       "      <td>0.0</td>\n",
       "      <td>0.0</td>\n",
       "      <td>0.0</td>\n",
       "      <td>0.0</td>\n",
       "      <td>0.0</td>\n",
       "      <td>0.0</td>\n",
       "      <td>0.0</td>\n",
       "      <td>1.0</td>\n",
       "      <td>0.0</td>\n",
       "      <td>0.0</td>\n",
       "      <td>0.0</td>\n",
       "      <td>0.0</td>\n",
       "      <td>1.0</td>\n",
       "      <td>0.0</td>\n",
       "    </tr>\n",
       "  </tbody>\n",
       "</table>\n",
       "</div>"
      ],
      "text/plain": [
       "   age_released  max_sentence  ...  target_pop_No  target_pop_Yes\n",
       "0      0.320945      0.083185  ...            1.0             0.0\n",
       "1     -0.485239      0.083185  ...            1.0             0.0\n",
       "2     -1.291424      3.604288  ...            1.0             0.0\n",
       "3     -0.485239     -0.356953  ...            0.0             1.0\n",
       "4      0.320945     -0.356953  ...            1.0             0.0\n",
       "\n",
       "[5 rows x 78 columns]"
      ]
     },
     "execution_count": 53,
     "metadata": {},
     "output_type": "execute_result"
    }
   ],
   "source": [
    "X_train_smote[:5]"
   ]
  },
  {
   "cell_type": "markdown",
   "metadata": {},
   "source": [
    "### RandomForest with SMOTE"
   ]
  },
  {
   "cell_type": "code",
   "execution_count": 54,
   "metadata": {
    "ExecuteTime": {
     "end_time": "2020-10-03T23:57:01.039598Z",
     "start_time": "2020-10-03T23:56:57.222872Z"
    }
   },
   "outputs": [
    {
     "name": "stdout",
     "output_type": "stream",
     "text": [
      "------------------------------------------------------------\n",
      "[i] CLASSIFICATION REPORT:\tRandomForest - SMOTE\n",
      "------------------------------------------------------------\n",
      "              precision    recall  f1-score   support\n",
      "\n",
      "   Non Recid       0.73      0.67      0.70      4335\n",
      "   Recidivst       0.43      0.49      0.46      2170\n",
      "\n",
      "    accuracy                           0.61      6505\n",
      "   macro avg       0.58      0.58      0.58      6505\n",
      "weighted avg       0.63      0.61      0.62      6505\n",
      "\n",
      "------------------------------------------------------------\n",
      "\n",
      "\n"
     ]
    },
    {
     "data": {
      "image/png": "[encoded data removed]",
      "text/plain": [
       "<Figure size 720x288 with 3 Axes>"
      ]
     },
     "metadata": {},
     "output_type": "display_data"
    },
    {
     "data": {
      "image/png": "[encoded data removed]",
      "text/plain": [
       "<Figure size 432x288 with 1 Axes>"
      ]
     },
     "metadata": {},
     "output_type": "display_data"
    }
   ],
   "source": [
    "clf = RandomForestClassifier()#class_weight='balanced')\n",
    "clf.fit(X_train_smote,y_train_smote)\n",
    "evaluate_classification(clf,X_test_tf,y_test,label='RandomForest - SMOTE')\n",
    "plot_importance(clf,X_test_tf)"
   ]
  },
  {
   "cell_type": "markdown",
   "metadata": {},
   "source": [
    "# GridSearch RF"
   ]
  },
  {
   "cell_type": "code",
   "execution_count": 55,
   "metadata": {
    "ExecuteTime": {
     "end_time": "2020-10-03T23:58:03.904500Z",
     "start_time": "2020-10-03T23:57:01.041469Z"
    }
   },
   "outputs": [
    {
     "name": "stdout",
     "output_type": "stream",
     "text": [
      "{'criterion': 'entropy', 'max_depth': None, 'min_samples_leaf': 2}\n",
      "0.6957512051577794\n",
      "------------------------------------------------------------\n",
      "[i] CLASSIFICATION REPORT\n",
      "------------------------------------------------------------\n",
      "              precision    recall  f1-score   support\n",
      "\n",
      "   Non Recid       0.75      0.67      0.71      4335\n",
      "   Recidivst       0.45      0.55      0.50      2170\n",
      "\n",
      "    accuracy                           0.63      6505\n",
      "   macro avg       0.60      0.61      0.60      6505\n",
      "weighted avg       0.65      0.63      0.64      6505\n",
      "\n",
      "------------------------------------------------------------\n",
      "\n",
      "\n"
     ]
    },
    {
     "data": {
      "image/png": "[encoded data removed]",
      "text/plain": [
       "<Figure size 720x288 with 3 Axes>"
      ]
     },
     "metadata": {},
     "output_type": "display_data"
    }
   ],
   "source": [
    "from sklearn.model_selection import RandomizedSearchCV,GridSearchCV\n",
    "\n",
    "clf = RandomForestClassifier()\n",
    "params ={'max_depth':[None,5,7,10,20,30,],\n",
    "         'min_samples_leaf':[1,2,3],\n",
    "         'criterion':['gini','entropy'],        \n",
    "        }\n",
    "\n",
    "\n",
    "grid = GridSearchCV(clf,params,scoring='recall_macro', n_jobs=-1)\n",
    "\n",
    "grid.fit(X_train_smote,y_train_smote)\n",
    "print(grid.best_params_)\n",
    "\n",
    "print(grid.best_score_)\n",
    "evaluate_classification(grid.best_estimator_,X_test_tf,y_test)"
   ]
  },
  {
   "cell_type": "code",
   "execution_count": 56,
   "metadata": {
    "ExecuteTime": {
     "end_time": "2020-10-03T23:58:03.909807Z",
     "start_time": "2020-10-03T23:58:03.907074Z"
    }
   },
   "outputs": [],
   "source": [
    "# scores =['recall','recall_macro','accuracy']\n",
    "GRIDS={}"
   ]
  },
  {
   "cell_type": "code",
   "execution_count": 58,
   "metadata": {
    "ExecuteTime": {
     "end_time": "2020-10-04T00:04:42.679357Z",
     "start_time": "2020-10-04T00:01:27.470770Z"
    },
    "scrolled": false
   },
   "outputs": [
    {
     "name": "stdout",
     "output_type": "stream",
     "text": [
      "==========================================================================================\n",
      "[i] Starting f1\n",
      "==========================================================================================\n",
      "For scoring=f1:\n",
      "{'criterion': 'gini', 'max_depth': 20, 'min_samples_leaf': 1}\n",
      "\n",
      "\n",
      "\n",
      "------------------------------------------------------------\n",
      "[i] CLASSIFICATION REPORT:\tf1\n",
      "------------------------------------------------------------\n",
      "              precision    recall  f1-score   support\n",
      "\n",
      "   Non Recid       0.75      0.64      0.69      4335\n",
      "   Recidivst       0.45      0.58      0.50      2170\n",
      "\n",
      "    accuracy                           0.62      6505\n",
      "   macro avg       0.60      0.61      0.60      6505\n",
      "weighted avg       0.65      0.62      0.63      6505\n",
      "\n",
      "------------------------------------------------------------\n",
      "\n",
      "\n"
     ]
    },
    {
     "data": {
      "image/png": "[encoded data removed]",
      "text/plain": [
       "<Figure size 720x288 with 3 Axes>"
      ]
     },
     "metadata": {},
     "output_type": "display_data"
    },
    {
     "name": "stdout",
     "output_type": "stream",
     "text": [
      "==========================================================================================\n",
      "[i] Starting f1_macro\n",
      "==========================================================================================\n",
      "For scoring=f1_macro:\n",
      "{'criterion': 'entropy', 'max_depth': 30, 'min_samples_leaf': 1}\n",
      "\n",
      "\n",
      "\n",
      "------------------------------------------------------------\n",
      "[i] CLASSIFICATION REPORT:\tf1_macro\n",
      "------------------------------------------------------------\n",
      "              precision    recall  f1-score   support\n",
      "\n",
      "   Non Recid       0.73      0.67      0.70      4335\n",
      "   Recidivst       0.43      0.50      0.46      2170\n",
      "\n",
      "    accuracy                           0.62      6505\n",
      "   macro avg       0.58      0.59      0.58      6505\n",
      "weighted avg       0.63      0.62      0.62      6505\n",
      "\n",
      "------------------------------------------------------------\n",
      "\n",
      "\n"
     ]
    },
    {
     "data": {
      "image/png": "[encoded data removed]",
      "text/plain": [
       "<Figure size 720x288 with 3 Axes>"
      ]
     },
     "metadata": {},
     "output_type": "display_data"
    },
    {
     "name": "stdout",
     "output_type": "stream",
     "text": [
      "==========================================================================================\n",
      "[i] Starting roc_auc\n",
      "==========================================================================================\n",
      "For scoring=roc_auc:\n",
      "{'criterion': 'entropy', 'max_depth': None, 'min_samples_leaf': 2}\n",
      "\n",
      "\n",
      "\n",
      "------------------------------------------------------------\n",
      "[i] CLASSIFICATION REPORT:\troc_auc\n",
      "------------------------------------------------------------\n",
      "              precision    recall  f1-score   support\n",
      "\n",
      "   Non Recid       0.75      0.67      0.70      4335\n",
      "   Recidivst       0.45      0.54      0.49      2170\n",
      "\n",
      "    accuracy                           0.63      6505\n",
      "   macro avg       0.60      0.61      0.60      6505\n",
      "weighted avg       0.65      0.63      0.63      6505\n",
      "\n",
      "------------------------------------------------------------\n",
      "\n",
      "\n"
     ]
    },
    {
     "data": {
      "image/png": "[encoded data removed]",
      "text/plain": [
       "<Figure size 720x288 with 3 Axes>"
      ]
     },
     "metadata": {},
     "output_type": "display_data"
    },
    {
     "name": "stdout",
     "output_type": "stream",
     "text": [
      "==========================================================================================\n",
      "[i] Starting recall\n",
      "==========================================================================================\n",
      "For scoring=recall:\n",
      "{'criterion': 'gini', 'max_depth': 20, 'min_samples_leaf': 1}\n",
      "\n",
      "\n",
      "\n",
      "------------------------------------------------------------\n",
      "[i] CLASSIFICATION REPORT:\trecall\n",
      "------------------------------------------------------------\n",
      "              precision    recall  f1-score   support\n",
      "\n",
      "   Non Recid       0.75      0.64      0.69      4335\n",
      "   Recidivst       0.44      0.58      0.50      2170\n",
      "\n",
      "    accuracy                           0.62      6505\n",
      "   macro avg       0.60      0.61      0.60      6505\n",
      "weighted avg       0.65      0.62      0.63      6505\n",
      "\n",
      "------------------------------------------------------------\n",
      "\n",
      "\n"
     ]
    },
    {
     "data": {
      "image/png": "[encoded data removed]",
      "text/plain": [
       "<Figure size 720x288 with 3 Axes>"
      ]
     },
     "metadata": {},
     "output_type": "display_data"
    },
    {
     "name": "stdout",
     "output_type": "stream",
     "text": [
      "==========================================================================================\n",
      "[i] Starting recall_macro\n",
      "==========================================================================================\n",
      "For scoring=recall_macro:\n",
      "{'criterion': 'gini', 'max_depth': 20, 'min_samples_leaf': 1}\n",
      "\n",
      "\n",
      "\n",
      "------------------------------------------------------------\n",
      "[i] CLASSIFICATION REPORT:\trecall_macro\n",
      "------------------------------------------------------------\n",
      "              precision    recall  f1-score   support\n",
      "\n",
      "   Non Recid       0.75      0.64      0.69      4335\n",
      "   Recidivst       0.44      0.58      0.50      2170\n",
      "\n",
      "    accuracy                           0.62      6505\n",
      "   macro avg       0.60      0.61      0.59      6505\n",
      "weighted avg       0.65      0.62      0.62      6505\n",
      "\n",
      "------------------------------------------------------------\n",
      "\n",
      "\n"
     ]
    },
    {
     "data": {
      "image/png": "[encoded data removed]",
      "text/plain": [
       "<Figure size 720x288 with 3 Axes>"
      ]
     },
     "metadata": {},
     "output_type": "display_data"
    },
    {
     "name": "stdout",
     "output_type": "stream",
     "text": [
      "==========================================================================================\n",
      "[i] Starting accuracy\n",
      "==========================================================================================\n",
      "For scoring=accuracy:\n",
      "{'criterion': 'gini', 'max_depth': 20, 'min_samples_leaf': 1}\n",
      "\n",
      "\n",
      "\n",
      "------------------------------------------------------------\n",
      "[i] CLASSIFICATION REPORT:\taccuracy\n",
      "------------------------------------------------------------\n",
      "              precision    recall  f1-score   support\n",
      "\n",
      "   Non Recid       0.75      0.63      0.69      4335\n",
      "   Recidivst       0.44      0.58      0.50      2170\n",
      "\n",
      "    accuracy                           0.62      6505\n",
      "   macro avg       0.60      0.61      0.60      6505\n",
      "weighted avg       0.65      0.62      0.63      6505\n",
      "\n",
      "------------------------------------------------------------\n",
      "\n",
      "\n"
     ]
    },
    {
     "data": {
      "image/png": "[encoded data removed]",
      "text/plain": [
       "<Figure size 720x288 with 3 Axes>"
      ]
     },
     "metadata": {},
     "output_type": "display_data"
    },
    {
     "name": "stdout",
     "output_type": "stream",
     "text": [
      "==========================================================================================\n",
      "[i] Starting precision\n",
      "==========================================================================================\n",
      "For scoring=precision:\n",
      "{'criterion': 'entropy', 'max_depth': None, 'min_samples_leaf': 1}\n",
      "\n",
      "\n",
      "\n",
      "------------------------------------------------------------\n",
      "[i] CLASSIFICATION REPORT:\tprecision\n",
      "------------------------------------------------------------\n",
      "              precision    recall  f1-score   support\n",
      "\n",
      "   Non Recid       0.73      0.68      0.70      4335\n",
      "   Recidivst       0.43      0.49      0.46      2170\n",
      "\n",
      "    accuracy                           0.62      6505\n",
      "   macro avg       0.58      0.58      0.58      6505\n",
      "weighted avg       0.63      0.62      0.62      6505\n",
      "\n",
      "------------------------------------------------------------\n",
      "\n",
      "\n"
     ]
    },
    {
     "data": {
      "image/png": "[encoded data removed]",
      "text/plain": [
       "<Figure size 720x288 with 3 Axes>"
      ]
     },
     "metadata": {},
     "output_type": "display_data"
    }
   ],
   "source": [
    "## Build loop to make dict of grids for each score method\n",
    "scores =['f1','f1_macro','roc_auc','recall','recall_macro','accuracy','precision']\n",
    "\n",
    "reports = {}\n",
    "for score in scores:\n",
    "    line = '==='*30\n",
    "    print(line)\n",
    "    print(f'[i] Starting {score}',end='\\n'+line)\n",
    "    \n",
    "    GRIDS[score] = GridSearchCV(clf,params,cv=3,scoring=score, n_jobs=-1)\n",
    "    GRIDS[score].fit(X_train_smote,y_train_smote)\n",
    "    \n",
    "    print(f\"\\nFor scoring={score}:\" )\n",
    "    print(GRIDS[score].best_params_)\n",
    "    print('\\n\\n')\n",
    "    \n",
    "    reports[score] = evaluate_classification(GRIDS[score].best_estimator_,\n",
    "                                    X_test_tf,y_test,label=score,return_report=True)\n",
    "    ## Adding best_params to reports\n",
    "#     reports[score]['best_params'] = GRIDS[score].best_params_"
   ]
  },
  {
   "cell_type": "code",
   "execution_count": 59,
   "metadata": {
    "ExecuteTime": {
     "end_time": "2020-10-04T00:04:42.716447Z",
     "start_time": "2020-10-04T00:04:42.681904Z"
    }
   },
   "outputs": [
    {
     "data": {
      "text/html": [
       "<div>\n",
       "<style scoped>\n",
       "    .dataframe tbody tr th:only-of-type {\n",
       "        vertical-align: middle;\n",
       "    }\n",
       "\n",
       "    .dataframe tbody tr th {\n",
       "        vertical-align: top;\n",
       "    }\n",
       "\n",
       "    .dataframe thead th {\n",
       "        text-align: right;\n",
       "    }\n",
       "</style>\n",
       "<table border=\"1\" class=\"dataframe\">\n",
       "  <thead>\n",
       "    <tr style=\"text-align: right;\">\n",
       "      <th></th>\n",
       "      <th></th>\n",
       "      <th>Non Recid</th>\n",
       "      <th>Recidivst</th>\n",
       "      <th>accuracy</th>\n",
       "      <th>macro avg</th>\n",
       "      <th>weighted avg</th>\n",
       "      <th>best_params</th>\n",
       "    </tr>\n",
       "    <tr>\n",
       "      <th>scoring_param</th>\n",
       "      <th>index</th>\n",
       "      <th></th>\n",
       "      <th></th>\n",
       "      <th></th>\n",
       "      <th></th>\n",
       "      <th></th>\n",
       "      <th></th>\n",
       "    </tr>\n",
       "  </thead>\n",
       "  <tbody>\n",
       "    <tr>\n",
       "      <th rowspan=\"7\" valign=\"top\">f1</th>\n",
       "      <th>precision</th>\n",
       "      <td>0.751420</td>\n",
       "      <td>0.445513</td>\n",
       "      <td>0.619370</td>\n",
       "      <td>0.598466</td>\n",
       "      <td>0.649373</td>\n",
       "      <td>NaN</td>\n",
       "    </tr>\n",
       "    <tr>\n",
       "      <th>recall</th>\n",
       "      <td>0.640830</td>\n",
       "      <td>0.576498</td>\n",
       "      <td>0.619370</td>\n",
       "      <td>0.608664</td>\n",
       "      <td>0.619370</td>\n",
       "      <td>NaN</td>\n",
       "    </tr>\n",
       "    <tr>\n",
       "      <th>f1-score</th>\n",
       "      <td>0.691733</td>\n",
       "      <td>0.502611</td>\n",
       "      <td>0.619370</td>\n",
       "      <td>0.597172</td>\n",
       "      <td>0.628644</td>\n",
       "      <td>NaN</td>\n",
       "    </tr>\n",
       "    <tr>\n",
       "      <th>support</th>\n",
       "      <td>4335.000000</td>\n",
       "      <td>2170.000000</td>\n",
       "      <td>0.619370</td>\n",
       "      <td>6505.000000</td>\n",
       "      <td>6505.000000</td>\n",
       "      <td>NaN</td>\n",
       "    </tr>\n",
       "    <tr>\n",
       "      <th>criterion</th>\n",
       "      <td>NaN</td>\n",
       "      <td>NaN</td>\n",
       "      <td>0.619370</td>\n",
       "      <td>NaN</td>\n",
       "      <td>NaN</td>\n",
       "      <td>gini</td>\n",
       "    </tr>\n",
       "    <tr>\n",
       "      <th>max_depth</th>\n",
       "      <td>NaN</td>\n",
       "      <td>NaN</td>\n",
       "      <td>0.619370</td>\n",
       "      <td>NaN</td>\n",
       "      <td>NaN</td>\n",
       "      <td>20</td>\n",
       "    </tr>\n",
       "    <tr>\n",
       "      <th>min_samples_leaf</th>\n",
       "      <td>NaN</td>\n",
       "      <td>NaN</td>\n",
       "      <td>0.619370</td>\n",
       "      <td>NaN</td>\n",
       "      <td>NaN</td>\n",
       "      <td>1</td>\n",
       "    </tr>\n",
       "    <tr>\n",
       "      <th rowspan=\"7\" valign=\"top\">f1_macro</th>\n",
       "      <th>precision</th>\n",
       "      <td>0.729063</td>\n",
       "      <td>0.434416</td>\n",
       "      <td>0.616141</td>\n",
       "      <td>0.581740</td>\n",
       "      <td>0.630772</td>\n",
       "      <td>NaN</td>\n",
       "    </tr>\n",
       "    <tr>\n",
       "      <th>recall</th>\n",
       "      <td>0.674740</td>\n",
       "      <td>0.499078</td>\n",
       "      <td>0.616141</td>\n",
       "      <td>0.586909</td>\n",
       "      <td>0.616141</td>\n",
       "      <td>NaN</td>\n",
       "    </tr>\n",
       "    <tr>\n",
       "      <th>f1-score</th>\n",
       "      <td>0.700851</td>\n",
       "      <td>0.464508</td>\n",
       "      <td>0.616141</td>\n",
       "      <td>0.582679</td>\n",
       "      <td>0.622009</td>\n",
       "      <td>NaN</td>\n",
       "    </tr>\n",
       "    <tr>\n",
       "      <th>support</th>\n",
       "      <td>4335.000000</td>\n",
       "      <td>2170.000000</td>\n",
       "      <td>0.616141</td>\n",
       "      <td>6505.000000</td>\n",
       "      <td>6505.000000</td>\n",
       "      <td>NaN</td>\n",
       "    </tr>\n",
       "    <tr>\n",
       "      <th>criterion</th>\n",
       "      <td>NaN</td>\n",
       "      <td>NaN</td>\n",
       "      <td>0.616141</td>\n",
       "      <td>NaN</td>\n",
       "      <td>NaN</td>\n",
       "      <td>entropy</td>\n",
       "    </tr>\n",
       "    <tr>\n",
       "      <th>max_depth</th>\n",
       "      <td>NaN</td>\n",
       "      <td>NaN</td>\n",
       "      <td>0.616141</td>\n",
       "      <td>NaN</td>\n",
       "      <td>NaN</td>\n",
       "      <td>30</td>\n",
       "    </tr>\n",
       "    <tr>\n",
       "      <th>min_samples_leaf</th>\n",
       "      <td>NaN</td>\n",
       "      <td>NaN</td>\n",
       "      <td>0.616141</td>\n",
       "      <td>NaN</td>\n",
       "      <td>NaN</td>\n",
       "      <td>1</td>\n",
       "    </tr>\n",
       "    <tr>\n",
       "      <th rowspan=\"7\" valign=\"top\">roc_auc</th>\n",
       "      <th>precision</th>\n",
       "      <td>0.745300</td>\n",
       "      <td>0.450420</td>\n",
       "      <td>0.626441</td>\n",
       "      <td>0.597860</td>\n",
       "      <td>0.646931</td>\n",
       "      <td>NaN</td>\n",
       "    </tr>\n",
       "    <tr>\n",
       "      <th>recall</th>\n",
       "      <td>0.667589</td>\n",
       "      <td>0.544240</td>\n",
       "      <td>0.626441</td>\n",
       "      <td>0.605915</td>\n",
       "      <td>0.626441</td>\n",
       "      <td>NaN</td>\n",
       "    </tr>\n",
       "    <tr>\n",
       "      <th>f1-score</th>\n",
       "      <td>0.704308</td>\n",
       "      <td>0.492905</td>\n",
       "      <td>0.626441</td>\n",
       "      <td>0.598606</td>\n",
       "      <td>0.633786</td>\n",
       "      <td>NaN</td>\n",
       "    </tr>\n",
       "    <tr>\n",
       "      <th>support</th>\n",
       "      <td>4335.000000</td>\n",
       "      <td>2170.000000</td>\n",
       "      <td>0.626441</td>\n",
       "      <td>6505.000000</td>\n",
       "      <td>6505.000000</td>\n",
       "      <td>NaN</td>\n",
       "    </tr>\n",
       "    <tr>\n",
       "      <th>criterion</th>\n",
       "      <td>NaN</td>\n",
       "      <td>NaN</td>\n",
       "      <td>0.626441</td>\n",
       "      <td>NaN</td>\n",
       "      <td>NaN</td>\n",
       "      <td>entropy</td>\n",
       "    </tr>\n",
       "    <tr>\n",
       "      <th>max_depth</th>\n",
       "      <td>NaN</td>\n",
       "      <td>NaN</td>\n",
       "      <td>0.626441</td>\n",
       "      <td>NaN</td>\n",
       "      <td>NaN</td>\n",
       "      <td>None</td>\n",
       "    </tr>\n",
       "    <tr>\n",
       "      <th>min_samples_leaf</th>\n",
       "      <td>NaN</td>\n",
       "      <td>NaN</td>\n",
       "      <td>0.626441</td>\n",
       "      <td>NaN</td>\n",
       "      <td>NaN</td>\n",
       "      <td>2</td>\n",
       "    </tr>\n",
       "    <tr>\n",
       "      <th rowspan=\"7\" valign=\"top\">recall</th>\n",
       "      <th>precision</th>\n",
       "      <td>0.751158</td>\n",
       "      <td>0.443230</td>\n",
       "      <td>0.616910</td>\n",
       "      <td>0.597194</td>\n",
       "      <td>0.648437</td>\n",
       "      <td>NaN</td>\n",
       "    </tr>\n",
       "    <tr>\n",
       "      <th>recall</th>\n",
       "      <td>0.635755</td>\n",
       "      <td>0.579263</td>\n",
       "      <td>0.616910</td>\n",
       "      <td>0.607509</td>\n",
       "      <td>0.616910</td>\n",
       "      <td>NaN</td>\n",
       "    </tr>\n",
       "    <tr>\n",
       "      <th>f1-score</th>\n",
       "      <td>0.688656</td>\n",
       "      <td>0.502197</td>\n",
       "      <td>0.616910</td>\n",
       "      <td>0.595427</td>\n",
       "      <td>0.626455</td>\n",
       "      <td>NaN</td>\n",
       "    </tr>\n",
       "    <tr>\n",
       "      <th>support</th>\n",
       "      <td>4335.000000</td>\n",
       "      <td>2170.000000</td>\n",
       "      <td>0.616910</td>\n",
       "      <td>6505.000000</td>\n",
       "      <td>6505.000000</td>\n",
       "      <td>NaN</td>\n",
       "    </tr>\n",
       "    <tr>\n",
       "      <th>criterion</th>\n",
       "      <td>NaN</td>\n",
       "      <td>NaN</td>\n",
       "      <td>0.616910</td>\n",
       "      <td>NaN</td>\n",
       "      <td>NaN</td>\n",
       "      <td>gini</td>\n",
       "    </tr>\n",
       "    <tr>\n",
       "      <th>max_depth</th>\n",
       "      <td>NaN</td>\n",
       "      <td>NaN</td>\n",
       "      <td>0.616910</td>\n",
       "      <td>NaN</td>\n",
       "      <td>NaN</td>\n",
       "      <td>20</td>\n",
       "    </tr>\n",
       "    <tr>\n",
       "      <th>min_samples_leaf</th>\n",
       "      <td>NaN</td>\n",
       "      <td>NaN</td>\n",
       "      <td>0.616910</td>\n",
       "      <td>NaN</td>\n",
       "      <td>NaN</td>\n",
       "      <td>1</td>\n",
       "    </tr>\n",
       "    <tr>\n",
       "      <th rowspan=\"7\" valign=\"top\">recall_macro</th>\n",
       "      <th>precision</th>\n",
       "      <td>0.749388</td>\n",
       "      <td>0.441343</td>\n",
       "      <td>0.615373</td>\n",
       "      <td>0.595365</td>\n",
       "      <td>0.646627</td>\n",
       "      <td>NaN</td>\n",
       "    </tr>\n",
       "    <tr>\n",
       "      <th>recall</th>\n",
       "      <td>0.635294</td>\n",
       "      <td>0.575576</td>\n",
       "      <td>0.615373</td>\n",
       "      <td>0.605435</td>\n",
       "      <td>0.615373</td>\n",
       "      <td>NaN</td>\n",
       "    </tr>\n",
       "    <tr>\n",
       "      <th>f1-score</th>\n",
       "      <td>0.687640</td>\n",
       "      <td>0.499600</td>\n",
       "      <td>0.615373</td>\n",
       "      <td>0.593620</td>\n",
       "      <td>0.624912</td>\n",
       "      <td>NaN</td>\n",
       "    </tr>\n",
       "    <tr>\n",
       "      <th>support</th>\n",
       "      <td>4335.000000</td>\n",
       "      <td>2170.000000</td>\n",
       "      <td>0.615373</td>\n",
       "      <td>6505.000000</td>\n",
       "      <td>6505.000000</td>\n",
       "      <td>NaN</td>\n",
       "    </tr>\n",
       "    <tr>\n",
       "      <th>criterion</th>\n",
       "      <td>NaN</td>\n",
       "      <td>NaN</td>\n",
       "      <td>0.615373</td>\n",
       "      <td>NaN</td>\n",
       "      <td>NaN</td>\n",
       "      <td>gini</td>\n",
       "    </tr>\n",
       "    <tr>\n",
       "      <th>max_depth</th>\n",
       "      <td>NaN</td>\n",
       "      <td>NaN</td>\n",
       "      <td>0.615373</td>\n",
       "      <td>NaN</td>\n",
       "      <td>NaN</td>\n",
       "      <td>20</td>\n",
       "    </tr>\n",
       "    <tr>\n",
       "      <th>min_samples_leaf</th>\n",
       "      <td>NaN</td>\n",
       "      <td>NaN</td>\n",
       "      <td>0.615373</td>\n",
       "      <td>NaN</td>\n",
       "      <td>NaN</td>\n",
       "      <td>1</td>\n",
       "    </tr>\n",
       "    <tr>\n",
       "      <th rowspan=\"7\" valign=\"top\">accuracy</th>\n",
       "      <th>precision</th>\n",
       "      <td>0.752606</td>\n",
       "      <td>0.443512</td>\n",
       "      <td>0.616756</td>\n",
       "      <td>0.598059</td>\n",
       "      <td>0.649495</td>\n",
       "      <td>NaN</td>\n",
       "    </tr>\n",
       "    <tr>\n",
       "      <th>recall</th>\n",
       "      <td>0.632987</td>\n",
       "      <td>0.584332</td>\n",
       "      <td>0.616756</td>\n",
       "      <td>0.608660</td>\n",
       "      <td>0.616756</td>\n",
       "      <td>NaN</td>\n",
       "    </tr>\n",
       "    <tr>\n",
       "      <th>f1-score</th>\n",
       "      <td>0.687633</td>\n",
       "      <td>0.504275</td>\n",
       "      <td>0.616756</td>\n",
       "      <td>0.595954</td>\n",
       "      <td>0.626467</td>\n",
       "      <td>NaN</td>\n",
       "    </tr>\n",
       "    <tr>\n",
       "      <th>support</th>\n",
       "      <td>4335.000000</td>\n",
       "      <td>2170.000000</td>\n",
       "      <td>0.616756</td>\n",
       "      <td>6505.000000</td>\n",
       "      <td>6505.000000</td>\n",
       "      <td>NaN</td>\n",
       "    </tr>\n",
       "    <tr>\n",
       "      <th>criterion</th>\n",
       "      <td>NaN</td>\n",
       "      <td>NaN</td>\n",
       "      <td>0.616756</td>\n",
       "      <td>NaN</td>\n",
       "      <td>NaN</td>\n",
       "      <td>gini</td>\n",
       "    </tr>\n",
       "    <tr>\n",
       "      <th>max_depth</th>\n",
       "      <td>NaN</td>\n",
       "      <td>NaN</td>\n",
       "      <td>0.616756</td>\n",
       "      <td>NaN</td>\n",
       "      <td>NaN</td>\n",
       "      <td>20</td>\n",
       "    </tr>\n",
       "    <tr>\n",
       "      <th>min_samples_leaf</th>\n",
       "      <td>NaN</td>\n",
       "      <td>NaN</td>\n",
       "      <td>0.616756</td>\n",
       "      <td>NaN</td>\n",
       "      <td>NaN</td>\n",
       "      <td>1</td>\n",
       "    </tr>\n",
       "    <tr>\n",
       "      <th rowspan=\"7\" valign=\"top\">precision</th>\n",
       "      <th>precision</th>\n",
       "      <td>0.727138</td>\n",
       "      <td>0.432794</td>\n",
       "      <td>0.615373</td>\n",
       "      <td>0.579966</td>\n",
       "      <td>0.628947</td>\n",
       "      <td>NaN</td>\n",
       "    </tr>\n",
       "    <tr>\n",
       "      <th>recall</th>\n",
       "      <td>0.676817</td>\n",
       "      <td>0.492627</td>\n",
       "      <td>0.615373</td>\n",
       "      <td>0.584722</td>\n",
       "      <td>0.615373</td>\n",
       "      <td>NaN</td>\n",
       "    </tr>\n",
       "    <tr>\n",
       "      <th>f1-score</th>\n",
       "      <td>0.701075</td>\n",
       "      <td>0.460776</td>\n",
       "      <td>0.615373</td>\n",
       "      <td>0.580926</td>\n",
       "      <td>0.620914</td>\n",
       "      <td>NaN</td>\n",
       "    </tr>\n",
       "    <tr>\n",
       "      <th>support</th>\n",
       "      <td>4335.000000</td>\n",
       "      <td>2170.000000</td>\n",
       "      <td>0.615373</td>\n",
       "      <td>6505.000000</td>\n",
       "      <td>6505.000000</td>\n",
       "      <td>NaN</td>\n",
       "    </tr>\n",
       "    <tr>\n",
       "      <th>criterion</th>\n",
       "      <td>NaN</td>\n",
       "      <td>NaN</td>\n",
       "      <td>0.615373</td>\n",
       "      <td>NaN</td>\n",
       "      <td>NaN</td>\n",
       "      <td>entropy</td>\n",
       "    </tr>\n",
       "    <tr>\n",
       "      <th>max_depth</th>\n",
       "      <td>NaN</td>\n",
       "      <td>NaN</td>\n",
       "      <td>0.615373</td>\n",
       "      <td>NaN</td>\n",
       "      <td>NaN</td>\n",
       "      <td>None</td>\n",
       "    </tr>\n",
       "    <tr>\n",
       "      <th>min_samples_leaf</th>\n",
       "      <td>NaN</td>\n",
       "      <td>NaN</td>\n",
       "      <td>0.615373</td>\n",
       "      <td>NaN</td>\n",
       "      <td>NaN</td>\n",
       "      <td>1</td>\n",
       "    </tr>\n",
       "  </tbody>\n",
       "</table>\n",
       "</div>"
      ],
      "text/plain": [
       "                                  Non Recid  ...  best_params\n",
       "scoring_param index                          ...             \n",
       "f1            precision            0.751420  ...          NaN\n",
       "              recall               0.640830  ...          NaN\n",
       "              f1-score             0.691733  ...          NaN\n",
       "              support           4335.000000  ...          NaN\n",
       "              criterion                 NaN  ...         gini\n",
       "              max_depth                 NaN  ...           20\n",
       "              min_samples_leaf          NaN  ...            1\n",
       "f1_macro      precision            0.729063  ...          NaN\n",
       "              recall               0.674740  ...          NaN\n",
       "              f1-score             0.700851  ...          NaN\n",
       "              support           4335.000000  ...          NaN\n",
       "              criterion                 NaN  ...      entropy\n",
       "              max_depth                 NaN  ...           30\n",
       "              min_samples_leaf          NaN  ...            1\n",
       "roc_auc       precision            0.745300  ...          NaN\n",
       "              recall               0.667589  ...          NaN\n",
       "              f1-score             0.704308  ...          NaN\n",
       "              support           4335.000000  ...          NaN\n",
       "              criterion                 NaN  ...      entropy\n",
       "              max_depth                 NaN  ...         None\n",
       "              min_samples_leaf          NaN  ...            2\n",
       "recall        precision            0.751158  ...          NaN\n",
       "              recall               0.635755  ...          NaN\n",
       "              f1-score             0.688656  ...          NaN\n",
       "              support           4335.000000  ...          NaN\n",
       "              criterion                 NaN  ...         gini\n",
       "              max_depth                 NaN  ...           20\n",
       "              min_samples_leaf          NaN  ...            1\n",
       "recall_macro  precision            0.749388  ...          NaN\n",
       "              recall               0.635294  ...          NaN\n",
       "              f1-score             0.687640  ...          NaN\n",
       "              support           4335.000000  ...          NaN\n",
       "              criterion                 NaN  ...         gini\n",
       "              max_depth                 NaN  ...           20\n",
       "              min_samples_leaf          NaN  ...            1\n",
       "accuracy      precision            0.752606  ...          NaN\n",
       "              recall               0.632987  ...          NaN\n",
       "              f1-score             0.687633  ...          NaN\n",
       "              support           4335.000000  ...          NaN\n",
       "              criterion                 NaN  ...         gini\n",
       "              max_depth                 NaN  ...           20\n",
       "              min_samples_leaf          NaN  ...            1\n",
       "precision     precision            0.727138  ...          NaN\n",
       "              recall               0.676817  ...          NaN\n",
       "              f1-score             0.701075  ...          NaN\n",
       "              support           4335.000000  ...          NaN\n",
       "              criterion                 NaN  ...      entropy\n",
       "              max_depth                 NaN  ...         None\n",
       "              min_samples_leaf          NaN  ...            1\n",
       "\n",
       "[49 rows x 6 columns]"
      ]
     },
     "execution_count": 59,
     "metadata": {},
     "output_type": "execute_result"
    }
   ],
   "source": [
    "dfs=[]\n",
    "for metric,result in reports.items():\n",
    "    \n",
    "    result['scoring_param'] = metric\n",
    "    dfs.append(pd.DataFrame(result))\n",
    "    \n",
    "RESULTS = pd.concat(dfs).reset_index().set_index(['scoring_param','index'])\n",
    "# RESULTS.drop('scoring param',inplace=True)\n",
    "RESULTS"
   ]
  },
  {
   "cell_type": "code",
   "execution_count": null,
   "metadata": {},
   "outputs": [],
   "source": []
  },
  {
   "cell_type": "markdown",
   "metadata": {},
   "source": [
    "# BOOKMARK 10/03 7;40PM"
   ]
  },
  {
   "cell_type": "code",
   "execution_count": null,
   "metadata": {},
   "outputs": [],
   "source": []
  },
  {
   "cell_type": "markdown",
   "metadata": {},
   "source": [
    "# LogisticRegression"
   ]
  },
  {
   "cell_type": "code",
   "execution_count": null,
   "metadata": {
    "ExecuteTime": {
     "end_time": "2020-10-04T00:01:25.941435Z",
     "start_time": "2020-10-03T23:56:28.877Z"
    }
   },
   "outputs": [],
   "source": [
    "X_train_smote.describe()"
   ]
  },
  {
   "cell_type": "code",
   "execution_count": null,
   "metadata": {
    "ExecuteTime": {
     "end_time": "2020-10-04T00:01:25.942235Z",
     "start_time": "2020-10-03T23:56:28.880Z"
    }
   },
   "outputs": [],
   "source": [
    "# from sklearn.preprocessing import MinMaxScaler\n",
    "# scaler = MinMaxScaler()\n",
    "# X_train_logreg = scaler.fit_transform(X_train_smote)\n",
    "# X_test_logreg = scaler.transform(X_test_tf)"
   ]
  },
  {
   "cell_type": "code",
   "execution_count": null,
   "metadata": {
    "ExecuteTime": {
     "end_time": "2020-10-04T00:01:25.943451Z",
     "start_time": "2020-10-03T23:56:28.883Z"
    }
   },
   "outputs": [],
   "source": [
    "logregCV = LogisticRegressionCV(scoring='recall',penalty='l1',cv=3,\n",
    "                                solver='liblinear',max_iter=250,n_jobs=-1)\n",
    "\n",
    "logregCV.fit(X_train_smote,y_train_smote)\n",
    "logregCV"
   ]
  },
  {
   "cell_type": "code",
   "execution_count": null,
   "metadata": {
    "ExecuteTime": {
     "end_time": "2020-10-04T00:01:25.944694Z",
     "start_time": "2020-10-03T23:56:28.886Z"
    },
    "scrolled": false
   },
   "outputs": [],
   "source": [
    "evaluate_classification(logregCV,X_test_tf,y_test)"
   ]
  },
  {
   "cell_type": "code",
   "execution_count": null,
   "metadata": {
    "ExecuteTime": {
     "end_time": "2020-10-04T00:01:25.945732Z",
     "start_time": "2020-10-03T23:56:28.888Z"
    }
   },
   "outputs": [],
   "source": [
    "def get_coeffs(logregCV, X_train_smote,):\n",
    "    coeffs = pd.Series(logregCV.coef_[0],index=X_train_smote.columns)\n",
    "    coeffs['Intercept'] = logregCV.intercept_\n",
    "    coeffs = coeffs.astype(float)\n",
    "    return coeffs\n",
    "\n",
    "coeffs = get_coeffs(logregCV,X_train_smote)\n",
    "coeffs.sort_values().plot(kind='barh',figsize=(5,10))"
   ]
  },
  {
   "cell_type": "code",
   "execution_count": null,
   "metadata": {
    "ExecuteTime": {
     "end_time": "2020-10-04T00:01:25.946695Z",
     "start_time": "2020-10-03T23:56:28.891Z"
    }
   },
   "outputs": [],
   "source": [
    "# logregCV.C_, logregCV."
   ]
  },
  {
   "cell_type": "markdown",
   "metadata": {},
   "source": [
    "## TO DO: Try tune-sklearn\n",
    "- [Blog Post](https://towardsdatascience.com/5x-faster-scikit-learn-parameter-tuning-in-5-lines-of-code-be6bdd21833c)\n",
    "- [Documentation](https://github.com/ray-project/tune-sklearn)"
   ]
  },
  {
   "cell_type": "markdown",
   "metadata": {},
   "source": [
    "## StackingClassifier"
   ]
  },
  {
   "cell_type": "code",
   "execution_count": null,
   "metadata": {
    "ExecuteTime": {
     "end_time": "2020-10-04T00:01:25.947599Z",
     "start_time": "2020-10-03T23:56:28.895Z"
    }
   },
   "outputs": [],
   "source": [
    "from sklearn.ensemble import StackingClassifier\n",
    "\n",
    "stack = StackingClassifier(estimators=[\n",
    "    ('rf',)\n",
    "])"
   ]
  },
  {
   "cell_type": "markdown",
   "metadata": {},
   "source": [
    "# CONCLUSIONS\n",
    "- **After adjusting for imbalanced classes, the most important factor for determining recidivism are:**\n",
    "    - **Age at Release**\n",
    "    - **Supervising Judicial District**\n",
    "    - **Release Type**\n",
    "    - **Crime Subtype**\n",
    "    \n",
    "    \n",
    "## Recommendatons\n",
    "- This model could be used to predict which prisoners due for release may at the greatest risk for recidivism.<br><br>\n",
    "    - Using this knowledge, the state of Iowa could put new programs into action that target those at high risk for recidivism and provide additional assistance and guidance following release.<br><br>\n",
    "    - Additionally, there could be additional counseling or education _prior_ to release to supply the inmate with tools and options to avoid returning to a life of crime.\n",
    "    \n",
    "# FUTURE DIRECTIONS\n",
    "- With more time and reliable performance, would perform cross-validation of our final model.<br><br>\n",
    "- Additional visuals summarizing the underlying features effects on recidivism.<br><br>\n",
    "- Adapting more available visualization tools to better display the underpinning of the model.\n",
    "<br><br>\n",
    "- Exploration of the predictability of crimes types committed by recidivists."
   ]
  },
  {
   "cell_type": "markdown",
   "metadata": {},
   "source": [
    "### POST-REVIEW SUGGESTIONS / IDEAS:\n",
    "- [ ] Try using reduction instead of SMOTE.\n",
    "- [ ] seaborn catplot bar graphs\n",
    "- [ ] Add tree or other visuals\n",
    "    - Try Mike's SHAP plots"
   ]
  },
  {
   "cell_type": "markdown",
   "metadata": {},
   "source": [
    "# APPENDIX"
   ]
  },
  {
   "cell_type": "code",
   "execution_count": null,
   "metadata": {
    "ExecuteTime": {
     "end_time": "2020-10-04T00:01:25.948623Z",
     "start_time": "2020-10-03T23:56:28.900Z"
    }
   },
   "outputs": [],
   "source": [
    "STOP"
   ]
  },
  {
   "cell_type": "code",
   "execution_count": null,
   "metadata": {
    "ExecuteTime": {
     "end_time": "2020-10-04T00:01:25.949752Z",
     "start_time": "2020-10-03T23:56:28.902Z"
    }
   },
   "outputs": [],
   "source": [
    "from bs_ds import viz_tree"
   ]
  },
  {
   "cell_type": "code",
   "execution_count": null,
   "metadata": {
    "ExecuteTime": {
     "end_time": "2020-10-04T00:01:25.950760Z",
     "start_time": "2020-10-03T23:56:28.906Z"
    }
   },
   "outputs": [],
   "source": [
    "viz_tree(cb_clf)"
   ]
  },
  {
   "cell_type": "code",
   "execution_count": null,
   "metadata": {},
   "outputs": [],
   "source": []
  },
  {
   "cell_type": "code",
   "execution_count": null,
   "metadata": {
    "ExecuteTime": {
     "end_time": "2020-10-04T00:01:25.951728Z",
     "start_time": "2020-10-03T23:56:28.910Z"
    }
   },
   "outputs": [],
   "source": [
    "compare_tree = sklearn.tree.DecisionTreeClassifier()\n",
    "dir(compare_tree)"
   ]
  },
  {
   "cell_type": "code",
   "execution_count": null,
   "metadata": {
    "ExecuteTime": {
     "end_time": "2020-10-04T00:01:25.952715Z",
     "start_time": "2020-10-03T23:56:28.913Z"
    }
   },
   "outputs": [],
   "source": [
    "compare_tree.fit(X_train, y_train)"
   ]
  },
  {
   "cell_type": "code",
   "execution_count": null,
   "metadata": {
    "ExecuteTime": {
     "end_time": "2020-10-04T00:01:25.953735Z",
     "start_time": "2020-10-03T23:56:28.916Z"
    }
   },
   "outputs": [],
   "source": [
    "dir(compare_tree)"
   ]
  },
  {
   "cell_type": "code",
   "execution_count": null,
   "metadata": {
    "ExecuteTime": {
     "end_time": "2020-10-04T00:01:25.954740Z",
     "start_time": "2020-10-03T23:56:28.919Z"
    },
    "scrolled": false
   },
   "outputs": [],
   "source": [
    "# This is the tree object that sklearn generates and is looking for \n",
    "help(compare_tree.tree_)"
   ]
  },
  {
   "cell_type": "code",
   "execution_count": null,
   "metadata": {
    "ExecuteTime": {
     "end_time": "2020-10-04T00:01:25.955720Z",
     "start_time": "2020-10-03T23:56:28.922Z"
    }
   },
   "outputs": [],
   "source": [
    "dir(cb_clf)"
   ]
  },
  {
   "cell_type": "code",
   "execution_count": null,
   "metadata": {
    "ExecuteTime": {
     "end_time": "2020-10-04T00:01:25.956700Z",
     "start_time": "2020-10-03T23:56:28.926Z"
    }
   },
   "outputs": [],
   "source": [
    "help(cb_clf.get_metadata())"
   ]
  },
  {
   "cell_type": "code",
   "execution_count": null,
   "metadata": {
    "ExecuteTime": {
     "end_time": "2020-10-04T00:01:25.957627Z",
     "start_time": "2020-10-03T23:56:28.929Z"
    }
   },
   "outputs": [],
   "source": [
    "test = cb_clf.get_metadata()"
   ]
  },
  {
   "cell_type": "code",
   "execution_count": null,
   "metadata": {
    "ExecuteTime": {
     "end_time": "2020-10-04T00:01:25.958625Z",
     "start_time": "2020-10-03T23:56:28.933Z"
    },
    "scrolled": true
   },
   "outputs": [],
   "source": [
    "help(cb_clf)"
   ]
  },
  {
   "cell_type": "markdown",
   "metadata": {},
   "source": [
    "### SHAP values\n",
    "https://github.com/jirvingphd/shap\n"
   ]
  },
  {
   "cell_type": "code",
   "execution_count": null,
   "metadata": {
    "ExecuteTime": {
     "end_time": "2020-10-04T00:01:25.959650Z",
     "start_time": "2020-10-03T23:56:28.938Z"
    }
   },
   "outputs": [],
   "source": [
    "import shap\n",
    "shap.initjs()"
   ]
  },
  {
   "cell_type": "code",
   "execution_count": null,
   "metadata": {
    "ExecuteTime": {
     "end_time": "2020-10-04T00:01:25.960658Z",
     "start_time": "2020-10-03T23:56:28.941Z"
    }
   },
   "outputs": [],
   "source": [
    "explainer = shap.TreeExplainer(cb_clf)"
   ]
  },
  {
   "cell_type": "code",
   "execution_count": null,
   "metadata": {
    "ExecuteTime": {
     "end_time": "2020-10-04T00:01:25.961717Z",
     "start_time": "2020-10-03T23:56:28.944Z"
    }
   },
   "outputs": [],
   "source": [
    "shap_vals = explainer.shap_values(train_pool)"
   ]
  },
  {
   "cell_type": "code",
   "execution_count": null,
   "metadata": {
    "ExecuteTime": {
     "end_time": "2020-10-04T00:01:25.962685Z",
     "start_time": "2020-10-03T23:56:28.948Z"
    }
   },
   "outputs": [],
   "source": [
    "shap.force_plot(explainer.expected_value, shap_vals[:1000],X_train[:1000])"
   ]
  },
  {
   "cell_type": "code",
   "execution_count": null,
   "metadata": {
    "ExecuteTime": {
     "end_time": "2020-10-04T00:01:25.963641Z",
     "start_time": "2020-10-03T23:56:28.951Z"
    }
   },
   "outputs": [],
   "source": [
    "shap.summary_plot(shap_vals, X_train)"
   ]
  },
  {
   "cell_type": "code",
   "execution_count": null,
   "metadata": {
    "ExecuteTime": {
     "end_time": "2020-10-04T00:01:25.964758Z",
     "start_time": "2020-10-03T23:56:28.954Z"
    }
   },
   "outputs": [],
   "source": [
    "shap.summary_plot(shap_vals, X_train, plot_type=\"bar\")"
   ]
  },
  {
   "cell_type": "code",
   "execution_count": null,
   "metadata": {},
   "outputs": [],
   "source": []
  }
 ],
 "metadata": {
  "kernelspec": {
   "display_name": "learn-env",
   "language": "python",
   "name": "learn-env"
  },
  "language_info": {
   "codemirror_mode": {
    "name": "ipython",
    "version": 3
   },
   "file_extension": ".py",
   "mimetype": "text/x-python",
   "name": "python",
   "nbconvert_exporter": "python",
   "pygments_lexer": "ipython3",
   "version": "3.6.11"
  },
  "toc": {
   "base_numbering": 1,
   "nav_menu": {},
   "number_sections": false,
   "sideBar": true,
   "skip_h1_title": false,
   "title_cell": "Table of Contents",
   "title_sidebar": "Contents",
   "toc_cell": false,
   "toc_position": {
    "height": "calc(100% - 180px)",
    "left": "10px",
    "top": "150px",
    "width": "307.181px"
   },
   "toc_section_display": true,
   "toc_window_display": false
  },
  "varInspector": {
   "cols": {
    "lenName": 16,
    "lenType": 16,
    "lenVar": 40
   },
   "kernels_config": {
    "python": {
     "delete_cmd_postfix": "",
     "delete_cmd_prefix": "del ",
     "library": "var_list.py",
     "varRefreshCmd": "print(var_dic_list())"
    },
    "r": {
     "delete_cmd_postfix": ") ",
     "delete_cmd_prefix": "rm(",
     "library": "var_list.r",
     "varRefreshCmd": "cat(var_dic_list()) "
    }
   },
   "oldHeight": 572.166222,
   "position": {
    "height": "593.931px",
    "left": "841.588px",
    "right": "20px",
    "top": "77px",
    "width": "705.306px"
   },
   "types_to_exclude": [
    "module",
    "function",
    "builtin_function_or_method",
    "instance",
    "_Feature"
   ],
   "varInspector_section_display": "block",
   "window_display": false
  }
 },
 "nbformat": 4,
 "nbformat_minor": 2
}

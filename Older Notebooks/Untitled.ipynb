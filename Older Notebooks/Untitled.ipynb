{
 "cells": [
  {
   "cell_type": "code",
   "execution_count": 6,
   "metadata": {},
   "outputs": [],
   "source": [
    "import bs_ds as bs"
   ]
  },
  {
   "cell_type": "code",
   "execution_count": null,
   "metadata": {},
   "outputs": [],
   "source": [
    "bs."
   ]
  },
  {
   "cell_type": "code",
   "execution_count": 1,
   "metadata": {},
   "outputs": [
    {
     "name": "stdout",
     "output_type": "stream",
     "text": [
      "View our documentation at https://bs-ds.readthedocs.io/en/latest/index.html\n",
      "For convenient loading of standard modules :\n",
      ">> from bs_ds.imports import *\n",
      "\n"
     ]
    },
    {
     "data": {
      "text/html": [
       "<div>\n",
       "<style scoped>\n",
       "    .dataframe tbody tr th:only-of-type {\n",
       "        vertical-align: middle;\n",
       "    }\n",
       "\n",
       "    .dataframe tbody tr th {\n",
       "        vertical-align: top;\n",
       "    }\n",
       "\n",
       "    .dataframe thead th {\n",
       "        text-align: right;\n",
       "    }\n",
       "</style>\n",
       "<table border=\"1\" class=\"dataframe\">\n",
       "  <thead>\n",
       "    <tr style=\"text-align: right;\">\n",
       "      <th></th>\n",
       "      <th>Module/Package Handle</th>\n",
       "    </tr>\n",
       "  </thead>\n",
       "  <tbody>\n",
       "    <tr>\n",
       "      <th>pandas</th>\n",
       "      <td>pd</td>\n",
       "    </tr>\n",
       "    <tr>\n",
       "      <th>numpy</th>\n",
       "      <td>np</td>\n",
       "    </tr>\n",
       "    <tr>\n",
       "      <th>matplotlib</th>\n",
       "      <td>mpl</td>\n",
       "    </tr>\n",
       "    <tr>\n",
       "      <th>matplotlib.pyplot</th>\n",
       "      <td>plt</td>\n",
       "    </tr>\n",
       "    <tr>\n",
       "      <th>seaborn</th>\n",
       "      <td>sns</td>\n",
       "    </tr>\n",
       "  </tbody>\n",
       "</table>\n",
       "</div>"
      ],
      "text/plain": [
       "                  Module/Package Handle\n",
       "pandas                               pd\n",
       "numpy                                np\n",
       "matplotlib                          mpl\n",
       "matplotlib.pyplot                   plt\n",
       "seaborn                             sns"
      ]
     },
     "metadata": {},
     "output_type": "display_data"
    }
   ],
   "source": [
    "# import bs_ds.prettypandas as pp\n",
    "# from bs_ds.bamboo import *\n",
    "# from bs_ds.imports import *\n"
   ]
  },
  {
   "cell_type": "code",
   "execution_count": 2,
   "metadata": {},
   "outputs": [],
   "source": [
    "df = pd.read_csv('../plotting_age_released.csv',index_col=0)\n",
    "# Shortening df for ease of processing.\n",
    "df = df.iloc[1:1000,:]"
   ]
  },
  {
   "cell_type": "code",
   "execution_count": 5,
   "metadata": {},
   "outputs": [
    {
     "data": {
      "text/html": [
       "<style>\n",
       "        table td{\n",
       "        text-align: center;\n",
       "        }\n",
       "        table th{\n",
       "        background-color: black;\n",
       "        color: white;\n",
       "        font-family:serif;\n",
       "        font-size:1.2em;\n",
       "        }\n",
       "        table td{\n",
       "        font-size:1.05em;\n",
       "        font-weight:75;\n",
       "        }\n",
       "        table td, th{\n",
       "        text-align: center;\n",
       "        }\n",
       "        table caption{\n",
       "        text-align: center;\n",
       "        font-size:1.2em;\n",
       "        color: black;\n",
       "        font-weight: bold;\n",
       "        font-style: italic\n",
       "        }\n",
       "    </style>"
      ],
      "text/plain": [
       "<IPython.core.display.HTML object>"
      ]
     },
     "execution_count": 5,
     "metadata": {},
     "output_type": "execute_result"
    }
   ],
   "source": [
    "def make_CSS(show=False):\n",
    "    CSS=\"\"\"\n",
    "        table td{\n",
    "        text-align: center;\n",
    "        }\n",
    "        table th{\n",
    "        background-color: black;\n",
    "        color: white;\n",
    "        font-family:serif;\n",
    "        font-size:1.2em;\n",
    "        }\n",
    "        table td{\n",
    "        font-size:1.05em;\n",
    "        font-weight:75;\n",
    "        }\n",
    "        table td, th{\n",
    "        text-align: center;\n",
    "        }\n",
    "        table caption{\n",
    "        text-align: center;\n",
    "        font-size:1.2em;\n",
    "        color: black;\n",
    "        font-weight: bold;\n",
    "        font-style: italic\n",
    "        }\n",
    "    \"\"\"\n",
    "    if show==True:\n",
    "        from pprint import pprint\n",
    "        pprint(CSS)\n",
    "    return CSS\n",
    "myCSS=make_CSS()\n",
    "pp.html_on(myCSS)"
   ]
  },
  {
   "cell_type": "code",
   "execution_count": 4,
   "metadata": {},
   "outputs": [
    {
     "data": {
      "text/html": [
       "<table style=\"display:inline\" border=\"1\" class=\"dataframe\">\n",
       "  <thead>\n",
       "    <tr style=\"text-align: right;\">\n",
       "      <th></th>\n",
       "      <th>yr_released</th>\n",
       "      <th>report_year</th>\n",
       "    </tr>\n",
       "  </thead>\n",
       "  <tbody>\n",
       "    <tr>\n",
       "      <th>count</th>\n",
       "      <td>999.0</td>\n",
       "      <td>999.0</td>\n",
       "    </tr>\n",
       "    <tr>\n",
       "      <th>mean</th>\n",
       "      <td>2010.0</td>\n",
       "      <td>2013.0</td>\n",
       "    </tr>\n",
       "    <tr>\n",
       "      <th>std</th>\n",
       "      <td>0.0</td>\n",
       "      <td>0.0</td>\n",
       "    </tr>\n",
       "    <tr>\n",
       "      <th>min</th>\n",
       "      <td>2010.0</td>\n",
       "      <td>2013.0</td>\n",
       "    </tr>\n",
       "    <tr>\n",
       "      <th>25%</th>\n",
       "      <td>2010.0</td>\n",
       "      <td>2013.0</td>\n",
       "    </tr>\n",
       "    <tr>\n",
       "      <th>50%</th>\n",
       "      <td>2010.0</td>\n",
       "      <td>2013.0</td>\n",
       "    </tr>\n",
       "    <tr>\n",
       "      <th>75%</th>\n",
       "      <td>2010.0</td>\n",
       "      <td>2013.0</td>\n",
       "    </tr>\n",
       "    <tr>\n",
       "      <th>max</th>\n",
       "      <td>2010.0</td>\n",
       "      <td>2013.0</td>\n",
       "    </tr>\n",
       "  </tbody>\n",
       "</table style=\"display:inline\">&nbsp;<style  type=\"text/css\" >\n",
       "</style><table style=\"display:inline\" id=\"T_50cdcd54_7a53_11e9_b6de_f48e38b6371f\" ><caption># of Identified Null Values:</caption><thead>    <tr>        <th class=\"blank level0\" ></th>        <th class=\"col_heading level0 col0\" >Null values</th>        <th class=\"col_heading level0 col1\" >Total Values</th>        <th class=\"col_heading level0 col2\" >Percent</th>    </tr>    <tr>        <th class=\"index_name level0\" >Column</th>        <th class=\"blank\" ></th>        <th class=\"blank\" ></th>        <th class=\"blank\" ></th>    </tr></thead><tbody>\n",
       "                <tr>\n",
       "                        <th id=\"T_50cdcd54_7a53_11e9_b6de_f48e38b6371flevel0_row0\" class=\"row_heading level0 row0\" >yr_released</th>\n",
       "                        <td id=\"T_50cdcd54_7a53_11e9_b6de_f48e38b6371frow0_col0\" class=\"data row0 col0\" >0</td>\n",
       "                        <td id=\"T_50cdcd54_7a53_11e9_b6de_f48e38b6371frow0_col1\" class=\"data row0 col1\" >999</td>\n",
       "                        <td id=\"T_50cdcd54_7a53_11e9_b6de_f48e38b6371frow0_col2\" class=\"data row0 col2\" >0</td>\n",
       "            </tr>\n",
       "            <tr>\n",
       "                        <th id=\"T_50cdcd54_7a53_11e9_b6de_f48e38b6371flevel0_row1\" class=\"row_heading level0 row1\" >report_year</th>\n",
       "                        <td id=\"T_50cdcd54_7a53_11e9_b6de_f48e38b6371frow1_col0\" class=\"data row1 col0\" >0</td>\n",
       "                        <td id=\"T_50cdcd54_7a53_11e9_b6de_f48e38b6371frow1_col1\" class=\"data row1 col1\" >999</td>\n",
       "                        <td id=\"T_50cdcd54_7a53_11e9_b6de_f48e38b6371frow1_col2\" class=\"data row1 col2\" >0</td>\n",
       "            </tr>\n",
       "            <tr>\n",
       "                        <th id=\"T_50cdcd54_7a53_11e9_b6de_f48e38b6371flevel0_row2\" class=\"row_heading level0 row2\" >race_ethnicity</th>\n",
       "                        <td id=\"T_50cdcd54_7a53_11e9_b6de_f48e38b6371frow2_col0\" class=\"data row2 col0\" >0</td>\n",
       "                        <td id=\"T_50cdcd54_7a53_11e9_b6de_f48e38b6371frow2_col1\" class=\"data row2 col1\" >999</td>\n",
       "                        <td id=\"T_50cdcd54_7a53_11e9_b6de_f48e38b6371frow2_col2\" class=\"data row2 col2\" >0</td>\n",
       "            </tr>\n",
       "            <tr>\n",
       "                        <th id=\"T_50cdcd54_7a53_11e9_b6de_f48e38b6371flevel0_row3\" class=\"row_heading level0 row3\" >age_released</th>\n",
       "                        <td id=\"T_50cdcd54_7a53_11e9_b6de_f48e38b6371frow3_col0\" class=\"data row3 col0\" >0</td>\n",
       "                        <td id=\"T_50cdcd54_7a53_11e9_b6de_f48e38b6371frow3_col1\" class=\"data row3 col1\" >999</td>\n",
       "                        <td id=\"T_50cdcd54_7a53_11e9_b6de_f48e38b6371frow3_col2\" class=\"data row3 col2\" >0</td>\n",
       "            </tr>\n",
       "            <tr>\n",
       "                        <th id=\"T_50cdcd54_7a53_11e9_b6de_f48e38b6371flevel0_row4\" class=\"row_heading level0 row4\" >crime_class</th>\n",
       "                        <td id=\"T_50cdcd54_7a53_11e9_b6de_f48e38b6371frow4_col0\" class=\"data row4 col0\" >2</td>\n",
       "                        <td id=\"T_50cdcd54_7a53_11e9_b6de_f48e38b6371frow4_col1\" class=\"data row4 col1\" >999</td>\n",
       "                        <td id=\"T_50cdcd54_7a53_11e9_b6de_f48e38b6371frow4_col2\" class=\"data row4 col2\" >0.2</td>\n",
       "            </tr>\n",
       "            <tr>\n",
       "                        <th id=\"T_50cdcd54_7a53_11e9_b6de_f48e38b6371flevel0_row5\" class=\"row_heading level0 row5\" >crime_type</th>\n",
       "                        <td id=\"T_50cdcd54_7a53_11e9_b6de_f48e38b6371frow5_col0\" class=\"data row5 col0\" >0</td>\n",
       "                        <td id=\"T_50cdcd54_7a53_11e9_b6de_f48e38b6371frow5_col1\" class=\"data row5 col1\" >999</td>\n",
       "                        <td id=\"T_50cdcd54_7a53_11e9_b6de_f48e38b6371frow5_col2\" class=\"data row5 col2\" >0</td>\n",
       "            </tr>\n",
       "            <tr>\n",
       "                        <th id=\"T_50cdcd54_7a53_11e9_b6de_f48e38b6371flevel0_row6\" class=\"row_heading level0 row6\" >crime_subtype</th>\n",
       "                        <td id=\"T_50cdcd54_7a53_11e9_b6de_f48e38b6371frow6_col0\" class=\"data row6 col0\" >0</td>\n",
       "                        <td id=\"T_50cdcd54_7a53_11e9_b6de_f48e38b6371frow6_col1\" class=\"data row6 col1\" >999</td>\n",
       "                        <td id=\"T_50cdcd54_7a53_11e9_b6de_f48e38b6371frow6_col2\" class=\"data row6 col2\" >0</td>\n",
       "            </tr>\n",
       "            <tr>\n",
       "                        <th id=\"T_50cdcd54_7a53_11e9_b6de_f48e38b6371flevel0_row7\" class=\"row_heading level0 row7\" >release_type</th>\n",
       "                        <td id=\"T_50cdcd54_7a53_11e9_b6de_f48e38b6371frow7_col0\" class=\"data row7 col0\" >0</td>\n",
       "                        <td id=\"T_50cdcd54_7a53_11e9_b6de_f48e38b6371frow7_col1\" class=\"data row7 col1\" >999</td>\n",
       "                        <td id=\"T_50cdcd54_7a53_11e9_b6de_f48e38b6371frow7_col2\" class=\"data row7 col2\" >0</td>\n",
       "            </tr>\n",
       "            <tr>\n",
       "                        <th id=\"T_50cdcd54_7a53_11e9_b6de_f48e38b6371flevel0_row8\" class=\"row_heading level0 row8\" >super_dist</th>\n",
       "                        <td id=\"T_50cdcd54_7a53_11e9_b6de_f48e38b6371frow8_col0\" class=\"data row8 col0\" >0</td>\n",
       "                        <td id=\"T_50cdcd54_7a53_11e9_b6de_f48e38b6371frow8_col1\" class=\"data row8 col1\" >999</td>\n",
       "                        <td id=\"T_50cdcd54_7a53_11e9_b6de_f48e38b6371frow8_col2\" class=\"data row8 col2\" >0</td>\n",
       "            </tr>\n",
       "            <tr>\n",
       "                        <th id=\"T_50cdcd54_7a53_11e9_b6de_f48e38b6371flevel0_row9\" class=\"row_heading level0 row9\" >recidivist</th>\n",
       "                        <td id=\"T_50cdcd54_7a53_11e9_b6de_f48e38b6371frow9_col0\" class=\"data row9 col0\" >0</td>\n",
       "                        <td id=\"T_50cdcd54_7a53_11e9_b6de_f48e38b6371frow9_col1\" class=\"data row9 col1\" >999</td>\n",
       "                        <td id=\"T_50cdcd54_7a53_11e9_b6de_f48e38b6371frow9_col2\" class=\"data row9 col2\" >0</td>\n",
       "            </tr>\n",
       "            <tr>\n",
       "                        <th id=\"T_50cdcd54_7a53_11e9_b6de_f48e38b6371flevel0_row10\" class=\"row_heading level0 row10\" >target_pop</th>\n",
       "                        <td id=\"T_50cdcd54_7a53_11e9_b6de_f48e38b6371frow10_col0\" class=\"data row10 col0\" >0</td>\n",
       "                        <td id=\"T_50cdcd54_7a53_11e9_b6de_f48e38b6371frow10_col1\" class=\"data row10 col1\" >999</td>\n",
       "                        <td id=\"T_50cdcd54_7a53_11e9_b6de_f48e38b6371frow10_col2\" class=\"data row10 col2\" >0</td>\n",
       "            </tr>\n",
       "            <tr>\n",
       "                        <th id=\"T_50cdcd54_7a53_11e9_b6de_f48e38b6371flevel0_row11\" class=\"row_heading level0 row11\" >sex</th>\n",
       "                        <td id=\"T_50cdcd54_7a53_11e9_b6de_f48e38b6371frow11_col0\" class=\"data row11 col0\" >0</td>\n",
       "                        <td id=\"T_50cdcd54_7a53_11e9_b6de_f48e38b6371frow11_col1\" class=\"data row11 col1\" >999</td>\n",
       "                        <td id=\"T_50cdcd54_7a53_11e9_b6de_f48e38b6371frow11_col2\" class=\"data row11 col2\" >0</td>\n",
       "            </tr>\n",
       "    </tbody></table style=\"display:inline\">"
      ]
     },
     "metadata": {},
     "output_type": "display_data"
    }
   ],
   "source": [
    "pp.display_side_by_side(df.describe(),check_null(df, show_df=False))"
   ]
  },
  {
   "cell_type": "code",
   "execution_count": null,
   "metadata": {},
   "outputs": [],
   "source": [
    "def display_side_by_side2(*args,styled=True):\n",
    "    \"\"\"Display all input dataframes side by side. Also accept captioned styler df object (df_in = df.style.set_caption('caption')\n",
    "    Modified from Source: https://stackoverflow.com/questions/38783027/jupyter-notebook-display-two-pandas-tables-side-by-side\"\"\"\n",
    "    from IPython.display import display_html\n",
    "    import pandas\n",
    "    html_str=''\n",
    "    for df in args:\n",
    "        if type(df) == pandas.io.formats.style.Styler:\n",
    "            html_str+= '&nbsp;'\n",
    "            html_str+=df.render()\n",
    "        else:\n",
    "            html_str+=df.to_html()\n",
    "        if styled==True:\n",
    "            from bs_ds.prettypandas import html_on, make_CSS\n",
    "            CSS_style=[]\n",
    "            CSS_style = make_CSS()\n",
    "            CSS = CSS_style+'\\n'+'<table> {display:inline}</table>'\n",
    "            html_display = html_str+'\\n'+f'style={CSS}'\n",
    "#             html_on(CSS_style)\n",
    "            display_html(html_display,raw=True)\n",
    "\n",
    "\n",
    "\n",
    "#     display_html(html_str.replace('table','table style=\"display:inline\"'),raw=True)"
   ]
  },
  {
   "cell_type": "code",
   "execution_count": null,
   "metadata": {
    "scrolled": false
   },
   "outputs": [],
   "source": [
    "display_side_by_side2(df.describe(),check_null(df, show_df=False), styled=True)"
   ]
  },
  {
   "cell_type": "code",
   "execution_count": null,
   "metadata": {},
   "outputs": [],
   "source": [
    "# html_str"
   ]
  },
  {
   "cell_type": "code",
   "execution_count": null,
   "metadata": {
    "scrolled": false
   },
   "outputs": [],
   "source": [
    "inspect_df(df)"
   ]
  },
  {
   "cell_type": "code",
   "execution_count": null,
   "metadata": {},
   "outputs": [],
   "source": [
    "from bs_ds.bamboo import LabelLibrary\n",
    "lablib=LabelLibrary()"
   ]
  },
  {
   "cell_type": "code",
   "execution_count": null,
   "metadata": {},
   "outputs": [],
   "source": [
    "# df_lab = lablib.fit_transform(df)"
   ]
  },
  {
   "cell_type": "code",
   "execution_count": null,
   "metadata": {},
   "outputs": [],
   "source": [
    "# lablib.index['age_released'].classes_"
   ]
  },
  {
   "cell_type": "code",
   "execution_count": null,
   "metadata": {},
   "outputs": [],
   "source": [
    "# df_lab['age_released'].value_counts().sort_index()"
   ]
  },
  {
   "cell_type": "code",
   "execution_count": null,
   "metadata": {},
   "outputs": [],
   "source": [
    "pd.set_option(\"display.notebook_repr_html\",True)"
   ]
  },
  {
   "cell_type": "code",
   "execution_count": null,
   "metadata": {},
   "outputs": [],
   "source": [
    "# # def make_CSS(show=False):\n",
    "# CSS=\"\"\"\n",
    "#     table.dataframe *{\n",
    "#         text-align: center;\n",
    "#     }\n",
    "#     dataframe.table th{\n",
    "#         background-color: black;\n",
    "#         color: white;\n",
    "#         font-family:serif;\n",
    "#         font-size:1.2em;\n",
    "#     }\n",
    "#     dataframe.table td{\n",
    "#         font-size:1.05em;\n",
    "#         font-weight:75;\n",
    "#     }\n",
    "#     td, th{\n",
    "#         text-align: center;\n",
    "#     }\n",
    "#     caption{\n",
    "#     text-align: center;\n",
    "#     font-size:1.2em;\n",
    "#     color: black;\n",
    "#     font-weight: bold;\n",
    "#     font-style: italic\n",
    "#     }\n",
    "# \"\"\"\n",
    "# pp.html_on(CSS)"
   ]
  },
  {
   "cell_type": "code",
   "execution_count": null,
   "metadata": {},
   "outputs": [],
   "source": [
    "# copy = df.to_html('test.html')\n"
   ]
  },
  {
   "cell_type": "code",
   "execution_count": null,
   "metadata": {},
   "outputs": [],
   "source": [
    "df.head()"
   ]
  },
  {
   "cell_type": "code",
   "execution_count": null,
   "metadata": {},
   "outputs": [],
   "source": [
    "import bs_ds.prettypandas as pp\n",
    "def make_CSS_WIP(show=False):\n",
    "    CSS=\"\"\"\n",
    "        table.dataframe td{\n",
    "        text-align: center;\n",
    "        }\n",
    "        table.dataframe th{\n",
    "        background-color: black;\n",
    "        color: white;\n",
    "        font-family:serif;\n",
    "        font-size:1.2em;\n",
    "        }\n",
    "        table.dataframe td{\n",
    "        font-size:1.05em;\n",
    "        font-weight:75;\n",
    "        }\n",
    "        table.dataframe td, th{\n",
    "        text-align: center;\n",
    "        }\n",
    "        table.dataframe caption{\n",
    "        text-align: center;\n",
    "        font-size:1.2em;\n",
    "        color: black;\n",
    "        font-weight: bold;\n",
    "        font-style: italic\n",
    "        }\n",
    "    \"\"\"\n",
    "    if show==True:\n",
    "        from pprint import pprint\n",
    "        pprint(CSS)\n",
    "    return CSS\n",
    "my_CSS = make_CSS_WIP()\n",
    "pp.html_on(my_CSS)"
   ]
  },
  {
   "cell_type": "code",
   "execution_count": null,
   "metadata": {},
   "outputs": [],
   "source": [
    "stop"
   ]
  },
  {
   "cell_type": "code",
   "execution_count": null,
   "metadata": {},
   "outputs": [],
   "source": [
    "data_nonrecid = df_lab.groupby('recidivist')['age_released'].get_group(0)\n",
    "\n",
    "data_recid = df_lab.groupby('recidivist')['age_released'].get_group(1)"
   ]
  },
  {
   "cell_type": "code",
   "execution_count": null,
   "metadata": {},
   "outputs": [],
   "source": [
    "lablib.index['age_released'].classes_\n",
    "# lablib.index['recidivist']."
   ]
  },
  {
   "cell_type": "code",
   "execution_count": null,
   "metadata": {},
   "outputs": [],
   "source": [
    "fig, ax = plt.subplots(1)\n",
    "ax.bar(].)"
   ]
  },
  {
   "cell_type": "code",
   "execution_count": null,
   "metadata": {},
   "outputs": [],
   "source": [
    "# df.groupby(['recidivist'])['age_released'].hist()#value_counts()\n",
    "\n",
    "labels = lablib.index['age_released'].classes_\n",
    "labels"
   ]
  },
  {
   "cell_type": "code",
   "execution_count": null,
   "metadata": {},
   "outputs": [],
   "source": [
    "fig = df_lab.groupby('recidivist')['age_released'].hist()\n",
    "fig.set_xticklabels=labels"
   ]
  },
  {
   "cell_type": "code",
   "execution_count": null,
   "metadata": {},
   "outputs": [],
   "source": []
  },
  {
   "cell_type": "code",
   "execution_count": null,
   "metadata": {},
   "outputs": [],
   "source": [
    "# Get group of recivisits"
   ]
  },
  {
   "cell_type": "code",
   "execution_count": null,
   "metadata": {},
   "outputs": [],
   "source": []
  }
 ],
 "metadata": {
  "kernelspec": {
   "display_name": "learn-env-ext",
   "language": "python",
   "name": "learn-env-ext"
  },
  "language_info": {
   "codemirror_mode": {
    "name": "ipython",
    "version": 3
   },
   "file_extension": ".py",
   "mimetype": "text/x-python",
   "name": "python",
   "nbconvert_exporter": "python",
   "pygments_lexer": "ipython3",
   "version": "3.6.8"
  },
  "toc": {
   "base_numbering": 1,
   "nav_menu": {},
   "number_sections": true,
   "sideBar": true,
   "skip_h1_title": false,
   "title_cell": "Table of Contents",
   "title_sidebar": "Contents",
   "toc_cell": false,
   "toc_position": {},
   "toc_section_display": true,
   "toc_window_display": true
  },
  "varInspector": {
   "cols": {
    "lenName": 16,
    "lenType": 16,
    "lenVar": 40
   },
   "kernels_config": {
    "python": {
     "delete_cmd_postfix": "",
     "delete_cmd_prefix": "del ",
     "library": "var_list.py",
     "varRefreshCmd": "print(var_dic_list())"
    },
    "r": {
     "delete_cmd_postfix": ") ",
     "delete_cmd_prefix": "rm(",
     "library": "var_list.r",
     "varRefreshCmd": "cat(var_dic_list()) "
    }
   },
   "types_to_exclude": [
    "module",
    "function",
    "builtin_function_or_method",
    "instance",
    "_Feature"
   ],
   "window_display": false
  }
 },
 "nbformat": 4,
 "nbformat_minor": 2
}

{
 "cells": [
  {
   "cell_type": "markdown",
   "metadata": {},
   "source": [
    "# Final Project Submission\n",
    "* Student name: James M. Irivng, Ph.D.\n",
    "* Student pace: full time\n",
    "* Scheduled project review date/time: 05/15/19 2:30 pm\n",
    "* Instructor name: Jeff Herman / Brandon Lewis\n",
    "* Blog post URL:\n"
   ]
  },
  {
   "cell_type": "code",
   "execution_count": 1,
   "metadata": {},
   "outputs": [
    {
     "name": "stdout",
     "output_type": "stream",
     "text": [
      "View our documentation at https://bs-ds.readthedocs.io/en/latest/index.html\n",
      "For convenient loading of standard modules :\n",
      ">> from bs_ds.imports import *\n",
      "\n"
     ]
    },
    {
     "data": {
      "text/html": [
       "<div>\n",
       "<style scoped>\n",
       "    .dataframe tbody tr th:only-of-type {\n",
       "        vertical-align: middle;\n",
       "    }\n",
       "\n",
       "    .dataframe tbody tr th {\n",
       "        vertical-align: top;\n",
       "    }\n",
       "\n",
       "    .dataframe thead th {\n",
       "        text-align: right;\n",
       "    }\n",
       "</style>\n",
       "<table border=\"1\" class=\"dataframe\">\n",
       "  <thead>\n",
       "    <tr style=\"text-align: right;\">\n",
       "      <th></th>\n",
       "      <th>Module/Package Handle</th>\n",
       "    </tr>\n",
       "  </thead>\n",
       "  <tbody>\n",
       "    <tr>\n",
       "      <th>pandas</th>\n",
       "      <td>pd</td>\n",
       "    </tr>\n",
       "    <tr>\n",
       "      <th>numpy</th>\n",
       "      <td>np</td>\n",
       "    </tr>\n",
       "    <tr>\n",
       "      <th>matplotlib</th>\n",
       "      <td>mpl</td>\n",
       "    </tr>\n",
       "    <tr>\n",
       "      <th>matplotlib.pyplot</th>\n",
       "      <td>plt</td>\n",
       "    </tr>\n",
       "    <tr>\n",
       "      <th>seaborn</th>\n",
       "      <td>sns</td>\n",
       "    </tr>\n",
       "  </tbody>\n",
       "</table>\n",
       "</div>"
      ],
      "text/plain": [
       "                  Module/Package Handle\n",
       "pandas                               pd\n",
       "numpy                                np\n",
       "matplotlib                          mpl\n",
       "matplotlib.pyplot                   plt\n",
       "seaborn                             sns"
      ]
     },
     "metadata": {},
     "output_type": "display_data"
    }
   ],
   "source": [
    "from bs_ds.imports import *\n",
    "import bs_ds.prettypandas as pp"
   ]
  },
  {
   "cell_type": "markdown",
   "metadata": {},
   "source": [
    "## Iowa Prisoner Recidivism Data\n",
    "\n",
    "- Source: https://www.kaggle.com/slonnadube/recidivism-for-offenders-released-from-prison\n",
    "- **Statistics about recidivism in prisoners from a 3 year prisoner**\n",
    "- **Target:**\n",
    "    - Recidivism - Return to Prison\n",
    "- **Features:**\n",
    "    - Fiscal Year Released\n",
    "    - Recidivism Reporting Year\n",
    "    - Race - Ethnicity\n",
    "    - Age At Release\n",
    "    - Convicting Offense Classification\n",
    "    - Convicting Offense Type\n",
    "    - Convicting Offense Subtype\n",
    "    - Main Supervising District\n",
    "    - Release Type\n",
    "    - Release type: Paroled to Detainder united\n",
    "    - Part of Target Population"
   ]
  },
  {
   "cell_type": "markdown",
   "metadata": {},
   "source": [
    "<img src=\"LSA_map_with_counties_districts_and_B54A5BBCE4156.jpg\" width=800>"
   ]
  },
  {
   "cell_type": "markdown",
   "metadata": {},
   "source": [
    "### Detailed variable descriptions:"
   ]
  },
  {
   "cell_type": "markdown",
   "metadata": {},
   "source": [
    "- **Fiscal Year Released**\n",
    "    - Fiscal year (year ending June 30) for which the offender was released from prison.\n",
    "\n",
    "- **Recidivism Reporting Year**\n",
    "    - Fiscal year (year ending June 30) that marks the end of the 3-year tracking period. For example, offenders exited prison in FY 2012 are found in recidivism reporting year FY 2015.\n",
    "\n",
    "- **Race - Ethnicity**\n",
    "    - Offender's Race and Ethnicity\n",
    "\n",
    "- **Convicting Offense Classification**\n",
    "    - Maximum penalties: A Felony = Life; B Felony = 25 or 50 years; C Felony = 10 years; D Felony = 5 years; Aggravated Misdemeanor = 2 years; Serious Misdemeanor = 1 year; Simple Misdemeanor = 30 days\n",
    "\n",
    "- **Convicting Offense Type**\n",
    "    - General category for the most serious offense for which the offender was placed in prison.\n",
    "\n",
    "- **Convicting Offense Subtype**\n",
    "    - Further classification of the most serious offense for which the offender was placed in prison.\n",
    "\n",
    "- **Release Type**\n",
    "    - Reasoning for Offender's release from prison.\n",
    "\n",
    "- **Main Supervising District**\n",
    "    - The Judicial District supervising the offender for the longest time during the tracking period.\n",
    "\n",
    "- **Recidivism - Return to Prison**\n",
    "    - No = No Recidivism; Yes = Prison admission for any reason within the 3-year tracking period\n",
    "    \n",
    "- **Part of Target Population** \n",
    "    - The Department of Corrections has undertaken specific strategies to reduce recidivism rates for prisoners who are on parole and are part of the target population.\n",
    "    ___"
   ]
  },
  {
   "cell_type": "markdown",
   "metadata": {},
   "source": [
    "# USING THE OSEMN MODEL TO GUIDE WORKFLOW"
   ]
  },
  {
   "cell_type": "markdown",
   "metadata": {},
   "source": [
    "1. **OBTAIN:**\n",
    "    - [x] Import data, inspect, check for datatypes to convert and null values\n",
    "<br><br>\n",
    "\n",
    "2. **SCRUB: cast data types, identify outliers, check for multicollinearity, normalize data**<br>\n",
    "    - Check and cast data types\n",
    "    - [x] Check for missing values \n",
    "    - [x] Check for multicollinearity\n",
    "    - [x] Normalize data (may want to do after some exploring)   \n",
    "    <br><br>\n",
    "            \n",
    "3. **EXPLORE:Check distributions, outliers, etc**\n",
    "    - [x] Check scales, ranges (df.describe())\n",
    "    - [x] Check histograms to get an idea of distributions (df.hist()) and data transformations to perform\n",
    "    - [x] Use scatterplots to check for linearity and possible categorical variables (df.plot(kind-'scatter')\n",
    "    <br><br>\n",
    "\n",
    "   \n",
    "4. **FIT AN INITIAL MODEL:** \n",
    "    - [x] Assess the model.\n",
    "        <br><br>\n",
    "5. **REVISE THE FITTED MODEL**\n",
    "    - [x] Adjust chosen model and hyper-parameters\n",
    "    <br><br>\n",
    "6. **HOLDOUT VALIDATION**\n",
    "    - [ ] Perform cross-validation\n",
    "___"
   ]
  },
  {
   "cell_type": "markdown",
   "metadata": {},
   "source": [
    "# OBTAIN:\n",
    "## Importing Packages"
   ]
  },
  {
   "cell_type": "markdown",
   "metadata": {},
   "source": [
    "### Using Custom PyPi Package - BroadSteel DataScience (bs_ds)\n"
   ]
  },
  {
   "cell_type": "markdown",
   "metadata": {},
   "source": [
    "<img src=\"https://bs-ds.readthedocs.io/en/latest/_images/bs_ds_logo.png\" width=200>"
   ]
  },
  {
   "cell_type": "markdown",
   "metadata": {},
   "source": [
    "- **Used several EDA functions from bs_ds.bamboo module:**\n",
    "    - inspect_df\n",
    "        - https://bs-ds.readthedocs.io/en/latest/bs_ds.html#bs_ds.bamboo.inspect_df\n",
    "    - check_null\n",
    "        - https://bs-ds.readthedocs.io/en/latest/bs_ds.html#bs_ds.bamboo.check_null\n",
    "    - check_unique\n",
    "        - https://bs-ds.readthedocs.io/en/latest/bs_ds.html#bs_ds.bamboo.check_unique\n",
    "    - check_column\n",
    "        - https://bs-ds.readthedocs.io/en/latest/bs_ds.html#bs_ds.bamboo.check_column\n",
    "    - check_numeric\n",
    "        - https://bs-ds.readthedocs.io/en/latest/bs_ds.html#bs_ds.bamboo.check_numeric\n",
    "    - big_pandas\n",
    "        - https://bs-ds.readthedocs.io/en/latest/bs_ds.html#bs_ds.bamboo.big_pandas\n",
    "    - ignore_warnings\n",
    "        - https://bs-ds.readthedocs.io/en/latest/bs_ds.html#bs_ds.bamboo.ignore_warnings\n",
    "    - drop_cols\n",
    "        - https://bs-ds.readthedocs.io/en/latest/bs_ds.html#bs_ds.bamboo.drop_cols"
   ]
  },
  {
   "cell_type": "code",
   "execution_count": 2,
   "metadata": {},
   "outputs": [
    {
     "data": {
      "text/html": [
       "<style>\n",
       "        .{\n",
       "        text-align: center;\n",
       "        }\n",
       "        th{\n",
       "        background-color: black;\n",
       "        color: white;\n",
       "        font-family:serif;\n",
       "        font-size:1.2em;\n",
       "        }\n",
       "        td{\n",
       "        font-size:1.05em;\n",
       "        font-weight:75;\n",
       "        }\n",
       "        td, th{\n",
       "        text-align: center;\n",
       "        }\n",
       "        caption{\n",
       "        text-align: center;\n",
       "        font-size:1.2em;\n",
       "        color: black;\n",
       "        font-weight: bold;\n",
       "        font-style: italic\n",
       "        }\n",
       "    </style>"
      ],
      "text/plain": [
       "<IPython.core.display.HTML object>"
      ]
     },
     "execution_count": 2,
     "metadata": {},
     "output_type": "execute_result"
    }
   ],
   "source": [
    "# Import custom python package BroadSteel DataScience (bs_ds_)\n",
    "from bs_ds.imports import *\n",
    "from bs_ds.bamboo import inspect_df, check_null, check_unique, check_column, check_numeric, big_pandas, ignore_warnings\n",
    "from bs_ds.prettypandas import *\n",
    "html_on()"
   ]
  },
  {
   "cell_type": "code",
   "execution_count": 3,
   "metadata": {
    "scrolled": true
   },
   "outputs": [
    {
     "name": "stdout",
     "output_type": "stream",
     "text": [
      "display.max_columns=None\n",
      "display.expand_frame_repr=False\n",
      "display.max_rows=None\n",
      "display.precision=4\n"
     ]
    }
   ],
   "source": [
    "# Enabling full-sized dataframes and info rows\n",
    "big_pandas()\n",
    "\n",
    "# Turning off warnings for function deprecations\n",
    "ignore_warnings()\n",
    "\n",
    "# Defining colorscheme for notebook\n",
    "plt.style.use('dark_background')"
   ]
  },
  {
   "cell_type": "markdown",
   "metadata": {},
   "source": [
    "## Loading the dataset and removing unrelated columns"
   ]
  },
  {
   "cell_type": "code",
   "execution_count": null,
   "metadata": {},
   "outputs": [],
   "source": []
  },
  {
   "cell_type": "code",
   "execution_count": 4,
   "metadata": {},
   "outputs": [],
   "source": [
    "# Dataset Links\n",
    "full_all_prisoners_file = \"datasets/FULL_3-Year_Recidivism_for_Offenders_Released_from_Prison_in_Iowa.csv\"\n",
    "# only_repeat_criminals_w_new_crime_file= \"datasets/prison_recidivists_with_recidivism_type_only.csv\""
   ]
  },
  {
   "cell_type": "code",
   "execution_count": 5,
   "metadata": {},
   "outputs": [],
   "source": [
    "# Will be using the all_prisoners file to predict recidivism\n",
    "df = pd.read_csv(full_all_prisoners_file)"
   ]
  },
  {
   "cell_type": "markdown",
   "metadata": {},
   "source": [
    "**Any columns that are about New Convictions or days to recidivism should be dropped for our initial model predicting recidivism.**\n",
    "- \"New..\", \"Days to Recividism\""
   ]
  },
  {
   "cell_type": "code",
   "execution_count": 6,
   "metadata": {},
   "outputs": [
    {
     "name": "stdout",
     "output_type": "stream",
     "text": [
      "Removed New.\n",
      "Removed Days.\n",
      "Removed Recidivism Type.\n"
     ]
    }
   ],
   "source": [
    "from bs_ds.bamboo import drop_cols\n",
    "df = drop_cols(df, ['New','Days','Recidivism Type'])"
   ]
  },
  {
   "cell_type": "markdown",
   "metadata": {},
   "source": [
    "### Save original names vs short names in column_legend\n",
    "- then map names onto columns"
   ]
  },
  {
   "cell_type": "code",
   "execution_count": 7,
   "metadata": {},
   "outputs": [
    {
     "name": "stdout",
     "output_type": "stream",
     "text": [
      "Index(['Fiscal Year Released', 'Recidivism Reporting Year', 'Race - Ethnicity',\n",
      "       'Age At Release ', 'Convicting Offense Classification',\n",
      "       'Convicting Offense Type', 'Convicting Offense Subtype', 'Release Type',\n",
      "       'Main Supervising District', 'Recidivism - Return to Prison',\n",
      "       'Part of Target Population', 'Sex'],\n",
      "      dtype='object')\n"
     ]
    }
   ],
   "source": [
    "print(df.columns)"
   ]
  },
  {
   "cell_type": "code",
   "execution_count": 8,
   "metadata": {},
   "outputs": [
    {
     "data": {
      "text/html": [
       "<div>\n",
       "<style scoped>\n",
       "    .dataframe tbody tr th:only-of-type {\n",
       "        vertical-align: middle;\n",
       "    }\n",
       "\n",
       "    .dataframe tbody tr th {\n",
       "        vertical-align: top;\n",
       "    }\n",
       "\n",
       "    .dataframe thead th {\n",
       "        text-align: right;\n",
       "    }\n",
       "</style>\n",
       "<table border=\"1\" class=\"dataframe\">\n",
       "  <thead>\n",
       "    <tr style=\"text-align: right;\">\n",
       "      <th></th>\n",
       "      <th>yr_released</th>\n",
       "      <th>report_year</th>\n",
       "      <th>race_ethnicity</th>\n",
       "      <th>age_released</th>\n",
       "      <th>crime_class</th>\n",
       "      <th>crime_type</th>\n",
       "      <th>crime_subtype</th>\n",
       "      <th>release_type</th>\n",
       "      <th>super_dist</th>\n",
       "      <th>recidivist</th>\n",
       "      <th>target_pop</th>\n",
       "      <th>sex</th>\n",
       "    </tr>\n",
       "  </thead>\n",
       "  <tbody>\n",
       "    <tr>\n",
       "      <th>0</th>\n",
       "      <td>2010</td>\n",
       "      <td>2013</td>\n",
       "      <td>Black - Non-Hispanic</td>\n",
       "      <td>25-34</td>\n",
       "      <td>C Felony</td>\n",
       "      <td>Violent</td>\n",
       "      <td>Robbery</td>\n",
       "      <td>Parole</td>\n",
       "      <td>7JD</td>\n",
       "      <td>Yes</td>\n",
       "      <td>Yes</td>\n",
       "      <td>Male</td>\n",
       "    </tr>\n",
       "    <tr>\n",
       "      <th>1</th>\n",
       "      <td>2010</td>\n",
       "      <td>2013</td>\n",
       "      <td>White - Non-Hispanic</td>\n",
       "      <td>25-34</td>\n",
       "      <td>D Felony</td>\n",
       "      <td>Property</td>\n",
       "      <td>Theft</td>\n",
       "      <td>Discharged – End of Sentence</td>\n",
       "      <td>NaN</td>\n",
       "      <td>Yes</td>\n",
       "      <td>No</td>\n",
       "      <td>Male</td>\n",
       "    </tr>\n",
       "    <tr>\n",
       "      <th>2</th>\n",
       "      <td>2010</td>\n",
       "      <td>2013</td>\n",
       "      <td>White - Non-Hispanic</td>\n",
       "      <td>35-44</td>\n",
       "      <td>B Felony</td>\n",
       "      <td>Drug</td>\n",
       "      <td>Trafficking</td>\n",
       "      <td>Parole</td>\n",
       "      <td>5JD</td>\n",
       "      <td>Yes</td>\n",
       "      <td>Yes</td>\n",
       "      <td>Male</td>\n",
       "    </tr>\n",
       "    <tr>\n",
       "      <th>3</th>\n",
       "      <td>2010</td>\n",
       "      <td>2013</td>\n",
       "      <td>White - Non-Hispanic</td>\n",
       "      <td>25-34</td>\n",
       "      <td>B Felony</td>\n",
       "      <td>Other</td>\n",
       "      <td>Other Criminal</td>\n",
       "      <td>Parole</td>\n",
       "      <td>6JD</td>\n",
       "      <td>No</td>\n",
       "      <td>Yes</td>\n",
       "      <td>Male</td>\n",
       "    </tr>\n",
       "    <tr>\n",
       "      <th>4</th>\n",
       "      <td>2010</td>\n",
       "      <td>2013</td>\n",
       "      <td>Black - Non-Hispanic</td>\n",
       "      <td>35-44</td>\n",
       "      <td>D Felony</td>\n",
       "      <td>Violent</td>\n",
       "      <td>Assault</td>\n",
       "      <td>Discharged – End of Sentence</td>\n",
       "      <td>NaN</td>\n",
       "      <td>Yes</td>\n",
       "      <td>No</td>\n",
       "      <td>Male</td>\n",
       "    </tr>\n",
       "  </tbody>\n",
       "</table>\n",
       "</div>"
      ],
      "text/plain": [
       "   yr_released  report_year        race_ethnicity age_released crime_class crime_type   crime_subtype                  release_type super_dist recidivist target_pop   sex\n",
       "0         2010         2013  Black - Non-Hispanic        25-34    C Felony    Violent         Robbery                        Parole        7JD        Yes        Yes  Male\n",
       "1         2010         2013  White - Non-Hispanic        25-34    D Felony   Property           Theft  Discharged – End of Sentence        NaN        Yes         No  Male\n",
       "2         2010         2013  White - Non-Hispanic        35-44    B Felony       Drug     Trafficking                        Parole        5JD        Yes        Yes  Male\n",
       "3         2010         2013  White - Non-Hispanic        25-34    B Felony      Other  Other Criminal                        Parole        6JD         No        Yes  Male\n",
       "4         2010         2013  Black - Non-Hispanic        35-44    D Felony    Violent         Assault  Discharged – End of Sentence        NaN        Yes         No  Male"
      ]
     },
     "execution_count": 8,
     "metadata": {},
     "output_type": "execute_result"
    }
   ],
   "source": [
    "# New short-hand names to use\n",
    "colnames_short = ('yr_released','report_year','race_ethnicity',\n",
    "                  'age_released','crime_class','crime_type',\n",
    "                  'crime_subtype','release_type','super_dist',\n",
    "                  'recidivist','target_pop','sex')\n",
    "\n",
    "# Zipping the original and new into a renaming dictionary\n",
    "column_legend = dict(zip(df.columns,colnames_short))\n",
    "# Rename df with shorter names\n",
    "df.rename(mapper=column_legend, axis=1, inplace=True)\n",
    "df.head()"
   ]
  },
  {
   "cell_type": "markdown",
   "metadata": {},
   "source": [
    "### Testing bs_ds.prettypands"
   ]
  },
  {
   "cell_type": "code",
   "execution_count": 14,
   "metadata": {},
   "outputs": [],
   "source": [
    "import bs_ds.prettypandas as pp"
   ]
  },
  {
   "cell_type": "code",
   "execution_count": 28,
   "metadata": {},
   "outputs": [
    {
     "data": {
      "text/html": [
       "<style>\n",
       "    .\n",
       "    caption{\n",
       "    text-align: center;\n",
       "    font-size:1.2em;\n",
       "    color: black;\n",
       "    font-weight: bold;\n",
       "    font-style: italic\n",
       "    }\n",
       "\n",
       "    th{\n",
       "    background-color: black;\n",
       "    color: white;\n",
       "    font-family:serif;\n",
       "    font-size:1.2em;\n",
       "    }\n",
       "    td{\n",
       "    font-size:1.05em;\n",
       "    font-weight:75;\n",
       "    }\n",
       "    table.dataframe td, th{\n",
       "    text-align: center;\n",
       "    }\n",
       "    dataframe{\n",
       "    text-align: center\n",
       "    }\n",
       "\n",
       "</style>"
      ],
      "text/plain": [
       "<IPython.core.display.HTML object>"
      ]
     },
     "execution_count": 28,
     "metadata": {},
     "output_type": "execute_result"
    }
   ],
   "source": [
    "myCSS =\"\"\"\n",
    "    .\n",
    "    caption{\n",
    "    text-align: center;\n",
    "    font-size:1.2em;\n",
    "    color: black;\n",
    "    font-weight: bold;\n",
    "    font-style: italic\n",
    "    }\n",
    "\n",
    "    th{\n",
    "    background-color: black;\n",
    "    color: white;\n",
    "    font-family:serif;\n",
    "    font-size:1.2em;\n",
    "    }\n",
    "    td{\n",
    "    font-size:1.05em;\n",
    "    font-weight:75;\n",
    "    }\n",
    "    table.dataframe td, th{\n",
    "    text-align: center;\n",
    "    }\n",
    "    dataframe{\n",
    "    text-align: center\n",
    "    }\n",
    "\n",
    "\"\"\"\n",
    "html_on(myCSS)"
   ]
  },
  {
   "cell_type": "code",
   "execution_count": null,
   "metadata": {},
   "outputs": [],
   "source": [
    "# CSS=\"\"\"\n",
    "#     .{\n",
    "#     text-align: center;\n",
    "#     }\n",
    "#     th{\n",
    "#     background-color: black;\n",
    "#     color: white;\n",
    "#     font-family:serif;\n",
    "#     font-size:1.2em;\n",
    "#     }\n",
    "#     td{\n",
    "#     font-size:1.05em;\n",
    "#     font-weight:75;\n",
    "#     }\n",
    "#     td, th{\n",
    "#     text-align: center;\n",
    "#     }\n",
    "#     caption{\n",
    "#     text-align: center;\n",
    "#     font-size:1.2em;\n",
    "#     color: black;\n",
    "#     font-weight: bold;\n",
    "#     font-style: italic\n",
    "#     }\n",
    "# \"\"\"\n",
    "# HTML(f\"<style>{CSS}</style>\")"
   ]
  },
  {
   "cell_type": "code",
   "execution_count": 25,
   "metadata": {},
   "outputs": [
    {
     "data": {
      "text/html": [
       "<style>\n",
       "table.dataframe td, table.dataframe th { /* This is for the borders for columns)*/\n",
       "    border: 2px solid black\n",
       "    border-collapse:collapse;\n",
       "    text-align:center;\n",
       "}\n",
       "table.dataframe th {\n",
       "    /*padding:1em 1em;*/\n",
       "    background-color: #000000;\n",
       "    color: #ffffff;\n",
       "    text-align: center;\n",
       "    font-weight: bold;\n",
       "    font-size: 12pt\n",
       "    font-weight: bold;\n",
       "    padding: 0.5em 0.5em;\n",
       "}\n",
       "table.dataframe td:not(:th){\n",
       "    /*border: 1px solid ##e8e8ea;*/\n",
       "    /*background-color: ##e8e8ea;*/\n",
       "    background-color: gainsboro;\n",
       "    text-align: center;\n",
       "    vertical-align: middle;\n",
       "    font-size:10pt;\n",
       "    padding: 0.7em 1em;\n",
       "    /*padding: 0.1em 0.1em;*/\n",
       "}\n",
       "table.dataframe tr:not(:last-child) {\n",
       "    border-bottom: 1px solid gainsboro;\n",
       "}\n",
       "table.dataframe {\n",
       "    /*border-collapse: collapse;*/\n",
       "    background-color: gainsboro; /* This is alternate rows*/\n",
       "    text-align: center;\n",
       "    border: 2px solid black;\n",
       "}\n",
       "table.dataframe th:not(:empty), table.dataframe td{\n",
       "    border-right: 1px solid white;\n",
       "    text-align: center;\n",
       "}\n",
       "# </style>"
      ],
      "text/plain": [
       "<IPython.core.display.HTML object>"
      ]
     },
     "execution_count": 25,
     "metadata": {},
     "output_type": "execute_result"
    }
   ],
   "source": [
    "CSS = \"\"\"\n",
    "table.dataframe td, table.dataframe th { /* This is for the borders for columns)*/\n",
    "    border: 2px solid black\n",
    "    border-collapse:collapse;\n",
    "    text-align:center;\n",
    "}\n",
    "table.dataframe th {\n",
    "    /*padding:1em 1em;*/\n",
    "    background-color: #000000;\n",
    "    color: #ffffff;\n",
    "    text-align: center;\n",
    "    font-weight: bold;\n",
    "    font-size: 12pt\n",
    "    font-weight: bold;\n",
    "    padding: 0.5em 0.5em;\n",
    "}\n",
    "table.dataframe td:not(:th){\n",
    "    /*border: 1px solid ##e8e8ea;*/\n",
    "    /*background-color: ##e8e8ea;*/\n",
    "    background-color: gainsboro;\n",
    "    text-align: center;\n",
    "    vertical-align: middle;\n",
    "    font-size:10pt;\n",
    "    padding: 0.7em 1em;\n",
    "    /*padding: 0.1em 0.1em;*/\n",
    "}\n",
    "table.dataframe tr:not(:last-child) {\n",
    "    border-bottom: 1px solid gainsboro;\n",
    "}\n",
    "table.dataframe {\n",
    "    /*border-collapse: collapse;*/\n",
    "    background-color: gainsboro; /* This is alternate rows*/\n",
    "    text-align: center;\n",
    "    border: 2px solid black;\n",
    "}\n",
    "table.dataframe th:not(:empty), table.dataframe td{\n",
    "    border-right: 1px solid white;\n",
    "    text-align: center;\n",
    "}\n",
    "# \"\"\"\n",
    "html_on(CSS)"
   ]
  },
  {
   "cell_type": "code",
   "execution_count": 23,
   "metadata": {
    "scrolled": false
   },
   "outputs": [
    {
     "name": "stdout",
     "output_type": "stream",
     "text": [
      "<class 'pandas.core.frame.DataFrame'>\n",
      "RangeIndex: 26020 entries, 0 to 26019\n",
      "Data columns (total 12 columns):\n",
      "yr_released       26020 non-null int64\n",
      "report_year       26020 non-null int64\n",
      "race_ethnicity    25990 non-null object\n",
      "age_released      26017 non-null object\n",
      "crime_class       26020 non-null object\n",
      "crime_type        26020 non-null object\n",
      "crime_subtype     26020 non-null object\n",
      "release_type      24258 non-null object\n",
      "super_dist        16439 non-null object\n",
      "recidivist        26020 non-null object\n",
      "target_pop        26020 non-null object\n",
      "sex               26017 non-null object\n",
      "dtypes: int64(2), object(10)\n",
      "memory usage: 2.4+ MB\n"
     ]
    },
    {
     "data": {
      "text/plain": [
       "None"
      ]
     },
     "metadata": {},
     "output_type": "display_data"
    },
    {
     "data": {
      "text/html": [
       "&nbsp;<style  type=\"text/css\" >\n",
       "</style><table style=\"display:inline\" id=\"T_a8ac959a_79fc_11e9_a808_f48e38b6371f\" ><caption># of Identified Null Values:</caption><thead>    <tr>        <th class=\"blank level0\" ></th>        <th class=\"col_heading level0 col0\" >Null values</th>        <th class=\"col_heading level0 col1\" >Total Values</th>        <th class=\"col_heading level0 col2\" >Percent</th>    </tr>    <tr>        <th class=\"index_name level0\" >Column</th>        <th class=\"blank\" ></th>        <th class=\"blank\" ></th>        <th class=\"blank\" ></th>    </tr></thead><tbody>\n",
       "                <tr>\n",
       "                        <th id=\"T_a8ac959a_79fc_11e9_a808_f48e38b6371flevel0_row0\" class=\"row_heading level0 row0\" >yr_released</th>\n",
       "                        <td id=\"T_a8ac959a_79fc_11e9_a808_f48e38b6371frow0_col0\" class=\"data row0 col0\" >0</td>\n",
       "                        <td id=\"T_a8ac959a_79fc_11e9_a808_f48e38b6371frow0_col1\" class=\"data row0 col1\" >26020</td>\n",
       "                        <td id=\"T_a8ac959a_79fc_11e9_a808_f48e38b6371frow0_col2\" class=\"data row0 col2\" >0</td>\n",
       "            </tr>\n",
       "            <tr>\n",
       "                        <th id=\"T_a8ac959a_79fc_11e9_a808_f48e38b6371flevel0_row1\" class=\"row_heading level0 row1\" >report_year</th>\n",
       "                        <td id=\"T_a8ac959a_79fc_11e9_a808_f48e38b6371frow1_col0\" class=\"data row1 col0\" >0</td>\n",
       "                        <td id=\"T_a8ac959a_79fc_11e9_a808_f48e38b6371frow1_col1\" class=\"data row1 col1\" >26020</td>\n",
       "                        <td id=\"T_a8ac959a_79fc_11e9_a808_f48e38b6371frow1_col2\" class=\"data row1 col2\" >0</td>\n",
       "            </tr>\n",
       "            <tr>\n",
       "                        <th id=\"T_a8ac959a_79fc_11e9_a808_f48e38b6371flevel0_row2\" class=\"row_heading level0 row2\" >race_ethnicity</th>\n",
       "                        <td id=\"T_a8ac959a_79fc_11e9_a808_f48e38b6371frow2_col0\" class=\"data row2 col0\" >30</td>\n",
       "                        <td id=\"T_a8ac959a_79fc_11e9_a808_f48e38b6371frow2_col1\" class=\"data row2 col1\" >26020</td>\n",
       "                        <td id=\"T_a8ac959a_79fc_11e9_a808_f48e38b6371frow2_col2\" class=\"data row2 col2\" >0.115</td>\n",
       "            </tr>\n",
       "            <tr>\n",
       "                        <th id=\"T_a8ac959a_79fc_11e9_a808_f48e38b6371flevel0_row3\" class=\"row_heading level0 row3\" >age_released</th>\n",
       "                        <td id=\"T_a8ac959a_79fc_11e9_a808_f48e38b6371frow3_col0\" class=\"data row3 col0\" >3</td>\n",
       "                        <td id=\"T_a8ac959a_79fc_11e9_a808_f48e38b6371frow3_col1\" class=\"data row3 col1\" >26020</td>\n",
       "                        <td id=\"T_a8ac959a_79fc_11e9_a808_f48e38b6371frow3_col2\" class=\"data row3 col2\" >0.012</td>\n",
       "            </tr>\n",
       "            <tr>\n",
       "                        <th id=\"T_a8ac959a_79fc_11e9_a808_f48e38b6371flevel0_row4\" class=\"row_heading level0 row4\" >crime_class</th>\n",
       "                        <td id=\"T_a8ac959a_79fc_11e9_a808_f48e38b6371frow4_col0\" class=\"data row4 col0\" >0</td>\n",
       "                        <td id=\"T_a8ac959a_79fc_11e9_a808_f48e38b6371frow4_col1\" class=\"data row4 col1\" >26020</td>\n",
       "                        <td id=\"T_a8ac959a_79fc_11e9_a808_f48e38b6371frow4_col2\" class=\"data row4 col2\" >0</td>\n",
       "            </tr>\n",
       "            <tr>\n",
       "                        <th id=\"T_a8ac959a_79fc_11e9_a808_f48e38b6371flevel0_row5\" class=\"row_heading level0 row5\" >crime_type</th>\n",
       "                        <td id=\"T_a8ac959a_79fc_11e9_a808_f48e38b6371frow5_col0\" class=\"data row5 col0\" >0</td>\n",
       "                        <td id=\"T_a8ac959a_79fc_11e9_a808_f48e38b6371frow5_col1\" class=\"data row5 col1\" >26020</td>\n",
       "                        <td id=\"T_a8ac959a_79fc_11e9_a808_f48e38b6371frow5_col2\" class=\"data row5 col2\" >0</td>\n",
       "            </tr>\n",
       "            <tr>\n",
       "                        <th id=\"T_a8ac959a_79fc_11e9_a808_f48e38b6371flevel0_row6\" class=\"row_heading level0 row6\" >crime_subtype</th>\n",
       "                        <td id=\"T_a8ac959a_79fc_11e9_a808_f48e38b6371frow6_col0\" class=\"data row6 col0\" >0</td>\n",
       "                        <td id=\"T_a8ac959a_79fc_11e9_a808_f48e38b6371frow6_col1\" class=\"data row6 col1\" >26020</td>\n",
       "                        <td id=\"T_a8ac959a_79fc_11e9_a808_f48e38b6371frow6_col2\" class=\"data row6 col2\" >0</td>\n",
       "            </tr>\n",
       "            <tr>\n",
       "                        <th id=\"T_a8ac959a_79fc_11e9_a808_f48e38b6371flevel0_row7\" class=\"row_heading level0 row7\" >release_type</th>\n",
       "                        <td id=\"T_a8ac959a_79fc_11e9_a808_f48e38b6371frow7_col0\" class=\"data row7 col0\" >1762</td>\n",
       "                        <td id=\"T_a8ac959a_79fc_11e9_a808_f48e38b6371frow7_col1\" class=\"data row7 col1\" >26020</td>\n",
       "                        <td id=\"T_a8ac959a_79fc_11e9_a808_f48e38b6371frow7_col2\" class=\"data row7 col2\" >6.772</td>\n",
       "            </tr>\n",
       "            <tr>\n",
       "                        <th id=\"T_a8ac959a_79fc_11e9_a808_f48e38b6371flevel0_row8\" class=\"row_heading level0 row8\" >super_dist</th>\n",
       "                        <td id=\"T_a8ac959a_79fc_11e9_a808_f48e38b6371frow8_col0\" class=\"data row8 col0\" >9581</td>\n",
       "                        <td id=\"T_a8ac959a_79fc_11e9_a808_f48e38b6371frow8_col1\" class=\"data row8 col1\" >26020</td>\n",
       "                        <td id=\"T_a8ac959a_79fc_11e9_a808_f48e38b6371frow8_col2\" class=\"data row8 col2\" >36.82</td>\n",
       "            </tr>\n",
       "            <tr>\n",
       "                        <th id=\"T_a8ac959a_79fc_11e9_a808_f48e38b6371flevel0_row9\" class=\"row_heading level0 row9\" >recidivist</th>\n",
       "                        <td id=\"T_a8ac959a_79fc_11e9_a808_f48e38b6371frow9_col0\" class=\"data row9 col0\" >0</td>\n",
       "                        <td id=\"T_a8ac959a_79fc_11e9_a808_f48e38b6371frow9_col1\" class=\"data row9 col1\" >26020</td>\n",
       "                        <td id=\"T_a8ac959a_79fc_11e9_a808_f48e38b6371frow9_col2\" class=\"data row9 col2\" >0</td>\n",
       "            </tr>\n",
       "            <tr>\n",
       "                        <th id=\"T_a8ac959a_79fc_11e9_a808_f48e38b6371flevel0_row10\" class=\"row_heading level0 row10\" >target_pop</th>\n",
       "                        <td id=\"T_a8ac959a_79fc_11e9_a808_f48e38b6371frow10_col0\" class=\"data row10 col0\" >0</td>\n",
       "                        <td id=\"T_a8ac959a_79fc_11e9_a808_f48e38b6371frow10_col1\" class=\"data row10 col1\" >26020</td>\n",
       "                        <td id=\"T_a8ac959a_79fc_11e9_a808_f48e38b6371frow10_col2\" class=\"data row10 col2\" >0</td>\n",
       "            </tr>\n",
       "            <tr>\n",
       "                        <th id=\"T_a8ac959a_79fc_11e9_a808_f48e38b6371flevel0_row11\" class=\"row_heading level0 row11\" >sex</th>\n",
       "                        <td id=\"T_a8ac959a_79fc_11e9_a808_f48e38b6371frow11_col0\" class=\"data row11 col0\" >3</td>\n",
       "                        <td id=\"T_a8ac959a_79fc_11e9_a808_f48e38b6371frow11_col1\" class=\"data row11 col1\" >26020</td>\n",
       "                        <td id=\"T_a8ac959a_79fc_11e9_a808_f48e38b6371frow11_col2\" class=\"data row11 col2\" >0.012</td>\n",
       "            </tr>\n",
       "    </tbody></table style=\"display:inline\">&nbsp;<style  type=\"text/css\" >\n",
       "</style><table style=\"display:inline\" id=\"T_a8ace29c_79fc_11e9_bf36_f48e38b6371f\" ><caption># of Detected Numeric Values in \"Object\" columns:</caption><thead>    <tr>        <th class=\"blank level0\" ></th>        <th class=\"col_heading level0 col0\" >Numeric values</th>        <th class=\"col_heading level0 col1\" >Total Values</th>        <th class=\"col_heading level0 col2\" >Percent</th>    </tr>    <tr>        <th class=\"index_name level0\" >Column</th>        <th class=\"blank\" ></th>        <th class=\"blank\" ></th>        <th class=\"blank\" ></th>    </tr></thead><tbody>\n",
       "        </tbody></table style=\"display:inline\"><table style=\"display:inline\" border=\"1\" class=\"dataframe\">\n",
       "  <thead>\n",
       "    <tr style=\"text-align: right;\">\n",
       "      <th></th>\n",
       "      <th>yr_released</th>\n",
       "      <th>report_year</th>\n",
       "    </tr>\n",
       "  </thead>\n",
       "  <tbody>\n",
       "    <tr>\n",
       "      <th>count</th>\n",
       "      <td>26020.0000</td>\n",
       "      <td>26020.0000</td>\n",
       "    </tr>\n",
       "    <tr>\n",
       "      <th>mean</th>\n",
       "      <td>2012.6008</td>\n",
       "      <td>2015.6008</td>\n",
       "    </tr>\n",
       "    <tr>\n",
       "      <th>std</th>\n",
       "      <td>1.6610</td>\n",
       "      <td>1.6610</td>\n",
       "    </tr>\n",
       "    <tr>\n",
       "      <th>min</th>\n",
       "      <td>2010.0000</td>\n",
       "      <td>2013.0000</td>\n",
       "    </tr>\n",
       "    <tr>\n",
       "      <th>25%</th>\n",
       "      <td>2011.0000</td>\n",
       "      <td>2014.0000</td>\n",
       "    </tr>\n",
       "    <tr>\n",
       "      <th>50%</th>\n",
       "      <td>2013.0000</td>\n",
       "      <td>2016.0000</td>\n",
       "    </tr>\n",
       "    <tr>\n",
       "      <th>75%</th>\n",
       "      <td>2014.0000</td>\n",
       "      <td>2017.0000</td>\n",
       "    </tr>\n",
       "    <tr>\n",
       "      <th>max</th>\n",
       "      <td>2015.0000</td>\n",
       "      <td>2018.0000</td>\n",
       "    </tr>\n",
       "  </tbody>\n",
       "</table style=\"display:inline\">"
      ]
     },
     "metadata": {},
     "output_type": "display_data"
    },
    {
     "data": {
      "text/html": [
       "<div>\n",
       "<style scoped>\n",
       "    .dataframe tbody tr th:only-of-type {\n",
       "        vertical-align: middle;\n",
       "    }\n",
       "\n",
       "    .dataframe tbody tr th {\n",
       "        vertical-align: top;\n",
       "    }\n",
       "\n",
       "    .dataframe thead th {\n",
       "        text-align: right;\n",
       "    }\n",
       "</style>\n",
       "<table border=\"1\" class=\"dataframe\">\n",
       "  <thead>\n",
       "    <tr style=\"text-align: right;\">\n",
       "      <th></th>\n",
       "      <th>yr_released</th>\n",
       "      <th>report_year</th>\n",
       "      <th>race_ethnicity</th>\n",
       "      <th>age_released</th>\n",
       "      <th>crime_class</th>\n",
       "      <th>crime_type</th>\n",
       "      <th>crime_subtype</th>\n",
       "      <th>release_type</th>\n",
       "      <th>super_dist</th>\n",
       "      <th>recidivist</th>\n",
       "      <th>target_pop</th>\n",
       "      <th>sex</th>\n",
       "    </tr>\n",
       "  </thead>\n",
       "  <tbody>\n",
       "    <tr>\n",
       "      <th>0</th>\n",
       "      <td>2010</td>\n",
       "      <td>2013</td>\n",
       "      <td>Black - Non-Hispanic</td>\n",
       "      <td>25-34</td>\n",
       "      <td>C Felony</td>\n",
       "      <td>Violent</td>\n",
       "      <td>Robbery</td>\n",
       "      <td>Parole</td>\n",
       "      <td>7JD</td>\n",
       "      <td>Yes</td>\n",
       "      <td>Yes</td>\n",
       "      <td>Male</td>\n",
       "    </tr>\n",
       "    <tr>\n",
       "      <th>1</th>\n",
       "      <td>2010</td>\n",
       "      <td>2013</td>\n",
       "      <td>White - Non-Hispanic</td>\n",
       "      <td>25-34</td>\n",
       "      <td>D Felony</td>\n",
       "      <td>Property</td>\n",
       "      <td>Theft</td>\n",
       "      <td>Discharged – End of Sentence</td>\n",
       "      <td>NaN</td>\n",
       "      <td>Yes</td>\n",
       "      <td>No</td>\n",
       "      <td>Male</td>\n",
       "    </tr>\n",
       "    <tr>\n",
       "      <th>2</th>\n",
       "      <td>2010</td>\n",
       "      <td>2013</td>\n",
       "      <td>White - Non-Hispanic</td>\n",
       "      <td>35-44</td>\n",
       "      <td>B Felony</td>\n",
       "      <td>Drug</td>\n",
       "      <td>Trafficking</td>\n",
       "      <td>Parole</td>\n",
       "      <td>5JD</td>\n",
       "      <td>Yes</td>\n",
       "      <td>Yes</td>\n",
       "      <td>Male</td>\n",
       "    </tr>\n",
       "  </tbody>\n",
       "</table>\n",
       "</div>"
      ],
      "text/plain": [
       "   yr_released  report_year        race_ethnicity age_released crime_class crime_type crime_subtype                  release_type super_dist recidivist target_pop   sex\n",
       "0         2010         2013  Black - Non-Hispanic        25-34    C Felony    Violent       Robbery                        Parole        7JD        Yes        Yes  Male\n",
       "1         2010         2013  White - Non-Hispanic        25-34    D Felony   Property         Theft  Discharged – End of Sentence        NaN        Yes         No  Male\n",
       "2         2010         2013  White - Non-Hispanic        35-44    B Felony       Drug   Trafficking                        Parole        5JD        Yes        Yes  Male"
      ]
     },
     "metadata": {},
     "output_type": "display_data"
    }
   ],
   "source": [
    "inspect_df(df)"
   ]
  },
  {
   "cell_type": "code",
   "execution_count": 31,
   "metadata": {},
   "outputs": [
    {
     "data": {
      "text/html": [
       "<style  type=\"text/css\" >\n",
       "</style><table id=\"T_3e36d7c8_79fd_11e9_886a_f48e38b6371f\" ><caption># of Identified Null Values:</caption><thead>    <tr>        <th class=\"blank level0\" ></th>        <th class=\"col_heading level0 col0\" >Null values</th>        <th class=\"col_heading level0 col1\" >Total Values</th>        <th class=\"col_heading level0 col2\" >Percent</th>    </tr>    <tr>        <th class=\"index_name level0\" >Column</th>        <th class=\"blank\" ></th>        <th class=\"blank\" ></th>        <th class=\"blank\" ></th>    </tr></thead><tbody>\n",
       "                <tr>\n",
       "                        <th id=\"T_3e36d7c8_79fd_11e9_886a_f48e38b6371flevel0_row0\" class=\"row_heading level0 row0\" >yr_released</th>\n",
       "                        <td id=\"T_3e36d7c8_79fd_11e9_886a_f48e38b6371frow0_col0\" class=\"data row0 col0\" >0</td>\n",
       "                        <td id=\"T_3e36d7c8_79fd_11e9_886a_f48e38b6371frow0_col1\" class=\"data row0 col1\" >26020</td>\n",
       "                        <td id=\"T_3e36d7c8_79fd_11e9_886a_f48e38b6371frow0_col2\" class=\"data row0 col2\" >0</td>\n",
       "            </tr>\n",
       "            <tr>\n",
       "                        <th id=\"T_3e36d7c8_79fd_11e9_886a_f48e38b6371flevel0_row1\" class=\"row_heading level0 row1\" >report_year</th>\n",
       "                        <td id=\"T_3e36d7c8_79fd_11e9_886a_f48e38b6371frow1_col0\" class=\"data row1 col0\" >0</td>\n",
       "                        <td id=\"T_3e36d7c8_79fd_11e9_886a_f48e38b6371frow1_col1\" class=\"data row1 col1\" >26020</td>\n",
       "                        <td id=\"T_3e36d7c8_79fd_11e9_886a_f48e38b6371frow1_col2\" class=\"data row1 col2\" >0</td>\n",
       "            </tr>\n",
       "            <tr>\n",
       "                        <th id=\"T_3e36d7c8_79fd_11e9_886a_f48e38b6371flevel0_row2\" class=\"row_heading level0 row2\" >race_ethnicity</th>\n",
       "                        <td id=\"T_3e36d7c8_79fd_11e9_886a_f48e38b6371frow2_col0\" class=\"data row2 col0\" >30</td>\n",
       "                        <td id=\"T_3e36d7c8_79fd_11e9_886a_f48e38b6371frow2_col1\" class=\"data row2 col1\" >26020</td>\n",
       "                        <td id=\"T_3e36d7c8_79fd_11e9_886a_f48e38b6371frow2_col2\" class=\"data row2 col2\" >0.115</td>\n",
       "            </tr>\n",
       "            <tr>\n",
       "                        <th id=\"T_3e36d7c8_79fd_11e9_886a_f48e38b6371flevel0_row3\" class=\"row_heading level0 row3\" >age_released</th>\n",
       "                        <td id=\"T_3e36d7c8_79fd_11e9_886a_f48e38b6371frow3_col0\" class=\"data row3 col0\" >3</td>\n",
       "                        <td id=\"T_3e36d7c8_79fd_11e9_886a_f48e38b6371frow3_col1\" class=\"data row3 col1\" >26020</td>\n",
       "                        <td id=\"T_3e36d7c8_79fd_11e9_886a_f48e38b6371frow3_col2\" class=\"data row3 col2\" >0.012</td>\n",
       "            </tr>\n",
       "            <tr>\n",
       "                        <th id=\"T_3e36d7c8_79fd_11e9_886a_f48e38b6371flevel0_row4\" class=\"row_heading level0 row4\" >crime_class</th>\n",
       "                        <td id=\"T_3e36d7c8_79fd_11e9_886a_f48e38b6371frow4_col0\" class=\"data row4 col0\" >0</td>\n",
       "                        <td id=\"T_3e36d7c8_79fd_11e9_886a_f48e38b6371frow4_col1\" class=\"data row4 col1\" >26020</td>\n",
       "                        <td id=\"T_3e36d7c8_79fd_11e9_886a_f48e38b6371frow4_col2\" class=\"data row4 col2\" >0</td>\n",
       "            </tr>\n",
       "            <tr>\n",
       "                        <th id=\"T_3e36d7c8_79fd_11e9_886a_f48e38b6371flevel0_row5\" class=\"row_heading level0 row5\" >crime_type</th>\n",
       "                        <td id=\"T_3e36d7c8_79fd_11e9_886a_f48e38b6371frow5_col0\" class=\"data row5 col0\" >0</td>\n",
       "                        <td id=\"T_3e36d7c8_79fd_11e9_886a_f48e38b6371frow5_col1\" class=\"data row5 col1\" >26020</td>\n",
       "                        <td id=\"T_3e36d7c8_79fd_11e9_886a_f48e38b6371frow5_col2\" class=\"data row5 col2\" >0</td>\n",
       "            </tr>\n",
       "            <tr>\n",
       "                        <th id=\"T_3e36d7c8_79fd_11e9_886a_f48e38b6371flevel0_row6\" class=\"row_heading level0 row6\" >crime_subtype</th>\n",
       "                        <td id=\"T_3e36d7c8_79fd_11e9_886a_f48e38b6371frow6_col0\" class=\"data row6 col0\" >0</td>\n",
       "                        <td id=\"T_3e36d7c8_79fd_11e9_886a_f48e38b6371frow6_col1\" class=\"data row6 col1\" >26020</td>\n",
       "                        <td id=\"T_3e36d7c8_79fd_11e9_886a_f48e38b6371frow6_col2\" class=\"data row6 col2\" >0</td>\n",
       "            </tr>\n",
       "            <tr>\n",
       "                        <th id=\"T_3e36d7c8_79fd_11e9_886a_f48e38b6371flevel0_row7\" class=\"row_heading level0 row7\" >release_type</th>\n",
       "                        <td id=\"T_3e36d7c8_79fd_11e9_886a_f48e38b6371frow7_col0\" class=\"data row7 col0\" >1762</td>\n",
       "                        <td id=\"T_3e36d7c8_79fd_11e9_886a_f48e38b6371frow7_col1\" class=\"data row7 col1\" >26020</td>\n",
       "                        <td id=\"T_3e36d7c8_79fd_11e9_886a_f48e38b6371frow7_col2\" class=\"data row7 col2\" >6.772</td>\n",
       "            </tr>\n",
       "            <tr>\n",
       "                        <th id=\"T_3e36d7c8_79fd_11e9_886a_f48e38b6371flevel0_row8\" class=\"row_heading level0 row8\" >super_dist</th>\n",
       "                        <td id=\"T_3e36d7c8_79fd_11e9_886a_f48e38b6371frow8_col0\" class=\"data row8 col0\" >9581</td>\n",
       "                        <td id=\"T_3e36d7c8_79fd_11e9_886a_f48e38b6371frow8_col1\" class=\"data row8 col1\" >26020</td>\n",
       "                        <td id=\"T_3e36d7c8_79fd_11e9_886a_f48e38b6371frow8_col2\" class=\"data row8 col2\" >36.82</td>\n",
       "            </tr>\n",
       "            <tr>\n",
       "                        <th id=\"T_3e36d7c8_79fd_11e9_886a_f48e38b6371flevel0_row9\" class=\"row_heading level0 row9\" >recidivist</th>\n",
       "                        <td id=\"T_3e36d7c8_79fd_11e9_886a_f48e38b6371frow9_col0\" class=\"data row9 col0\" >0</td>\n",
       "                        <td id=\"T_3e36d7c8_79fd_11e9_886a_f48e38b6371frow9_col1\" class=\"data row9 col1\" >26020</td>\n",
       "                        <td id=\"T_3e36d7c8_79fd_11e9_886a_f48e38b6371frow9_col2\" class=\"data row9 col2\" >0</td>\n",
       "            </tr>\n",
       "            <tr>\n",
       "                        <th id=\"T_3e36d7c8_79fd_11e9_886a_f48e38b6371flevel0_row10\" class=\"row_heading level0 row10\" >target_pop</th>\n",
       "                        <td id=\"T_3e36d7c8_79fd_11e9_886a_f48e38b6371frow10_col0\" class=\"data row10 col0\" >0</td>\n",
       "                        <td id=\"T_3e36d7c8_79fd_11e9_886a_f48e38b6371frow10_col1\" class=\"data row10 col1\" >26020</td>\n",
       "                        <td id=\"T_3e36d7c8_79fd_11e9_886a_f48e38b6371frow10_col2\" class=\"data row10 col2\" >0</td>\n",
       "            </tr>\n",
       "            <tr>\n",
       "                        <th id=\"T_3e36d7c8_79fd_11e9_886a_f48e38b6371flevel0_row11\" class=\"row_heading level0 row11\" >sex</th>\n",
       "                        <td id=\"T_3e36d7c8_79fd_11e9_886a_f48e38b6371frow11_col0\" class=\"data row11 col0\" >3</td>\n",
       "                        <td id=\"T_3e36d7c8_79fd_11e9_886a_f48e38b6371frow11_col1\" class=\"data row11 col1\" >26020</td>\n",
       "                        <td id=\"T_3e36d7c8_79fd_11e9_886a_f48e38b6371frow11_col2\" class=\"data row11 col2\" >0.012</td>\n",
       "            </tr>\n",
       "    </tbody></table>"
      ],
      "text/plain": [
       "<pandas.io.formats.style.Styler at 0x21f7336c400>"
      ]
     },
     "metadata": {},
     "output_type": "display_data"
    },
    {
     "data": {
      "text/html": [
       "<style  type=\"text/css\" >\n",
       "</style><table id=\"T_3e377450_79fd_11e9_8896_f48e38b6371f\" ><caption># of Identified Null Values:</caption><thead>    <tr>        <th class=\"blank level0\" ></th>        <th class=\"col_heading level0 col0\" >Null values</th>        <th class=\"col_heading level0 col1\" >Total Values</th>        <th class=\"col_heading level0 col2\" >Percent</th>    </tr>    <tr>        <th class=\"index_name level0\" >Column</th>        <th class=\"blank\" ></th>        <th class=\"blank\" ></th>        <th class=\"blank\" ></th>    </tr></thead><tbody>\n",
       "                <tr>\n",
       "                        <th id=\"T_3e377450_79fd_11e9_8896_f48e38b6371flevel0_row0\" class=\"row_heading level0 row0\" >yr_released</th>\n",
       "                        <td id=\"T_3e377450_79fd_11e9_8896_f48e38b6371frow0_col0\" class=\"data row0 col0\" >0</td>\n",
       "                        <td id=\"T_3e377450_79fd_11e9_8896_f48e38b6371frow0_col1\" class=\"data row0 col1\" >26020</td>\n",
       "                        <td id=\"T_3e377450_79fd_11e9_8896_f48e38b6371frow0_col2\" class=\"data row0 col2\" >0</td>\n",
       "            </tr>\n",
       "            <tr>\n",
       "                        <th id=\"T_3e377450_79fd_11e9_8896_f48e38b6371flevel0_row1\" class=\"row_heading level0 row1\" >report_year</th>\n",
       "                        <td id=\"T_3e377450_79fd_11e9_8896_f48e38b6371frow1_col0\" class=\"data row1 col0\" >0</td>\n",
       "                        <td id=\"T_3e377450_79fd_11e9_8896_f48e38b6371frow1_col1\" class=\"data row1 col1\" >26020</td>\n",
       "                        <td id=\"T_3e377450_79fd_11e9_8896_f48e38b6371frow1_col2\" class=\"data row1 col2\" >0</td>\n",
       "            </tr>\n",
       "            <tr>\n",
       "                        <th id=\"T_3e377450_79fd_11e9_8896_f48e38b6371flevel0_row2\" class=\"row_heading level0 row2\" >race_ethnicity</th>\n",
       "                        <td id=\"T_3e377450_79fd_11e9_8896_f48e38b6371frow2_col0\" class=\"data row2 col0\" >30</td>\n",
       "                        <td id=\"T_3e377450_79fd_11e9_8896_f48e38b6371frow2_col1\" class=\"data row2 col1\" >26020</td>\n",
       "                        <td id=\"T_3e377450_79fd_11e9_8896_f48e38b6371frow2_col2\" class=\"data row2 col2\" >0.115</td>\n",
       "            </tr>\n",
       "            <tr>\n",
       "                        <th id=\"T_3e377450_79fd_11e9_8896_f48e38b6371flevel0_row3\" class=\"row_heading level0 row3\" >age_released</th>\n",
       "                        <td id=\"T_3e377450_79fd_11e9_8896_f48e38b6371frow3_col0\" class=\"data row3 col0\" >3</td>\n",
       "                        <td id=\"T_3e377450_79fd_11e9_8896_f48e38b6371frow3_col1\" class=\"data row3 col1\" >26020</td>\n",
       "                        <td id=\"T_3e377450_79fd_11e9_8896_f48e38b6371frow3_col2\" class=\"data row3 col2\" >0.012</td>\n",
       "            </tr>\n",
       "            <tr>\n",
       "                        <th id=\"T_3e377450_79fd_11e9_8896_f48e38b6371flevel0_row4\" class=\"row_heading level0 row4\" >crime_class</th>\n",
       "                        <td id=\"T_3e377450_79fd_11e9_8896_f48e38b6371frow4_col0\" class=\"data row4 col0\" >0</td>\n",
       "                        <td id=\"T_3e377450_79fd_11e9_8896_f48e38b6371frow4_col1\" class=\"data row4 col1\" >26020</td>\n",
       "                        <td id=\"T_3e377450_79fd_11e9_8896_f48e38b6371frow4_col2\" class=\"data row4 col2\" >0</td>\n",
       "            </tr>\n",
       "            <tr>\n",
       "                        <th id=\"T_3e377450_79fd_11e9_8896_f48e38b6371flevel0_row5\" class=\"row_heading level0 row5\" >crime_type</th>\n",
       "                        <td id=\"T_3e377450_79fd_11e9_8896_f48e38b6371frow5_col0\" class=\"data row5 col0\" >0</td>\n",
       "                        <td id=\"T_3e377450_79fd_11e9_8896_f48e38b6371frow5_col1\" class=\"data row5 col1\" >26020</td>\n",
       "                        <td id=\"T_3e377450_79fd_11e9_8896_f48e38b6371frow5_col2\" class=\"data row5 col2\" >0</td>\n",
       "            </tr>\n",
       "            <tr>\n",
       "                        <th id=\"T_3e377450_79fd_11e9_8896_f48e38b6371flevel0_row6\" class=\"row_heading level0 row6\" >crime_subtype</th>\n",
       "                        <td id=\"T_3e377450_79fd_11e9_8896_f48e38b6371frow6_col0\" class=\"data row6 col0\" >0</td>\n",
       "                        <td id=\"T_3e377450_79fd_11e9_8896_f48e38b6371frow6_col1\" class=\"data row6 col1\" >26020</td>\n",
       "                        <td id=\"T_3e377450_79fd_11e9_8896_f48e38b6371frow6_col2\" class=\"data row6 col2\" >0</td>\n",
       "            </tr>\n",
       "            <tr>\n",
       "                        <th id=\"T_3e377450_79fd_11e9_8896_f48e38b6371flevel0_row7\" class=\"row_heading level0 row7\" >release_type</th>\n",
       "                        <td id=\"T_3e377450_79fd_11e9_8896_f48e38b6371frow7_col0\" class=\"data row7 col0\" >1762</td>\n",
       "                        <td id=\"T_3e377450_79fd_11e9_8896_f48e38b6371frow7_col1\" class=\"data row7 col1\" >26020</td>\n",
       "                        <td id=\"T_3e377450_79fd_11e9_8896_f48e38b6371frow7_col2\" class=\"data row7 col2\" >6.772</td>\n",
       "            </tr>\n",
       "            <tr>\n",
       "                        <th id=\"T_3e377450_79fd_11e9_8896_f48e38b6371flevel0_row8\" class=\"row_heading level0 row8\" >super_dist</th>\n",
       "                        <td id=\"T_3e377450_79fd_11e9_8896_f48e38b6371frow8_col0\" class=\"data row8 col0\" >9581</td>\n",
       "                        <td id=\"T_3e377450_79fd_11e9_8896_f48e38b6371frow8_col1\" class=\"data row8 col1\" >26020</td>\n",
       "                        <td id=\"T_3e377450_79fd_11e9_8896_f48e38b6371frow8_col2\" class=\"data row8 col2\" >36.82</td>\n",
       "            </tr>\n",
       "            <tr>\n",
       "                        <th id=\"T_3e377450_79fd_11e9_8896_f48e38b6371flevel0_row9\" class=\"row_heading level0 row9\" >recidivist</th>\n",
       "                        <td id=\"T_3e377450_79fd_11e9_8896_f48e38b6371frow9_col0\" class=\"data row9 col0\" >0</td>\n",
       "                        <td id=\"T_3e377450_79fd_11e9_8896_f48e38b6371frow9_col1\" class=\"data row9 col1\" >26020</td>\n",
       "                        <td id=\"T_3e377450_79fd_11e9_8896_f48e38b6371frow9_col2\" class=\"data row9 col2\" >0</td>\n",
       "            </tr>\n",
       "            <tr>\n",
       "                        <th id=\"T_3e377450_79fd_11e9_8896_f48e38b6371flevel0_row10\" class=\"row_heading level0 row10\" >target_pop</th>\n",
       "                        <td id=\"T_3e377450_79fd_11e9_8896_f48e38b6371frow10_col0\" class=\"data row10 col0\" >0</td>\n",
       "                        <td id=\"T_3e377450_79fd_11e9_8896_f48e38b6371frow10_col1\" class=\"data row10 col1\" >26020</td>\n",
       "                        <td id=\"T_3e377450_79fd_11e9_8896_f48e38b6371frow10_col2\" class=\"data row10 col2\" >0</td>\n",
       "            </tr>\n",
       "            <tr>\n",
       "                        <th id=\"T_3e377450_79fd_11e9_8896_f48e38b6371flevel0_row11\" class=\"row_heading level0 row11\" >sex</th>\n",
       "                        <td id=\"T_3e377450_79fd_11e9_8896_f48e38b6371frow11_col0\" class=\"data row11 col0\" >3</td>\n",
       "                        <td id=\"T_3e377450_79fd_11e9_8896_f48e38b6371frow11_col1\" class=\"data row11 col1\" >26020</td>\n",
       "                        <td id=\"T_3e377450_79fd_11e9_8896_f48e38b6371frow11_col2\" class=\"data row11 col2\" >0.012</td>\n",
       "            </tr>\n",
       "    </tbody></table>"
      ],
      "text/plain": [
       "<pandas.io.formats.style.Styler at 0x21f7336c400>"
      ]
     },
     "execution_count": 31,
     "metadata": {},
     "output_type": "execute_result"
    }
   ],
   "source": [
    "check_null(df)"
   ]
  },
  {
   "cell_type": "code",
   "execution_count": 10,
   "metadata": {
    "code_folding": []
   },
   "outputs": [
    {
     "ename": "NameError",
     "evalue": "name 'stoop' is not defined",
     "output_type": "error",
     "traceback": [
      "\u001b[1;31m---------------------------------------------------------------------------\u001b[0m",
      "\u001b[1;31mNameError\u001b[0m                                 Traceback (most recent call last)",
      "\u001b[1;32m<ipython-input-10-310a2ce4c38e>\u001b[0m in \u001b[0;36m<module>\u001b[1;34m\u001b[0m\n\u001b[1;32m----> 1\u001b[1;33m \u001b[0mstoop\u001b[0m\u001b[1;33m\u001b[0m\u001b[1;33m\u001b[0m\u001b[0m\n\u001b[0m\u001b[0;32m      2\u001b[0m \u001b[1;31m# CSStest=\"\"\"\u001b[0m\u001b[1;33m\u001b[0m\u001b[1;33m\u001b[0m\u001b[1;33m\u001b[0m\u001b[0m\n\u001b[0;32m      3\u001b[0m \u001b[1;31m#     .{\u001b[0m\u001b[1;33m\u001b[0m\u001b[1;33m\u001b[0m\u001b[1;33m\u001b[0m\u001b[0m\n\u001b[0;32m      4\u001b[0m \u001b[1;31m#     text-align: center;\u001b[0m\u001b[1;33m\u001b[0m\u001b[1;33m\u001b[0m\u001b[1;33m\u001b[0m\u001b[0m\n\u001b[0;32m      5\u001b[0m \u001b[1;31m#     }\u001b[0m\u001b[1;33m\u001b[0m\u001b[1;33m\u001b[0m\u001b[1;33m\u001b[0m\u001b[0m\n",
      "\u001b[1;31mNameError\u001b[0m: name 'stoop' is not defined"
     ]
    }
   ],
   "source": [
    "stoop\n",
    "# CSStest=\"\"\"\n",
    "#     .{\n",
    "#     text-align: center;\n",
    "#     }\n",
    "#     th{\n",
    "#     background-color: black;\n",
    "#     color: white;\n",
    "#     font-family:serif;\n",
    "#     font-size:1.2em;\n",
    "#     }\n",
    "#     td{\n",
    "#     font-size:1.05em;\n",
    "#     font-weight:75;\n",
    "#     }\n",
    "#     td, th{\n",
    "#     text-align: center;\n",
    "#     }\n",
    "#     caption{\n",
    "#     text-align: center;\n",
    "#     font-size:1.2em;\n",
    "#     color: black;\n",
    "#     font-weight: bold;\n",
    "#     font-style: italic\n",
    "#     }\n",
    "# \"\"\""
   ]
  },
  {
   "cell_type": "code",
   "execution_count": null,
   "metadata": {},
   "outputs": [],
   "source": [
    "# pp.html_on(CSStest)"
   ]
  },
  {
   "cell_type": "code",
   "execution_count": null,
   "metadata": {},
   "outputs": [],
   "source": [
    "inspect_df(df)"
   ]
  },
  {
   "cell_type": "markdown",
   "metadata": {},
   "source": [
    "# SCRUB / EXPLORE\n",
    "## EDA with Pandas_Profiling"
   ]
  },
  {
   "cell_type": "code",
   "execution_count": null,
   "metadata": {},
   "outputs": [],
   "source": [
    "import pandas_profiling as pp"
   ]
  },
  {
   "cell_type": "code",
   "execution_count": null,
   "metadata": {
    "scrolled": false
   },
   "outputs": [],
   "source": [
    "pp.ProfileReport(df)"
   ]
  },
  {
   "cell_type": "markdown",
   "metadata": {},
   "source": [
    "## ADDRESSING NULL VALUES"
   ]
  },
  {
   "cell_type": "code",
   "execution_count": null,
   "metadata": {},
   "outputs": [],
   "source": [
    "check_null(df)"
   ]
  },
  {
   "cell_type": "markdown",
   "metadata": {},
   "source": [
    "**Results of Null Check**\n",
    "- race_ethnicity has 30 (0.12% of data)\n",
    "    -  drop\n",
    "- age_released has 3 (0.01% of data)\n",
    "    - drop\n",
    "- sex has 3 (0.01% of data)\n",
    "    - drop\n",
    "- super_district has 9581(36.82% of data)\n",
    "    - replace with \"unknown\"\n",
    "- release_type has 1762 (6.77% of data)\n",
    "    - drop\n",
    "    \n",
    "**Dropping all null values from age_released, race_ethnicity, and release_type.**"
   ]
  },
  {
   "cell_type": "code",
   "execution_count": null,
   "metadata": {},
   "outputs": [],
   "source": [
    "# Filling NA's in super_dist and release_type\n",
    "df.dropna(subset=['age_released','race_ethnicity','sex','release_type'],inplace=True)\n",
    "df['super_dist'].fillna(\"unknown\", inplace=True)\n",
    "check_null(df)"
   ]
  },
  {
   "cell_type": "markdown",
   "metadata": {},
   "source": [
    "___\n",
    "## COMBINING AND REMAPPING CLASSES"
   ]
  },
  {
   "cell_type": "markdown",
   "metadata": {},
   "source": [
    "### df['race_ethnicity']"
   ]
  },
  {
   "cell_type": "code",
   "execution_count": null,
   "metadata": {},
   "outputs": [],
   "source": [
    "check_unique(df,['race_ethnicity'])"
   ]
  },
  {
   "cell_type": "markdown",
   "metadata": {},
   "source": [
    "- **Remapping race_ethnicity**\n",
    "    - Due to the low numbers for several of the race_ethnicity types, reducing and combining Hispanic and Non-Hispanic groups\n",
    "    - Alternative approach of separating race and ethnicity into 2 separate features was rejected after modeling"
   ]
  },
  {
   "cell_type": "code",
   "execution_count": null,
   "metadata": {},
   "outputs": [],
   "source": [
    "# Defining Dictionary Map for race_ethnicity categories\n",
    "race_ethnicity_map = {'White - Non-Hispanic':'White',\n",
    "                        'Black - Non-Hispanic': 'Black',\n",
    "                        'White - Hispanic' : 'Hispanic',\n",
    "                        'American Indian or Alaska Native - Non-Hispanic' : 'American Native',\n",
    "                        'Asian or Pacific Islander - Non-Hispanic' : 'Asian or Pacific Islander',\n",
    "                        'Black - Hispanic' : 'Black',\n",
    "                        'American Indian or Alaska Native - Hispanic':'American Native',\n",
    "                        'White -' : 'White',\n",
    "                        'Asian or Pacific Islander - Hispanic' : 'Asian or Pacific Islander',\n",
    "                        'N/A -' : np.nan,\n",
    "                        'Black -':'Black'}\n",
    "\n",
    "# Replacing original race_ethnicity column with remapped one.\n",
    "df['race_ethnicity'] = df['race_ethnicity'].map(race_ethnicity_map)"
   ]
  },
  {
   "cell_type": "code",
   "execution_count": null,
   "metadata": {},
   "outputs": [],
   "source": [
    "df.head()"
   ]
  },
  {
   "cell_type": "code",
   "execution_count": null,
   "metadata": {},
   "outputs": [],
   "source": [
    "check_unique(df,['race_ethnicity'])"
   ]
  },
  {
   "cell_type": "markdown",
   "metadata": {},
   "source": [
    "### df['crime_class']"
   ]
  },
  {
   "cell_type": "markdown",
   "metadata": {},
   "source": [
    "- **Remapping crime_class**\n",
    "    - Combine 'Other Felony' and 'Other Felony (Old Code)' -> nan\n",
    "    - Other Misdemeanor -> np.nan\n",
    "    - Felony - Mandatory Minimum -> np.nan\n",
    "    - Special Sentence 2005 -> Sex Offender\n",
    "    - 'Sexual Predator Community Supervision' -> 'Sex Offender'\n",
    "    - Other Felony -> np.nan    "
   ]
  },
  {
   "cell_type": "code",
   "execution_count": null,
   "metadata": {},
   "outputs": [],
   "source": [
    "check_unique(df,['crime_class'])"
   ]
  },
  {
   "cell_type": "code",
   "execution_count": null,
   "metadata": {},
   "outputs": [],
   "source": [
    "# Remapping\n",
    "crime_class_map = {'Other Felony (Old Code)': np.nan ,#or other felony\n",
    "                  'Other Misdemeanor':np.nan,\n",
    "                   'Felony - Mandatory Minimum':np.nan, # if minimum then lowest sentence ==  D Felony\n",
    "                   'Special Sentence 2005': 'Sex Offender',\n",
    "                   'Other Felony' : np.nan ,\n",
    "                   'Sexual Predator Community Supervision' : 'Sex Offender',\n",
    "                   'D Felony': 'D Felony',\n",
    "                   'C Felony' :'C Felony',\n",
    "                   'B Felony' : 'B Felony',\n",
    "                   'A Felony' : 'A Felony',\n",
    "                   'Aggravated Misdemeanor':'Aggravated Misdemeanor',\n",
    "                   'Felony - Enhancement to Original Penalty':'Felony - Enhanced',\n",
    "                   'Felony - Enhanced':'Felony - Enhanced' ,\n",
    "                   'Serious Misdemeanor':'Serious Misdemeanor',\n",
    "                   'Simple Misdemeanor':'Simple Misdemeanor'}\n",
    "\n",
    "df['crime_class'] = df['crime_class'].map(crime_class_map)"
   ]
  },
  {
   "cell_type": "markdown",
   "metadata": {},
   "source": [
    "### df['age_released']"
   ]
  },
  {
   "cell_type": "markdown",
   "metadata": {},
   "source": [
    "- **Encoding age groups as ordinal**"
   ]
  },
  {
   "cell_type": "code",
   "execution_count": null,
   "metadata": {},
   "outputs": [],
   "source": [
    "# df.to_csv('plotting_age_released.csv')"
   ]
  },
  {
   "cell_type": "code",
   "execution_count": null,
   "metadata": {},
   "outputs": [],
   "source": [
    "# stop"
   ]
  },
  {
   "cell_type": "code",
   "execution_count": null,
   "metadata": {},
   "outputs": [],
   "source": [
    "# Encoding age groups as ordinal\n",
    "age_ranges = ('Under 25','25-34', '35-44','45-54','55 and Older')\n",
    "age_codes = (0,1,2,3,4) \n",
    "# Zipping into Dictionary to Map onto Column\n",
    "age_map = dict(zip(age_ranges,age_codes))\n",
    "\n",
    "# Mapping age_map onto 'age_released'\n",
    "df['age_released'] = df['age_released'].map(age_map)"
   ]
  },
  {
   "cell_type": "markdown",
   "metadata": {},
   "source": [
    "### Remapping binary categories df[['recidivist','target_pop','sex']]"
   ]
  },
  {
   "cell_type": "code",
   "execution_count": null,
   "metadata": {},
   "outputs": [],
   "source": [
    "## Remapping binary categories\n",
    "\n",
    "# Recidivist\n",
    "recidivist_map = {'No':0,'Yes':1}\n",
    "df['recidivist'] = df['recidivist'].map(recidivist_map)\n",
    "\n",
    "# Target_pop\n",
    "target_pop_map = {'No':0,'Yes':1}\n",
    "df['target_pop'] = df['target_pop'].map(target_pop_map)\n",
    "\n",
    "#sex_map\n",
    "sex_map = {'Male':0,'Female':1}\n",
    "df['sex'] = df['sex'].map(sex_map)"
   ]
  },
  {
   "cell_type": "markdown",
   "metadata": {},
   "source": [
    "___\n",
    "## ENGINEERING FEATURES\n",
    "- **Engineering a simple 'felony' true false category**\n",
    "- **Combining crime_type and crime_subtype into types_combined**"
   ]
  },
  {
   "cell_type": "markdown",
   "metadata": {},
   "source": [
    "### Creating a simple 'felony' feature"
   ]
  },
  {
   "cell_type": "code",
   "execution_count": null,
   "metadata": {},
   "outputs": [],
   "source": [
    "# Engineering a simple 'felony' true false category\n",
    "df['felony'] = df['crime_class'].str.contains('felony',case=False)\n",
    "df['crime_types_combined'] = df['crime_type']+'_'+df['crime_subtype']\n",
    "# Combining crime_type and crime_subtype into types_combined\n",
    "df['crime_class_type_subtype']= df['crime_class']+'_'+df['crime_type']+'_'+df['crime_subtype']"
   ]
  },
  {
   "cell_type": "markdown",
   "metadata": {},
   "source": [
    "### Creating a 'max_sentence' feature based on crime class max penalties\n",
    "   "
   ]
  },
  {
   "cell_type": "code",
   "execution_count": null,
   "metadata": {},
   "outputs": [],
   "source": [
    "# Mapping years onto crime class\n",
    "crime_class_max_sentence_map = {'A Felony': 75,  # Life\n",
    "                                'Aggravated Misdemeanor': 2, # 2 years\n",
    "                                'B Felony': 50, # 25 or 50 years\n",
    "                                'C Felony': 10, # 10 years\n",
    "                                'D Felony': 5,  # 5 yeras\n",
    "                                'Felony - Enhanced': 10, # Add on to class C and D felonies, hard to approximate. \n",
    "                                'Serious Misdemeanor': 1, # 1 year\n",
    "                                'Sex Offender': 10, # 10 years\n",
    "                                'Simple Misdemeanor': 0.83} # 30 days\n",
    "\n",
    "# Mapping max_sentence_column\n",
    "df['max_sentence'] =df['crime_class'].map(crime_class_max_sentence_map)"
   ]
  },
  {
   "cell_type": "markdown",
   "metadata": {},
   "source": [
    "### Dropping all  values replaced with np.nan"
   ]
  },
  {
   "cell_type": "code",
   "execution_count": null,
   "metadata": {
    "scrolled": false
   },
   "outputs": [],
   "source": [
    "check_null(df)"
   ]
  },
  {
   "cell_type": "code",
   "execution_count": null,
   "metadata": {
    "scrolled": false
   },
   "outputs": [],
   "source": [
    "df.dropna(inplace=True)\n",
    "df.reset_index(inplace=True)\n",
    "check_null(df)"
   ]
  },
  {
   "cell_type": "code",
   "execution_count": null,
   "metadata": {},
   "outputs": [],
   "source": [
    "# df.to_csv('Iowa_recidivism_features_pre-processing.csv')"
   ]
  },
  {
   "cell_type": "markdown",
   "metadata": {},
   "source": [
    "## Processing Chosen Feature Columns"
   ]
  },
  {
   "cell_type": "code",
   "execution_count": null,
   "metadata": {},
   "outputs": [],
   "source": [
    "# List of features to be analyzed as categories\n",
    "category_cols = ['yr_released','race_ethnicity', 'crime_class',\n",
    "                 'release_type','crime_type','crime_subtype',\n",
    "                 'target_pop','sex','super_dist','felony']\n",
    "\n",
    "# List of features to be analzyed as numbers\n",
    "number_cols = ['max_sentence','age_released']\n",
    "\n",
    "# Target feature\n",
    "target_col = ['recidivist']"
   ]
  },
  {
   "cell_type": "code",
   "execution_count": null,
   "metadata": {
    "code_folding": []
   },
   "outputs": [],
   "source": [
    "# Creating new dataframe ('df_to_split') to contain processed features for train_test_split\n",
    "df_to_split=pd.DataFrame()\n",
    "\n",
    "# MinMaxing Numerical Columns\n",
    "from sklearn.preprocessing import MinMaxScaler\n",
    "sca = MinMaxScaler()\n",
    "\n",
    "for header in number_cols:\n",
    "    print(header)\n",
    "    data = np.array(df[header])\n",
    "    res = sca.fit_transform(data.reshape(-1,1))\n",
    "    df_to_split[header] = res.ravel()    "
   ]
  },
  {
   "cell_type": "code",
   "execution_count": null,
   "metadata": {},
   "outputs": [],
   "source": [
    "# Convert categories to cat.codes\n",
    "for header in category_cols:\n",
    "    df_to_split[header] = df[header].astype('category').cat.codes\n",
    "    \n",
    "df_to_split.info()"
   ]
  },
  {
   "cell_type": "code",
   "execution_count": null,
   "metadata": {},
   "outputs": [],
   "source": [
    "stop"
   ]
  },
  {
   "cell_type": "markdown",
   "metadata": {},
   "source": [
    "# FITTING AN INITIAL MODEL\n",
    "## Surveying Potential Algorithms with bs_ds\n",
    "- select_pca:\n",
    "    - https://bs-ds.readthedocs.io/en/latest/bs_ds.html#bs_ds.bs_ds.select_pca\n",
    "- thick_pipe:\n",
    "    - https://bs-ds.readthedocs.io/en/latest/bs_ds.html#bs_ds.bs_ds.thick_pipe\n"
   ]
  },
  {
   "cell_type": "code",
   "execution_count": null,
   "metadata": {},
   "outputs": [],
   "source": [
    "from bs_ds.bs_ds import select_pca, thick_pipe"
   ]
  },
  {
   "cell_type": "code",
   "execution_count": null,
   "metadata": {},
   "outputs": [],
   "source": [
    "X =pd.get_dummies(df_to_split, columns=category_cols, drop_first=True)\n",
    "y = df['recidivist']"
   ]
  },
  {
   "cell_type": "code",
   "execution_count": null,
   "metadata": {},
   "outputs": [],
   "source": [
    "from sklearn.model_selection import train_test_split\n",
    "X_train, X_test, y_train, y_test = train_test_split(X, y, test_size = 0.4)"
   ]
  },
  {
   "cell_type": "markdown",
   "metadata": {},
   "source": [
    "#### Running select_pca to identify # of components that still explains 80% of variance"
   ]
  },
  {
   "cell_type": "code",
   "execution_count": null,
   "metadata": {},
   "outputs": [],
   "source": [
    "select_pca(X_train) #,n_components_list=[range(10, X_train.shape[1]-1)])"
   ]
  },
  {
   "cell_type": "code",
   "execution_count": null,
   "metadata": {
    "scrolled": true
   },
   "outputs": [],
   "source": [
    "# Running thick_pipe to test alogorithms\n",
    "thick_pipe(X_train, y_train, n_components=17)"
   ]
  },
  {
   "cell_type": "markdown",
   "metadata": {},
   "source": [
    "### >>> Fast-Forwarding through trial and error:\n",
    "- Regardless of changes to preprocessing and feature engineering, accuracy scores never increased about 0.68\n",
    "- One major concern was the vast majority of our features are categorical.\n",
    "    - Therefore, we investigated using another Machine Learning package, **CatBoost**"
   ]
  },
  {
   "cell_type": "markdown",
   "metadata": {},
   "source": [
    "## FITTING AN INITIAL MODEL USING CatBoostClassifier"
   ]
  },
  {
   "cell_type": "code",
   "execution_count": null,
   "metadata": {},
   "outputs": [],
   "source": [
    "save = False\n",
    "\n",
    "df_to_split = pd.concat([df['recidivist'],df_to_split],axis=1)\n",
    "df_to_split.columns\n",
    "## To export data:\n",
    "if save==True:\n",
    "    df_to_split.to_csv('df_to_split_for_catboost.csv')\n",
    "\n",
    "    ## To cleear out memory\n",
    "df = []"
   ]
  },
  {
   "cell_type": "code",
   "execution_count": null,
   "metadata": {},
   "outputs": [],
   "source": [
    "# Define X and y to split\n",
    "X = df_to_split.drop('recidivist',axis=1)\n",
    "y = pd.Series(df_to_split['recidivist'].to_numpy().ravel())\n",
    "y.name = 'recidivist'"
   ]
  },
  {
   "cell_type": "code",
   "execution_count": null,
   "metadata": {},
   "outputs": [],
   "source": [
    "# Split into training and testing set\n",
    "from sklearn.model_selection import train_test_split\n",
    "X_train, X_test, y_train, y_test = train_test_split(X, y, test_size=0.4)\n",
    "X = []\n",
    "y = []"
   ]
  },
  {
   "cell_type": "code",
   "execution_count": null,
   "metadata": {},
   "outputs": [],
   "source": [
    "# Import catboost Pool to create training and testing pools\n",
    "from catboost import Pool, CatBoostClassifier\n",
    "\n",
    "train_pool =  Pool(data=X_train, label=y_train, cat_features=category_cols)\n",
    "test_pool = Pool(data=X_test, label=y_test,  cat_features=category_cols)"
   ]
  },
  {
   "cell_type": "markdown",
   "metadata": {},
   "source": [
    "### Adding GridSearch to base model"
   ]
  },
  {
   "cell_type": "code",
   "execution_count": null,
   "metadata": {},
   "outputs": [],
   "source": [
    "# Instantiating CatBoostClassifier \n",
    "cb_base = CatBoostClassifier(iterations=3000, depth=10,\n",
    "                            boosting_type='Ordered',\n",
    "                            learning_rate=0.03,\n",
    "                            thread_count=3,\n",
    "                            eval_metric='AUC',\n",
    "                            silent=True,\n",
    "                            allow_const_label=True)\n",
    "                           # task_type='GPU')"
   ]
  },
  {
   "cell_type": "code",
   "execution_count": null,
   "metadata": {},
   "outputs": [],
   "source": [
    "# Fitting Initial CatBoost Model\n",
    "import time\n",
    "t = time.time()\n",
    "cb_base.fit(train_pool,eval_set=test_pool, plot=True, early_stopping_rounds=20)\n",
    "elapsed = time.time() - t \n",
    "print(elapsed)"
   ]
  },
  {
   "cell_type": "code",
   "execution_count": null,
   "metadata": {},
   "outputs": [],
   "source": [
    "cb_base.best_score_"
   ]
  },
  {
   "cell_type": "markdown",
   "metadata": {},
   "source": [
    "### VISUAL SUMMARY OF BASE MODEL"
   ]
  },
  {
   "cell_type": "code",
   "execution_count": null,
   "metadata": {},
   "outputs": [],
   "source": [
    "# Plotting Feature Importances\n",
    "important_feature_names = cb_base.feature_names_\n",
    "important_feature_scores = cb_base.feature_importances_\n",
    "\n",
    "important_features = pd.Series(important_feature_scores, index = important_feature_names)\n",
    "important_features.sort_values().plot(kind='barh')"
   ]
  },
  {
   "cell_type": "markdown",
   "metadata": {},
   "source": [
    "#### Defining Roc_Auc Curve"
   ]
  },
  {
   "cell_type": "code",
   "execution_count": null,
   "metadata": {},
   "outputs": [],
   "source": [
    "from sklearn.metrics import confusion_matrix\n",
    "from sklearn.metrics import roc_auc_score, roc_curve"
   ]
  },
  {
   "cell_type": "code",
   "execution_count": null,
   "metadata": {},
   "outputs": [],
   "source": [
    "# Define plot_auc_roc_curve\n",
    "def plot_auc_roc_curve(y_test, y_test_pred):\n",
    "    \"\"\" Takes y_test and y_test_pred from a ML model and plots the AUC-ROC curve.\"\"\"\n",
    "    auc = roc_auc_score(y_test, y_test_pred[:,1])\n",
    "\n",
    "    FPr, TPr, thresh  = roc_curve(y_test, y_test_pred[:,1])\n",
    "    plt.plot(FPr, TPr,label=f\"AUC for CatboostClassifier:\\n{round(auc,2)}\" )\n",
    "\n",
    "    plt.plot([0, 1], [0, 1],  lw=2,linestyle='--')\n",
    "    plt.xlim([-0.01, 1.0])\n",
    "    plt.ylim([0.0, 1.05])\n",
    "\n",
    "    plt.xlabel('False Positive Rate')\n",
    "    plt.ylabel('True Positive Rate')\n",
    "    plt.title('Receiver operating characteristic (ROC) Curve')\n",
    "    plt.legend(loc=\"lower right\")\n",
    "    plt.show()\n",
    "\n",
    "# Plot roc_auc_curve\n",
    "y_test_pred = cb_base.predict_proba(X_test)\n",
    "plot_auc_roc_curve(y_test, y_test_pred)"
   ]
  },
  {
   "cell_type": "code",
   "execution_count": null,
   "metadata": {},
   "outputs": [],
   "source": [
    "import itertools\n",
    "from bs_ds.bs_ds import plot_confusion_matrix\n",
    "y_test_pred = cb_base.predict(X_test)\n",
    "conf_matrix = confusion_matrix(y_test, y_test_pred)\n",
    "\n",
    "plot_confusion_matrix(conf_matrix, classes=['Non-Recidivist', 'Recidivist'], normalize=True, cmap='Reds',\n",
    "                      title='Confusion Matrix:\\n CatBoost Recidivist Classifcation\\n')"
   ]
  },
  {
   "cell_type": "markdown",
   "metadata": {},
   "source": [
    "### ADDING NEW VISUALS"
   ]
  },
  {
   "cell_type": "code",
   "execution_count": null,
   "metadata": {},
   "outputs": [],
   "source": [
    "# grp0 = df_to_split.groupby('recidivist')['age_released'].get_group(0)"
   ]
  },
  {
   "cell_type": "code",
   "execution_count": null,
   "metadata": {},
   "outputs": [],
   "source": [
    "# grp0.head()"
   ]
  },
  {
   "cell_type": "code",
   "execution_count": null,
   "metadata": {},
   "outputs": [],
   "source": [
    "# grp1 = df_to_split.groupby('recidivist')['age_released'].get_group('1')"
   ]
  },
  {
   "cell_type": "markdown",
   "metadata": {},
   "source": [
    "### Notes Following Initial Modeling:\n",
    "- The ROC-AUC Curve Shows that our model performs better than chance. \n",
    "- HOWEVE, There is a major issue with our confusion matrix.\n",
    "    - There are an extremely high # of False Negatives (prisoners Predicted to be \"Non-Recidivist\",but were actually \"Recidivist\")\n",
    "    - This is a serious flaw with the model and serious hinders real-world applicability. \n",
    "- This may be due to the imbalance of cases of recidivists vs non-recidivists in our dataset."
   ]
  },
  {
   "cell_type": "markdown",
   "metadata": {},
   "source": [
    "# REVISING THE MODEL\n",
    "## Balancing Target Classes Using Synthetic Minority Oversampling"
   ]
  },
  {
   "cell_type": "code",
   "execution_count": null,
   "metadata": {},
   "outputs": [],
   "source": [
    "# # Define X and y \n",
    "# X = df_to_split\n",
    "# y = pd.Series(df[target_col].to_numpy().ravel())\n",
    "# y.name = 'recidivist'"
   ]
  },
  {
   "cell_type": "code",
   "execution_count": null,
   "metadata": {},
   "outputs": [],
   "source": [
    "# df=pd.concat([y,X], axis=1)"
   ]
  },
  {
   "cell_type": "code",
   "execution_count": null,
   "metadata": {
    "scrolled": false
   },
   "outputs": [],
   "source": [
    "# import pandas_profiling as pp\n",
    "# pp.ProfileReport(df)"
   ]
  },
  {
   "cell_type": "markdown",
   "metadata": {},
   "source": [
    "### Addressing the Imbalanced Class Issue\n",
    "- Adding Synthetic Minority Oversampling Technique to balance out the # of recidivists(1) and non-recidivists(0)"
   ]
  },
  {
   "cell_type": "code",
   "execution_count": null,
   "metadata": {},
   "outputs": [],
   "source": [
    "from imblearn.over_sampling import SMOTE\n",
    "\n",
    "print(pd.Series(y).value_counts())\n",
    "\n",
    "X_resampled, y_resampled = SMOTE().fit_sample(X,y)\n",
    "\n",
    "print(pd.Series(y_resampled).value_counts())"
   ]
  },
  {
   "cell_type": "code",
   "execution_count": null,
   "metadata": {},
   "outputs": [],
   "source": [
    "# Reformatting SMOTE transformed data\n",
    "\n",
    "# X_resampled back to a dataframe\n",
    "X_resampled = pd.DataFrame(X_resampled, columns = X.columns)\n",
    "\n",
    "# X_resampled category columns back to integers\n",
    "for header in category_cols:\n",
    "    X_resampled[header] = X_resampled[header].astype('int')\n",
    "    \n",
    "# y_resampled back to a named series    \n",
    "y_resampled = pd.Series(y_resampled)\n",
    "y_resampled.name ='recidivist'"
   ]
  },
  {
   "cell_type": "markdown",
   "metadata": {},
   "source": [
    "### Fitting a Revised Model with Balanced Classes"
   ]
  },
  {
   "cell_type": "code",
   "execution_count": null,
   "metadata": {},
   "outputs": [],
   "source": [
    "from sklearn.model_selection import train_test_split\n",
    "\n",
    "X_train, X_test, y_train, y_test = train_test_split(X_resampled, y_resampled, test_size=0.4)"
   ]
  },
  {
   "cell_type": "code",
   "execution_count": null,
   "metadata": {},
   "outputs": [],
   "source": [
    "from catboost import Pool, CatBoostClassifier\n",
    "train_pool =  Pool(data=X_train, label=y_train, cat_features=category_cols)\n",
    "test_pool = Pool(data=X_test, label=y_test,  cat_features=category_cols)"
   ]
  },
  {
   "cell_type": "code",
   "execution_count": null,
   "metadata": {
    "scrolled": true
   },
   "outputs": [],
   "source": [
    "cb_clf = CatBoostClassifier(iterations=3000, depth=12,\n",
    "                            boosting_type='Ordered',\n",
    "                            learning_rate=0.03,\n",
    "                            thread_count=-1,\n",
    "                            eval_metric='AUC',\n",
    "                            silent=True,\n",
    "                            allow_const_label=True,\n",
    "                           task_type='GPU')\n"
   ]
  },
  {
   "cell_type": "code",
   "execution_count": null,
   "metadata": {
    "scrolled": false
   },
   "outputs": [],
   "source": [
    "cb_clf.fit(train_pool,eval_set=test_pool, plot=True, early_stopping_rounds=20)\n",
    "cb_clf.best_score_"
   ]
  },
  {
   "cell_type": "markdown",
   "metadata": {},
   "source": [
    "_____________________________________________"
   ]
  },
  {
   "cell_type": "markdown",
   "metadata": {},
   "source": [
    "## Visual Summary"
   ]
  },
  {
   "cell_type": "code",
   "execution_count": null,
   "metadata": {},
   "outputs": [],
   "source": [
    "# Plotting Feature Importances\n",
    "important_feature_names = cb_clf.feature_names_\n",
    "important_feature_scores = cb_clf.feature_importances_\n",
    "\n",
    "important_features = pd.Series(important_feature_scores, index = important_feature_names)"
   ]
  },
  {
   "cell_type": "code",
   "execution_count": null,
   "metadata": {},
   "outputs": [],
   "source": [
    "important_features.sort_values().plot(kind='barh')"
   ]
  },
  {
   "cell_type": "markdown",
   "metadata": {},
   "source": [
    "### AUC-ROC Curve"
   ]
  },
  {
   "cell_type": "code",
   "execution_count": null,
   "metadata": {},
   "outputs": [],
   "source": [
    "from sklearn.metrics import confusion_matrix\n",
    "from sklearn.metrics import roc_auc_score, roc_curve"
   ]
  },
  {
   "cell_type": "code",
   "execution_count": null,
   "metadata": {},
   "outputs": [],
   "source": [
    "y_test_pred = cb_clf.predict_proba(X_test)\n",
    "plot_auc_roc_curve(y_test, y_test_pred)"
   ]
  },
  {
   "cell_type": "markdown",
   "metadata": {},
   "source": [
    "### Confusion Matrix\n"
   ]
  },
  {
   "cell_type": "code",
   "execution_count": null,
   "metadata": {},
   "outputs": [],
   "source": [
    "# import itertools\n",
    "# from bs_ds.bs_ds import plot_confusion_matrix\n",
    "y_test_pred = cb_clf.predict(X_test)\n",
    "conf_matrix = confusion_matrix(y_test, y_test_pred)\n",
    "\n",
    "plot_confusion_matrix(conf_matrix, classes=['Not-Recidivist', 'Recidivist'], normalize=True, cmap='Blues',\n",
    "                      title='Confusion Matrix: CatBoost Recidivist Classifcation\\n')"
   ]
  },
  {
   "cell_type": "markdown",
   "metadata": {},
   "source": [
    "# CONCLUSIONS\n",
    "- **After adjusting for imbalanced classes, the most important factor for determining recidivism are:**\n",
    "    - **Age at Release**\n",
    "    - **Supervising Judicial District**\n",
    "    - **Release Type**\n",
    "    - **Crime Subtype**\n",
    "    \n",
    "    \n",
    "## Recommendatons\n",
    "- This model could be used to predict which prisoners due for release may at the greatest risk for recidivism.<br><br>\n",
    "    - Using this knowledge, the state of Iowa could put new programs into action that target those at high risk for recidivism and provide additional assistance and guidance following release.<br><br>\n",
    "    - Additionally, there could be additional counseling or education _prior_ to release to supply the inmate with tools and options to avoid returning to a life of crime.\n",
    "    \n",
    "# FUTURE DIRECTIONS\n",
    "- With more time and reliable performance, would perform cross-validation of our final model.<br><br>\n",
    "- Additional visuals summarizing the underlying features effects on recidivism.<br><br>\n",
    "- Adapting more available visualization tools to better display the underpinning of the model.\n",
    "<br><br>\n",
    "- Exploration of the predictability of crimes types committed by recidivists."
   ]
  },
  {
   "cell_type": "code",
   "execution_count": null,
   "metadata": {},
   "outputs": [],
   "source": []
  }
 ],
 "metadata": {
  "kernelspec": {
   "display_name": "learn-env-ext",
   "language": "python",
   "name": "learn-env-ext"
  },
  "language_info": {
   "codemirror_mode": {
    "name": "ipython",
    "version": 3
   },
   "file_extension": ".py",
   "mimetype": "text/x-python",
   "name": "python",
   "nbconvert_exporter": "python",
   "pygments_lexer": "ipython3",
   "version": "3.6.8"
  },
  "toc": {
   "base_numbering": 1,
   "nav_menu": {},
   "number_sections": false,
   "sideBar": true,
   "skip_h1_title": false,
   "title_cell": "Table of Contents",
   "title_sidebar": "Contents",
   "toc_cell": false,
   "toc_position": {
    "height": "calc(100% - 180px)",
    "left": "10px",
    "top": "150px",
    "width": "371.403px"
   },
   "toc_section_display": true,
   "toc_window_display": true
  },
  "varInspector": {
   "cols": {
    "lenName": 16,
    "lenType": 16,
    "lenVar": 40
   },
   "kernels_config": {
    "python": {
     "delete_cmd_postfix": "",
     "delete_cmd_prefix": "del ",
     "library": "var_list.py",
     "varRefreshCmd": "print(var_dic_list())"
    },
    "r": {
     "delete_cmd_postfix": ") ",
     "delete_cmd_prefix": "rm(",
     "library": "var_list.r",
     "varRefreshCmd": "cat(var_dic_list()) "
    }
   },
   "oldHeight": 572.166222,
   "position": {
    "height": "593.931px",
    "left": "841.588px",
    "right": "20px",
    "top": "77px",
    "width": "705.306px"
   },
   "types_to_exclude": [
    "module",
    "function",
    "builtin_function_or_method",
    "instance",
    "_Feature"
   ],
   "varInspector_section_display": "block",
   "window_display": false
  }
 },
 "nbformat": 4,
 "nbformat_minor": 2
}

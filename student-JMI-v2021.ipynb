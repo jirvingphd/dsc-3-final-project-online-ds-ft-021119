{
 "cells": [
  {
   "cell_type": "markdown",
   "metadata": {},
   "source": [
    "# Final Project Submission\n",
    "* Student name: James M. Irivng, Ph.D.\n",
    "* Student pace: full time\n",
    "* Scheduled project review date/time: 05/15/19 2:30 pm\n",
    "* Instructor name: Jeff Herman / Brandon Lewis\n",
    "* Blog post URL:\n"
   ]
  },
  {
   "cell_type": "markdown",
   "metadata": {},
   "source": [
    "# Iowa Prisoner Recidivism"
   ]
  },
  {
   "cell_type": "markdown",
   "metadata": {},
   "source": [
    "<img src=\"images/LSA_map_with_counties_districts_and_B54A5BBCE4156.jpg\" width=80%>"
   ]
  },
  {
   "cell_type": "markdown",
   "metadata": {},
   "source": [
    "## Data Source: Iowa Department of Corrections \n",
    "\n",
    "- Source: \n",
    "    - https://www.kaggle.com/slonnadube/recidivism-for-offenders-released-from-prison\n",
    "- Original/Up-to-date Source: \n",
    "    - https://data.iowa.gov/Correctional-System/3-Year-Recidivism-for-Offenders-Released-from-Pris/mw8r-vqy4\n",
    "- **Statistics about recidivism in prisoners from a 3 year prisoner**\n",
    "- **Target:**\n",
    "    - Recidivism - Return to Prison\n",
    "- **Features:**\n",
    "    - Fiscal Year Released\n",
    "    - Recidivism Reporting Year\n",
    "    - Race - Ethnicity\n",
    "    - Age At Release\n",
    "    - Convicting Offense Classification\n",
    "    - Convicting Offense Type\n",
    "    - Convicting Offense Subtype\n",
    "    - Main Supervising District\n",
    "    - Release Type\n",
    "    - Release type: Paroled to Detainder united\n",
    "    - Part of Target Population"
   ]
  },
  {
   "cell_type": "markdown",
   "metadata": {},
   "source": [
    "### Detailed variable descriptions:"
   ]
  },
  {
   "cell_type": "markdown",
   "metadata": {},
   "source": [
    "- **Fiscal Year Released**\n",
    "    - Fiscal year (year ending June 30) for which the offender was released from prison.\n",
    "\n",
    "- **Recidivism Reporting Year**\n",
    "    - Fiscal year (year ending June 30) that marks the end of the 3-year tracking period. For example, offenders exited prison in FY 2012 are found in recidivism reporting year FY 2015.\n",
    "\n",
    "- **Race - Ethnicity**\n",
    "    - Offender's Race and Ethnicity\n",
    "\n",
    "- **Convicting Offense Classification**\n",
    "    - Maximum penalties: A Felony = Life; B Felony = 25 or 50 years; C Felony = 10 years; D Felony = 5 years; Aggravated Misdemeanor = 2 years; Serious Misdemeanor = 1 year; Simple Misdemeanor = 30 days\n",
    "\n",
    "- **Convicting Offense Type**\n",
    "    - General category for the most serious offense for which the offender was placed in prison.\n",
    "\n",
    "- **Convicting Offense Subtype**\n",
    "    - Further classification of the most serious offense for which the offender was placed in prison.\n",
    "\n",
    "- **Release Type**\n",
    "    - Reasoning for Offender's release from prison.\n",
    "\n",
    "- **Main Supervising District**\n",
    "    - The Judicial District supervising the offender for the longest time during the tracking period.\n",
    "\n",
    "- **Recidivism - Return to Prison**\n",
    "    - No = No Recidivism; Yes = Prison admission for any reason within the 3-year tracking period\n",
    "    \n",
    "- **Part of Target Population** \n",
    "    - The Department of Corrections has undertaken specific strategies to reduce recidivism rates for prisoners who are on parole and are part of the target population.\n",
    "    ___"
   ]
  },
  {
   "cell_type": "markdown",
   "metadata": {},
   "source": [
    "# USING THE OSEMN MODEL TO GUIDE WORKFLOW"
   ]
  },
  {
   "cell_type": "markdown",
   "metadata": {},
   "source": [
    "1. **OBTAIN:**\n",
    "    - [x] Import data, inspect, check for datatypes to convert and null values\n",
    "<br><br>\n",
    "\n",
    "2. **SCRUB: cast data types, identify outliers, check for multicollinearity, normalize data**<br>\n",
    "    - Check and cast data types\n",
    "    - [x] Check for missing values \n",
    "    - [x] Check for multicollinearity\n",
    "    - [x] Normalize data (may want to do after some exploring)   \n",
    "    <br><br>\n",
    "            \n",
    "3. **EXPLORE:Check distributions, outliers, etc**\n",
    "    - [x] Check scales, ranges (df.describe())\n",
    "    - [x] Check histograms to get an idea of distributions (df.hist()) and data transformations to perform\n",
    "    - [x] Use scatterplots to check for linearity and possible categorical variables (df.plot(kind-'scatter')\n",
    "    <br><br>\n",
    "\n",
    "   \n",
    "4. **FIT AN INITIAL MODEL:** \n",
    "    - [x] Assess the model.\n",
    "        <br><br>\n",
    "5. **REVISE THE FITTED MODEL**\n",
    "    - [x] Adjust chosen model and hyper-parameters\n",
    "    <br><br>\n",
    "6. **HOLDOUT VALIDATION**\n",
    "    - [ ] Perform cross-validation\n",
    "___"
   ]
  },
  {
   "cell_type": "markdown",
   "metadata": {},
   "source": [
    "# OBTAIN:"
   ]
  },
  {
   "cell_type": "markdown",
   "metadata": {},
   "source": [
    "#### Using Custom PyPi Package - `fsds`\n"
   ]
  },
  {
   "cell_type": "code",
   "execution_count": 1,
   "metadata": {
    "ExecuteTime": {
     "end_time": "2021-07-10T21:04:06.986912Z",
     "start_time": "2021-07-10T21:04:04.866532Z"
    }
   },
   "outputs": [
    {
     "name": "stdout",
     "output_type": "stream",
     "text": [
      "fsds v0.3.2 loaded.  Read the docs: https://fs-ds.readthedocs.io/en/latest/ \n"
     ]
    },
    {
     "data": {
      "text/html": [
       "<style type=\"text/css\">\n",
       "</style>\n",
       "<table id=\"T_4abf1_\">\n",
       "  <caption>Loaded Packages and Handles</caption>\n",
       "  <thead>\n",
       "    <tr>\n",
       "      <th class=\"col_heading level0 col0\" >Handle</th>\n",
       "      <th class=\"col_heading level0 col1\" >Package</th>\n",
       "      <th class=\"col_heading level0 col2\" >Description</th>\n",
       "    </tr>\n",
       "  </thead>\n",
       "  <tbody>\n",
       "    <tr>\n",
       "      <td id=\"T_4abf1_row0_col0\" class=\"data row0 col0\" >dp</td>\n",
       "      <td id=\"T_4abf1_row0_col1\" class=\"data row0 col1\" >IPython.display</td>\n",
       "      <td id=\"T_4abf1_row0_col2\" class=\"data row0 col2\" >Display modules with helpful display and clearing commands.</td>\n",
       "    </tr>\n",
       "    <tr>\n",
       "      <td id=\"T_4abf1_row1_col0\" class=\"data row1 col0\" >fs</td>\n",
       "      <td id=\"T_4abf1_row1_col1\" class=\"data row1 col1\" >fsds</td>\n",
       "      <td id=\"T_4abf1_row1_col2\" class=\"data row1 col2\" >Custom data science bootcamp student package</td>\n",
       "    </tr>\n",
       "    <tr>\n",
       "      <td id=\"T_4abf1_row2_col0\" class=\"data row2 col0\" >mpl</td>\n",
       "      <td id=\"T_4abf1_row2_col1\" class=\"data row2 col1\" >matplotlib</td>\n",
       "      <td id=\"T_4abf1_row2_col2\" class=\"data row2 col2\" >Matplotlib's base OOP module with formatting artists</td>\n",
       "    </tr>\n",
       "    <tr>\n",
       "      <td id=\"T_4abf1_row3_col0\" class=\"data row3 col0\" >plt</td>\n",
       "      <td id=\"T_4abf1_row3_col1\" class=\"data row3 col1\" >matplotlib.pyplot</td>\n",
       "      <td id=\"T_4abf1_row3_col2\" class=\"data row3 col2\" >Matplotlib's matlab-like plotting module</td>\n",
       "    </tr>\n",
       "    <tr>\n",
       "      <td id=\"T_4abf1_row4_col0\" class=\"data row4 col0\" >np</td>\n",
       "      <td id=\"T_4abf1_row4_col1\" class=\"data row4 col1\" >numpy</td>\n",
       "      <td id=\"T_4abf1_row4_col2\" class=\"data row4 col2\" >scientific computing with Python</td>\n",
       "    </tr>\n",
       "    <tr>\n",
       "      <td id=\"T_4abf1_row5_col0\" class=\"data row5 col0\" >pd</td>\n",
       "      <td id=\"T_4abf1_row5_col1\" class=\"data row5 col1\" >pandas</td>\n",
       "      <td id=\"T_4abf1_row5_col2\" class=\"data row5 col2\" >High performance data structures and tools</td>\n",
       "    </tr>\n",
       "    <tr>\n",
       "      <td id=\"T_4abf1_row6_col0\" class=\"data row6 col0\" >sns</td>\n",
       "      <td id=\"T_4abf1_row6_col1\" class=\"data row6 col1\" >seaborn</td>\n",
       "      <td id=\"T_4abf1_row6_col2\" class=\"data row6 col2\" >High-level data visualization library based on matplotlib</td>\n",
       "    </tr>\n",
       "  </tbody>\n",
       "</table>\n"
      ],
      "text/plain": [
       "<pandas.io.formats.style.Styler at 0x7fe364b9fb20>"
      ]
     },
     "metadata": {},
     "output_type": "display_data"
    }
   ],
   "source": [
    "# !pip install -U fsds\n",
    "from fsds.imports import *"
   ]
  },
  {
   "cell_type": "code",
   "execution_count": 2,
   "metadata": {
    "ExecuteTime": {
     "end_time": "2021-07-10T21:04:06.993433Z",
     "start_time": "2021-07-10T21:04:06.988869Z"
    }
   },
   "outputs": [
    {
     "data": {
      "text/plain": [
       "'3.4.2'"
      ]
     },
     "execution_count": 2,
     "metadata": {},
     "output_type": "execute_result"
    }
   ],
   "source": [
    "import matplotlib as mpl\n",
    "%matplotlib inline\n",
    "mpl.__version__"
   ]
  },
  {
   "cell_type": "code",
   "execution_count": 3,
   "metadata": {
    "ExecuteTime": {
     "end_time": "2021-07-10T21:04:06.998909Z",
     "start_time": "2021-07-10T21:04:06.995582Z"
    }
   },
   "outputs": [],
   "source": [
    "## Set Pandas Options\n",
    "# pd.set_eng_float_format(accuracy=2)\n",
    "pd.set_option('display.float_format', lambda x: f'{x:.2f}')\n",
    "pd_options = {\n",
    "    'display.max_rows'    : 200,\n",
    "    'display.max_info_rows':200,\n",
    "    'display.max_columns' : 0,\n",
    "}\n",
    "[pd.set_option(option, setting) for option, setting in pd_options.items()]\n",
    "\n",
    "\n",
    "## Set Plot Style\n",
    "# plt.style.use('seaborn-notebook')\n",
    "sns.set_context(font_scale=2)\n",
    "\n",
    "## Suppress Warnings\n",
    "import warnings\n",
    "# warnings.filterwarnings('ignore')"
   ]
  },
  {
   "cell_type": "code",
   "execution_count": 4,
   "metadata": {
    "ExecuteTime": {
     "end_time": "2021-07-10T21:04:07.043924Z",
     "start_time": "2021-07-10T21:04:07.000935Z"
    }
   },
   "outputs": [],
   "source": [
    "%load_ext autoreload\n",
    "%autoreload 2\n",
    "import bs_ds_local as bs\n",
    "import project_functions as ji"
   ]
  },
  {
   "cell_type": "markdown",
   "metadata": {},
   "source": [
    "##  PROJECT CONTROL BOOLEAN ARGS"
   ]
  },
  {
   "cell_type": "code",
   "execution_count": 5,
   "metadata": {
    "ExecuteTime": {
     "end_time": "2021-07-10T21:04:07.076406Z",
     "start_time": "2021-07-10T21:04:07.045628Z"
    }
   },
   "outputs": [],
   "source": [
    "## PROJECT CONTROL BOOLS\n",
    "\n",
    "# Control if run new gridsearch or use previous params\n",
    "RUN_SEARCHES = False\n",
    "\n",
    "# Control if data downloaded fresh from Iowa gov api\n",
    "GET_NEW_DATA = True"
   ]
  },
  {
   "cell_type": "markdown",
   "metadata": {},
   "source": [
    "## Loading the dataset and removing unrelated columns"
   ]
  },
  {
   "cell_type": "code",
   "execution_count": 6,
   "metadata": {
    "ExecuteTime": {
     "end_time": "2021-07-10T21:04:07.567094Z",
     "start_time": "2021-07-10T21:04:07.078451Z"
    }
   },
   "outputs": [
    {
     "name": "stdout",
     "output_type": "stream",
     "text": [
      "Downloading data from API...\n"
     ]
    },
    {
     "data": {
      "text/html": [
       "<div>\n",
       "<style scoped>\n",
       "    .dataframe tbody tr th:only-of-type {\n",
       "        vertical-align: middle;\n",
       "    }\n",
       "\n",
       "    .dataframe tbody tr th {\n",
       "        vertical-align: top;\n",
       "    }\n",
       "\n",
       "    .dataframe thead th {\n",
       "        text-align: right;\n",
       "    }\n",
       "</style>\n",
       "<table border=\"1\" class=\"dataframe\">\n",
       "  <thead>\n",
       "    <tr style=\"text-align: right;\">\n",
       "      <th></th>\n",
       "      <th>fiscal_year_released</th>\n",
       "      <th>recidivism_reporting_year</th>\n",
       "      <th>main_supervising_district</th>\n",
       "      <th>release_type</th>\n",
       "      <th>race_ethnicity</th>\n",
       "      <th>age_at_release</th>\n",
       "      <th>sex</th>\n",
       "      <th>offense_class</th>\n",
       "      <th>offense_type</th>\n",
       "      <th>offense_subtype</th>\n",
       "      <th>return_to_prison</th>\n",
       "      <th>days_return</th>\n",
       "      <th>recidivism_type</th>\n",
       "      <th>new_offense_class</th>\n",
       "      <th>new_offense_type</th>\n",
       "      <th>new_offense_subtype</th>\n",
       "      <th>target_population</th>\n",
       "    </tr>\n",
       "  </thead>\n",
       "  <tbody>\n",
       "    <tr>\n",
       "      <th>0</th>\n",
       "      <td>2010</td>\n",
       "      <td>2013</td>\n",
       "      <td>7JD</td>\n",
       "      <td>Parole</td>\n",
       "      <td>Black - Non-Hispanic</td>\n",
       "      <td>25-34</td>\n",
       "      <td>Male</td>\n",
       "      <td>C Felony</td>\n",
       "      <td>Violent</td>\n",
       "      <td>Robbery</td>\n",
       "      <td>Yes</td>\n",
       "      <td>433.00</td>\n",
       "      <td>New</td>\n",
       "      <td>C Felony</td>\n",
       "      <td>Drug</td>\n",
       "      <td>Trafficking</td>\n",
       "      <td>Yes</td>\n",
       "    </tr>\n",
       "    <tr>\n",
       "      <th>1</th>\n",
       "      <td>2010</td>\n",
       "      <td>2013</td>\n",
       "      <td>NaN</td>\n",
       "      <td>Discharged – End of Sentence</td>\n",
       "      <td>White - Non-Hispanic</td>\n",
       "      <td>25-34</td>\n",
       "      <td>Male</td>\n",
       "      <td>D Felony</td>\n",
       "      <td>Property</td>\n",
       "      <td>Theft</td>\n",
       "      <td>Yes</td>\n",
       "      <td>453.00</td>\n",
       "      <td>Tech</td>\n",
       "      <td>NaN</td>\n",
       "      <td>NaN</td>\n",
       "      <td>NaN</td>\n",
       "      <td>No</td>\n",
       "    </tr>\n",
       "    <tr>\n",
       "      <th>2</th>\n",
       "      <td>2010</td>\n",
       "      <td>2013</td>\n",
       "      <td>5JD</td>\n",
       "      <td>Parole</td>\n",
       "      <td>White - Non-Hispanic</td>\n",
       "      <td>35-44</td>\n",
       "      <td>Male</td>\n",
       "      <td>B Felony</td>\n",
       "      <td>Drug</td>\n",
       "      <td>Trafficking</td>\n",
       "      <td>Yes</td>\n",
       "      <td>832.00</td>\n",
       "      <td>Tech</td>\n",
       "      <td>NaN</td>\n",
       "      <td>NaN</td>\n",
       "      <td>NaN</td>\n",
       "      <td>Yes</td>\n",
       "    </tr>\n",
       "    <tr>\n",
       "      <th>3</th>\n",
       "      <td>2010</td>\n",
       "      <td>2013</td>\n",
       "      <td>6JD</td>\n",
       "      <td>Parole</td>\n",
       "      <td>White - Non-Hispanic</td>\n",
       "      <td>25-34</td>\n",
       "      <td>Male</td>\n",
       "      <td>B Felony</td>\n",
       "      <td>Other</td>\n",
       "      <td>Other Criminal</td>\n",
       "      <td>No</td>\n",
       "      <td>NaN</td>\n",
       "      <td>No Recidivism</td>\n",
       "      <td>NaN</td>\n",
       "      <td>NaN</td>\n",
       "      <td>NaN</td>\n",
       "      <td>Yes</td>\n",
       "    </tr>\n",
       "    <tr>\n",
       "      <th>4</th>\n",
       "      <td>2010</td>\n",
       "      <td>2013</td>\n",
       "      <td>NaN</td>\n",
       "      <td>Discharged – End of Sentence</td>\n",
       "      <td>Black - Non-Hispanic</td>\n",
       "      <td>35-44</td>\n",
       "      <td>Male</td>\n",
       "      <td>D Felony</td>\n",
       "      <td>Violent</td>\n",
       "      <td>Assault</td>\n",
       "      <td>Yes</td>\n",
       "      <td>116.00</td>\n",
       "      <td>Tech</td>\n",
       "      <td>NaN</td>\n",
       "      <td>NaN</td>\n",
       "      <td>NaN</td>\n",
       "      <td>No</td>\n",
       "    </tr>\n",
       "  </tbody>\n",
       "</table>\n",
       "</div>"
      ],
      "text/plain": [
       "   fiscal_year_released  ...  target_population\n",
       "0                  2010  ...                Yes\n",
       "1                  2010  ...                 No\n",
       "2                  2010  ...                Yes\n",
       "3                  2010  ...                Yes\n",
       "4                  2010  ...                 No\n",
       "\n",
       "[5 rows x 17 columns]"
      ]
     },
     "execution_count": 6,
     "metadata": {},
     "output_type": "execute_result"
    }
   ],
   "source": [
    "if GET_NEW_DATA:\n",
    "    print('Downloading data from API...')\n",
    "    url = \"https://data.iowa.gov/resource/mw8r-vqy4.csv\"\n",
    "    df = pd.read_csv(url)\n",
    "    \n",
    "else:\n",
    "    print('Using previously saved data...')\n",
    "    df = pd.read_csv('data/3-Year_Recidivism_for_Offenders_Released_from_Prison_in_Iowa.csv')\n",
    "    \n",
    "    ## Making snake case column names if using orignal Kaggle dataset\n",
    "    snake_case_cols = [c.lower().strip().replace(' - ',' ').replace(' ','_') for c in df.columns]\n",
    "\n",
    "    ## clean up additional changes made to col names\n",
    "    list_of_updates = [('classification','class'),\n",
    "                       ('days_to_return','days_return'),\n",
    "                      ('sub_type','subtype')]\n",
    "    ## Fix changes in naming scheme\n",
    "    for current,new in list_of_updates:\n",
    "        snake_case_cols =[c.replace(current,new) for c in snake_case_cols]\n",
    "    \n",
    "    ## Make a renaming map and rename columns\n",
    "    column_names_map = dict(zip(df.columns,snake_case_cols))\n",
    "    df.rename(column_names_map,axis=1,inplace=True)\n",
    "    \n",
    "df.head()"
   ]
  },
  {
   "cell_type": "code",
   "execution_count": 7,
   "metadata": {
    "ExecuteTime": {
     "end_time": "2021-07-10T21:04:07.604661Z",
     "start_time": "2021-07-10T21:04:07.568859Z"
    }
   },
   "outputs": [
    {
     "name": "stdout",
     "output_type": "stream",
     "text": [
      "<class 'pandas.core.frame.DataFrame'>\n",
      "RangeIndex: 1000 entries, 0 to 999\n",
      "Data columns (total 17 columns):\n",
      " #   Column                     Dtype  \n",
      "---  ------                     -----  \n",
      " 0   fiscal_year_released       int64  \n",
      " 1   recidivism_reporting_year  int64  \n",
      " 2   main_supervising_district  object \n",
      " 3   release_type               object \n",
      " 4   race_ethnicity             object \n",
      " 5   age_at_release             object \n",
      " 6   sex                        object \n",
      " 7   offense_class              object \n",
      " 8   offense_type               object \n",
      " 9   offense_subtype            object \n",
      " 10  return_to_prison           object \n",
      " 11  days_return                float64\n",
      " 12  recidivism_type            object \n",
      " 13  new_offense_class          object \n",
      " 14  new_offense_type           object \n",
      " 15  new_offense_subtype        object \n",
      " 16  target_population          object \n",
      "dtypes: float64(1), int64(2), object(14)\n",
      "memory usage: 132.9+ KB\n"
     ]
    }
   ],
   "source": [
    "df.info()"
   ]
  },
  {
   "cell_type": "code",
   "execution_count": 8,
   "metadata": {
    "ExecuteTime": {
     "end_time": "2021-07-10T21:04:07.648065Z",
     "start_time": "2021-07-10T21:04:07.610262Z"
    }
   },
   "outputs": [
    {
     "data": {
      "text/html": [
       "<div>\n",
       "<style scoped>\n",
       "    .dataframe tbody tr th:only-of-type {\n",
       "        vertical-align: middle;\n",
       "    }\n",
       "\n",
       "    .dataframe tbody tr th {\n",
       "        vertical-align: top;\n",
       "    }\n",
       "\n",
       "    .dataframe thead th {\n",
       "        text-align: right;\n",
       "    }\n",
       "</style>\n",
       "<table border=\"1\" class=\"dataframe\">\n",
       "  <thead>\n",
       "    <tr style=\"text-align: right;\">\n",
       "      <th></th>\n",
       "      <th>fiscal_year_released</th>\n",
       "      <th>recidivism_reporting_year</th>\n",
       "    </tr>\n",
       "  </thead>\n",
       "  <tbody>\n",
       "    <tr>\n",
       "      <th>min</th>\n",
       "      <td>2010</td>\n",
       "      <td>2013</td>\n",
       "    </tr>\n",
       "    <tr>\n",
       "      <th>max</th>\n",
       "      <td>2014</td>\n",
       "      <td>2017</td>\n",
       "    </tr>\n",
       "  </tbody>\n",
       "</table>\n",
       "</div>"
      ],
      "text/plain": [
       "     fiscal_year_released  recidivism_reporting_year\n",
       "min                  2010                       2013\n",
       "max                  2014                       2017"
      ]
     },
     "execution_count": 8,
     "metadata": {},
     "output_type": "execute_result"
    }
   ],
   "source": [
    "## Check years included \n",
    "df[[c for c in df.columns if 'year' in c]].agg(['min','max'])"
   ]
  },
  {
   "cell_type": "markdown",
   "metadata": {},
   "source": [
    "**Any columns that are about New Convictions or days to recidivism should be dropped for our initial model predicting recidivism.**\n",
    "- \"New..\", \"Days to Recividism\""
   ]
  },
  {
   "cell_type": "code",
   "execution_count": 9,
   "metadata": {
    "ExecuteTime": {
     "end_time": "2021-07-10T21:04:07.682636Z",
     "start_time": "2021-07-10T21:04:07.650865Z"
    }
   },
   "outputs": [
    {
     "data": {
      "text/plain": [
       "['new_offense_class',\n",
       " 'new_offense_type',\n",
       " 'new_offense_subtype',\n",
       " 'days_return',\n",
       " 'recidivism_type',\n",
       " 'fiscal_year_released',\n",
       " 'recidivism_reporting_year']"
      ]
     },
     "execution_count": 9,
     "metadata": {},
     "output_type": "execute_result"
    }
   ],
   "source": [
    "## Drop cols related to recivism details \n",
    "drop_expr = ['new',\"days\",\"recidivism_type\",\"year\"]\n",
    "drop_cols = []\n",
    "for exp in drop_expr:\n",
    "    drop_cols.extend([col for col in df.columns if exp in col])\n",
    "drop_cols"
   ]
  },
  {
   "cell_type": "code",
   "execution_count": 10,
   "metadata": {
    "ExecuteTime": {
     "end_time": "2021-07-10T21:04:07.733359Z",
     "start_time": "2021-07-10T21:04:07.684439Z"
    }
   },
   "outputs": [
    {
     "data": {
      "text/html": [
       "<div>\n",
       "<style scoped>\n",
       "    .dataframe tbody tr th:only-of-type {\n",
       "        vertical-align: middle;\n",
       "    }\n",
       "\n",
       "    .dataframe tbody tr th {\n",
       "        vertical-align: top;\n",
       "    }\n",
       "\n",
       "    .dataframe thead th {\n",
       "        text-align: right;\n",
       "    }\n",
       "</style>\n",
       "<table border=\"1\" class=\"dataframe\">\n",
       "  <thead>\n",
       "    <tr style=\"text-align: right;\">\n",
       "      <th></th>\n",
       "      <th>new_offense_class</th>\n",
       "      <th>new_offense_type</th>\n",
       "      <th>new_offense_subtype</th>\n",
       "      <th>days_return</th>\n",
       "      <th>recidivism_type</th>\n",
       "      <th>fiscal_year_released</th>\n",
       "      <th>recidivism_reporting_year</th>\n",
       "    </tr>\n",
       "  </thead>\n",
       "  <tbody>\n",
       "    <tr>\n",
       "      <th>0</th>\n",
       "      <td>C Felony</td>\n",
       "      <td>Drug</td>\n",
       "      <td>Trafficking</td>\n",
       "      <td>433.00</td>\n",
       "      <td>New</td>\n",
       "      <td>2010</td>\n",
       "      <td>2013</td>\n",
       "    </tr>\n",
       "    <tr>\n",
       "      <th>1</th>\n",
       "      <td>NaN</td>\n",
       "      <td>NaN</td>\n",
       "      <td>NaN</td>\n",
       "      <td>453.00</td>\n",
       "      <td>Tech</td>\n",
       "      <td>2010</td>\n",
       "      <td>2013</td>\n",
       "    </tr>\n",
       "    <tr>\n",
       "      <th>2</th>\n",
       "      <td>NaN</td>\n",
       "      <td>NaN</td>\n",
       "      <td>NaN</td>\n",
       "      <td>832.00</td>\n",
       "      <td>Tech</td>\n",
       "      <td>2010</td>\n",
       "      <td>2013</td>\n",
       "    </tr>\n",
       "    <tr>\n",
       "      <th>3</th>\n",
       "      <td>NaN</td>\n",
       "      <td>NaN</td>\n",
       "      <td>NaN</td>\n",
       "      <td>NaN</td>\n",
       "      <td>No Recidivism</td>\n",
       "      <td>2010</td>\n",
       "      <td>2013</td>\n",
       "    </tr>\n",
       "    <tr>\n",
       "      <th>4</th>\n",
       "      <td>NaN</td>\n",
       "      <td>NaN</td>\n",
       "      <td>NaN</td>\n",
       "      <td>116.00</td>\n",
       "      <td>Tech</td>\n",
       "      <td>2010</td>\n",
       "      <td>2013</td>\n",
       "    </tr>\n",
       "    <tr>\n",
       "      <th>...</th>\n",
       "      <td>...</td>\n",
       "      <td>...</td>\n",
       "      <td>...</td>\n",
       "      <td>...</td>\n",
       "      <td>...</td>\n",
       "      <td>...</td>\n",
       "      <td>...</td>\n",
       "    </tr>\n",
       "    <tr>\n",
       "      <th>995</th>\n",
       "      <td>NaN</td>\n",
       "      <td>NaN</td>\n",
       "      <td>NaN</td>\n",
       "      <td>NaN</td>\n",
       "      <td>No Recidivism</td>\n",
       "      <td>2010</td>\n",
       "      <td>2013</td>\n",
       "    </tr>\n",
       "    <tr>\n",
       "      <th>996</th>\n",
       "      <td>NaN</td>\n",
       "      <td>NaN</td>\n",
       "      <td>NaN</td>\n",
       "      <td>NaN</td>\n",
       "      <td>No Recidivism</td>\n",
       "      <td>2010</td>\n",
       "      <td>2013</td>\n",
       "    </tr>\n",
       "    <tr>\n",
       "      <th>997</th>\n",
       "      <td>NaN</td>\n",
       "      <td>NaN</td>\n",
       "      <td>NaN</td>\n",
       "      <td>NaN</td>\n",
       "      <td>No Recidivism</td>\n",
       "      <td>2010</td>\n",
       "      <td>2013</td>\n",
       "    </tr>\n",
       "    <tr>\n",
       "      <th>998</th>\n",
       "      <td>NaN</td>\n",
       "      <td>NaN</td>\n",
       "      <td>NaN</td>\n",
       "      <td>NaN</td>\n",
       "      <td>No Recidivism</td>\n",
       "      <td>2010</td>\n",
       "      <td>2013</td>\n",
       "    </tr>\n",
       "    <tr>\n",
       "      <th>999</th>\n",
       "      <td>D Felony</td>\n",
       "      <td>Public Order</td>\n",
       "      <td>Weapons</td>\n",
       "      <td>1050.00</td>\n",
       "      <td>New</td>\n",
       "      <td>2010</td>\n",
       "      <td>2013</td>\n",
       "    </tr>\n",
       "  </tbody>\n",
       "</table>\n",
       "<p>1000 rows × 7 columns</p>\n",
       "</div>"
      ],
      "text/plain": [
       "    new_offense_class  ... recidivism_reporting_year\n",
       "0            C Felony  ...                      2013\n",
       "1                 NaN  ...                      2013\n",
       "2                 NaN  ...                      2013\n",
       "3                 NaN  ...                      2013\n",
       "4                 NaN  ...                      2013\n",
       "..                ...  ...                       ...\n",
       "995               NaN  ...                      2013\n",
       "996               NaN  ...                      2013\n",
       "997               NaN  ...                      2013\n",
       "998               NaN  ...                      2013\n",
       "999          D Felony  ...                      2013\n",
       "\n",
       "[1000 rows x 7 columns]"
      ]
     },
     "execution_count": 10,
     "metadata": {},
     "output_type": "execute_result"
    }
   ],
   "source": [
    "## Saving removed columns to merge again after feature engineering (for tableau)\n",
    "removed_df = df[drop_cols].copy()\n",
    "removed_df"
   ]
  },
  {
   "cell_type": "code",
   "execution_count": 11,
   "metadata": {
    "ExecuteTime": {
     "end_time": "2021-07-10T21:04:07.785522Z",
     "start_time": "2021-07-10T21:04:07.735301Z"
    }
   },
   "outputs": [
    {
     "data": {
      "text/html": [
       "<div>\n",
       "<style scoped>\n",
       "    .dataframe tbody tr th:only-of-type {\n",
       "        vertical-align: middle;\n",
       "    }\n",
       "\n",
       "    .dataframe tbody tr th {\n",
       "        vertical-align: top;\n",
       "    }\n",
       "\n",
       "    .dataframe thead th {\n",
       "        text-align: right;\n",
       "    }\n",
       "</style>\n",
       "<table border=\"1\" class=\"dataframe\">\n",
       "  <thead>\n",
       "    <tr style=\"text-align: right;\">\n",
       "      <th></th>\n",
       "      <th>main_supervising_district</th>\n",
       "      <th>release_type</th>\n",
       "      <th>race_ethnicity</th>\n",
       "      <th>age_at_release</th>\n",
       "      <th>sex</th>\n",
       "      <th>offense_class</th>\n",
       "      <th>offense_type</th>\n",
       "      <th>offense_subtype</th>\n",
       "      <th>return_to_prison</th>\n",
       "      <th>target_population</th>\n",
       "    </tr>\n",
       "  </thead>\n",
       "  <tbody>\n",
       "    <tr>\n",
       "      <th>0</th>\n",
       "      <td>7JD</td>\n",
       "      <td>Parole</td>\n",
       "      <td>Black - Non-Hispanic</td>\n",
       "      <td>25-34</td>\n",
       "      <td>Male</td>\n",
       "      <td>C Felony</td>\n",
       "      <td>Violent</td>\n",
       "      <td>Robbery</td>\n",
       "      <td>Yes</td>\n",
       "      <td>Yes</td>\n",
       "    </tr>\n",
       "    <tr>\n",
       "      <th>1</th>\n",
       "      <td>NaN</td>\n",
       "      <td>Discharged – End of Sentence</td>\n",
       "      <td>White - Non-Hispanic</td>\n",
       "      <td>25-34</td>\n",
       "      <td>Male</td>\n",
       "      <td>D Felony</td>\n",
       "      <td>Property</td>\n",
       "      <td>Theft</td>\n",
       "      <td>Yes</td>\n",
       "      <td>No</td>\n",
       "    </tr>\n",
       "    <tr>\n",
       "      <th>2</th>\n",
       "      <td>5JD</td>\n",
       "      <td>Parole</td>\n",
       "      <td>White - Non-Hispanic</td>\n",
       "      <td>35-44</td>\n",
       "      <td>Male</td>\n",
       "      <td>B Felony</td>\n",
       "      <td>Drug</td>\n",
       "      <td>Trafficking</td>\n",
       "      <td>Yes</td>\n",
       "      <td>Yes</td>\n",
       "    </tr>\n",
       "    <tr>\n",
       "      <th>3</th>\n",
       "      <td>6JD</td>\n",
       "      <td>Parole</td>\n",
       "      <td>White - Non-Hispanic</td>\n",
       "      <td>25-34</td>\n",
       "      <td>Male</td>\n",
       "      <td>B Felony</td>\n",
       "      <td>Other</td>\n",
       "      <td>Other Criminal</td>\n",
       "      <td>No</td>\n",
       "      <td>Yes</td>\n",
       "    </tr>\n",
       "    <tr>\n",
       "      <th>4</th>\n",
       "      <td>NaN</td>\n",
       "      <td>Discharged – End of Sentence</td>\n",
       "      <td>Black - Non-Hispanic</td>\n",
       "      <td>35-44</td>\n",
       "      <td>Male</td>\n",
       "      <td>D Felony</td>\n",
       "      <td>Violent</td>\n",
       "      <td>Assault</td>\n",
       "      <td>Yes</td>\n",
       "      <td>No</td>\n",
       "    </tr>\n",
       "  </tbody>\n",
       "</table>\n",
       "</div>"
      ],
      "text/plain": [
       "  main_supervising_district  ... target_population\n",
       "0                       7JD  ...               Yes\n",
       "1                       NaN  ...                No\n",
       "2                       5JD  ...               Yes\n",
       "3                       6JD  ...               Yes\n",
       "4                       NaN  ...                No\n",
       "\n",
       "[5 rows x 10 columns]"
      ]
     },
     "execution_count": 11,
     "metadata": {},
     "output_type": "execute_result"
    }
   ],
   "source": [
    "df.drop(columns=drop_cols,inplace=True)\n",
    "df.head()"
   ]
  },
  {
   "cell_type": "markdown",
   "metadata": {},
   "source": [
    "### Save original names vs short names in column_legend\n",
    "- then map names onto columns"
   ]
  },
  {
   "cell_type": "code",
   "execution_count": 12,
   "metadata": {
    "ExecuteTime": {
     "end_time": "2021-07-10T21:04:07.820750Z",
     "start_time": "2021-07-10T21:04:07.787550Z"
    }
   },
   "outputs": [],
   "source": [
    "# ## Replacing columns with short names\n",
    "# rename_map = {\n",
    "#     'Fiscal Year Released': 'yr_released',\n",
    "#     'Recidivism Reporting Year': 'report_year' ,\n",
    "#     'Main Supervising District': 'supervising_dist' ,\n",
    "#     'Release Type': 'release_type' ,\n",
    "#     'Race - Ethnicity': 'race_ethnicity'  ,\n",
    "#     'Age At Release ':  'age_at_release' ,\n",
    "#     'Sex':'sex'   ,\n",
    "#     'Offense Classification': 'offense_class' ,\n",
    "#     'Offense Type': 'crime_type'  ,\n",
    "#     'Offense Subtype':  'crime_subtype' ,\n",
    "#     'Return to Prison': 'recidivist'  ,\n",
    "#     'Target Population':  'target_pop'\n",
    "# }\n",
    "\n",
    "# df = df.rename(rename_map,axis=1)\n",
    "# df"
   ]
  },
  {
   "cell_type": "code",
   "execution_count": 13,
   "metadata": {
    "ExecuteTime": {
     "end_time": "2021-07-10T21:04:07.864267Z",
     "start_time": "2021-07-10T21:04:07.822782Z"
    }
   },
   "outputs": [],
   "source": [
    "df.to_csv('data/iowa_recidivism_renamed_2021.csv')"
   ]
  },
  {
   "cell_type": "markdown",
   "metadata": {},
   "source": [
    "# SCRUB / EXPLORE\n"
   ]
  },
  {
   "cell_type": "code",
   "execution_count": 14,
   "metadata": {
    "ExecuteTime": {
     "end_time": "2021-07-10T21:04:07.904542Z",
     "start_time": "2021-07-10T21:04:07.866049Z"
    }
   },
   "outputs": [
    {
     "name": "stdout",
     "output_type": "stream",
     "text": [
      "<class 'pandas.core.frame.DataFrame'>\n",
      "RangeIndex: 1000 entries, 0 to 999\n",
      "Data columns (total 10 columns):\n",
      " #   Column                     Dtype \n",
      "---  ------                     ----- \n",
      " 0   main_supervising_district  object\n",
      " 1   release_type               object\n",
      " 2   race_ethnicity             object\n",
      " 3   age_at_release             object\n",
      " 4   sex                        object\n",
      " 5   offense_class              object\n",
      " 6   offense_type               object\n",
      " 7   offense_subtype            object\n",
      " 8   return_to_prison           object\n",
      " 9   target_population          object\n",
      "dtypes: object(10)\n",
      "memory usage: 78.2+ KB\n"
     ]
    }
   ],
   "source": [
    "## Explore Dtypes and info\n",
    "df.info()"
   ]
  },
  {
   "cell_type": "code",
   "execution_count": 15,
   "metadata": {
    "ExecuteTime": {
     "end_time": "2021-07-10T21:04:07.962703Z",
     "start_time": "2021-07-10T21:04:07.906691Z"
    }
   },
   "outputs": [
    {
     "data": {
      "text/html": [
       "<style type=\"text/css\">\n",
       "#T_6d5fe_row0_col5 {\n",
       "  color: red;\n",
       "}\n",
       "</style>\n",
       "<table id=\"T_6d5fe_\">\n",
       "  <caption>Column Report</caption>\n",
       "  <thead>\n",
       "    <tr>\n",
       "      <th class=\"blank level0\" >&nbsp;</th>\n",
       "      <th class=\"col_heading level0 col0\" >column</th>\n",
       "      <th class=\"col_heading level0 col1\" >nunique</th>\n",
       "      <th class=\"col_heading level0 col2\" >dtype</th>\n",
       "      <th class=\"col_heading level0 col3\" ># Non-Null</th>\n",
       "      <th class=\"col_heading level0 col4\" ># Nulls</th>\n",
       "      <th class=\"col_heading level0 col5\" >% Nulls</th>\n",
       "    </tr>\n",
       "  </thead>\n",
       "  <tbody>\n",
       "    <tr>\n",
       "      <th id=\"T_6d5fe_level0_row0\" class=\"row_heading level0 row0\" >0</th>\n",
       "      <td id=\"T_6d5fe_row0_col0\" class=\"data row0 col0\" >main_supervising_district</td>\n",
       "      <td id=\"T_6d5fe_row0_col1\" class=\"data row0 col1\" >8</td>\n",
       "      <td id=\"T_6d5fe_row0_col2\" class=\"data row0 col2\" >object</td>\n",
       "      <td id=\"T_6d5fe_row0_col3\" class=\"data row0 col3\" >553</td>\n",
       "      <td id=\"T_6d5fe_row0_col4\" class=\"data row0 col4\" >447</td>\n",
       "      <td id=\"T_6d5fe_row0_col5\" class=\"data row0 col5\" >44.70 %</td>\n",
       "    </tr>\n",
       "    <tr>\n",
       "      <th id=\"T_6d5fe_level0_row1\" class=\"row_heading level0 row1\" >1</th>\n",
       "      <td id=\"T_6d5fe_row1_col0\" class=\"data row1 col0\" >release_type</td>\n",
       "      <td id=\"T_6d5fe_row1_col1\" class=\"data row1 col1\" >3</td>\n",
       "      <td id=\"T_6d5fe_row1_col2\" class=\"data row1 col2\" >object</td>\n",
       "      <td id=\"T_6d5fe_row1_col3\" class=\"data row1 col3\" >998</td>\n",
       "      <td id=\"T_6d5fe_row1_col4\" class=\"data row1 col4\" >2</td>\n",
       "      <td id=\"T_6d5fe_row1_col5\" class=\"data row1 col5\" >0.20 %</td>\n",
       "    </tr>\n",
       "    <tr>\n",
       "      <th id=\"T_6d5fe_level0_row2\" class=\"row_heading level0 row2\" >2</th>\n",
       "      <td id=\"T_6d5fe_row2_col0\" class=\"data row2 col0\" >race_ethnicity</td>\n",
       "      <td id=\"T_6d5fe_row2_col1\" class=\"data row2 col1\" >8</td>\n",
       "      <td id=\"T_6d5fe_row2_col2\" class=\"data row2 col2\" >object</td>\n",
       "      <td id=\"T_6d5fe_row2_col3\" class=\"data row2 col3\" >1000</td>\n",
       "      <td id=\"T_6d5fe_row2_col4\" class=\"data row2 col4\" >0</td>\n",
       "      <td id=\"T_6d5fe_row2_col5\" class=\"data row2 col5\" >0.00 %</td>\n",
       "    </tr>\n",
       "    <tr>\n",
       "      <th id=\"T_6d5fe_level0_row3\" class=\"row_heading level0 row3\" >3</th>\n",
       "      <td id=\"T_6d5fe_row3_col0\" class=\"data row3 col0\" >age_at_release</td>\n",
       "      <td id=\"T_6d5fe_row3_col1\" class=\"data row3 col1\" >5</td>\n",
       "      <td id=\"T_6d5fe_row3_col2\" class=\"data row3 col2\" >object</td>\n",
       "      <td id=\"T_6d5fe_row3_col3\" class=\"data row3 col3\" >1000</td>\n",
       "      <td id=\"T_6d5fe_row3_col4\" class=\"data row3 col4\" >0</td>\n",
       "      <td id=\"T_6d5fe_row3_col5\" class=\"data row3 col5\" >0.00 %</td>\n",
       "    </tr>\n",
       "    <tr>\n",
       "      <th id=\"T_6d5fe_level0_row4\" class=\"row_heading level0 row4\" >4</th>\n",
       "      <td id=\"T_6d5fe_row4_col0\" class=\"data row4 col0\" >sex</td>\n",
       "      <td id=\"T_6d5fe_row4_col1\" class=\"data row4 col1\" >2</td>\n",
       "      <td id=\"T_6d5fe_row4_col2\" class=\"data row4 col2\" >object</td>\n",
       "      <td id=\"T_6d5fe_row4_col3\" class=\"data row4 col3\" >1000</td>\n",
       "      <td id=\"T_6d5fe_row4_col4\" class=\"data row4 col4\" >0</td>\n",
       "      <td id=\"T_6d5fe_row4_col5\" class=\"data row4 col5\" >0.00 %</td>\n",
       "    </tr>\n",
       "    <tr>\n",
       "      <th id=\"T_6d5fe_level0_row5\" class=\"row_heading level0 row5\" >5</th>\n",
       "      <td id=\"T_6d5fe_row5_col0\" class=\"data row5 col0\" >offense_class</td>\n",
       "      <td id=\"T_6d5fe_row5_col1\" class=\"data row5 col1\" >8</td>\n",
       "      <td id=\"T_6d5fe_row5_col2\" class=\"data row5 col2\" >object</td>\n",
       "      <td id=\"T_6d5fe_row5_col3\" class=\"data row5 col3\" >1000</td>\n",
       "      <td id=\"T_6d5fe_row5_col4\" class=\"data row5 col4\" >0</td>\n",
       "      <td id=\"T_6d5fe_row5_col5\" class=\"data row5 col5\" >0.00 %</td>\n",
       "    </tr>\n",
       "    <tr>\n",
       "      <th id=\"T_6d5fe_level0_row6\" class=\"row_heading level0 row6\" >6</th>\n",
       "      <td id=\"T_6d5fe_row6_col0\" class=\"data row6 col0\" >offense_type</td>\n",
       "      <td id=\"T_6d5fe_row6_col1\" class=\"data row6 col1\" >5</td>\n",
       "      <td id=\"T_6d5fe_row6_col2\" class=\"data row6 col2\" >object</td>\n",
       "      <td id=\"T_6d5fe_row6_col3\" class=\"data row6 col3\" >1000</td>\n",
       "      <td id=\"T_6d5fe_row6_col4\" class=\"data row6 col4\" >0</td>\n",
       "      <td id=\"T_6d5fe_row6_col5\" class=\"data row6 col5\" >0.00 %</td>\n",
       "    </tr>\n",
       "    <tr>\n",
       "      <th id=\"T_6d5fe_level0_row7\" class=\"row_heading level0 row7\" >7</th>\n",
       "      <td id=\"T_6d5fe_row7_col0\" class=\"data row7 col0\" >offense_subtype</td>\n",
       "      <td id=\"T_6d5fe_row7_col1\" class=\"data row7 col1\" >24</td>\n",
       "      <td id=\"T_6d5fe_row7_col2\" class=\"data row7 col2\" >object</td>\n",
       "      <td id=\"T_6d5fe_row7_col3\" class=\"data row7 col3\" >1000</td>\n",
       "      <td id=\"T_6d5fe_row7_col4\" class=\"data row7 col4\" >0</td>\n",
       "      <td id=\"T_6d5fe_row7_col5\" class=\"data row7 col5\" >0.00 %</td>\n",
       "    </tr>\n",
       "    <tr>\n",
       "      <th id=\"T_6d5fe_level0_row8\" class=\"row_heading level0 row8\" >8</th>\n",
       "      <td id=\"T_6d5fe_row8_col0\" class=\"data row8 col0\" >return_to_prison</td>\n",
       "      <td id=\"T_6d5fe_row8_col1\" class=\"data row8 col1\" >2</td>\n",
       "      <td id=\"T_6d5fe_row8_col2\" class=\"data row8 col2\" >object</td>\n",
       "      <td id=\"T_6d5fe_row8_col3\" class=\"data row8 col3\" >1000</td>\n",
       "      <td id=\"T_6d5fe_row8_col4\" class=\"data row8 col4\" >0</td>\n",
       "      <td id=\"T_6d5fe_row8_col5\" class=\"data row8 col5\" >0.00 %</td>\n",
       "    </tr>\n",
       "    <tr>\n",
       "      <th id=\"T_6d5fe_level0_row9\" class=\"row_heading level0 row9\" >9</th>\n",
       "      <td id=\"T_6d5fe_row9_col0\" class=\"data row9 col0\" >target_population</td>\n",
       "      <td id=\"T_6d5fe_row9_col1\" class=\"data row9 col1\" >2</td>\n",
       "      <td id=\"T_6d5fe_row9_col2\" class=\"data row9 col2\" >object</td>\n",
       "      <td id=\"T_6d5fe_row9_col3\" class=\"data row9 col3\" >1000</td>\n",
       "      <td id=\"T_6d5fe_row9_col4\" class=\"data row9 col4\" >0</td>\n",
       "      <td id=\"T_6d5fe_row9_col5\" class=\"data row9 col5\" >0.00 %</td>\n",
       "    </tr>\n",
       "  </tbody>\n",
       "</table>\n"
      ],
      "text/plain": [
       "<pandas.io.formats.style.Styler at 0x7fe36615cfd0>"
      ]
     },
     "metadata": {},
     "output_type": "display_data"
    }
   ],
   "source": [
    "import missingno as ms\n",
    "def column_report(df,perc_null_thresh=5,return_report=False):\n",
    "    \"\"\"Returns a dataframe with the following summary information\n",
    "    for each column in df.\n",
    "    - Dtype\n",
    "    - # Unique Entries\n",
    "    - # Null Values\n",
    "    - # Non-Null Values\n",
    "    - % Null Values\n",
    "    \"\"\"\n",
    "    report = pd.DataFrame({\n",
    "        'nunique':df.nunique(),\n",
    "        'dtype':df.dtypes, \n",
    "        '# Non-Null': df.notnull().sum(),\n",
    "        '# Nulls': df.isna().sum(),\n",
    "        '% Nulls':df.isna().sum()/len(df)*100,\n",
    "        })\n",
    "    \n",
    "    report = report.reset_index().rename({'index':'column'},axis=1)\n",
    "    \n",
    "    if return_report:\n",
    "        return report#.round(2)    \n",
    "    else:\n",
    "        def style_nulls(v, thresh=perc_null_thresh, props=''):\n",
    "            return props if v > thresh else None\n",
    "        s2 = report.style.applymap(style_nulls, props='color:red;',subset=['% Nulls'])\\\n",
    "                        .format(lambda x: f\"{x:.2f} %\",subset=['% Nulls'])\\\n",
    "                        .set_caption(\"Column Report\")\n",
    "        display(s2)\n",
    "    \n",
    "\n",
    "\n",
    "\n",
    "def nulls_report(df,plot=True):\n",
    "    nulls= df.isna().sum()\n",
    "    nulls_only = nulls[nulls>0]\n",
    "    nulls_only = nulls_only.round(2)\n",
    "    \n",
    "    \n",
    "    if plot:\n",
    "        with plt.style.context('seaborn-poster'):\n",
    "            ms.matrix(df,figsize=(10,4))\n",
    "            plt.show()\n",
    "        \n",
    "    print('Columns with Null Values:')\n",
    "    display(nulls_only)#.style.format(lambda x: f\"{x:.2f} %\",\n",
    "#                                                       subset=['%']))\n",
    "\n",
    "  \n",
    "    \n",
    "column_report(df)"
   ]
  },
  {
   "cell_type": "code",
   "execution_count": 16,
   "metadata": {
    "ExecuteTime": {
     "end_time": "2021-07-10T21:04:08.284971Z",
     "start_time": "2021-07-10T21:04:07.965351Z"
    }
   },
   "outputs": [
    {
     "data": {
      "image/png": "[encoded data removed]",
      "text/plain": [
       "<Figure size 720x288 with 2 Axes>"
      ]
     },
     "metadata": {
      "needs_background": "light"
     },
     "output_type": "display_data"
    },
    {
     "name": "stdout",
     "output_type": "stream",
     "text": [
      "Columns with Null Values:\n"
     ]
    },
    {
     "data": {
      "text/plain": [
       "main_supervising_district    447\n",
       "release_type                   2\n",
       "dtype: int64"
      ]
     },
     "metadata": {},
     "output_type": "display_data"
    }
   ],
   "source": [
    "nulls_report(df)"
   ]
  },
  {
   "cell_type": "markdown",
   "metadata": {},
   "source": [
    "**Results of Null Check**\n",
    "<!-- - race_ethnicity has 30 (0.12% of data)\n",
    "    -  drop\n",
    "- age_at_release has 3 (0.01% of data)\n",
    "    - drop\n",
    "- sex has 3 (0.01% of data)\n",
    "    - drop -->\n",
    "- main_supervising_district has 9581(36.82% of data)\n",
    "    - replace with \"unknown\"\n",
    "- release_type has 1762 (6.77% of data)\n",
    "    - drop\n",
    "    \n",
    "**Dropping all null values from age_at_release, race_ethnicity, and release_type.**"
   ]
  },
  {
   "cell_type": "markdown",
   "metadata": {},
   "source": [
    "## SIMPLIFYING CATEGORICAL FEATURES"
   ]
  },
  {
   "cell_type": "code",
   "execution_count": 17,
   "metadata": {
    "ExecuteTime": {
     "end_time": "2021-07-10T21:04:08.321969Z",
     "start_time": "2021-07-10T21:04:08.287058Z"
    }
   },
   "outputs": [],
   "source": [
    "def value_counts(col,dropna=False,normalize=True,sort_index=False,rename=True):\n",
    "    \"\"\"Convenience function for display value counts with default params\"\"\"\n",
    "    counts =  col.value_counts(dropna=dropna,normalize=normalize)\n",
    "    if sort_index:\n",
    "        counts.sort_index(inplace=True)\n",
    "        \n",
    "    if rename:\n",
    "        counts.name=f'{counts.name}.value_counts(normalized={normalize}, dropna={dropna})'\n",
    "    return counts"
   ]
  },
  {
   "cell_type": "code",
   "execution_count": 18,
   "metadata": {
    "ExecuteTime": {
     "end_time": "2021-07-10T21:04:08.396306Z",
     "start_time": "2021-07-10T21:04:08.324566Z"
    },
    "scrolled": false
   },
   "outputs": [
    {
     "name": "stdout",
     "output_type": "stream",
     "text": [
      "------------------------------------------------------------\n",
      "Value Counts for main_supervising_district:\n"
     ]
    },
    {
     "data": {
      "text/plain": [
       "NaN    447\n",
       "5JD    146\n",
       "1JD     90\n",
       "2JD     73\n",
       "8JD     68\n",
       "7JD     59\n",
       "3JD     41\n",
       "6JD     38\n",
       "4JD     38\n",
       "Name: main_supervising_district, dtype: int64"
      ]
     },
     "metadata": {},
     "output_type": "display_data"
    },
    {
     "name": "stdout",
     "output_type": "stream",
     "text": [
      "\n",
      "------------------------------------------------------------\n",
      "Value Counts for release_type:\n"
     ]
    },
    {
     "data": {
      "text/plain": [
       "Parole                          539\n",
       "Discharged – End of Sentence    445\n",
       "Special Sentence                 14\n",
       "NaN                               2\n",
       "Name: release_type, dtype: int64"
      ]
     },
     "metadata": {},
     "output_type": "display_data"
    },
    {
     "name": "stdout",
     "output_type": "stream",
     "text": [
      "\n",
      "------------------------------------------------------------\n",
      "Value Counts for race_ethnicity:\n"
     ]
    },
    {
     "data": {
      "text/plain": [
       "White - Non-Hispanic                               665\n",
       "Black - Non-Hispanic                               232\n",
       "White - Hispanic                                    80\n",
       "American Indian or Alaska Native - Non-Hispanic     15\n",
       "Asian or Pacific Islander - Non-Hispanic             5\n",
       "American Indian or Alaska Native - Hispanic          1\n",
       "White -                                              1\n",
       "Black - Hispanic                                     1\n",
       "Name: race_ethnicity, dtype: int64"
      ]
     },
     "metadata": {},
     "output_type": "display_data"
    },
    {
     "name": "stdout",
     "output_type": "stream",
     "text": [
      "\n",
      "------------------------------------------------------------\n",
      "Value Counts for age_at_release:\n"
     ]
    },
    {
     "data": {
      "text/plain": [
       "25-34           342\n",
       "35-44           250\n",
       "45-54           187\n",
       "Under 25        180\n",
       "55 and Older     41\n",
       "Name: age_at_release, dtype: int64"
      ]
     },
     "metadata": {},
     "output_type": "display_data"
    },
    {
     "name": "stdout",
     "output_type": "stream",
     "text": [
      "\n",
      "------------------------------------------------------------\n",
      "Value Counts for sex:\n"
     ]
    },
    {
     "data": {
      "text/plain": [
       "Male      901\n",
       "Female     99\n",
       "Name: sex, dtype: int64"
      ]
     },
     "metadata": {},
     "output_type": "display_data"
    },
    {
     "name": "stdout",
     "output_type": "stream",
     "text": [
      "\n",
      "------------------------------------------------------------\n",
      "Value Counts for offense_class:\n"
     ]
    },
    {
     "data": {
      "text/plain": [
       "D Felony                                 426\n",
       "C Felony                                 273\n",
       "Aggravated Misdemeanor                   158\n",
       "Felony - Enhanced                         67\n",
       "B Felony                                  66\n",
       "Serious Misdemeanor                        7\n",
       "Other Felony (Old Code)                    2\n",
       "Sexual Predator Community Supervision      1\n",
       "Name: offense_class, dtype: int64"
      ]
     },
     "metadata": {},
     "output_type": "display_data"
    },
    {
     "name": "stdout",
     "output_type": "stream",
     "text": [
      "\n",
      "------------------------------------------------------------\n",
      "Value Counts for offense_type:\n"
     ]
    },
    {
     "data": {
      "text/plain": [
       "Drug            326\n",
       "Property        316\n",
       "Violent         223\n",
       "Public Order    123\n",
       "Other            12\n",
       "Name: offense_type, dtype: int64"
      ]
     },
     "metadata": {},
     "output_type": "display_data"
    },
    {
     "name": "stdout",
     "output_type": "stream",
     "text": [
      "\n",
      "------------------------------------------------------------\n",
      "Value Counts for offense_subtype:\n"
     ]
    },
    {
     "data": {
      "text/plain": [
       "Trafficking                        267\n",
       "Theft                              140\n",
       "Assault                            113\n",
       "Burglary                            92\n",
       "Sex                                 60\n",
       "Forgery/Fraud                       59\n",
       "OWI                                 52\n",
       "Drug Possession                     33\n",
       "Other Drug                          26\n",
       "Traffic                             24\n",
       "Other Violent                       21\n",
       "Sex Offender Registry/Residency     21\n",
       "Murder/Manslaughter                 18\n",
       "Arson                               12\n",
       "Vandalism                           12\n",
       "Robbery                             11\n",
       "Alcohol                             11\n",
       "Weapons                              9\n",
       "Other Criminal                       9\n",
       "Flight/Escape                        5\n",
       "Special Sentence Revocation          2\n",
       "Kidnap                               1\n",
       "Stolen Property                      1\n",
       "Prostitution/Pimping                 1\n",
       "Name: offense_subtype, dtype: int64"
      ]
     },
     "metadata": {},
     "output_type": "display_data"
    },
    {
     "name": "stdout",
     "output_type": "stream",
     "text": [
      "\n",
      "------------------------------------------------------------\n",
      "Value Counts for return_to_prison:\n"
     ]
    },
    {
     "data": {
      "text/plain": [
       "No     710\n",
       "Yes    290\n",
       "Name: return_to_prison, dtype: int64"
      ]
     },
     "metadata": {},
     "output_type": "display_data"
    },
    {
     "name": "stdout",
     "output_type": "stream",
     "text": [
      "\n",
      "------------------------------------------------------------\n",
      "Value Counts for target_population:\n"
     ]
    },
    {
     "data": {
      "text/plain": [
       "Yes    553\n",
       "No     447\n",
       "Name: target_population, dtype: int64"
      ]
     },
     "metadata": {},
     "output_type": "display_data"
    },
    {
     "name": "stdout",
     "output_type": "stream",
     "text": [
      "\n"
     ]
    }
   ],
   "source": [
    "## inspect categories\n",
    "dashes = '---'*20\n",
    "for col in df.columns:\n",
    "    print(dashes)\n",
    "    print(f\"Value Counts for {col}:\")\n",
    "    display(value_counts(df[col],normalize=False,rename=False))\n",
    "    print()"
   ]
  },
  {
   "cell_type": "markdown",
   "metadata": {},
   "source": [
    "### Notes on Categorical Features"
   ]
  },
  {
   "cell_type": "markdown",
   "metadata": {},
   "source": [
    "- convert age_at_release to numeric\n",
    "- Convert return_to_prison and 'target_population' to 0,1"
   ]
  },
  {
   "cell_type": "markdown",
   "metadata": {},
   "source": [
    "### Making `age_at_release` numerical"
   ]
  },
  {
   "cell_type": "code",
   "execution_count": 19,
   "metadata": {
    "ExecuteTime": {
     "end_time": "2021-07-10T21:04:08.447269Z",
     "start_time": "2021-07-10T21:04:08.398336Z"
    }
   },
   "outputs": [
    {
     "data": {
      "text/plain": [
       "25-34          0.34\n",
       "35-44          0.25\n",
       "45-54          0.19\n",
       "Under 25       0.18\n",
       "55 and Older   0.04\n",
       "Name: age_at_release.value_counts(normalized=True, dropna=False), dtype: float64"
      ]
     },
     "execution_count": 19,
     "metadata": {},
     "output_type": "execute_result"
    }
   ],
   "source": [
    "value_counts(df['age_at_release'])#.value_counts(dropna=False)"
   ]
  },
  {
   "cell_type": "code",
   "execution_count": 20,
   "metadata": {
    "ExecuteTime": {
     "end_time": "2021-07-10T21:04:08.488665Z",
     "start_time": "2021-07-10T21:04:08.449844Z"
    }
   },
   "outputs": [
    {
     "data": {
      "text/plain": [
       "30   0.34\n",
       "40   0.25\n",
       "50   0.19\n",
       "20   0.18\n",
       "70   0.04\n",
       "Name: age_at_release.value_counts(normalized=True, dropna=False), dtype: float64"
      ]
     },
     "execution_count": 20,
     "metadata": {},
     "output_type": "execute_result"
    }
   ],
   "source": [
    "# converting age to numeric feature\n",
    "age_num_map = {'Under 25':20,\n",
    "              '25-34':30, \n",
    "              '35-44':40,\n",
    "              '45-54':50,\n",
    "              '55 and Older':70}\n",
    "df['age_at_release'] = df['age_at_release'].map(age_num_map)\n",
    "value_counts(df['age_at_release'])"
   ]
  },
  {
   "cell_type": "markdown",
   "metadata": {},
   "source": [
    "### df['race_ethnicity']"
   ]
  },
  {
   "cell_type": "code",
   "execution_count": 21,
   "metadata": {
    "ExecuteTime": {
     "end_time": "2021-07-10T21:04:08.527394Z",
     "start_time": "2021-07-10T21:04:08.490464Z"
    }
   },
   "outputs": [
    {
     "data": {
      "text/plain": [
       "White - Non-Hispanic                               665\n",
       "Black - Non-Hispanic                               232\n",
       "White - Hispanic                                    80\n",
       "American Indian or Alaska Native - Non-Hispanic     15\n",
       "Asian or Pacific Islander - Non-Hispanic             5\n",
       "American Indian or Alaska Native - Hispanic          1\n",
       "White -                                              1\n",
       "Black - Hispanic                                     1\n",
       "Name: race_ethnicity.value_counts(normalized=False, dropna=False), dtype: int64"
      ]
     },
     "execution_count": 21,
     "metadata": {},
     "output_type": "execute_result"
    }
   ],
   "source": [
    "value_counts(df['race_ethnicity'],normalize=False)"
   ]
  },
  {
   "cell_type": "markdown",
   "metadata": {},
   "source": [
    "- **Remapping race_ethnicity**\n",
    "    - Due to the low numbers for several of the race_ethnicity types, reducing and combining Hispanic and Non-Hispanic groups\n",
    "    - Alternative approach of separating race and ethnicity into 2 separate features was rejected after modeling"
   ]
  },
  {
   "cell_type": "code",
   "execution_count": 22,
   "metadata": {
    "ExecuteTime": {
     "end_time": "2021-07-10T21:04:08.564016Z",
     "start_time": "2021-07-10T21:04:08.529816Z"
    }
   },
   "outputs": [],
   "source": [
    "# df['race_ethnicity'].unique()"
   ]
  },
  {
   "cell_type": "code",
   "execution_count": 23,
   "metadata": {
    "ExecuteTime": {
     "end_time": "2021-07-10T21:04:08.612539Z",
     "start_time": "2021-07-10T21:04:08.571605Z"
    }
   },
   "outputs": [
    {
     "data": {
      "text/plain": [
       "White - Non-Hispanic                              0.67\n",
       "Black - Non-Hispanic                              0.23\n",
       "White - Hispanic                                  0.08\n",
       "American Indian or Alaska Native - Non-Hispanic   0.01\n",
       "Asian or Pacific Islander - Non-Hispanic          0.01\n",
       "American Indian or Alaska Native - Hispanic       0.00\n",
       "Black - Hispanic                                  0.00\n",
       "Name: race_ethnicity.value_counts(normalized=True, dropna=False), dtype: float64"
      ]
     },
     "execution_count": 23,
     "metadata": {},
     "output_type": "execute_result"
    }
   ],
   "source": [
    "# Defining Dictionary Map for race_ethnicity categories\n",
    "# race_ethnicity_map = {'White - Non-Hispanic':'White',\n",
    "#                         'Black - Non-Hispanic': 'Black',\n",
    "#                         'White - Hispanic' : 'Hispanic',\n",
    "#                         'American Indian or Alaska Native - Non-Hispanic' : 'American Native',\n",
    "#                         'Asian or Pacific Islander - Non-Hispanic' : 'Asian or Pacific Islander',\n",
    "#                         'Black - Hispanic' : 'Black',\n",
    "#                         'American Indian or Alaska Native - Hispanic':'American Native',\n",
    "#                         'White -' : 'White',\n",
    "#                         'Asian or Pacific Islander - Hispanic' : 'Asian or Pacific Islander',\n",
    "#                         'N/A -' : np.nan,\n",
    "#                         'Black -':'Black'}\n",
    "\n",
    "race_ethnicity_renamer = {'White -':'White - Non-Hispanic'}\n",
    "\n",
    "# Replacing original race_ethnicity column with remapped one.\n",
    "df['race_ethnicity'] = df['race_ethnicity'].replace(race_ethnicity_renamer)\n",
    "value_counts(df['race_ethnicity'])"
   ]
  },
  {
   "cell_type": "markdown",
   "metadata": {},
   "source": [
    "### df['offense_class']"
   ]
  },
  {
   "cell_type": "markdown",
   "metadata": {},
   "source": [
    "- **Remapping offense_class**\n",
    "    - Combine 'Other Felony' and 'Other Felony (Old Code)' -> nan\n",
    "    - Other Misdemeanor -> np.nan\n",
    "    - Felony - Mandatory Minimum -> np.nan\n",
    "    - Special Sentence 2005 -> Sex Offender\n",
    "    - 'Sexual Predator Community Supervision' -> 'Sex Offender'\n",
    "    - Other Felony -> np.nan    "
   ]
  },
  {
   "cell_type": "code",
   "execution_count": 24,
   "metadata": {
    "ExecuteTime": {
     "end_time": "2021-07-10T21:04:08.653771Z",
     "start_time": "2021-07-10T21:04:08.617781Z"
    }
   },
   "outputs": [
    {
     "data": {
      "text/plain": [
       "D Felony                                0.43\n",
       "C Felony                                0.27\n",
       "Aggravated Misdemeanor                  0.16\n",
       "Felony - Enhanced                       0.07\n",
       "B Felony                                0.07\n",
       "Serious Misdemeanor                     0.01\n",
       "Other Felony (Old Code)                 0.00\n",
       "Sexual Predator Community Supervision   0.00\n",
       "Name: offense_class.value_counts(normalized=True, dropna=False), dtype: float64"
      ]
     },
     "execution_count": 24,
     "metadata": {},
     "output_type": "execute_result"
    }
   ],
   "source": [
    "value_counts(df['offense_class'])"
   ]
  },
  {
   "cell_type": "code",
   "execution_count": 25,
   "metadata": {
    "ExecuteTime": {
     "end_time": "2021-07-10T21:04:08.694125Z",
     "start_time": "2021-07-10T21:04:08.655789Z"
    }
   },
   "outputs": [
    {
     "data": {
      "text/plain": [
       "D Felony                 0.43\n",
       "C Felony                 0.27\n",
       "Aggravated Misdemeanor   0.16\n",
       "Felony - Enhanced        0.07\n",
       "B Felony                 0.07\n",
       "Serious Misdemeanor      0.01\n",
       "Other Felony             0.00\n",
       "Sex Offender             0.00\n",
       "Name: offense_class.value_counts(normalized=True, dropna=False), dtype: float64"
      ]
     },
     "execution_count": 25,
     "metadata": {},
     "output_type": "execute_result"
    }
   ],
   "source": [
    "# Remapping\n",
    "offense_class_map = {'Other Felony (Old Code)':'Other Felony' ,#or other felony\n",
    "                  'Other Misdemeanor':'Other Misdemeanor',\n",
    "                   'Felony - Mandatory Minimum':'Other Felony',#np.nan, # if minimum then lowest sentence ==  D Felony\n",
    "                   'Special Sentence 2005': 'Sex Offender',\n",
    "                   'Other Felony' : 'Other Felony' ,\n",
    "                   'Sexual Predator Community Supervision' : 'Sex Offender',\n",
    "                   'D Felony': 'D Felony',\n",
    "                   'C Felony' :'C Felony',\n",
    "                   'B Felony' : 'B Felony',\n",
    "                   'A Felony' : 'A Felony',\n",
    "                   'Aggravated Misdemeanor':'Aggravated Misdemeanor',\n",
    "                   'Felony - Enhancement to Original Penalty':'Felony - Enhanced',\n",
    "                   'Felony - Enhanced':'Felony - Enhanced' ,\n",
    "                   'Serious Misdemeanor':'Serious Misdemeanor',\n",
    "                   'Simple Misdemeanor':'Simple Misdemeanor'}\n",
    "\n",
    "df['offense_class'] = df['offense_class'].map(offense_class_map)\n",
    "value_counts(df['offense_class'])"
   ]
  },
  {
   "cell_type": "markdown",
   "metadata": {},
   "source": [
    "### Remapping Binary Cols"
   ]
  },
  {
   "cell_type": "markdown",
   "metadata": {},
   "source": [
    "#### Remapping target"
   ]
  },
  {
   "cell_type": "code",
   "execution_count": 26,
   "metadata": {
    "ExecuteTime": {
     "end_time": "2021-07-10T21:04:08.731854Z",
     "start_time": "2021-07-10T21:04:08.696687Z"
    }
   },
   "outputs": [
    {
     "data": {
      "text/plain": [
       "No    0.71\n",
       "Yes   0.29\n",
       "Name: return_to_prison.value_counts(normalized=True, dropna=False), dtype: float64"
      ]
     },
     "execution_count": 26,
     "metadata": {},
     "output_type": "execute_result"
    }
   ],
   "source": [
    "value_counts(df['return_to_prison'])"
   ]
  },
  {
   "cell_type": "code",
   "execution_count": 27,
   "metadata": {
    "ExecuteTime": {
     "end_time": "2021-07-10T21:04:08.763656Z",
     "start_time": "2021-07-10T21:04:08.733734Z"
    }
   },
   "outputs": [],
   "source": [
    "# # Recidivist\n",
    "# df['return_to_prison'] = df['return_to_prison'].map( {'No':0,'Yes':1})\n",
    "# value_counts(df['return_to_prison'])"
   ]
  },
  {
   "cell_type": "markdown",
   "metadata": {
    "ExecuteTime": {
     "end_time": "2021-07-10T17:42:08.116753Z",
     "start_time": "2021-07-10T17:42:08.077105Z"
    }
   },
   "source": [
    "#### `target_pop`"
   ]
  },
  {
   "cell_type": "code",
   "execution_count": 28,
   "metadata": {
    "ExecuteTime": {
     "end_time": "2021-07-10T21:04:08.800242Z",
     "start_time": "2021-07-10T21:04:08.765453Z"
    }
   },
   "outputs": [
    {
     "data": {
      "text/plain": [
       "Yes   0.55\n",
       "No    0.45\n",
       "Name: target_population.value_counts(normalized=True, dropna=False), dtype: float64"
      ]
     },
     "execution_count": 28,
     "metadata": {},
     "output_type": "execute_result"
    }
   ],
   "source": [
    "value_counts(df['target_population'])"
   ]
  },
  {
   "cell_type": "code",
   "execution_count": 29,
   "metadata": {
    "ExecuteTime": {
     "end_time": "2021-07-10T21:04:08.837397Z",
     "start_time": "2021-07-10T21:04:08.802009Z"
    }
   },
   "outputs": [
    {
     "data": {
      "text/plain": [
       "1   0.55\n",
       "0   0.45\n",
       "Name: target_population.value_counts(normalized=True, dropna=False), dtype: float64"
      ]
     },
     "execution_count": 29,
     "metadata": {},
     "output_type": "execute_result"
    }
   ],
   "source": [
    "df['target_population'] = df['target_population'].map( {'No':0,'Yes':1})\n",
    "value_counts(df['target_population'])"
   ]
  },
  {
   "cell_type": "markdown",
   "metadata": {},
   "source": [
    "___\n",
    "## FEATURE ENGINEERING\n",
    "- **Engineering a simple 'felony' true false category**\n",
    "- **Combining crime_type and crime_subtype into types_combined**"
   ]
  },
  {
   "cell_type": "markdown",
   "metadata": {},
   "source": [
    "### Creating a simple 'felony' feature"
   ]
  },
  {
   "cell_type": "code",
   "execution_count": 30,
   "metadata": {
    "ExecuteTime": {
     "end_time": "2021-07-10T21:04:08.876957Z",
     "start_time": "2021-07-10T21:04:08.839205Z"
    }
   },
   "outputs": [
    {
     "data": {
      "text/plain": [
       "1   0.83\n",
       "0   0.17\n",
       "Name: felony.value_counts(normalized=True, dropna=False), dtype: float64"
      ]
     },
     "execution_count": 30,
     "metadata": {},
     "output_type": "execute_result"
    }
   ],
   "source": [
    "# Engineering a simple 'felony' true false category\n",
    "df['felony'] = df['offense_class'].str.contains('felony',case=False).astype(int)\n",
    "value_counts(df['felony'])"
   ]
  },
  {
   "cell_type": "code",
   "execution_count": 31,
   "metadata": {
    "ExecuteTime": {
     "end_time": "2021-07-10T21:04:08.917467Z",
     "start_time": "2021-07-10T21:04:08.878858Z"
    }
   },
   "outputs": [
    {
     "data": {
      "text/plain": [
       "main_supervising_district     8\n",
       "release_type                  3\n",
       "race_ethnicity                7\n",
       "age_at_release                5\n",
       "sex                           2\n",
       "offense_class                 8\n",
       "offense_type                  5\n",
       "offense_subtype              24\n",
       "return_to_prison              2\n",
       "target_population             2\n",
       "felony                        2\n",
       "dtype: int64"
      ]
     },
     "execution_count": 31,
     "metadata": {},
     "output_type": "execute_result"
    }
   ],
   "source": [
    "# Combining crime_type and crime_subtype into types_combined\n",
    "# df['offense_class_type_subtype']= df['offense_class']+'_'+df['crime_type']+'_'+df['crime_subtype']\n",
    "# value_counts(df['offense_class_type_subtype'])\n",
    "df.nunique()"
   ]
  },
  {
   "cell_type": "markdown",
   "metadata": {},
   "source": [
    "### Creating a 'max_sentence' feature based on crime class max penalties\n",
    "   "
   ]
  },
  {
   "cell_type": "code",
   "execution_count": 32,
   "metadata": {
    "ExecuteTime": {
     "end_time": "2021-07-10T21:04:08.953934Z",
     "start_time": "2021-07-10T21:04:08.919333Z"
    }
   },
   "outputs": [
    {
     "data": {
      "text/plain": [
       "Aggravated Misdemeanor   0.16\n",
       "B Felony                 0.07\n",
       "C Felony                 0.27\n",
       "D Felony                 0.43\n",
       "Felony - Enhanced        0.07\n",
       "Other Felony             0.00\n",
       "Serious Misdemeanor      0.01\n",
       "Sex Offender             0.00\n",
       "Name: offense_class.value_counts(normalized=True, dropna=False), dtype: float64"
      ]
     },
     "execution_count": 32,
     "metadata": {},
     "output_type": "execute_result"
    }
   ],
   "source": [
    "value_counts(df['offense_class']).sort_index()"
   ]
  },
  {
   "cell_type": "markdown",
   "metadata": {},
   "source": [
    "- Unsure what Other Felony might represent. Will assume its halfway between C and D penalty"
   ]
  },
  {
   "cell_type": "code",
   "execution_count": 33,
   "metadata": {
    "ExecuteTime": {
     "end_time": "2021-07-10T21:04:08.993163Z",
     "start_time": "2021-07-10T21:04:08.956033Z"
    }
   },
   "outputs": [
    {
     "data": {
      "text/plain": [
       "5.00    0.43\n",
       "10.00   0.34\n",
       "2.00    0.16\n",
       "50.00   0.07\n",
       "1.00    0.01\n",
       "7.00    0.00\n",
       "Name: max_sentence.value_counts(normalized=True, dropna=False), dtype: float64"
      ]
     },
     "execution_count": 33,
     "metadata": {},
     "output_type": "execute_result"
    }
   ],
   "source": [
    "# Mapping years onto crime class\n",
    "offense_class_max_sentence_map = {'A Felony': 75,  # Life\n",
    "                                'Aggravated Misdemeanor': 2, # 2 years\n",
    "                                'B Felony': 50, # 25 or 50 years\n",
    "                                'C Felony': 10, # 10 years\n",
    "                                'D Felony': 5,  # 5 yeras\n",
    "                                  'Other Felony': 7,\n",
    "                                'Felony - Enhanced': 10, # Add on to class C and D felonies, hard to approximate. \n",
    "                                'Serious Misdemeanor': 1, # 1 year\n",
    "                                'Sex Offender': 10, # 10 years\n",
    "                                'Simple Misdemeanor': 0.83} # 30 days\n",
    "\n",
    "# Mapping max_sentence_column\n",
    "df['max_sentence'] =df['offense_class'].map(offense_class_max_sentence_map)\n",
    "value_counts(df['max_sentence'])"
   ]
  },
  {
   "cell_type": "markdown",
   "metadata": {},
   "source": [
    "### Final Null Check"
   ]
  },
  {
   "cell_type": "code",
   "execution_count": 34,
   "metadata": {
    "ExecuteTime": {
     "end_time": "2021-07-10T21:04:09.296220Z",
     "start_time": "2021-07-10T21:04:08.994954Z"
    }
   },
   "outputs": [
    {
     "data": {
      "image/png": "[encoded data removed]",
      "text/plain": [
       "<Figure size 720x288 with 2 Axes>"
      ]
     },
     "metadata": {
      "needs_background": "light"
     },
     "output_type": "display_data"
    },
    {
     "name": "stdout",
     "output_type": "stream",
     "text": [
      "Columns with Null Values:\n"
     ]
    },
    {
     "data": {
      "text/plain": [
       "main_supervising_district    447\n",
       "release_type                   2\n",
       "dtype: int64"
      ]
     },
     "metadata": {},
     "output_type": "display_data"
    }
   ],
   "source": [
    "nulls_report(df)"
   ]
  },
  {
   "cell_type": "markdown",
   "metadata": {},
   "source": [
    "## Preprocessing with  Pipelines and ColumnTransformer"
   ]
  },
  {
   "cell_type": "code",
   "execution_count": 35,
   "metadata": {
    "ExecuteTime": {
     "end_time": "2021-07-10T21:04:09.427179Z",
     "start_time": "2021-07-10T21:04:09.298262Z"
    }
   },
   "outputs": [],
   "source": [
    "from sklearn.pipeline import Pipeline\n",
    "from sklearn.compose import ColumnTransformer\n",
    "\n",
    "from sklearn.impute import SimpleImputer\n",
    "from sklearn.preprocessing import StandardScaler, MinMaxScaler,OneHotEncoder\n",
    "\n",
    "from sklearn.model_selection import train_test_split"
   ]
  },
  {
   "cell_type": "code",
   "execution_count": 36,
   "metadata": {
    "ExecuteTime": {
     "end_time": "2021-07-10T21:04:09.465465Z",
     "start_time": "2021-07-10T21:04:09.429238Z"
    }
   },
   "outputs": [],
   "source": [
    "from sklearn import set_config\n",
    "set_config(display='diagram')"
   ]
  },
  {
   "cell_type": "code",
   "execution_count": 37,
   "metadata": {
    "ExecuteTime": {
     "end_time": "2021-07-10T21:04:09.507527Z",
     "start_time": "2021-07-10T21:04:09.467500Z"
    }
   },
   "outputs": [
    {
     "data": {
      "text/plain": [
       "0   0.71\n",
       "1   0.29\n",
       "Name: return_to_prison.value_counts(normalized=True, dropna=False), dtype: float64"
      ]
     },
     "execution_count": 37,
     "metadata": {},
     "output_type": "execute_result"
    }
   ],
   "source": [
    "## Make x and y\n",
    "target = 'return_to_prison'\n",
    "X = df.drop(columns=target).copy()\n",
    "y = df[target].copy().map( {'No':0,'Yes':1})\n",
    "value_counts(y)"
   ]
  },
  {
   "cell_type": "code",
   "execution_count": 38,
   "metadata": {
    "ExecuteTime": {
     "end_time": "2021-07-10T21:04:09.624030Z",
     "start_time": "2021-07-10T21:04:09.509595Z"
    }
   },
   "outputs": [
    {
     "data": {
      "text/html": [
       "<div>\n",
       "<style scoped>\n",
       "    .dataframe tbody tr th:only-of-type {\n",
       "        vertical-align: middle;\n",
       "    }\n",
       "\n",
       "    .dataframe tbody tr th {\n",
       "        vertical-align: top;\n",
       "    }\n",
       "\n",
       "    .dataframe thead th {\n",
       "        text-align: right;\n",
       "    }\n",
       "</style>\n",
       "<table border=\"1\" class=\"dataframe\">\n",
       "  <thead>\n",
       "    <tr style=\"text-align: right;\">\n",
       "      <th></th>\n",
       "      <th>main_supervising_district</th>\n",
       "      <th>release_type</th>\n",
       "      <th>race_ethnicity</th>\n",
       "      <th>age_at_release</th>\n",
       "      <th>sex</th>\n",
       "      <th>offense_class</th>\n",
       "      <th>offense_type</th>\n",
       "      <th>offense_subtype</th>\n",
       "      <th>target_population</th>\n",
       "      <th>felony</th>\n",
       "      <th>max_sentence</th>\n",
       "    </tr>\n",
       "  </thead>\n",
       "  <tbody>\n",
       "    <tr>\n",
       "      <th>575</th>\n",
       "      <td>NaN</td>\n",
       "      <td>Discharged – End of Sentence</td>\n",
       "      <td>Black - Non-Hispanic</td>\n",
       "      <td>30</td>\n",
       "      <td>Male</td>\n",
       "      <td>C Felony</td>\n",
       "      <td>Drug</td>\n",
       "      <td>Trafficking</td>\n",
       "      <td>0</td>\n",
       "      <td>1</td>\n",
       "      <td>10.00</td>\n",
       "    </tr>\n",
       "    <tr>\n",
       "      <th>839</th>\n",
       "      <td>7JD</td>\n",
       "      <td>Parole</td>\n",
       "      <td>White - Non-Hispanic</td>\n",
       "      <td>20</td>\n",
       "      <td>Male</td>\n",
       "      <td>C Felony</td>\n",
       "      <td>Property</td>\n",
       "      <td>Vandalism</td>\n",
       "      <td>1</td>\n",
       "      <td>1</td>\n",
       "      <td>10.00</td>\n",
       "    </tr>\n",
       "    <tr>\n",
       "      <th>370</th>\n",
       "      <td>NaN</td>\n",
       "      <td>Discharged – End of Sentence</td>\n",
       "      <td>White - Non-Hispanic</td>\n",
       "      <td>40</td>\n",
       "      <td>Male</td>\n",
       "      <td>D Felony</td>\n",
       "      <td>Property</td>\n",
       "      <td>Burglary</td>\n",
       "      <td>0</td>\n",
       "      <td>1</td>\n",
       "      <td>5.00</td>\n",
       "    </tr>\n",
       "    <tr>\n",
       "      <th>3</th>\n",
       "      <td>6JD</td>\n",
       "      <td>Parole</td>\n",
       "      <td>White - Non-Hispanic</td>\n",
       "      <td>30</td>\n",
       "      <td>Male</td>\n",
       "      <td>B Felony</td>\n",
       "      <td>Other</td>\n",
       "      <td>Other Criminal</td>\n",
       "      <td>1</td>\n",
       "      <td>1</td>\n",
       "      <td>50.00</td>\n",
       "    </tr>\n",
       "    <tr>\n",
       "      <th>112</th>\n",
       "      <td>5JD</td>\n",
       "      <td>Parole</td>\n",
       "      <td>White - Non-Hispanic</td>\n",
       "      <td>40</td>\n",
       "      <td>Female</td>\n",
       "      <td>D Felony</td>\n",
       "      <td>Property</td>\n",
       "      <td>Forgery/Fraud</td>\n",
       "      <td>1</td>\n",
       "      <td>1</td>\n",
       "      <td>5.00</td>\n",
       "    </tr>\n",
       "    <tr>\n",
       "      <th>...</th>\n",
       "      <td>...</td>\n",
       "      <td>...</td>\n",
       "      <td>...</td>\n",
       "      <td>...</td>\n",
       "      <td>...</td>\n",
       "      <td>...</td>\n",
       "      <td>...</td>\n",
       "      <td>...</td>\n",
       "      <td>...</td>\n",
       "      <td>...</td>\n",
       "      <td>...</td>\n",
       "    </tr>\n",
       "    <tr>\n",
       "      <th>271</th>\n",
       "      <td>NaN</td>\n",
       "      <td>Discharged – End of Sentence</td>\n",
       "      <td>White - Non-Hispanic</td>\n",
       "      <td>30</td>\n",
       "      <td>Male</td>\n",
       "      <td>Aggravated Misdemeanor</td>\n",
       "      <td>Violent</td>\n",
       "      <td>Assault</td>\n",
       "      <td>0</td>\n",
       "      <td>0</td>\n",
       "      <td>2.00</td>\n",
       "    </tr>\n",
       "    <tr>\n",
       "      <th>765</th>\n",
       "      <td>NaN</td>\n",
       "      <td>Discharged – End of Sentence</td>\n",
       "      <td>White - Non-Hispanic</td>\n",
       "      <td>50</td>\n",
       "      <td>Male</td>\n",
       "      <td>C Felony</td>\n",
       "      <td>Violent</td>\n",
       "      <td>Sex</td>\n",
       "      <td>0</td>\n",
       "      <td>1</td>\n",
       "      <td>10.00</td>\n",
       "    </tr>\n",
       "    <tr>\n",
       "      <th>860</th>\n",
       "      <td>5JD</td>\n",
       "      <td>Parole</td>\n",
       "      <td>White - Non-Hispanic</td>\n",
       "      <td>40</td>\n",
       "      <td>Male</td>\n",
       "      <td>C Felony</td>\n",
       "      <td>Violent</td>\n",
       "      <td>Murder/Manslaughter</td>\n",
       "      <td>1</td>\n",
       "      <td>1</td>\n",
       "      <td>10.00</td>\n",
       "    </tr>\n",
       "    <tr>\n",
       "      <th>562</th>\n",
       "      <td>NaN</td>\n",
       "      <td>Discharged – End of Sentence</td>\n",
       "      <td>White - Non-Hispanic</td>\n",
       "      <td>70</td>\n",
       "      <td>Male</td>\n",
       "      <td>Aggravated Misdemeanor</td>\n",
       "      <td>Property</td>\n",
       "      <td>Burglary</td>\n",
       "      <td>0</td>\n",
       "      <td>0</td>\n",
       "      <td>2.00</td>\n",
       "    </tr>\n",
       "    <tr>\n",
       "      <th>21</th>\n",
       "      <td>6JD</td>\n",
       "      <td>Parole</td>\n",
       "      <td>White - Non-Hispanic</td>\n",
       "      <td>40</td>\n",
       "      <td>Male</td>\n",
       "      <td>D Felony</td>\n",
       "      <td>Violent</td>\n",
       "      <td>Assault</td>\n",
       "      <td>1</td>\n",
       "      <td>1</td>\n",
       "      <td>5.00</td>\n",
       "    </tr>\n",
       "  </tbody>\n",
       "</table>\n",
       "<p>750 rows × 11 columns</p>\n",
       "</div>"
      ],
      "text/plain": [
       "    main_supervising_district  ... max_sentence\n",
       "575                       NaN  ...        10.00\n",
       "839                       7JD  ...        10.00\n",
       "370                       NaN  ...         5.00\n",
       "3                         6JD  ...        50.00\n",
       "112                       5JD  ...         5.00\n",
       "..                        ...  ...          ...\n",
       "271                       NaN  ...         2.00\n",
       "765                       NaN  ...        10.00\n",
       "860                       5JD  ...        10.00\n",
       "562                       NaN  ...         2.00\n",
       "21                        6JD  ...         5.00\n",
       "\n",
       "[750 rows x 11 columns]"
      ]
     },
     "execution_count": 38,
     "metadata": {},
     "output_type": "execute_result"
    }
   ],
   "source": [
    "X_train, X_test, y_train, y_test = train_test_split(X,y,stratify=y)\n",
    "X_train"
   ]
  },
  {
   "cell_type": "code",
   "execution_count": 39,
   "metadata": {
    "ExecuteTime": {
     "end_time": "2021-07-10T21:04:09.664781Z",
     "start_time": "2021-07-10T21:04:09.625826Z"
    }
   },
   "outputs": [
    {
     "data": {
      "text/plain": [
       "Index(['main_supervising_district', 'release_type', 'race_ethnicity', 'sex',\n",
       "       'offense_class', 'offense_type', 'offense_subtype'],\n",
       "      dtype='object')"
      ]
     },
     "execution_count": 39,
     "metadata": {},
     "output_type": "execute_result"
    }
   ],
   "source": [
    "## categotical columns to encode\n",
    "cat_cols = X_train.select_dtypes('object').columns\n",
    "cat_cols"
   ]
  },
  {
   "cell_type": "code",
   "execution_count": 40,
   "metadata": {
    "ExecuteTime": {
     "end_time": "2021-07-10T21:04:09.703574Z",
     "start_time": "2021-07-10T21:04:09.666662Z"
    }
   },
   "outputs": [
    {
     "data": {
      "text/plain": [
       "['target_population', 'felony']"
      ]
     },
     "execution_count": 40,
     "metadata": {},
     "output_type": "execute_result"
    }
   ],
   "source": [
    "# already_encoded \n",
    "encoded_cols = ['target_population','felony']\n",
    "encoded_cols"
   ]
  },
  {
   "cell_type": "code",
   "execution_count": 41,
   "metadata": {
    "ExecuteTime": {
     "end_time": "2021-07-10T21:04:09.744190Z",
     "start_time": "2021-07-10T21:04:09.705378Z"
    }
   },
   "outputs": [
    {
     "data": {
      "text/plain": [
       "Index(['age_at_release', 'max_sentence'], dtype='object')"
      ]
     },
     "execution_count": 41,
     "metadata": {},
     "output_type": "execute_result"
    }
   ],
   "source": [
    "## Get a list of columns to be run as numeric data\n",
    "num_cols = X_train.drop(columns=encoded_cols).select_dtypes('number').columns\n",
    "num_cols"
   ]
  },
  {
   "cell_type": "code",
   "execution_count": 42,
   "metadata": {
    "ExecuteTime": {
     "end_time": "2021-07-10T21:04:10.026836Z",
     "start_time": "2021-07-10T21:04:09.746137Z"
    }
   },
   "outputs": [
    {
     "data": {
      "image/png": "[encoded data removed]",
      "text/plain": [
       "<Figure size 720x288 with 2 Axes>"
      ]
     },
     "metadata": {
      "needs_background": "light"
     },
     "output_type": "display_data"
    },
    {
     "name": "stdout",
     "output_type": "stream",
     "text": [
      "Columns with Null Values:\n"
     ]
    },
    {
     "data": {
      "text/plain": [
       "main_supervising_district    447\n",
       "release_type                   2\n",
       "dtype: int64"
      ]
     },
     "metadata": {},
     "output_type": "display_data"
    }
   ],
   "source": [
    "nulls_report(df)"
   ]
  },
  {
   "cell_type": "code",
   "execution_count": 43,
   "metadata": {
    "ExecuteTime": {
     "end_time": "2021-07-10T21:04:10.069193Z",
     "start_time": "2021-07-10T21:04:10.028876Z"
    },
    "scrolled": true
   },
   "outputs": [
    {
     "data": {
      "text/html": [
       "<style>#sk-30b063d1-5059-4def-9632-1a8c33374927 {color: black;background-color: white;}#sk-30b063d1-5059-4def-9632-1a8c33374927 pre{padding: 0;}#sk-30b063d1-5059-4def-9632-1a8c33374927 div.sk-toggleable {background-color: white;}#sk-30b063d1-5059-4def-9632-1a8c33374927 label.sk-toggleable__label {cursor: pointer;display: block;width: 100%;margin-bottom: 0;padding: 0.2em 0.3em;box-sizing: border-box;text-align: center;}#sk-30b063d1-5059-4def-9632-1a8c33374927 div.sk-toggleable__content {max-height: 0;max-width: 0;overflow: hidden;text-align: left;background-color: #f0f8ff;}#sk-30b063d1-5059-4def-9632-1a8c33374927 div.sk-toggleable__content pre {margin: 0.2em;color: black;border-radius: 0.25em;background-color: #f0f8ff;}#sk-30b063d1-5059-4def-9632-1a8c33374927 input.sk-toggleable__control:checked~div.sk-toggleable__content {max-height: 200px;max-width: 100%;overflow: auto;}#sk-30b063d1-5059-4def-9632-1a8c33374927 div.sk-estimator input.sk-toggleable__control:checked~label.sk-toggleable__label {background-color: #d4ebff;}#sk-30b063d1-5059-4def-9632-1a8c33374927 div.sk-label input.sk-toggleable__control:checked~label.sk-toggleable__label {background-color: #d4ebff;}#sk-30b063d1-5059-4def-9632-1a8c33374927 input.sk-hidden--visually {border: 0;clip: rect(1px 1px 1px 1px);clip: rect(1px, 1px, 1px, 1px);height: 1px;margin: -1px;overflow: hidden;padding: 0;position: absolute;width: 1px;}#sk-30b063d1-5059-4def-9632-1a8c33374927 div.sk-estimator {font-family: monospace;background-color: #f0f8ff;margin: 0.25em 0.25em;border: 1px dotted black;border-radius: 0.25em;box-sizing: border-box;}#sk-30b063d1-5059-4def-9632-1a8c33374927 div.sk-estimator:hover {background-color: #d4ebff;}#sk-30b063d1-5059-4def-9632-1a8c33374927 div.sk-parallel-item::after {content: \"\";width: 100%;border-bottom: 1px solid gray;flex-grow: 1;}#sk-30b063d1-5059-4def-9632-1a8c33374927 div.sk-label:hover label.sk-toggleable__label {background-color: #d4ebff;}#sk-30b063d1-5059-4def-9632-1a8c33374927 div.sk-serial::before {content: \"\";position: absolute;border-left: 1px solid gray;box-sizing: border-box;top: 2em;bottom: 0;left: 50%;}#sk-30b063d1-5059-4def-9632-1a8c33374927 div.sk-serial {display: flex;flex-direction: column;align-items: center;background-color: white;}#sk-30b063d1-5059-4def-9632-1a8c33374927 div.sk-item {z-index: 1;}#sk-30b063d1-5059-4def-9632-1a8c33374927 div.sk-parallel {display: flex;align-items: stretch;justify-content: center;background-color: white;}#sk-30b063d1-5059-4def-9632-1a8c33374927 div.sk-parallel-item {display: flex;flex-direction: column;position: relative;background-color: white;}#sk-30b063d1-5059-4def-9632-1a8c33374927 div.sk-parallel-item:first-child::after {align-self: flex-end;width: 50%;}#sk-30b063d1-5059-4def-9632-1a8c33374927 div.sk-parallel-item:last-child::after {align-self: flex-start;width: 50%;}#sk-30b063d1-5059-4def-9632-1a8c33374927 div.sk-parallel-item:only-child::after {width: 0;}#sk-30b063d1-5059-4def-9632-1a8c33374927 div.sk-dashed-wrapped {border: 1px dashed gray;margin: 0.2em;box-sizing: border-box;padding-bottom: 0.1em;background-color: white;position: relative;}#sk-30b063d1-5059-4def-9632-1a8c33374927 div.sk-label label {font-family: monospace;font-weight: bold;background-color: white;display: inline-block;line-height: 1.2em;}#sk-30b063d1-5059-4def-9632-1a8c33374927 div.sk-label-container {position: relative;z-index: 2;text-align: center;}#sk-30b063d1-5059-4def-9632-1a8c33374927 div.sk-container {display: inline-block;position: relative;}</style><div id=\"sk-30b063d1-5059-4def-9632-1a8c33374927\" class\"sk-top-container\"><div class=\"sk-container\"><div class=\"sk-item sk-dashed-wrapped\"><div class=\"sk-label-container\"><div class=\"sk-label sk-toggleable\"><input class=\"sk-toggleable__control sk-hidden--visually\" id=\"5a458d0b-1715-4756-9223-755b390054e0\" type=\"checkbox\" ><label class=\"sk-toggleable__label\" for=\"5a458d0b-1715-4756-9223-755b390054e0\">Pipeline</label><div class=\"sk-toggleable__content\"><pre>Pipeline(steps=[('imputer', SimpleImputer(strategy='median')),\n",
       "                ('scaler', StandardScaler())])</pre></div></div></div><div class=\"sk-serial\"><div class=\"sk-item\"><div class=\"sk-estimator sk-toggleable\"><input class=\"sk-toggleable__control sk-hidden--visually\" id=\"5cea04a0-2d15-49fc-835a-2ba47d747300\" type=\"checkbox\" ><label class=\"sk-toggleable__label\" for=\"5cea04a0-2d15-49fc-835a-2ba47d747300\">SimpleImputer</label><div class=\"sk-toggleable__content\"><pre>SimpleImputer(strategy='median')</pre></div></div></div><div class=\"sk-item\"><div class=\"sk-estimator sk-toggleable\"><input class=\"sk-toggleable__control sk-hidden--visually\" id=\"97be885a-2da2-4f47-b599-f325d176f50f\" type=\"checkbox\" ><label class=\"sk-toggleable__label\" for=\"97be885a-2da2-4f47-b599-f325d176f50f\">StandardScaler</label><div class=\"sk-toggleable__content\"><pre>StandardScaler()</pre></div></div></div></div></div></div></div>"
      ],
      "text/plain": [
       "Pipeline(steps=[('imputer', SimpleImputer(strategy='median')),\n",
       "                ('scaler', StandardScaler())])"
      ]
     },
     "execution_count": 43,
     "metadata": {},
     "output_type": "execute_result"
    }
   ],
   "source": [
    "## Make a num_transformer pipeline\n",
    "num_transformer_reg = Pipeline(steps=[\n",
    "    ('imputer', SimpleImputer(strategy='median')),\n",
    "    ('scaler',StandardScaler())])\n",
    "num_transformer_reg"
   ]
  },
  {
   "cell_type": "code",
   "execution_count": 44,
   "metadata": {
    "ExecuteTime": {
     "end_time": "2021-07-10T21:04:10.107145Z",
     "start_time": "2021-07-10T21:04:10.071344Z"
    }
   },
   "outputs": [
    {
     "data": {
      "text/html": [
       "<style>#sk-e605b598-f2c8-4cb6-af0c-227773543a3a {color: black;background-color: white;}#sk-e605b598-f2c8-4cb6-af0c-227773543a3a pre{padding: 0;}#sk-e605b598-f2c8-4cb6-af0c-227773543a3a div.sk-toggleable {background-color: white;}#sk-e605b598-f2c8-4cb6-af0c-227773543a3a label.sk-toggleable__label {cursor: pointer;display: block;width: 100%;margin-bottom: 0;padding: 0.2em 0.3em;box-sizing: border-box;text-align: center;}#sk-e605b598-f2c8-4cb6-af0c-227773543a3a div.sk-toggleable__content {max-height: 0;max-width: 0;overflow: hidden;text-align: left;background-color: #f0f8ff;}#sk-e605b598-f2c8-4cb6-af0c-227773543a3a div.sk-toggleable__content pre {margin: 0.2em;color: black;border-radius: 0.25em;background-color: #f0f8ff;}#sk-e605b598-f2c8-4cb6-af0c-227773543a3a input.sk-toggleable__control:checked~div.sk-toggleable__content {max-height: 200px;max-width: 100%;overflow: auto;}#sk-e605b598-f2c8-4cb6-af0c-227773543a3a div.sk-estimator input.sk-toggleable__control:checked~label.sk-toggleable__label {background-color: #d4ebff;}#sk-e605b598-f2c8-4cb6-af0c-227773543a3a div.sk-label input.sk-toggleable__control:checked~label.sk-toggleable__label {background-color: #d4ebff;}#sk-e605b598-f2c8-4cb6-af0c-227773543a3a input.sk-hidden--visually {border: 0;clip: rect(1px 1px 1px 1px);clip: rect(1px, 1px, 1px, 1px);height: 1px;margin: -1px;overflow: hidden;padding: 0;position: absolute;width: 1px;}#sk-e605b598-f2c8-4cb6-af0c-227773543a3a div.sk-estimator {font-family: monospace;background-color: #f0f8ff;margin: 0.25em 0.25em;border: 1px dotted black;border-radius: 0.25em;box-sizing: border-box;}#sk-e605b598-f2c8-4cb6-af0c-227773543a3a div.sk-estimator:hover {background-color: #d4ebff;}#sk-e605b598-f2c8-4cb6-af0c-227773543a3a div.sk-parallel-item::after {content: \"\";width: 100%;border-bottom: 1px solid gray;flex-grow: 1;}#sk-e605b598-f2c8-4cb6-af0c-227773543a3a div.sk-label:hover label.sk-toggleable__label {background-color: #d4ebff;}#sk-e605b598-f2c8-4cb6-af0c-227773543a3a div.sk-serial::before {content: \"\";position: absolute;border-left: 1px solid gray;box-sizing: border-box;top: 2em;bottom: 0;left: 50%;}#sk-e605b598-f2c8-4cb6-af0c-227773543a3a div.sk-serial {display: flex;flex-direction: column;align-items: center;background-color: white;}#sk-e605b598-f2c8-4cb6-af0c-227773543a3a div.sk-item {z-index: 1;}#sk-e605b598-f2c8-4cb6-af0c-227773543a3a div.sk-parallel {display: flex;align-items: stretch;justify-content: center;background-color: white;}#sk-e605b598-f2c8-4cb6-af0c-227773543a3a div.sk-parallel-item {display: flex;flex-direction: column;position: relative;background-color: white;}#sk-e605b598-f2c8-4cb6-af0c-227773543a3a div.sk-parallel-item:first-child::after {align-self: flex-end;width: 50%;}#sk-e605b598-f2c8-4cb6-af0c-227773543a3a div.sk-parallel-item:last-child::after {align-self: flex-start;width: 50%;}#sk-e605b598-f2c8-4cb6-af0c-227773543a3a div.sk-parallel-item:only-child::after {width: 0;}#sk-e605b598-f2c8-4cb6-af0c-227773543a3a div.sk-dashed-wrapped {border: 1px dashed gray;margin: 0.2em;box-sizing: border-box;padding-bottom: 0.1em;background-color: white;position: relative;}#sk-e605b598-f2c8-4cb6-af0c-227773543a3a div.sk-label label {font-family: monospace;font-weight: bold;background-color: white;display: inline-block;line-height: 1.2em;}#sk-e605b598-f2c8-4cb6-af0c-227773543a3a div.sk-label-container {position: relative;z-index: 2;text-align: center;}#sk-e605b598-f2c8-4cb6-af0c-227773543a3a div.sk-container {display: inline-block;position: relative;}</style><div id=\"sk-e605b598-f2c8-4cb6-af0c-227773543a3a\" class\"sk-top-container\"><div class=\"sk-container\"><div class=\"sk-item sk-dashed-wrapped\"><div class=\"sk-label-container\"><div class=\"sk-label sk-toggleable\"><input class=\"sk-toggleable__control sk-hidden--visually\" id=\"4b234738-cb6d-481a-a86e-c4f8402fd5e6\" type=\"checkbox\" ><label class=\"sk-toggleable__label\" for=\"4b234738-cb6d-481a-a86e-c4f8402fd5e6\">Pipeline</label><div class=\"sk-toggleable__content\"><pre>Pipeline(steps=[('imputer', SimpleImputer(strategy='median'))])</pre></div></div></div><div class=\"sk-serial\"><div class=\"sk-item\"><div class=\"sk-estimator sk-toggleable\"><input class=\"sk-toggleable__control sk-hidden--visually\" id=\"c0705b9c-e874-4cdf-b71e-4c2a57fdb1e5\" type=\"checkbox\" ><label class=\"sk-toggleable__label\" for=\"c0705b9c-e874-4cdf-b71e-4c2a57fdb1e5\">SimpleImputer</label><div class=\"sk-toggleable__content\"><pre>SimpleImputer(strategy='median')</pre></div></div></div></div></div></div></div>"
      ],
      "text/plain": [
       "Pipeline(steps=[('imputer', SimpleImputer(strategy='median'))])"
      ]
     },
     "execution_count": 44,
     "metadata": {},
     "output_type": "execute_result"
    }
   ],
   "source": [
    "## Make a num_transformer pipeline\n",
    "num_transformer = Pipeline(steps=[\n",
    "    ('imputer', SimpleImputer(strategy='median'))])\n",
    "num_transformer"
   ]
  },
  {
   "cell_type": "code",
   "execution_count": 45,
   "metadata": {
    "ExecuteTime": {
     "end_time": "2021-07-10T21:04:10.142921Z",
     "start_time": "2021-07-10T21:04:10.108818Z"
    }
   },
   "outputs": [],
   "source": [
    "# ## vis as diagram\n",
    "# set_config(display='text')\n",
    "# num_transformer"
   ]
  },
  {
   "cell_type": "code",
   "execution_count": 46,
   "metadata": {
    "ExecuteTime": {
     "end_time": "2021-07-10T21:04:10.201727Z",
     "start_time": "2021-07-10T21:04:10.144921Z"
    }
   },
   "outputs": [
    {
     "data": {
      "text/html": [
       "<style>#sk-a5938357-1abd-414d-a921-2bc133f20b07 {color: black;background-color: white;}#sk-a5938357-1abd-414d-a921-2bc133f20b07 pre{padding: 0;}#sk-a5938357-1abd-414d-a921-2bc133f20b07 div.sk-toggleable {background-color: white;}#sk-a5938357-1abd-414d-a921-2bc133f20b07 label.sk-toggleable__label {cursor: pointer;display: block;width: 100%;margin-bottom: 0;padding: 0.2em 0.3em;box-sizing: border-box;text-align: center;}#sk-a5938357-1abd-414d-a921-2bc133f20b07 div.sk-toggleable__content {max-height: 0;max-width: 0;overflow: hidden;text-align: left;background-color: #f0f8ff;}#sk-a5938357-1abd-414d-a921-2bc133f20b07 div.sk-toggleable__content pre {margin: 0.2em;color: black;border-radius: 0.25em;background-color: #f0f8ff;}#sk-a5938357-1abd-414d-a921-2bc133f20b07 input.sk-toggleable__control:checked~div.sk-toggleable__content {max-height: 200px;max-width: 100%;overflow: auto;}#sk-a5938357-1abd-414d-a921-2bc133f20b07 div.sk-estimator input.sk-toggleable__control:checked~label.sk-toggleable__label {background-color: #d4ebff;}#sk-a5938357-1abd-414d-a921-2bc133f20b07 div.sk-label input.sk-toggleable__control:checked~label.sk-toggleable__label {background-color: #d4ebff;}#sk-a5938357-1abd-414d-a921-2bc133f20b07 input.sk-hidden--visually {border: 0;clip: rect(1px 1px 1px 1px);clip: rect(1px, 1px, 1px, 1px);height: 1px;margin: -1px;overflow: hidden;padding: 0;position: absolute;width: 1px;}#sk-a5938357-1abd-414d-a921-2bc133f20b07 div.sk-estimator {font-family: monospace;background-color: #f0f8ff;margin: 0.25em 0.25em;border: 1px dotted black;border-radius: 0.25em;box-sizing: border-box;}#sk-a5938357-1abd-414d-a921-2bc133f20b07 div.sk-estimator:hover {background-color: #d4ebff;}#sk-a5938357-1abd-414d-a921-2bc133f20b07 div.sk-parallel-item::after {content: \"\";width: 100%;border-bottom: 1px solid gray;flex-grow: 1;}#sk-a5938357-1abd-414d-a921-2bc133f20b07 div.sk-label:hover label.sk-toggleable__label {background-color: #d4ebff;}#sk-a5938357-1abd-414d-a921-2bc133f20b07 div.sk-serial::before {content: \"\";position: absolute;border-left: 1px solid gray;box-sizing: border-box;top: 2em;bottom: 0;left: 50%;}#sk-a5938357-1abd-414d-a921-2bc133f20b07 div.sk-serial {display: flex;flex-direction: column;align-items: center;background-color: white;}#sk-a5938357-1abd-414d-a921-2bc133f20b07 div.sk-item {z-index: 1;}#sk-a5938357-1abd-414d-a921-2bc133f20b07 div.sk-parallel {display: flex;align-items: stretch;justify-content: center;background-color: white;}#sk-a5938357-1abd-414d-a921-2bc133f20b07 div.sk-parallel-item {display: flex;flex-direction: column;position: relative;background-color: white;}#sk-a5938357-1abd-414d-a921-2bc133f20b07 div.sk-parallel-item:first-child::after {align-self: flex-end;width: 50%;}#sk-a5938357-1abd-414d-a921-2bc133f20b07 div.sk-parallel-item:last-child::after {align-self: flex-start;width: 50%;}#sk-a5938357-1abd-414d-a921-2bc133f20b07 div.sk-parallel-item:only-child::after {width: 0;}#sk-a5938357-1abd-414d-a921-2bc133f20b07 div.sk-dashed-wrapped {border: 1px dashed gray;margin: 0.2em;box-sizing: border-box;padding-bottom: 0.1em;background-color: white;position: relative;}#sk-a5938357-1abd-414d-a921-2bc133f20b07 div.sk-label label {font-family: monospace;font-weight: bold;background-color: white;display: inline-block;line-height: 1.2em;}#sk-a5938357-1abd-414d-a921-2bc133f20b07 div.sk-label-container {position: relative;z-index: 2;text-align: center;}#sk-a5938357-1abd-414d-a921-2bc133f20b07 div.sk-container {display: inline-block;position: relative;}</style><div id=\"sk-a5938357-1abd-414d-a921-2bc133f20b07\" class\"sk-top-container\"><div class=\"sk-container\"><div class=\"sk-item sk-dashed-wrapped\"><div class=\"sk-label-container\"><div class=\"sk-label sk-toggleable\"><input class=\"sk-toggleable__control sk-hidden--visually\" id=\"8f444f66-457f-4458-a49d-111c0483c10a\" type=\"checkbox\" ><label class=\"sk-toggleable__label\" for=\"8f444f66-457f-4458-a49d-111c0483c10a\">Pipeline</label><div class=\"sk-toggleable__content\"><pre>Pipeline(steps=[('imputer',\n",
       "                 SimpleImputer(fill_value='MISSING', strategy='constant')),\n",
       "                ('encoder',\n",
       "                 OneHotEncoder(handle_unknown='ignore', sparse=False))])</pre></div></div></div><div class=\"sk-serial\"><div class=\"sk-item\"><div class=\"sk-estimator sk-toggleable\"><input class=\"sk-toggleable__control sk-hidden--visually\" id=\"4188a38b-4dec-4cf7-a0ee-4a14d22c4a72\" type=\"checkbox\" ><label class=\"sk-toggleable__label\" for=\"4188a38b-4dec-4cf7-a0ee-4a14d22c4a72\">SimpleImputer</label><div class=\"sk-toggleable__content\"><pre>SimpleImputer(fill_value='MISSING', strategy='constant')</pre></div></div></div><div class=\"sk-item\"><div class=\"sk-estimator sk-toggleable\"><input class=\"sk-toggleable__control sk-hidden--visually\" id=\"0f51c58b-4d2e-4279-a701-75862c0aa515\" type=\"checkbox\" ><label class=\"sk-toggleable__label\" for=\"0f51c58b-4d2e-4279-a701-75862c0aa515\">OneHotEncoder</label><div class=\"sk-toggleable__content\"><pre>OneHotEncoder(handle_unknown='ignore', sparse=False)</pre></div></div></div></div></div></div></div>"
      ],
      "text/plain": [
       "Pipeline(steps=[('imputer',\n",
       "                 SimpleImputer(fill_value='MISSING', strategy='constant')),\n",
       "                ('encoder',\n",
       "                 OneHotEncoder(handle_unknown='ignore', sparse=False))])"
      ]
     },
     "execution_count": 46,
     "metadata": {},
     "output_type": "execute_result"
    }
   ],
   "source": [
    "## Create a cat_transformer pipeline \n",
    "cat_transformer = Pipeline(steps=[\n",
    "    ('imputer',SimpleImputer(strategy='constant',fill_value='MISSING')),\n",
    "    ('encoder', OneHotEncoder(handle_unknown='ignore',sparse=False))])#handle_unknown='ignore',\n",
    "cat_transformer"
   ]
  },
  {
   "cell_type": "code",
   "execution_count": 47,
   "metadata": {
    "ExecuteTime": {
     "end_time": "2021-07-10T21:04:10.252644Z",
     "start_time": "2021-07-10T21:04:10.207656Z"
    }
   },
   "outputs": [
    {
     "data": {
      "text/html": [
       "<style>#sk-1d3858ac-1000-47ed-8915-d7cf0b0b6e4a {color: black;background-color: white;}#sk-1d3858ac-1000-47ed-8915-d7cf0b0b6e4a pre{padding: 0;}#sk-1d3858ac-1000-47ed-8915-d7cf0b0b6e4a div.sk-toggleable {background-color: white;}#sk-1d3858ac-1000-47ed-8915-d7cf0b0b6e4a label.sk-toggleable__label {cursor: pointer;display: block;width: 100%;margin-bottom: 0;padding: 0.2em 0.3em;box-sizing: border-box;text-align: center;}#sk-1d3858ac-1000-47ed-8915-d7cf0b0b6e4a div.sk-toggleable__content {max-height: 0;max-width: 0;overflow: hidden;text-align: left;background-color: #f0f8ff;}#sk-1d3858ac-1000-47ed-8915-d7cf0b0b6e4a div.sk-toggleable__content pre {margin: 0.2em;color: black;border-radius: 0.25em;background-color: #f0f8ff;}#sk-1d3858ac-1000-47ed-8915-d7cf0b0b6e4a input.sk-toggleable__control:checked~div.sk-toggleable__content {max-height: 200px;max-width: 100%;overflow: auto;}#sk-1d3858ac-1000-47ed-8915-d7cf0b0b6e4a div.sk-estimator input.sk-toggleable__control:checked~label.sk-toggleable__label {background-color: #d4ebff;}#sk-1d3858ac-1000-47ed-8915-d7cf0b0b6e4a div.sk-label input.sk-toggleable__control:checked~label.sk-toggleable__label {background-color: #d4ebff;}#sk-1d3858ac-1000-47ed-8915-d7cf0b0b6e4a input.sk-hidden--visually {border: 0;clip: rect(1px 1px 1px 1px);clip: rect(1px, 1px, 1px, 1px);height: 1px;margin: -1px;overflow: hidden;padding: 0;position: absolute;width: 1px;}#sk-1d3858ac-1000-47ed-8915-d7cf0b0b6e4a div.sk-estimator {font-family: monospace;background-color: #f0f8ff;margin: 0.25em 0.25em;border: 1px dotted black;border-radius: 0.25em;box-sizing: border-box;}#sk-1d3858ac-1000-47ed-8915-d7cf0b0b6e4a div.sk-estimator:hover {background-color: #d4ebff;}#sk-1d3858ac-1000-47ed-8915-d7cf0b0b6e4a div.sk-parallel-item::after {content: \"\";width: 100%;border-bottom: 1px solid gray;flex-grow: 1;}#sk-1d3858ac-1000-47ed-8915-d7cf0b0b6e4a div.sk-label:hover label.sk-toggleable__label {background-color: #d4ebff;}#sk-1d3858ac-1000-47ed-8915-d7cf0b0b6e4a div.sk-serial::before {content: \"\";position: absolute;border-left: 1px solid gray;box-sizing: border-box;top: 2em;bottom: 0;left: 50%;}#sk-1d3858ac-1000-47ed-8915-d7cf0b0b6e4a div.sk-serial {display: flex;flex-direction: column;align-items: center;background-color: white;}#sk-1d3858ac-1000-47ed-8915-d7cf0b0b6e4a div.sk-item {z-index: 1;}#sk-1d3858ac-1000-47ed-8915-d7cf0b0b6e4a div.sk-parallel {display: flex;align-items: stretch;justify-content: center;background-color: white;}#sk-1d3858ac-1000-47ed-8915-d7cf0b0b6e4a div.sk-parallel-item {display: flex;flex-direction: column;position: relative;background-color: white;}#sk-1d3858ac-1000-47ed-8915-d7cf0b0b6e4a div.sk-parallel-item:first-child::after {align-self: flex-end;width: 50%;}#sk-1d3858ac-1000-47ed-8915-d7cf0b0b6e4a div.sk-parallel-item:last-child::after {align-self: flex-start;width: 50%;}#sk-1d3858ac-1000-47ed-8915-d7cf0b0b6e4a div.sk-parallel-item:only-child::after {width: 0;}#sk-1d3858ac-1000-47ed-8915-d7cf0b0b6e4a div.sk-dashed-wrapped {border: 1px dashed gray;margin: 0.2em;box-sizing: border-box;padding-bottom: 0.1em;background-color: white;position: relative;}#sk-1d3858ac-1000-47ed-8915-d7cf0b0b6e4a div.sk-label label {font-family: monospace;font-weight: bold;background-color: white;display: inline-block;line-height: 1.2em;}#sk-1d3858ac-1000-47ed-8915-d7cf0b0b6e4a div.sk-label-container {position: relative;z-index: 2;text-align: center;}#sk-1d3858ac-1000-47ed-8915-d7cf0b0b6e4a div.sk-container {display: inline-block;position: relative;}</style><div id=\"sk-1d3858ac-1000-47ed-8915-d7cf0b0b6e4a\" class\"sk-top-container\"><div class=\"sk-container\"><div class=\"sk-item sk-dashed-wrapped\"><div class=\"sk-label-container\"><div class=\"sk-label sk-toggleable\"><input class=\"sk-toggleable__control sk-hidden--visually\" id=\"bc6111fa-9fdd-4c01-85f0-8ad415bf6ccc\" type=\"checkbox\" ><label class=\"sk-toggleable__label\" for=\"bc6111fa-9fdd-4c01-85f0-8ad415bf6ccc\">Pipeline</label><div class=\"sk-toggleable__content\"><pre>Pipeline(steps=[('imputer', SimpleImputer(strategy='most_frequent'))])</pre></div></div></div><div class=\"sk-serial\"><div class=\"sk-item\"><div class=\"sk-estimator sk-toggleable\"><input class=\"sk-toggleable__control sk-hidden--visually\" id=\"b2e1b342-5f1d-4cfb-9bc2-a47bf6a3af6c\" type=\"checkbox\" ><label class=\"sk-toggleable__label\" for=\"b2e1b342-5f1d-4cfb-9bc2-a47bf6a3af6c\">SimpleImputer</label><div class=\"sk-toggleable__content\"><pre>SimpleImputer(strategy='most_frequent')</pre></div></div></div></div></div></div></div>"
      ],
      "text/plain": [
       "Pipeline(steps=[('imputer', SimpleImputer(strategy='most_frequent'))])"
      ]
     },
     "execution_count": 47,
     "metadata": {},
     "output_type": "execute_result"
    }
   ],
   "source": [
    "## that will impute using median and then calculate z-scores\n",
    "encoded_transformer = Pipeline(steps=[('imputer',SimpleImputer(strategy='most_frequent'))])\n",
    "encoded_transformer"
   ]
  },
  {
   "cell_type": "markdown",
   "metadata": {},
   "source": [
    "### Combine Preprocessing into one ColumnTransformer"
   ]
  },
  {
   "cell_type": "code",
   "execution_count": 48,
   "metadata": {
    "ExecuteTime": {
     "end_time": "2021-07-10T21:04:10.315854Z",
     "start_time": "2021-07-10T21:04:10.254336Z"
    },
    "scrolled": true
   },
   "outputs": [
    {
     "data": {
      "text/html": [
       "<style>#sk-3f236cf6-5224-464b-a71b-91a6299fcf4f {color: black;background-color: white;}#sk-3f236cf6-5224-464b-a71b-91a6299fcf4f pre{padding: 0;}#sk-3f236cf6-5224-464b-a71b-91a6299fcf4f div.sk-toggleable {background-color: white;}#sk-3f236cf6-5224-464b-a71b-91a6299fcf4f label.sk-toggleable__label {cursor: pointer;display: block;width: 100%;margin-bottom: 0;padding: 0.2em 0.3em;box-sizing: border-box;text-align: center;}#sk-3f236cf6-5224-464b-a71b-91a6299fcf4f div.sk-toggleable__content {max-height: 0;max-width: 0;overflow: hidden;text-align: left;background-color: #f0f8ff;}#sk-3f236cf6-5224-464b-a71b-91a6299fcf4f div.sk-toggleable__content pre {margin: 0.2em;color: black;border-radius: 0.25em;background-color: #f0f8ff;}#sk-3f236cf6-5224-464b-a71b-91a6299fcf4f input.sk-toggleable__control:checked~div.sk-toggleable__content {max-height: 200px;max-width: 100%;overflow: auto;}#sk-3f236cf6-5224-464b-a71b-91a6299fcf4f div.sk-estimator input.sk-toggleable__control:checked~label.sk-toggleable__label {background-color: #d4ebff;}#sk-3f236cf6-5224-464b-a71b-91a6299fcf4f div.sk-label input.sk-toggleable__control:checked~label.sk-toggleable__label {background-color: #d4ebff;}#sk-3f236cf6-5224-464b-a71b-91a6299fcf4f input.sk-hidden--visually {border: 0;clip: rect(1px 1px 1px 1px);clip: rect(1px, 1px, 1px, 1px);height: 1px;margin: -1px;overflow: hidden;padding: 0;position: absolute;width: 1px;}#sk-3f236cf6-5224-464b-a71b-91a6299fcf4f div.sk-estimator {font-family: monospace;background-color: #f0f8ff;margin: 0.25em 0.25em;border: 1px dotted black;border-radius: 0.25em;box-sizing: border-box;}#sk-3f236cf6-5224-464b-a71b-91a6299fcf4f div.sk-estimator:hover {background-color: #d4ebff;}#sk-3f236cf6-5224-464b-a71b-91a6299fcf4f div.sk-parallel-item::after {content: \"\";width: 100%;border-bottom: 1px solid gray;flex-grow: 1;}#sk-3f236cf6-5224-464b-a71b-91a6299fcf4f div.sk-label:hover label.sk-toggleable__label {background-color: #d4ebff;}#sk-3f236cf6-5224-464b-a71b-91a6299fcf4f div.sk-serial::before {content: \"\";position: absolute;border-left: 1px solid gray;box-sizing: border-box;top: 2em;bottom: 0;left: 50%;}#sk-3f236cf6-5224-464b-a71b-91a6299fcf4f div.sk-serial {display: flex;flex-direction: column;align-items: center;background-color: white;}#sk-3f236cf6-5224-464b-a71b-91a6299fcf4f div.sk-item {z-index: 1;}#sk-3f236cf6-5224-464b-a71b-91a6299fcf4f div.sk-parallel {display: flex;align-items: stretch;justify-content: center;background-color: white;}#sk-3f236cf6-5224-464b-a71b-91a6299fcf4f div.sk-parallel-item {display: flex;flex-direction: column;position: relative;background-color: white;}#sk-3f236cf6-5224-464b-a71b-91a6299fcf4f div.sk-parallel-item:first-child::after {align-self: flex-end;width: 50%;}#sk-3f236cf6-5224-464b-a71b-91a6299fcf4f div.sk-parallel-item:last-child::after {align-self: flex-start;width: 50%;}#sk-3f236cf6-5224-464b-a71b-91a6299fcf4f div.sk-parallel-item:only-child::after {width: 0;}#sk-3f236cf6-5224-464b-a71b-91a6299fcf4f div.sk-dashed-wrapped {border: 1px dashed gray;margin: 0.2em;box-sizing: border-box;padding-bottom: 0.1em;background-color: white;position: relative;}#sk-3f236cf6-5224-464b-a71b-91a6299fcf4f div.sk-label label {font-family: monospace;font-weight: bold;background-color: white;display: inline-block;line-height: 1.2em;}#sk-3f236cf6-5224-464b-a71b-91a6299fcf4f div.sk-label-container {position: relative;z-index: 2;text-align: center;}#sk-3f236cf6-5224-464b-a71b-91a6299fcf4f div.sk-container {display: inline-block;position: relative;}</style><div id=\"sk-3f236cf6-5224-464b-a71b-91a6299fcf4f\" class\"sk-top-container\"><div class=\"sk-container\"><div class=\"sk-item sk-dashed-wrapped\"><div class=\"sk-label-container\"><div class=\"sk-label sk-toggleable\"><input class=\"sk-toggleable__control sk-hidden--visually\" id=\"ff3a16f7-3e12-4613-bb59-63a92fc1248b\" type=\"checkbox\" ><label class=\"sk-toggleable__label\" for=\"ff3a16f7-3e12-4613-bb59-63a92fc1248b\">ColumnTransformer</label><div class=\"sk-toggleable__content\"><pre>ColumnTransformer(transformers=[('num',\n",
       "                                 Pipeline(steps=[('imputer',\n",
       "                                                  SimpleImputer(strategy='median'))]),\n",
       "                                 Index(['age_at_release', 'max_sentence'], dtype='object')),\n",
       "                                ('cat',\n",
       "                                 Pipeline(steps=[('imputer',\n",
       "                                                  SimpleImputer(fill_value='MISSING',\n",
       "                                                                strategy='constant')),\n",
       "                                                 ('encoder',\n",
       "                                                  OneHotEncoder(handle_unknown='ignore',\n",
       "                                                                sparse=False))]),\n",
       "                                 Index(['main_supervising_district', 'release_type', 'race_ethnicity', 'sex',\n",
       "       'offense_class', 'offense_type', 'offense_subtype'],\n",
       "      dtype='object')),\n",
       "                                ('encoded',\n",
       "                                 Pipeline(steps=[('imputer',\n",
       "                                                  SimpleImputer(strategy='most_frequent'))]),\n",
       "                                 ['target_population', 'felony'])])</pre></div></div></div><div class=\"sk-parallel\"><div class=\"sk-parallel-item\"><div class=\"sk-item\"><div class=\"sk-label-container\"><div class=\"sk-label sk-toggleable\"><input class=\"sk-toggleable__control sk-hidden--visually\" id=\"c28c555c-e282-4692-9ad7-30db4f8450f4\" type=\"checkbox\" ><label class=\"sk-toggleable__label\" for=\"c28c555c-e282-4692-9ad7-30db4f8450f4\">num</label><div class=\"sk-toggleable__content\"><pre>Index(['age_at_release', 'max_sentence'], dtype='object')</pre></div></div></div><div class=\"sk-serial\"><div class=\"sk-item\"><div class=\"sk-serial\"><div class=\"sk-item\"><div class=\"sk-estimator sk-toggleable\"><input class=\"sk-toggleable__control sk-hidden--visually\" id=\"5eaae578-27fc-4608-bd22-587ea86877bc\" type=\"checkbox\" ><label class=\"sk-toggleable__label\" for=\"5eaae578-27fc-4608-bd22-587ea86877bc\">SimpleImputer</label><div class=\"sk-toggleable__content\"><pre>SimpleImputer(strategy='median')</pre></div></div></div></div></div></div></div></div><div class=\"sk-parallel-item\"><div class=\"sk-item\"><div class=\"sk-label-container\"><div class=\"sk-label sk-toggleable\"><input class=\"sk-toggleable__control sk-hidden--visually\" id=\"f3e82fee-dc63-428f-a987-1e2761bc406a\" type=\"checkbox\" ><label class=\"sk-toggleable__label\" for=\"f3e82fee-dc63-428f-a987-1e2761bc406a\">cat</label><div class=\"sk-toggleable__content\"><pre>Index(['main_supervising_district', 'release_type', 'race_ethnicity', 'sex',\n",
       "       'offense_class', 'offense_type', 'offense_subtype'],\n",
       "      dtype='object')</pre></div></div></div><div class=\"sk-serial\"><div class=\"sk-item\"><div class=\"sk-serial\"><div class=\"sk-item\"><div class=\"sk-estimator sk-toggleable\"><input class=\"sk-toggleable__control sk-hidden--visually\" id=\"752e6aba-4bc2-4fad-b432-591f08fbb0ec\" type=\"checkbox\" ><label class=\"sk-toggleable__label\" for=\"752e6aba-4bc2-4fad-b432-591f08fbb0ec\">SimpleImputer</label><div class=\"sk-toggleable__content\"><pre>SimpleImputer(fill_value='MISSING', strategy='constant')</pre></div></div></div><div class=\"sk-item\"><div class=\"sk-estimator sk-toggleable\"><input class=\"sk-toggleable__control sk-hidden--visually\" id=\"a0ba8e83-f47a-490c-9269-12c9eb6778c1\" type=\"checkbox\" ><label class=\"sk-toggleable__label\" for=\"a0ba8e83-f47a-490c-9269-12c9eb6778c1\">OneHotEncoder</label><div class=\"sk-toggleable__content\"><pre>OneHotEncoder(handle_unknown='ignore', sparse=False)</pre></div></div></div></div></div></div></div></div><div class=\"sk-parallel-item\"><div class=\"sk-item\"><div class=\"sk-label-container\"><div class=\"sk-label sk-toggleable\"><input class=\"sk-toggleable__control sk-hidden--visually\" id=\"0694634d-353a-4c71-b059-a717cf33a2b1\" type=\"checkbox\" ><label class=\"sk-toggleable__label\" for=\"0694634d-353a-4c71-b059-a717cf33a2b1\">encoded</label><div class=\"sk-toggleable__content\"><pre>['target_population', 'felony']</pre></div></div></div><div class=\"sk-serial\"><div class=\"sk-item\"><div class=\"sk-serial\"><div class=\"sk-item\"><div class=\"sk-estimator sk-toggleable\"><input class=\"sk-toggleable__control sk-hidden--visually\" id=\"ee5d17b7-92d2-49d1-b57f-2f0c21b4f1b3\" type=\"checkbox\" ><label class=\"sk-toggleable__label\" for=\"ee5d17b7-92d2-49d1-b57f-2f0c21b4f1b3\">SimpleImputer</label><div class=\"sk-toggleable__content\"><pre>SimpleImputer(strategy='most_frequent')</pre></div></div></div></div></div></div></div></div></div></div></div></div>"
      ],
      "text/plain": [
       "ColumnTransformer(transformers=[('num',\n",
       "                                 Pipeline(steps=[('imputer',\n",
       "                                                  SimpleImputer(strategy='median'))]),\n",
       "                                 Index(['age_at_release', 'max_sentence'], dtype='object')),\n",
       "                                ('cat',\n",
       "                                 Pipeline(steps=[('imputer',\n",
       "                                                  SimpleImputer(fill_value='MISSING',\n",
       "                                                                strategy='constant')),\n",
       "                                                 ('encoder',\n",
       "                                                  OneHotEncoder(handle_unknown='ignore',\n",
       "                                                                sparse=False))]),\n",
       "                                 Index(['main_supervising_district', 'release_type', 'race_ethnicity', 'sex',\n",
       "       'offense_class', 'offense_type', 'offense_subtype'],\n",
       "      dtype='object')),\n",
       "                                ('encoded',\n",
       "                                 Pipeline(steps=[('imputer',\n",
       "                                                  SimpleImputer(strategy='most_frequent'))]),\n",
       "                                 ['target_population', 'felony'])])"
      ]
     },
     "execution_count": 48,
     "metadata": {},
     "output_type": "execute_result"
    }
   ],
   "source": [
    "## COMBINE BOTH PIPELINES INTO ONE WITH COLUMN TRANSFORMER\n",
    "from sklearn.compose import ColumnTransformer\n",
    "preprocessing = ColumnTransformer(transformers=[\n",
    "    ('num',num_transformer,num_cols),\n",
    "    ('cat',cat_transformer,cat_cols),\n",
    "    ('encoded',encoded_transformer,encoded_cols)])\n",
    "preprocessing"
   ]
  },
  {
   "cell_type": "code",
   "execution_count": 49,
   "metadata": {
    "ExecuteTime": {
     "end_time": "2021-07-10T21:04:10.377422Z",
     "start_time": "2021-07-10T21:04:10.317829Z"
    }
   },
   "outputs": [
    {
     "data": {
      "text/html": [
       "<style>#sk-2a14f485-4af1-4aed-ae7f-547051d21ef9 {color: black;background-color: white;}#sk-2a14f485-4af1-4aed-ae7f-547051d21ef9 pre{padding: 0;}#sk-2a14f485-4af1-4aed-ae7f-547051d21ef9 div.sk-toggleable {background-color: white;}#sk-2a14f485-4af1-4aed-ae7f-547051d21ef9 label.sk-toggleable__label {cursor: pointer;display: block;width: 100%;margin-bottom: 0;padding: 0.2em 0.3em;box-sizing: border-box;text-align: center;}#sk-2a14f485-4af1-4aed-ae7f-547051d21ef9 div.sk-toggleable__content {max-height: 0;max-width: 0;overflow: hidden;text-align: left;background-color: #f0f8ff;}#sk-2a14f485-4af1-4aed-ae7f-547051d21ef9 div.sk-toggleable__content pre {margin: 0.2em;color: black;border-radius: 0.25em;background-color: #f0f8ff;}#sk-2a14f485-4af1-4aed-ae7f-547051d21ef9 input.sk-toggleable__control:checked~div.sk-toggleable__content {max-height: 200px;max-width: 100%;overflow: auto;}#sk-2a14f485-4af1-4aed-ae7f-547051d21ef9 div.sk-estimator input.sk-toggleable__control:checked~label.sk-toggleable__label {background-color: #d4ebff;}#sk-2a14f485-4af1-4aed-ae7f-547051d21ef9 div.sk-label input.sk-toggleable__control:checked~label.sk-toggleable__label {background-color: #d4ebff;}#sk-2a14f485-4af1-4aed-ae7f-547051d21ef9 input.sk-hidden--visually {border: 0;clip: rect(1px 1px 1px 1px);clip: rect(1px, 1px, 1px, 1px);height: 1px;margin: -1px;overflow: hidden;padding: 0;position: absolute;width: 1px;}#sk-2a14f485-4af1-4aed-ae7f-547051d21ef9 div.sk-estimator {font-family: monospace;background-color: #f0f8ff;margin: 0.25em 0.25em;border: 1px dotted black;border-radius: 0.25em;box-sizing: border-box;}#sk-2a14f485-4af1-4aed-ae7f-547051d21ef9 div.sk-estimator:hover {background-color: #d4ebff;}#sk-2a14f485-4af1-4aed-ae7f-547051d21ef9 div.sk-parallel-item::after {content: \"\";width: 100%;border-bottom: 1px solid gray;flex-grow: 1;}#sk-2a14f485-4af1-4aed-ae7f-547051d21ef9 div.sk-label:hover label.sk-toggleable__label {background-color: #d4ebff;}#sk-2a14f485-4af1-4aed-ae7f-547051d21ef9 div.sk-serial::before {content: \"\";position: absolute;border-left: 1px solid gray;box-sizing: border-box;top: 2em;bottom: 0;left: 50%;}#sk-2a14f485-4af1-4aed-ae7f-547051d21ef9 div.sk-serial {display: flex;flex-direction: column;align-items: center;background-color: white;}#sk-2a14f485-4af1-4aed-ae7f-547051d21ef9 div.sk-item {z-index: 1;}#sk-2a14f485-4af1-4aed-ae7f-547051d21ef9 div.sk-parallel {display: flex;align-items: stretch;justify-content: center;background-color: white;}#sk-2a14f485-4af1-4aed-ae7f-547051d21ef9 div.sk-parallel-item {display: flex;flex-direction: column;position: relative;background-color: white;}#sk-2a14f485-4af1-4aed-ae7f-547051d21ef9 div.sk-parallel-item:first-child::after {align-self: flex-end;width: 50%;}#sk-2a14f485-4af1-4aed-ae7f-547051d21ef9 div.sk-parallel-item:last-child::after {align-self: flex-start;width: 50%;}#sk-2a14f485-4af1-4aed-ae7f-547051d21ef9 div.sk-parallel-item:only-child::after {width: 0;}#sk-2a14f485-4af1-4aed-ae7f-547051d21ef9 div.sk-dashed-wrapped {border: 1px dashed gray;margin: 0.2em;box-sizing: border-box;padding-bottom: 0.1em;background-color: white;position: relative;}#sk-2a14f485-4af1-4aed-ae7f-547051d21ef9 div.sk-label label {font-family: monospace;font-weight: bold;background-color: white;display: inline-block;line-height: 1.2em;}#sk-2a14f485-4af1-4aed-ae7f-547051d21ef9 div.sk-label-container {position: relative;z-index: 2;text-align: center;}#sk-2a14f485-4af1-4aed-ae7f-547051d21ef9 div.sk-container {display: inline-block;position: relative;}</style><div id=\"sk-2a14f485-4af1-4aed-ae7f-547051d21ef9\" class\"sk-top-container\"><div class=\"sk-container\"><div class=\"sk-item sk-dashed-wrapped\"><div class=\"sk-label-container\"><div class=\"sk-label sk-toggleable\"><input class=\"sk-toggleable__control sk-hidden--visually\" id=\"796f1d5d-e267-40db-a2b7-09470127ffdd\" type=\"checkbox\" ><label class=\"sk-toggleable__label\" for=\"796f1d5d-e267-40db-a2b7-09470127ffdd\">ColumnTransformer</label><div class=\"sk-toggleable__content\"><pre>ColumnTransformer(transformers=[('num',\n",
       "                                 Pipeline(steps=[('imputer',\n",
       "                                                  SimpleImputer(strategy='median'))]),\n",
       "                                 Index(['age_at_release', 'max_sentence'], dtype='object')),\n",
       "                                ('cat',\n",
       "                                 Pipeline(steps=[('imputer',\n",
       "                                                  SimpleImputer(fill_value='MISSING',\n",
       "                                                                strategy='constant')),\n",
       "                                                 ('encoder',\n",
       "                                                  OneHotEncoder(handle_unknown='ignore',\n",
       "                                                                sparse=False))]),\n",
       "                                 Index(['main_supervising_district', 'release_type', 'race_ethnicity', 'sex',\n",
       "       'offense_class', 'offense_type', 'offense_subtype'],\n",
       "      dtype='object')),\n",
       "                                ('encoded',\n",
       "                                 Pipeline(steps=[('imputer',\n",
       "                                                  SimpleImputer(strategy='most_frequent'))]),\n",
       "                                 ['target_population', 'felony'])])</pre></div></div></div><div class=\"sk-parallel\"><div class=\"sk-parallel-item\"><div class=\"sk-item\"><div class=\"sk-label-container\"><div class=\"sk-label sk-toggleable\"><input class=\"sk-toggleable__control sk-hidden--visually\" id=\"0b4e8363-20e2-4fda-8628-c5adec03f569\" type=\"checkbox\" ><label class=\"sk-toggleable__label\" for=\"0b4e8363-20e2-4fda-8628-c5adec03f569\">num</label><div class=\"sk-toggleable__content\"><pre>Index(['age_at_release', 'max_sentence'], dtype='object')</pre></div></div></div><div class=\"sk-serial\"><div class=\"sk-item\"><div class=\"sk-serial\"><div class=\"sk-item\"><div class=\"sk-estimator sk-toggleable\"><input class=\"sk-toggleable__control sk-hidden--visually\" id=\"205f2caa-239e-478d-ad97-1c03d43cf099\" type=\"checkbox\" ><label class=\"sk-toggleable__label\" for=\"205f2caa-239e-478d-ad97-1c03d43cf099\">SimpleImputer</label><div class=\"sk-toggleable__content\"><pre>SimpleImputer(strategy='median')</pre></div></div></div></div></div></div></div></div><div class=\"sk-parallel-item\"><div class=\"sk-item\"><div class=\"sk-label-container\"><div class=\"sk-label sk-toggleable\"><input class=\"sk-toggleable__control sk-hidden--visually\" id=\"448bcaec-9fa9-4133-8cd0-0d7a09589e3c\" type=\"checkbox\" ><label class=\"sk-toggleable__label\" for=\"448bcaec-9fa9-4133-8cd0-0d7a09589e3c\">cat</label><div class=\"sk-toggleable__content\"><pre>Index(['main_supervising_district', 'release_type', 'race_ethnicity', 'sex',\n",
       "       'offense_class', 'offense_type', 'offense_subtype'],\n",
       "      dtype='object')</pre></div></div></div><div class=\"sk-serial\"><div class=\"sk-item\"><div class=\"sk-serial\"><div class=\"sk-item\"><div class=\"sk-estimator sk-toggleable\"><input class=\"sk-toggleable__control sk-hidden--visually\" id=\"b9dce8af-2021-4adc-9b4e-1fc38e2f37c1\" type=\"checkbox\" ><label class=\"sk-toggleable__label\" for=\"b9dce8af-2021-4adc-9b4e-1fc38e2f37c1\">SimpleImputer</label><div class=\"sk-toggleable__content\"><pre>SimpleImputer(fill_value='MISSING', strategy='constant')</pre></div></div></div><div class=\"sk-item\"><div class=\"sk-estimator sk-toggleable\"><input class=\"sk-toggleable__control sk-hidden--visually\" id=\"700aab55-abbb-4449-84aa-8f7d0ed2e4eb\" type=\"checkbox\" ><label class=\"sk-toggleable__label\" for=\"700aab55-abbb-4449-84aa-8f7d0ed2e4eb\">OneHotEncoder</label><div class=\"sk-toggleable__content\"><pre>OneHotEncoder(handle_unknown='ignore', sparse=False)</pre></div></div></div></div></div></div></div></div><div class=\"sk-parallel-item\"><div class=\"sk-item\"><div class=\"sk-label-container\"><div class=\"sk-label sk-toggleable\"><input class=\"sk-toggleable__control sk-hidden--visually\" id=\"f5a9b45f-9037-46ec-be57-2d3c57292f5a\" type=\"checkbox\" ><label class=\"sk-toggleable__label\" for=\"f5a9b45f-9037-46ec-be57-2d3c57292f5a\">encoded</label><div class=\"sk-toggleable__content\"><pre>['target_population', 'felony']</pre></div></div></div><div class=\"sk-serial\"><div class=\"sk-item\"><div class=\"sk-serial\"><div class=\"sk-item\"><div class=\"sk-estimator sk-toggleable\"><input class=\"sk-toggleable__control sk-hidden--visually\" id=\"e26cc913-ab04-40ea-b5b2-fae5392a2632\" type=\"checkbox\" ><label class=\"sk-toggleable__label\" for=\"e26cc913-ab04-40ea-b5b2-fae5392a2632\">SimpleImputer</label><div class=\"sk-toggleable__content\"><pre>SimpleImputer(strategy='most_frequent')</pre></div></div></div></div></div></div></div></div></div></div></div></div>"
      ],
      "text/plain": [
       "ColumnTransformer(transformers=[('num',\n",
       "                                 Pipeline(steps=[('imputer',\n",
       "                                                  SimpleImputer(strategy='median'))]),\n",
       "                                 Index(['age_at_release', 'max_sentence'], dtype='object')),\n",
       "                                ('cat',\n",
       "                                 Pipeline(steps=[('imputer',\n",
       "                                                  SimpleImputer(fill_value='MISSING',\n",
       "                                                                strategy='constant')),\n",
       "                                                 ('encoder',\n",
       "                                                  OneHotEncoder(handle_unknown='ignore',\n",
       "                                                                sparse=False))]),\n",
       "                                 Index(['main_supervising_district', 'release_type', 'race_ethnicity', 'sex',\n",
       "       'offense_class', 'offense_type', 'offense_subtype'],\n",
       "      dtype='object')),\n",
       "                                ('encoded',\n",
       "                                 Pipeline(steps=[('imputer',\n",
       "                                                  SimpleImputer(strategy='most_frequent'))]),\n",
       "                                 ['target_population', 'felony'])])"
      ]
     },
     "execution_count": 49,
     "metadata": {},
     "output_type": "execute_result"
    }
   ],
   "source": [
    "preprocessing_reg = ColumnTransformer(transformers=[\n",
    "    ('num',num_transformer_reg,num_cols),\n",
    "    ('cat',cat_transformer,cat_cols),\n",
    "    ('encoded',encoded_transformer,encoded_cols)])\n",
    "preprocessing"
   ]
  },
  {
   "cell_type": "code",
   "execution_count": 50,
   "metadata": {
    "ExecuteTime": {
     "end_time": "2021-07-10T21:04:10.426330Z",
     "start_time": "2021-07-10T21:04:10.379251Z"
    }
   },
   "outputs": [],
   "source": [
    "## Get X_train and X_test from column transformer\n",
    "preprocessing.fit(X_train)\n",
    "\n",
    "cat_features = preprocessing.named_transformers_['cat']\\\n",
    "                    .named_steps['encoder'].get_feature_names(cat_cols)\n",
    "\n",
    "\n",
    "columns = [*num_cols, *cat_features,*encoded_cols]\n"
   ]
  },
  {
   "cell_type": "code",
   "execution_count": 51,
   "metadata": {
    "ExecuteTime": {
     "end_time": "2021-07-10T21:04:10.542132Z",
     "start_time": "2021-07-10T21:04:10.428099Z"
    }
   },
   "outputs": [
    {
     "data": {
      "text/html": [
       "<div>\n",
       "<style scoped>\n",
       "    .dataframe tbody tr th:only-of-type {\n",
       "        vertical-align: middle;\n",
       "    }\n",
       "\n",
       "    .dataframe tbody tr th {\n",
       "        vertical-align: top;\n",
       "    }\n",
       "\n",
       "    .dataframe thead th {\n",
       "        text-align: right;\n",
       "    }\n",
       "</style>\n",
       "<table border=\"1\" class=\"dataframe\">\n",
       "  <thead>\n",
       "    <tr style=\"text-align: right;\">\n",
       "      <th></th>\n",
       "      <th>age_at_release</th>\n",
       "      <th>max_sentence</th>\n",
       "      <th>main_supervising_district_1JD</th>\n",
       "      <th>main_supervising_district_2JD</th>\n",
       "      <th>main_supervising_district_3JD</th>\n",
       "      <th>main_supervising_district_4JD</th>\n",
       "      <th>main_supervising_district_5JD</th>\n",
       "      <th>main_supervising_district_6JD</th>\n",
       "      <th>main_supervising_district_7JD</th>\n",
       "      <th>main_supervising_district_8JD</th>\n",
       "      <th>main_supervising_district_MISSING</th>\n",
       "      <th>release_type_Discharged – End of Sentence</th>\n",
       "      <th>release_type_MISSING</th>\n",
       "      <th>release_type_Parole</th>\n",
       "      <th>release_type_Special Sentence</th>\n",
       "      <th>race_ethnicity_American Indian or Alaska Native - Hispanic</th>\n",
       "      <th>race_ethnicity_American Indian or Alaska Native - Non-Hispanic</th>\n",
       "      <th>race_ethnicity_Asian or Pacific Islander - Non-Hispanic</th>\n",
       "      <th>race_ethnicity_Black - Non-Hispanic</th>\n",
       "      <th>race_ethnicity_White - Hispanic</th>\n",
       "      <th>race_ethnicity_White - Non-Hispanic</th>\n",
       "      <th>sex_Female</th>\n",
       "      <th>sex_Male</th>\n",
       "      <th>offense_class_Aggravated Misdemeanor</th>\n",
       "      <th>offense_class_B Felony</th>\n",
       "      <th>offense_class_C Felony</th>\n",
       "      <th>offense_class_D Felony</th>\n",
       "      <th>offense_class_Felony - Enhanced</th>\n",
       "      <th>offense_class_Other Felony</th>\n",
       "      <th>offense_class_Serious Misdemeanor</th>\n",
       "      <th>offense_type_Drug</th>\n",
       "      <th>offense_type_Other</th>\n",
       "      <th>offense_type_Property</th>\n",
       "      <th>offense_type_Public Order</th>\n",
       "      <th>offense_type_Violent</th>\n",
       "      <th>offense_subtype_Alcohol</th>\n",
       "      <th>offense_subtype_Arson</th>\n",
       "      <th>offense_subtype_Assault</th>\n",
       "      <th>offense_subtype_Burglary</th>\n",
       "      <th>offense_subtype_Drug Possession</th>\n",
       "      <th>offense_subtype_Flight/Escape</th>\n",
       "      <th>offense_subtype_Forgery/Fraud</th>\n",
       "      <th>offense_subtype_Murder/Manslaughter</th>\n",
       "      <th>offense_subtype_OWI</th>\n",
       "      <th>offense_subtype_Other Criminal</th>\n",
       "      <th>offense_subtype_Other Drug</th>\n",
       "      <th>offense_subtype_Other Violent</th>\n",
       "      <th>offense_subtype_Prostitution/Pimping</th>\n",
       "      <th>offense_subtype_Robbery</th>\n",
       "      <th>offense_subtype_Sex</th>\n",
       "      <th>offense_subtype_Sex Offender Registry/Residency</th>\n",
       "      <th>offense_subtype_Special Sentence Revocation</th>\n",
       "      <th>offense_subtype_Stolen Property</th>\n",
       "      <th>offense_subtype_Theft</th>\n",
       "      <th>offense_subtype_Traffic</th>\n",
       "      <th>offense_subtype_Trafficking</th>\n",
       "      <th>offense_subtype_Vandalism</th>\n",
       "      <th>offense_subtype_Weapons</th>\n",
       "      <th>target_population</th>\n",
       "      <th>felony</th>\n",
       "    </tr>\n",
       "  </thead>\n",
       "  <tbody>\n",
       "    <tr>\n",
       "      <th>575</th>\n",
       "      <td>30.00</td>\n",
       "      <td>10.00</td>\n",
       "      <td>0.00</td>\n",
       "      <td>0.00</td>\n",
       "      <td>0.00</td>\n",
       "      <td>0.00</td>\n",
       "      <td>0.00</td>\n",
       "      <td>0.00</td>\n",
       "      <td>0.00</td>\n",
       "      <td>0.00</td>\n",
       "      <td>1.00</td>\n",
       "      <td>1.00</td>\n",
       "      <td>0.00</td>\n",
       "      <td>0.00</td>\n",
       "      <td>0.00</td>\n",
       "      <td>0.00</td>\n",
       "      <td>0.00</td>\n",
       "      <td>0.00</td>\n",
       "      <td>1.00</td>\n",
       "      <td>0.00</td>\n",
       "      <td>0.00</td>\n",
       "      <td>0.00</td>\n",
       "      <td>1.00</td>\n",
       "      <td>0.00</td>\n",
       "      <td>0.00</td>\n",
       "      <td>1.00</td>\n",
       "      <td>0.00</td>\n",
       "      <td>0.00</td>\n",
       "      <td>0.00</td>\n",
       "      <td>0.00</td>\n",
       "      <td>1.00</td>\n",
       "      <td>0.00</td>\n",
       "      <td>0.00</td>\n",
       "      <td>0.00</td>\n",
       "      <td>0.00</td>\n",
       "      <td>0.00</td>\n",
       "      <td>0.00</td>\n",
       "      <td>0.00</td>\n",
       "      <td>0.00</td>\n",
       "      <td>0.00</td>\n",
       "      <td>0.00</td>\n",
       "      <td>0.00</td>\n",
       "      <td>0.00</td>\n",
       "      <td>0.00</td>\n",
       "      <td>0.00</td>\n",
       "      <td>0.00</td>\n",
       "      <td>0.00</td>\n",
       "      <td>0.00</td>\n",
       "      <td>0.00</td>\n",
       "      <td>0.00</td>\n",
       "      <td>0.00</td>\n",
       "      <td>0.00</td>\n",
       "      <td>0.00</td>\n",
       "      <td>0.00</td>\n",
       "      <td>0.00</td>\n",
       "      <td>1.00</td>\n",
       "      <td>0.00</td>\n",
       "      <td>0.00</td>\n",
       "      <td>0.00</td>\n",
       "      <td>1.00</td>\n",
       "    </tr>\n",
       "    <tr>\n",
       "      <th>839</th>\n",
       "      <td>20.00</td>\n",
       "      <td>10.00</td>\n",
       "      <td>0.00</td>\n",
       "      <td>0.00</td>\n",
       "      <td>0.00</td>\n",
       "      <td>0.00</td>\n",
       "      <td>0.00</td>\n",
       "      <td>0.00</td>\n",
       "      <td>1.00</td>\n",
       "      <td>0.00</td>\n",
       "      <td>0.00</td>\n",
       "      <td>0.00</td>\n",
       "      <td>0.00</td>\n",
       "      <td>1.00</td>\n",
       "      <td>0.00</td>\n",
       "      <td>0.00</td>\n",
       "      <td>0.00</td>\n",
       "      <td>0.00</td>\n",
       "      <td>0.00</td>\n",
       "      <td>0.00</td>\n",
       "      <td>1.00</td>\n",
       "      <td>0.00</td>\n",
       "      <td>1.00</td>\n",
       "      <td>0.00</td>\n",
       "      <td>0.00</td>\n",
       "      <td>1.00</td>\n",
       "      <td>0.00</td>\n",
       "      <td>0.00</td>\n",
       "      <td>0.00</td>\n",
       "      <td>0.00</td>\n",
       "      <td>0.00</td>\n",
       "      <td>0.00</td>\n",
       "      <td>1.00</td>\n",
       "      <td>0.00</td>\n",
       "      <td>0.00</td>\n",
       "      <td>0.00</td>\n",
       "      <td>0.00</td>\n",
       "      <td>0.00</td>\n",
       "      <td>0.00</td>\n",
       "      <td>0.00</td>\n",
       "      <td>0.00</td>\n",
       "      <td>0.00</td>\n",
       "      <td>0.00</td>\n",
       "      <td>0.00</td>\n",
       "      <td>0.00</td>\n",
       "      <td>0.00</td>\n",
       "      <td>0.00</td>\n",
       "      <td>0.00</td>\n",
       "      <td>0.00</td>\n",
       "      <td>0.00</td>\n",
       "      <td>0.00</td>\n",
       "      <td>0.00</td>\n",
       "      <td>0.00</td>\n",
       "      <td>0.00</td>\n",
       "      <td>0.00</td>\n",
       "      <td>0.00</td>\n",
       "      <td>1.00</td>\n",
       "      <td>0.00</td>\n",
       "      <td>1.00</td>\n",
       "      <td>1.00</td>\n",
       "    </tr>\n",
       "    <tr>\n",
       "      <th>370</th>\n",
       "      <td>40.00</td>\n",
       "      <td>5.00</td>\n",
       "      <td>0.00</td>\n",
       "      <td>0.00</td>\n",
       "      <td>0.00</td>\n",
       "      <td>0.00</td>\n",
       "      <td>0.00</td>\n",
       "      <td>0.00</td>\n",
       "      <td>0.00</td>\n",
       "      <td>0.00</td>\n",
       "      <td>1.00</td>\n",
       "      <td>1.00</td>\n",
       "      <td>0.00</td>\n",
       "      <td>0.00</td>\n",
       "      <td>0.00</td>\n",
       "      <td>0.00</td>\n",
       "      <td>0.00</td>\n",
       "      <td>0.00</td>\n",
       "      <td>0.00</td>\n",
       "      <td>0.00</td>\n",
       "      <td>1.00</td>\n",
       "      <td>0.00</td>\n",
       "      <td>1.00</td>\n",
       "      <td>0.00</td>\n",
       "      <td>0.00</td>\n",
       "      <td>0.00</td>\n",
       "      <td>1.00</td>\n",
       "      <td>0.00</td>\n",
       "      <td>0.00</td>\n",
       "      <td>0.00</td>\n",
       "      <td>0.00</td>\n",
       "      <td>0.00</td>\n",
       "      <td>1.00</td>\n",
       "      <td>0.00</td>\n",
       "      <td>0.00</td>\n",
       "      <td>0.00</td>\n",
       "      <td>0.00</td>\n",
       "      <td>0.00</td>\n",
       "      <td>1.00</td>\n",
       "      <td>0.00</td>\n",
       "      <td>0.00</td>\n",
       "      <td>0.00</td>\n",
       "      <td>0.00</td>\n",
       "      <td>0.00</td>\n",
       "      <td>0.00</td>\n",
       "      <td>0.00</td>\n",
       "      <td>0.00</td>\n",
       "      <td>0.00</td>\n",
       "      <td>0.00</td>\n",
       "      <td>0.00</td>\n",
       "      <td>0.00</td>\n",
       "      <td>0.00</td>\n",
       "      <td>0.00</td>\n",
       "      <td>0.00</td>\n",
       "      <td>0.00</td>\n",
       "      <td>0.00</td>\n",
       "      <td>0.00</td>\n",
       "      <td>0.00</td>\n",
       "      <td>0.00</td>\n",
       "      <td>1.00</td>\n",
       "    </tr>\n",
       "    <tr>\n",
       "      <th>3</th>\n",
       "      <td>30.00</td>\n",
       "      <td>50.00</td>\n",
       "      <td>0.00</td>\n",
       "      <td>0.00</td>\n",
       "      <td>0.00</td>\n",
       "      <td>0.00</td>\n",
       "      <td>0.00</td>\n",
       "      <td>1.00</td>\n",
       "      <td>0.00</td>\n",
       "      <td>0.00</td>\n",
       "      <td>0.00</td>\n",
       "      <td>0.00</td>\n",
       "      <td>0.00</td>\n",
       "      <td>1.00</td>\n",
       "      <td>0.00</td>\n",
       "      <td>0.00</td>\n",
       "      <td>0.00</td>\n",
       "      <td>0.00</td>\n",
       "      <td>0.00</td>\n",
       "      <td>0.00</td>\n",
       "      <td>1.00</td>\n",
       "      <td>0.00</td>\n",
       "      <td>1.00</td>\n",
       "      <td>0.00</td>\n",
       "      <td>1.00</td>\n",
       "      <td>0.00</td>\n",
       "      <td>0.00</td>\n",
       "      <td>0.00</td>\n",
       "      <td>0.00</td>\n",
       "      <td>0.00</td>\n",
       "      <td>0.00</td>\n",
       "      <td>1.00</td>\n",
       "      <td>0.00</td>\n",
       "      <td>0.00</td>\n",
       "      <td>0.00</td>\n",
       "      <td>0.00</td>\n",
       "      <td>0.00</td>\n",
       "      <td>0.00</td>\n",
       "      <td>0.00</td>\n",
       "      <td>0.00</td>\n",
       "      <td>0.00</td>\n",
       "      <td>0.00</td>\n",
       "      <td>0.00</td>\n",
       "      <td>0.00</td>\n",
       "      <td>1.00</td>\n",
       "      <td>0.00</td>\n",
       "      <td>0.00</td>\n",
       "      <td>0.00</td>\n",
       "      <td>0.00</td>\n",
       "      <td>0.00</td>\n",
       "      <td>0.00</td>\n",
       "      <td>0.00</td>\n",
       "      <td>0.00</td>\n",
       "      <td>0.00</td>\n",
       "      <td>0.00</td>\n",
       "      <td>0.00</td>\n",
       "      <td>0.00</td>\n",
       "      <td>0.00</td>\n",
       "      <td>1.00</td>\n",
       "      <td>1.00</td>\n",
       "    </tr>\n",
       "    <tr>\n",
       "      <th>112</th>\n",
       "      <td>40.00</td>\n",
       "      <td>5.00</td>\n",
       "      <td>0.00</td>\n",
       "      <td>0.00</td>\n",
       "      <td>0.00</td>\n",
       "      <td>0.00</td>\n",
       "      <td>1.00</td>\n",
       "      <td>0.00</td>\n",
       "      <td>0.00</td>\n",
       "      <td>0.00</td>\n",
       "      <td>0.00</td>\n",
       "      <td>0.00</td>\n",
       "      <td>0.00</td>\n",
       "      <td>1.00</td>\n",
       "      <td>0.00</td>\n",
       "      <td>0.00</td>\n",
       "      <td>0.00</td>\n",
       "      <td>0.00</td>\n",
       "      <td>0.00</td>\n",
       "      <td>0.00</td>\n",
       "      <td>1.00</td>\n",
       "      <td>1.00</td>\n",
       "      <td>0.00</td>\n",
       "      <td>0.00</td>\n",
       "      <td>0.00</td>\n",
       "      <td>0.00</td>\n",
       "      <td>1.00</td>\n",
       "      <td>0.00</td>\n",
       "      <td>0.00</td>\n",
       "      <td>0.00</td>\n",
       "      <td>0.00</td>\n",
       "      <td>0.00</td>\n",
       "      <td>1.00</td>\n",
       "      <td>0.00</td>\n",
       "      <td>0.00</td>\n",
       "      <td>0.00</td>\n",
       "      <td>0.00</td>\n",
       "      <td>0.00</td>\n",
       "      <td>0.00</td>\n",
       "      <td>0.00</td>\n",
       "      <td>0.00</td>\n",
       "      <td>1.00</td>\n",
       "      <td>0.00</td>\n",
       "      <td>0.00</td>\n",
       "      <td>0.00</td>\n",
       "      <td>0.00</td>\n",
       "      <td>0.00</td>\n",
       "      <td>0.00</td>\n",
       "      <td>0.00</td>\n",
       "      <td>0.00</td>\n",
       "      <td>0.00</td>\n",
       "      <td>0.00</td>\n",
       "      <td>0.00</td>\n",
       "      <td>0.00</td>\n",
       "      <td>0.00</td>\n",
       "      <td>0.00</td>\n",
       "      <td>0.00</td>\n",
       "      <td>0.00</td>\n",
       "      <td>1.00</td>\n",
       "      <td>1.00</td>\n",
       "    </tr>\n",
       "    <tr>\n",
       "      <th>...</th>\n",
       "      <td>...</td>\n",
       "      <td>...</td>\n",
       "      <td>...</td>\n",
       "      <td>...</td>\n",
       "      <td>...</td>\n",
       "      <td>...</td>\n",
       "      <td>...</td>\n",
       "      <td>...</td>\n",
       "      <td>...</td>\n",
       "      <td>...</td>\n",
       "      <td>...</td>\n",
       "      <td>...</td>\n",
       "      <td>...</td>\n",
       "      <td>...</td>\n",
       "      <td>...</td>\n",
       "      <td>...</td>\n",
       "      <td>...</td>\n",
       "      <td>...</td>\n",
       "      <td>...</td>\n",
       "      <td>...</td>\n",
       "      <td>...</td>\n",
       "      <td>...</td>\n",
       "      <td>...</td>\n",
       "      <td>...</td>\n",
       "      <td>...</td>\n",
       "      <td>...</td>\n",
       "      <td>...</td>\n",
       "      <td>...</td>\n",
       "      <td>...</td>\n",
       "      <td>...</td>\n",
       "      <td>...</td>\n",
       "      <td>...</td>\n",
       "      <td>...</td>\n",
       "      <td>...</td>\n",
       "      <td>...</td>\n",
       "      <td>...</td>\n",
       "      <td>...</td>\n",
       "      <td>...</td>\n",
       "      <td>...</td>\n",
       "      <td>...</td>\n",
       "      <td>...</td>\n",
       "      <td>...</td>\n",
       "      <td>...</td>\n",
       "      <td>...</td>\n",
       "      <td>...</td>\n",
       "      <td>...</td>\n",
       "      <td>...</td>\n",
       "      <td>...</td>\n",
       "      <td>...</td>\n",
       "      <td>...</td>\n",
       "      <td>...</td>\n",
       "      <td>...</td>\n",
       "      <td>...</td>\n",
       "      <td>...</td>\n",
       "      <td>...</td>\n",
       "      <td>...</td>\n",
       "      <td>...</td>\n",
       "      <td>...</td>\n",
       "      <td>...</td>\n",
       "      <td>...</td>\n",
       "    </tr>\n",
       "    <tr>\n",
       "      <th>271</th>\n",
       "      <td>30.00</td>\n",
       "      <td>2.00</td>\n",
       "      <td>0.00</td>\n",
       "      <td>0.00</td>\n",
       "      <td>0.00</td>\n",
       "      <td>0.00</td>\n",
       "      <td>0.00</td>\n",
       "      <td>0.00</td>\n",
       "      <td>0.00</td>\n",
       "      <td>0.00</td>\n",
       "      <td>1.00</td>\n",
       "      <td>1.00</td>\n",
       "      <td>0.00</td>\n",
       "      <td>0.00</td>\n",
       "      <td>0.00</td>\n",
       "      <td>0.00</td>\n",
       "      <td>0.00</td>\n",
       "      <td>0.00</td>\n",
       "      <td>0.00</td>\n",
       "      <td>0.00</td>\n",
       "      <td>1.00</td>\n",
       "      <td>0.00</td>\n",
       "      <td>1.00</td>\n",
       "      <td>1.00</td>\n",
       "      <td>0.00</td>\n",
       "      <td>0.00</td>\n",
       "      <td>0.00</td>\n",
       "      <td>0.00</td>\n",
       "      <td>0.00</td>\n",
       "      <td>0.00</td>\n",
       "      <td>0.00</td>\n",
       "      <td>0.00</td>\n",
       "      <td>0.00</td>\n",
       "      <td>0.00</td>\n",
       "      <td>1.00</td>\n",
       "      <td>0.00</td>\n",
       "      <td>0.00</td>\n",
       "      <td>1.00</td>\n",
       "      <td>0.00</td>\n",
       "      <td>0.00</td>\n",
       "      <td>0.00</td>\n",
       "      <td>0.00</td>\n",
       "      <td>0.00</td>\n",
       "      <td>0.00</td>\n",
       "      <td>0.00</td>\n",
       "      <td>0.00</td>\n",
       "      <td>0.00</td>\n",
       "      <td>0.00</td>\n",
       "      <td>0.00</td>\n",
       "      <td>0.00</td>\n",
       "      <td>0.00</td>\n",
       "      <td>0.00</td>\n",
       "      <td>0.00</td>\n",
       "      <td>0.00</td>\n",
       "      <td>0.00</td>\n",
       "      <td>0.00</td>\n",
       "      <td>0.00</td>\n",
       "      <td>0.00</td>\n",
       "      <td>0.00</td>\n",
       "      <td>0.00</td>\n",
       "    </tr>\n",
       "    <tr>\n",
       "      <th>765</th>\n",
       "      <td>50.00</td>\n",
       "      <td>10.00</td>\n",
       "      <td>0.00</td>\n",
       "      <td>0.00</td>\n",
       "      <td>0.00</td>\n",
       "      <td>0.00</td>\n",
       "      <td>0.00</td>\n",
       "      <td>0.00</td>\n",
       "      <td>0.00</td>\n",
       "      <td>0.00</td>\n",
       "      <td>1.00</td>\n",
       "      <td>1.00</td>\n",
       "      <td>0.00</td>\n",
       "      <td>0.00</td>\n",
       "      <td>0.00</td>\n",
       "      <td>0.00</td>\n",
       "      <td>0.00</td>\n",
       "      <td>0.00</td>\n",
       "      <td>0.00</td>\n",
       "      <td>0.00</td>\n",
       "      <td>1.00</td>\n",
       "      <td>0.00</td>\n",
       "      <td>1.00</td>\n",
       "      <td>0.00</td>\n",
       "      <td>0.00</td>\n",
       "      <td>1.00</td>\n",
       "      <td>0.00</td>\n",
       "      <td>0.00</td>\n",
       "      <td>0.00</td>\n",
       "      <td>0.00</td>\n",
       "      <td>0.00</td>\n",
       "      <td>0.00</td>\n",
       "      <td>0.00</td>\n",
       "      <td>0.00</td>\n",
       "      <td>1.00</td>\n",
       "      <td>0.00</td>\n",
       "      <td>0.00</td>\n",
       "      <td>0.00</td>\n",
       "      <td>0.00</td>\n",
       "      <td>0.00</td>\n",
       "      <td>0.00</td>\n",
       "      <td>0.00</td>\n",
       "      <td>0.00</td>\n",
       "      <td>0.00</td>\n",
       "      <td>0.00</td>\n",
       "      <td>0.00</td>\n",
       "      <td>0.00</td>\n",
       "      <td>0.00</td>\n",
       "      <td>0.00</td>\n",
       "      <td>1.00</td>\n",
       "      <td>0.00</td>\n",
       "      <td>0.00</td>\n",
       "      <td>0.00</td>\n",
       "      <td>0.00</td>\n",
       "      <td>0.00</td>\n",
       "      <td>0.00</td>\n",
       "      <td>0.00</td>\n",
       "      <td>0.00</td>\n",
       "      <td>0.00</td>\n",
       "      <td>1.00</td>\n",
       "    </tr>\n",
       "    <tr>\n",
       "      <th>860</th>\n",
       "      <td>40.00</td>\n",
       "      <td>10.00</td>\n",
       "      <td>0.00</td>\n",
       "      <td>0.00</td>\n",
       "      <td>0.00</td>\n",
       "      <td>0.00</td>\n",
       "      <td>1.00</td>\n",
       "      <td>0.00</td>\n",
       "      <td>0.00</td>\n",
       "      <td>0.00</td>\n",
       "      <td>0.00</td>\n",
       "      <td>0.00</td>\n",
       "      <td>0.00</td>\n",
       "      <td>1.00</td>\n",
       "      <td>0.00</td>\n",
       "      <td>0.00</td>\n",
       "      <td>0.00</td>\n",
       "      <td>0.00</td>\n",
       "      <td>0.00</td>\n",
       "      <td>0.00</td>\n",
       "      <td>1.00</td>\n",
       "      <td>0.00</td>\n",
       "      <td>1.00</td>\n",
       "      <td>0.00</td>\n",
       "      <td>0.00</td>\n",
       "      <td>1.00</td>\n",
       "      <td>0.00</td>\n",
       "      <td>0.00</td>\n",
       "      <td>0.00</td>\n",
       "      <td>0.00</td>\n",
       "      <td>0.00</td>\n",
       "      <td>0.00</td>\n",
       "      <td>0.00</td>\n",
       "      <td>0.00</td>\n",
       "      <td>1.00</td>\n",
       "      <td>0.00</td>\n",
       "      <td>0.00</td>\n",
       "      <td>0.00</td>\n",
       "      <td>0.00</td>\n",
       "      <td>0.00</td>\n",
       "      <td>0.00</td>\n",
       "      <td>0.00</td>\n",
       "      <td>1.00</td>\n",
       "      <td>0.00</td>\n",
       "      <td>0.00</td>\n",
       "      <td>0.00</td>\n",
       "      <td>0.00</td>\n",
       "      <td>0.00</td>\n",
       "      <td>0.00</td>\n",
       "      <td>0.00</td>\n",
       "      <td>0.00</td>\n",
       "      <td>0.00</td>\n",
       "      <td>0.00</td>\n",
       "      <td>0.00</td>\n",
       "      <td>0.00</td>\n",
       "      <td>0.00</td>\n",
       "      <td>0.00</td>\n",
       "      <td>0.00</td>\n",
       "      <td>1.00</td>\n",
       "      <td>1.00</td>\n",
       "    </tr>\n",
       "    <tr>\n",
       "      <th>562</th>\n",
       "      <td>70.00</td>\n",
       "      <td>2.00</td>\n",
       "      <td>0.00</td>\n",
       "      <td>0.00</td>\n",
       "      <td>0.00</td>\n",
       "      <td>0.00</td>\n",
       "      <td>0.00</td>\n",
       "      <td>0.00</td>\n",
       "      <td>0.00</td>\n",
       "      <td>0.00</td>\n",
       "      <td>1.00</td>\n",
       "      <td>1.00</td>\n",
       "      <td>0.00</td>\n",
       "      <td>0.00</td>\n",
       "      <td>0.00</td>\n",
       "      <td>0.00</td>\n",
       "      <td>0.00</td>\n",
       "      <td>0.00</td>\n",
       "      <td>0.00</td>\n",
       "      <td>0.00</td>\n",
       "      <td>1.00</td>\n",
       "      <td>0.00</td>\n",
       "      <td>1.00</td>\n",
       "      <td>1.00</td>\n",
       "      <td>0.00</td>\n",
       "      <td>0.00</td>\n",
       "      <td>0.00</td>\n",
       "      <td>0.00</td>\n",
       "      <td>0.00</td>\n",
       "      <td>0.00</td>\n",
       "      <td>0.00</td>\n",
       "      <td>0.00</td>\n",
       "      <td>1.00</td>\n",
       "      <td>0.00</td>\n",
       "      <td>0.00</td>\n",
       "      <td>0.00</td>\n",
       "      <td>0.00</td>\n",
       "      <td>0.00</td>\n",
       "      <td>1.00</td>\n",
       "      <td>0.00</td>\n",
       "      <td>0.00</td>\n",
       "      <td>0.00</td>\n",
       "      <td>0.00</td>\n",
       "      <td>0.00</td>\n",
       "      <td>0.00</td>\n",
       "      <td>0.00</td>\n",
       "      <td>0.00</td>\n",
       "      <td>0.00</td>\n",
       "      <td>0.00</td>\n",
       "      <td>0.00</td>\n",
       "      <td>0.00</td>\n",
       "      <td>0.00</td>\n",
       "      <td>0.00</td>\n",
       "      <td>0.00</td>\n",
       "      <td>0.00</td>\n",
       "      <td>0.00</td>\n",
       "      <td>0.00</td>\n",
       "      <td>0.00</td>\n",
       "      <td>0.00</td>\n",
       "      <td>0.00</td>\n",
       "    </tr>\n",
       "    <tr>\n",
       "      <th>21</th>\n",
       "      <td>40.00</td>\n",
       "      <td>5.00</td>\n",
       "      <td>0.00</td>\n",
       "      <td>0.00</td>\n",
       "      <td>0.00</td>\n",
       "      <td>0.00</td>\n",
       "      <td>0.00</td>\n",
       "      <td>1.00</td>\n",
       "      <td>0.00</td>\n",
       "      <td>0.00</td>\n",
       "      <td>0.00</td>\n",
       "      <td>0.00</td>\n",
       "      <td>0.00</td>\n",
       "      <td>1.00</td>\n",
       "      <td>0.00</td>\n",
       "      <td>0.00</td>\n",
       "      <td>0.00</td>\n",
       "      <td>0.00</td>\n",
       "      <td>0.00</td>\n",
       "      <td>0.00</td>\n",
       "      <td>1.00</td>\n",
       "      <td>0.00</td>\n",
       "      <td>1.00</td>\n",
       "      <td>0.00</td>\n",
       "      <td>0.00</td>\n",
       "      <td>0.00</td>\n",
       "      <td>1.00</td>\n",
       "      <td>0.00</td>\n",
       "      <td>0.00</td>\n",
       "      <td>0.00</td>\n",
       "      <td>0.00</td>\n",
       "      <td>0.00</td>\n",
       "      <td>0.00</td>\n",
       "      <td>0.00</td>\n",
       "      <td>1.00</td>\n",
       "      <td>0.00</td>\n",
       "      <td>0.00</td>\n",
       "      <td>1.00</td>\n",
       "      <td>0.00</td>\n",
       "      <td>0.00</td>\n",
       "      <td>0.00</td>\n",
       "      <td>0.00</td>\n",
       "      <td>0.00</td>\n",
       "      <td>0.00</td>\n",
       "      <td>0.00</td>\n",
       "      <td>0.00</td>\n",
       "      <td>0.00</td>\n",
       "      <td>0.00</td>\n",
       "      <td>0.00</td>\n",
       "      <td>0.00</td>\n",
       "      <td>0.00</td>\n",
       "      <td>0.00</td>\n",
       "      <td>0.00</td>\n",
       "      <td>0.00</td>\n",
       "      <td>0.00</td>\n",
       "      <td>0.00</td>\n",
       "      <td>0.00</td>\n",
       "      <td>0.00</td>\n",
       "      <td>1.00</td>\n",
       "      <td>1.00</td>\n",
       "    </tr>\n",
       "  </tbody>\n",
       "</table>\n",
       "<p>750 rows × 60 columns</p>\n",
       "</div>"
      ],
      "text/plain": [
       "     age_at_release  max_sentence  ...  target_population  felony\n",
       "575           30.00         10.00  ...               0.00    1.00\n",
       "839           20.00         10.00  ...               1.00    1.00\n",
       "370           40.00          5.00  ...               0.00    1.00\n",
       "3             30.00         50.00  ...               1.00    1.00\n",
       "112           40.00          5.00  ...               1.00    1.00\n",
       "..              ...           ...  ...                ...     ...\n",
       "271           30.00          2.00  ...               0.00    0.00\n",
       "765           50.00         10.00  ...               0.00    1.00\n",
       "860           40.00         10.00  ...               1.00    1.00\n",
       "562           70.00          2.00  ...               0.00    0.00\n",
       "21            40.00          5.00  ...               1.00    1.00\n",
       "\n",
       "[750 rows x 60 columns]"
      ]
     },
     "execution_count": 51,
     "metadata": {},
     "output_type": "execute_result"
    }
   ],
   "source": [
    "X_train_tf = pd.DataFrame(preprocessing.transform(X_train),\n",
    "                          columns=columns,index=X_train.index)\n",
    "X_test_tf = pd.DataFrame(preprocessing.transform(X_test),\n",
    "                          columns=columns,index=X_test.index)\n",
    "X_train_tf"
   ]
  },
  {
   "cell_type": "markdown",
   "metadata": {},
   "source": [
    "> **One downside of Pipelines is that its harder to get the individual info we need to re-form our dataset as a df**"
   ]
  },
  {
   "cell_type": "markdown",
   "metadata": {},
   "source": [
    "# MODELING"
   ]
  },
  {
   "cell_type": "code",
   "execution_count": 52,
   "metadata": {
    "ExecuteTime": {
     "end_time": "2021-07-10T21:04:10.582277Z",
     "start_time": "2021-07-10T21:04:10.543923Z"
    }
   },
   "outputs": [],
   "source": [
    "import sklearn.metrics as metrics\n",
    "\n",
    "def evaluate_classification(model,X_test,y_test,classes=['Non Recid','Recidivst'],\n",
    "                           normalize='true',cmap='Purples',label='',\n",
    "                           return_report=False):\n",
    "    \"\"\"Accepts an sklearn-compatible classification model + test data \n",
    "    and displays several sklearn.metrics functions: \n",
    "    - classifciation_report\n",
    "    - plot_confusion_matrix\n",
    "    - plot_roc_curve\n",
    "    \"\"\"\n",
    "     \n",
    "    ## Get Predictions\n",
    "    y_hat_test = model.predict(X_test)\n",
    "    \n",
    "    ## Classification Report / Scores \n",
    "    table_header = \"[i] CLASSIFICATION REPORT\"\n",
    "    \n",
    "    ## Add Label if given\n",
    "    if len(label)>0:\n",
    "        table_header += f\":\\t{label}\"\n",
    "        \n",
    "    \n",
    "    ## PRINT CLASSIFICATION REPORT\n",
    "    dashes = '---'*20\n",
    "    print(dashes,table_header,dashes,sep='\\n')\n",
    "\n",
    "    print(metrics.classification_report(y_test,y_hat_test,\n",
    "                                    target_names=classes))\n",
    "    \n",
    "    report = metrics.classification_report(y_test,y_hat_test,\n",
    "                                               target_names=classes,\n",
    "                                          output_dict=True)\n",
    "    print(dashes+\"\\n\\n\")\n",
    "    \n",
    "    \n",
    "\n",
    "    ## MAKE FIGURE\n",
    "    fig, axes = plt.subplots(figsize=(10,4),ncols=2)\n",
    "    \n",
    "    ## Plot Confusion Matrix \n",
    "    metrics.plot_confusion_matrix(model, X_test,y_test,\n",
    "                                  display_labels=classes,\n",
    "                                  normalize=normalize,\n",
    "                                 cmap=cmap,ax=axes[0])\n",
    "    axes[0].set(title='Confusion Matrix')\n",
    "    \n",
    "    ## Plot Roc Curve\n",
    "    roc_plot = metrics.plot_roc_curve(model, X_test, y_test,ax=axes[1])\n",
    "    axes[1].legend()\n",
    "    axes[1].plot([0,1],[0,1],ls=':')\n",
    "    axes[1].grid()\n",
    "    axes[1].set_title('Receiving Operator Characteristic (ROC) Curve') \n",
    "    fig.tight_layout()\n",
    "    plt.show()\n",
    "    \n",
    "    if return_report:\n",
    "        return report #fig,axes"
   ]
  },
  {
   "cell_type": "code",
   "execution_count": null,
   "metadata": {},
   "outputs": [],
   "source": []
  },
  {
   "cell_type": "markdown",
   "metadata": {},
   "source": [
    "## Baseline DummyClassifier"
   ]
  },
  {
   "cell_type": "code",
   "execution_count": 53,
   "metadata": {
    "ExecuteTime": {
     "end_time": "2021-07-10T21:04:10.973052Z",
     "start_time": "2021-07-10T21:04:10.583972Z"
    }
   },
   "outputs": [
    {
     "name": "stdout",
     "output_type": "stream",
     "text": [
      "------------------------------------------------------------\n",
      "[i] CLASSIFICATION REPORT:\tDummy Classifier\n",
      "------------------------------------------------------------\n",
      "              precision    recall  f1-score   support\n",
      "\n",
      "   Non Recid       0.72      0.71      0.72       178\n",
      "   Recidivst       0.30      0.31      0.30        72\n",
      "\n",
      "    accuracy                           0.60       250\n",
      "   macro avg       0.51      0.51      0.51       250\n",
      "weighted avg       0.60      0.60      0.60       250\n",
      "\n",
      "------------------------------------------------------------\n",
      "\n",
      "\n"
     ]
    },
    {
     "data": {
      "image/png": "[encoded data removed]",
      "text/plain": [
       "<Figure size 720x288 with 3 Axes>"
      ]
     },
     "metadata": {
      "needs_background": "light"
     },
     "output_type": "display_data"
    }
   ],
   "source": [
    "from sklearn.dummy import DummyClassifier\n",
    "\n",
    "dummy= DummyClassifier(strategy='stratified')\n",
    "dummy.fit(X_train_tf,y_train)\n",
    "evaluate_classification(dummy,X_test_tf,y_test,\n",
    "                       label='Dummy Classifier')"
   ]
  },
  {
   "cell_type": "markdown",
   "metadata": {},
   "source": [
    "### Vanilla RandomForest"
   ]
  },
  {
   "cell_type": "code",
   "execution_count": 54,
   "metadata": {
    "ExecuteTime": {
     "end_time": "2021-07-10T21:04:11.637206Z",
     "start_time": "2021-07-10T21:04:10.975202Z"
    }
   },
   "outputs": [
    {
     "name": "stdout",
     "output_type": "stream",
     "text": [
      "------------------------------------------------------------\n",
      "\tCLASSIFICATION REPORT - Vanilla Random Forest\n",
      "------------------------------------------------------------\n",
      "              precision    recall  f1-score   support\n",
      "\n",
      "           0       0.79      0.93      0.85       178\n",
      "           1       0.68      0.39      0.50        72\n",
      "\n",
      "    accuracy                           0.77       250\n",
      "   macro avg       0.74      0.66      0.67       250\n",
      "weighted avg       0.76      0.77      0.75       250\n",
      "\n"
     ]
    },
    {
     "data": {
      "image/png": "[encoded data removed]",
      "text/plain": [
       "<Figure size 720x288 with 3 Axes>"
      ]
     },
     "metadata": {
      "needs_background": "light"
     },
     "output_type": "display_data"
    },
    {
     "name": "stdout",
     "output_type": "stream",
     "text": [
      "Training Score = 0.96\n",
      "Test Score = 0.77\n"
     ]
    }
   ],
   "source": [
    "from sklearn.ensemble import RandomForestClassifier,StackingClassifier\n",
    "from sklearn.linear_model import LogisticRegression,LogisticRegressionCV\n",
    "\n",
    "## \n",
    "clf = RandomForestClassifier()\n",
    "clf.fit(X_train_tf,y_train)\n",
    "ji.evaluate_classification(clf,X_test_tf,y_test,X_train=X_train_tf,\n",
    "                           y_train=y_train,label=\"Vanilla Random Forest\")\n",
    "# evaluate_classification(clf,X_test_tf,y_test,"
   ]
  },
  {
   "cell_type": "code",
   "execution_count": 55,
   "metadata": {
    "ExecuteTime": {
     "end_time": "2021-07-10T21:04:11.673353Z",
     "start_time": "2021-07-10T21:04:11.639085Z"
    }
   },
   "outputs": [],
   "source": [
    "def get_feature_importance(clf,X_train_tf,plot=True):\n",
    "    importances = pd.Series(clf.feature_importances_,index=X_train_tf.columns)\n",
    "    return importances.sort_values(ascending=False)\n",
    "\n",
    "def plot_importance(clf,X_train_tf,n=25):\n",
    "    importances = get_feature_importance(clf,X_train_tf)\n",
    "    ax = importances.sort_values().tail(n).plot(kind='barh')#,figsize=figsize)\n",
    "    ax.set(title=f\"Top {n} Most Important Features\",xlabel='importance')"
   ]
  },
  {
   "cell_type": "code",
   "execution_count": 56,
   "metadata": {
    "ExecuteTime": {
     "end_time": "2021-07-10T21:04:12.062996Z",
     "start_time": "2021-07-10T21:04:11.675207Z"
    }
   },
   "outputs": [
    {
     "data": {
      "image/png": "[encoded data removed]",
      "text/plain": [
       "<Figure size 432x288 with 1 Axes>"
      ]
     },
     "metadata": {
      "needs_background": "light"
     },
     "output_type": "display_data"
    }
   ],
   "source": [
    "plot_importance(clf, X_test_tf,n=20)"
   ]
  },
  {
   "cell_type": "markdown",
   "metadata": {},
   "source": [
    "### RandomForest - `class_weight=\"balanced\"`"
   ]
  },
  {
   "cell_type": "code",
   "execution_count": 57,
   "metadata": {
    "ExecuteTime": {
     "end_time": "2021-07-10T21:04:13.078258Z",
     "start_time": "2021-07-10T21:04:12.065045Z"
    }
   },
   "outputs": [
    {
     "name": "stdout",
     "output_type": "stream",
     "text": [
      "------------------------------------------------------------\n",
      "\tCLASSIFICATION REPORT - Random Forest (class_weight='balanced')\n",
      "------------------------------------------------------------\n",
      "              precision    recall  f1-score   support\n",
      "\n",
      "           0       0.79      0.90      0.84       178\n",
      "           1       0.62      0.39      0.48        72\n",
      "\n",
      "    accuracy                           0.76       250\n",
      "   macro avg       0.70      0.65      0.66       250\n",
      "weighted avg       0.74      0.76      0.74       250\n",
      "\n"
     ]
    },
    {
     "data": {
      "image/png": "[encoded data removed]",
      "text/plain": [
       "<Figure size 720x288 with 3 Axes>"
      ]
     },
     "metadata": {
      "needs_background": "light"
     },
     "output_type": "display_data"
    },
    {
     "name": "stdout",
     "output_type": "stream",
     "text": [
      "Training Score = 0.95\n",
      "Test Score = 0.76\n"
     ]
    },
    {
     "data": {
      "image/png": "[encoded data removed]",
      "text/plain": [
       "<Figure size 432x288 with 1 Axes>"
      ]
     },
     "metadata": {
      "needs_background": "light"
     },
     "output_type": "display_data"
    }
   ],
   "source": [
    "clf = RandomForestClassifier(class_weight='balanced')\n",
    "clf.fit(X_train_tf,y_train)\n",
    "ji.evaluate_classification(clf,X_test_tf,y_test,X_train=X_train_tf,y_train=y_train,\n",
    "                           label= \"Random Forest (class_weight='balanced')\")\n",
    "plot_importance(clf,X_test_tf)"
   ]
  },
  {
   "cell_type": "markdown",
   "metadata": {},
   "source": [
    "### SMOTENC"
   ]
  },
  {
   "cell_type": "code",
   "execution_count": 58,
   "metadata": {
    "ExecuteTime": {
     "end_time": "2021-07-10T21:04:13.115941Z",
     "start_time": "2021-07-10T21:04:13.080255Z"
    }
   },
   "outputs": [
    {
     "data": {
      "text/plain": [
       "[False, False, True, True, True]"
      ]
     },
     "execution_count": 58,
     "metadata": {},
     "output_type": "execute_result"
    }
   ],
   "source": [
    "## Getting cat features index\n",
    "cat_col_index = [False for col in num_cols]\n",
    "cat_col_index.extend([True for col in cat_features])\n",
    "cat_col_index.extend([True for col in encoded_cols])\n",
    "\n",
    "cat_col_index[:5]"
   ]
  },
  {
   "cell_type": "code",
   "execution_count": 59,
   "metadata": {
    "ExecuteTime": {
     "end_time": "2021-07-10T21:04:13.718215Z",
     "start_time": "2021-07-10T21:04:13.117605Z"
    }
   },
   "outputs": [
    {
     "data": {
      "text/plain": [
       "1    532\n",
       "0    532\n",
       "Name: return_to_prison, dtype: int64"
      ]
     },
     "execution_count": 59,
     "metadata": {},
     "output_type": "execute_result"
    }
   ],
   "source": [
    "from imblearn.over_sampling import SMOTENC\n",
    "smote = SMOTENC(cat_col_index, n_jobs=-1)\n",
    "\n",
    "X_train_smote,y_train_smote = smote.fit_resample(X_train_tf,y_train)\n",
    "y_train_smote.value_counts()"
   ]
  },
  {
   "cell_type": "code",
   "execution_count": 60,
   "metadata": {
    "ExecuteTime": {
     "end_time": "2021-07-10T21:04:13.819923Z",
     "start_time": "2021-07-10T21:04:13.720211Z"
    }
   },
   "outputs": [
    {
     "data": {
      "text/html": [
       "<div>\n",
       "<style scoped>\n",
       "    .dataframe tbody tr th:only-of-type {\n",
       "        vertical-align: middle;\n",
       "    }\n",
       "\n",
       "    .dataframe tbody tr th {\n",
       "        vertical-align: top;\n",
       "    }\n",
       "\n",
       "    .dataframe thead th {\n",
       "        text-align: right;\n",
       "    }\n",
       "</style>\n",
       "<table border=\"1\" class=\"dataframe\">\n",
       "  <thead>\n",
       "    <tr style=\"text-align: right;\">\n",
       "      <th></th>\n",
       "      <th>age_at_release</th>\n",
       "      <th>max_sentence</th>\n",
       "      <th>main_supervising_district_1JD</th>\n",
       "      <th>main_supervising_district_2JD</th>\n",
       "      <th>main_supervising_district_3JD</th>\n",
       "      <th>main_supervising_district_4JD</th>\n",
       "      <th>main_supervising_district_5JD</th>\n",
       "      <th>main_supervising_district_6JD</th>\n",
       "      <th>main_supervising_district_7JD</th>\n",
       "      <th>main_supervising_district_8JD</th>\n",
       "      <th>main_supervising_district_MISSING</th>\n",
       "      <th>release_type_Discharged – End of Sentence</th>\n",
       "      <th>release_type_MISSING</th>\n",
       "      <th>release_type_Parole</th>\n",
       "      <th>release_type_Special Sentence</th>\n",
       "      <th>race_ethnicity_American Indian or Alaska Native - Hispanic</th>\n",
       "      <th>race_ethnicity_American Indian or Alaska Native - Non-Hispanic</th>\n",
       "      <th>race_ethnicity_Asian or Pacific Islander - Non-Hispanic</th>\n",
       "      <th>race_ethnicity_Black - Non-Hispanic</th>\n",
       "      <th>race_ethnicity_White - Hispanic</th>\n",
       "      <th>race_ethnicity_White - Non-Hispanic</th>\n",
       "      <th>sex_Female</th>\n",
       "      <th>sex_Male</th>\n",
       "      <th>offense_class_Aggravated Misdemeanor</th>\n",
       "      <th>offense_class_B Felony</th>\n",
       "      <th>offense_class_C Felony</th>\n",
       "      <th>offense_class_D Felony</th>\n",
       "      <th>offense_class_Felony - Enhanced</th>\n",
       "      <th>offense_class_Other Felony</th>\n",
       "      <th>offense_class_Serious Misdemeanor</th>\n",
       "      <th>offense_type_Drug</th>\n",
       "      <th>offense_type_Other</th>\n",
       "      <th>offense_type_Property</th>\n",
       "      <th>offense_type_Public Order</th>\n",
       "      <th>offense_type_Violent</th>\n",
       "      <th>offense_subtype_Alcohol</th>\n",
       "      <th>offense_subtype_Arson</th>\n",
       "      <th>offense_subtype_Assault</th>\n",
       "      <th>offense_subtype_Burglary</th>\n",
       "      <th>offense_subtype_Drug Possession</th>\n",
       "      <th>offense_subtype_Flight/Escape</th>\n",
       "      <th>offense_subtype_Forgery/Fraud</th>\n",
       "      <th>offense_subtype_Murder/Manslaughter</th>\n",
       "      <th>offense_subtype_OWI</th>\n",
       "      <th>offense_subtype_Other Criminal</th>\n",
       "      <th>offense_subtype_Other Drug</th>\n",
       "      <th>offense_subtype_Other Violent</th>\n",
       "      <th>offense_subtype_Prostitution/Pimping</th>\n",
       "      <th>offense_subtype_Robbery</th>\n",
       "      <th>offense_subtype_Sex</th>\n",
       "      <th>offense_subtype_Sex Offender Registry/Residency</th>\n",
       "      <th>offense_subtype_Special Sentence Revocation</th>\n",
       "      <th>offense_subtype_Stolen Property</th>\n",
       "      <th>offense_subtype_Theft</th>\n",
       "      <th>offense_subtype_Traffic</th>\n",
       "      <th>offense_subtype_Trafficking</th>\n",
       "      <th>offense_subtype_Vandalism</th>\n",
       "      <th>offense_subtype_Weapons</th>\n",
       "      <th>target_population</th>\n",
       "      <th>felony</th>\n",
       "    </tr>\n",
       "  </thead>\n",
       "  <tbody>\n",
       "    <tr>\n",
       "      <th>0</th>\n",
       "      <td>30.00</td>\n",
       "      <td>10.00</td>\n",
       "      <td>0.00</td>\n",
       "      <td>0.00</td>\n",
       "      <td>0.00</td>\n",
       "      <td>0.00</td>\n",
       "      <td>0.00</td>\n",
       "      <td>0.00</td>\n",
       "      <td>0.00</td>\n",
       "      <td>0.00</td>\n",
       "      <td>1.00</td>\n",
       "      <td>1.00</td>\n",
       "      <td>0.00</td>\n",
       "      <td>0.00</td>\n",
       "      <td>0.00</td>\n",
       "      <td>0.00</td>\n",
       "      <td>0.00</td>\n",
       "      <td>0.00</td>\n",
       "      <td>1.00</td>\n",
       "      <td>0.00</td>\n",
       "      <td>0.00</td>\n",
       "      <td>0.00</td>\n",
       "      <td>1.00</td>\n",
       "      <td>0.00</td>\n",
       "      <td>0.00</td>\n",
       "      <td>1.00</td>\n",
       "      <td>0.00</td>\n",
       "      <td>0.00</td>\n",
       "      <td>0.00</td>\n",
       "      <td>0.00</td>\n",
       "      <td>1.00</td>\n",
       "      <td>0.00</td>\n",
       "      <td>0.00</td>\n",
       "      <td>0.00</td>\n",
       "      <td>0.00</td>\n",
       "      <td>0.00</td>\n",
       "      <td>0.00</td>\n",
       "      <td>0.00</td>\n",
       "      <td>0.00</td>\n",
       "      <td>0.00</td>\n",
       "      <td>0.00</td>\n",
       "      <td>0.00</td>\n",
       "      <td>0.00</td>\n",
       "      <td>0.00</td>\n",
       "      <td>0.00</td>\n",
       "      <td>0.00</td>\n",
       "      <td>0.00</td>\n",
       "      <td>0.00</td>\n",
       "      <td>0.00</td>\n",
       "      <td>0.00</td>\n",
       "      <td>0.00</td>\n",
       "      <td>0.00</td>\n",
       "      <td>0.00</td>\n",
       "      <td>0.00</td>\n",
       "      <td>0.00</td>\n",
       "      <td>1.00</td>\n",
       "      <td>0.00</td>\n",
       "      <td>0.00</td>\n",
       "      <td>0.00</td>\n",
       "      <td>1.00</td>\n",
       "    </tr>\n",
       "    <tr>\n",
       "      <th>1</th>\n",
       "      <td>20.00</td>\n",
       "      <td>10.00</td>\n",
       "      <td>0.00</td>\n",
       "      <td>0.00</td>\n",
       "      <td>0.00</td>\n",
       "      <td>0.00</td>\n",
       "      <td>0.00</td>\n",
       "      <td>0.00</td>\n",
       "      <td>1.00</td>\n",
       "      <td>0.00</td>\n",
       "      <td>0.00</td>\n",
       "      <td>0.00</td>\n",
       "      <td>0.00</td>\n",
       "      <td>1.00</td>\n",
       "      <td>0.00</td>\n",
       "      <td>0.00</td>\n",
       "      <td>0.00</td>\n",
       "      <td>0.00</td>\n",
       "      <td>0.00</td>\n",
       "      <td>0.00</td>\n",
       "      <td>1.00</td>\n",
       "      <td>0.00</td>\n",
       "      <td>1.00</td>\n",
       "      <td>0.00</td>\n",
       "      <td>0.00</td>\n",
       "      <td>1.00</td>\n",
       "      <td>0.00</td>\n",
       "      <td>0.00</td>\n",
       "      <td>0.00</td>\n",
       "      <td>0.00</td>\n",
       "      <td>0.00</td>\n",
       "      <td>0.00</td>\n",
       "      <td>1.00</td>\n",
       "      <td>0.00</td>\n",
       "      <td>0.00</td>\n",
       "      <td>0.00</td>\n",
       "      <td>0.00</td>\n",
       "      <td>0.00</td>\n",
       "      <td>0.00</td>\n",
       "      <td>0.00</td>\n",
       "      <td>0.00</td>\n",
       "      <td>0.00</td>\n",
       "      <td>0.00</td>\n",
       "      <td>0.00</td>\n",
       "      <td>0.00</td>\n",
       "      <td>0.00</td>\n",
       "      <td>0.00</td>\n",
       "      <td>0.00</td>\n",
       "      <td>0.00</td>\n",
       "      <td>0.00</td>\n",
       "      <td>0.00</td>\n",
       "      <td>0.00</td>\n",
       "      <td>0.00</td>\n",
       "      <td>0.00</td>\n",
       "      <td>0.00</td>\n",
       "      <td>0.00</td>\n",
       "      <td>1.00</td>\n",
       "      <td>0.00</td>\n",
       "      <td>1.00</td>\n",
       "      <td>1.00</td>\n",
       "    </tr>\n",
       "    <tr>\n",
       "      <th>2</th>\n",
       "      <td>40.00</td>\n",
       "      <td>5.00</td>\n",
       "      <td>0.00</td>\n",
       "      <td>0.00</td>\n",
       "      <td>0.00</td>\n",
       "      <td>0.00</td>\n",
       "      <td>0.00</td>\n",
       "      <td>0.00</td>\n",
       "      <td>0.00</td>\n",
       "      <td>0.00</td>\n",
       "      <td>1.00</td>\n",
       "      <td>1.00</td>\n",
       "      <td>0.00</td>\n",
       "      <td>0.00</td>\n",
       "      <td>0.00</td>\n",
       "      <td>0.00</td>\n",
       "      <td>0.00</td>\n",
       "      <td>0.00</td>\n",
       "      <td>0.00</td>\n",
       "      <td>0.00</td>\n",
       "      <td>1.00</td>\n",
       "      <td>0.00</td>\n",
       "      <td>1.00</td>\n",
       "      <td>0.00</td>\n",
       "      <td>0.00</td>\n",
       "      <td>0.00</td>\n",
       "      <td>1.00</td>\n",
       "      <td>0.00</td>\n",
       "      <td>0.00</td>\n",
       "      <td>0.00</td>\n",
       "      <td>0.00</td>\n",
       "      <td>0.00</td>\n",
       "      <td>1.00</td>\n",
       "      <td>0.00</td>\n",
       "      <td>0.00</td>\n",
       "      <td>0.00</td>\n",
       "      <td>0.00</td>\n",
       "      <td>0.00</td>\n",
       "      <td>1.00</td>\n",
       "      <td>0.00</td>\n",
       "      <td>0.00</td>\n",
       "      <td>0.00</td>\n",
       "      <td>0.00</td>\n",
       "      <td>0.00</td>\n",
       "      <td>0.00</td>\n",
       "      <td>0.00</td>\n",
       "      <td>0.00</td>\n",
       "      <td>0.00</td>\n",
       "      <td>0.00</td>\n",
       "      <td>0.00</td>\n",
       "      <td>0.00</td>\n",
       "      <td>0.00</td>\n",
       "      <td>0.00</td>\n",
       "      <td>0.00</td>\n",
       "      <td>0.00</td>\n",
       "      <td>0.00</td>\n",
       "      <td>0.00</td>\n",
       "      <td>0.00</td>\n",
       "      <td>0.00</td>\n",
       "      <td>1.00</td>\n",
       "    </tr>\n",
       "    <tr>\n",
       "      <th>3</th>\n",
       "      <td>30.00</td>\n",
       "      <td>50.00</td>\n",
       "      <td>0.00</td>\n",
       "      <td>0.00</td>\n",
       "      <td>0.00</td>\n",
       "      <td>0.00</td>\n",
       "      <td>0.00</td>\n",
       "      <td>1.00</td>\n",
       "      <td>0.00</td>\n",
       "      <td>0.00</td>\n",
       "      <td>0.00</td>\n",
       "      <td>0.00</td>\n",
       "      <td>0.00</td>\n",
       "      <td>1.00</td>\n",
       "      <td>0.00</td>\n",
       "      <td>0.00</td>\n",
       "      <td>0.00</td>\n",
       "      <td>0.00</td>\n",
       "      <td>0.00</td>\n",
       "      <td>0.00</td>\n",
       "      <td>1.00</td>\n",
       "      <td>0.00</td>\n",
       "      <td>1.00</td>\n",
       "      <td>0.00</td>\n",
       "      <td>1.00</td>\n",
       "      <td>0.00</td>\n",
       "      <td>0.00</td>\n",
       "      <td>0.00</td>\n",
       "      <td>0.00</td>\n",
       "      <td>0.00</td>\n",
       "      <td>0.00</td>\n",
       "      <td>1.00</td>\n",
       "      <td>0.00</td>\n",
       "      <td>0.00</td>\n",
       "      <td>0.00</td>\n",
       "      <td>0.00</td>\n",
       "      <td>0.00</td>\n",
       "      <td>0.00</td>\n",
       "      <td>0.00</td>\n",
       "      <td>0.00</td>\n",
       "      <td>0.00</td>\n",
       "      <td>0.00</td>\n",
       "      <td>0.00</td>\n",
       "      <td>0.00</td>\n",
       "      <td>1.00</td>\n",
       "      <td>0.00</td>\n",
       "      <td>0.00</td>\n",
       "      <td>0.00</td>\n",
       "      <td>0.00</td>\n",
       "      <td>0.00</td>\n",
       "      <td>0.00</td>\n",
       "      <td>0.00</td>\n",
       "      <td>0.00</td>\n",
       "      <td>0.00</td>\n",
       "      <td>0.00</td>\n",
       "      <td>0.00</td>\n",
       "      <td>0.00</td>\n",
       "      <td>0.00</td>\n",
       "      <td>1.00</td>\n",
       "      <td>1.00</td>\n",
       "    </tr>\n",
       "    <tr>\n",
       "      <th>4</th>\n",
       "      <td>40.00</td>\n",
       "      <td>5.00</td>\n",
       "      <td>0.00</td>\n",
       "      <td>0.00</td>\n",
       "      <td>0.00</td>\n",
       "      <td>0.00</td>\n",
       "      <td>1.00</td>\n",
       "      <td>0.00</td>\n",
       "      <td>0.00</td>\n",
       "      <td>0.00</td>\n",
       "      <td>0.00</td>\n",
       "      <td>0.00</td>\n",
       "      <td>0.00</td>\n",
       "      <td>1.00</td>\n",
       "      <td>0.00</td>\n",
       "      <td>0.00</td>\n",
       "      <td>0.00</td>\n",
       "      <td>0.00</td>\n",
       "      <td>0.00</td>\n",
       "      <td>0.00</td>\n",
       "      <td>1.00</td>\n",
       "      <td>1.00</td>\n",
       "      <td>0.00</td>\n",
       "      <td>0.00</td>\n",
       "      <td>0.00</td>\n",
       "      <td>0.00</td>\n",
       "      <td>1.00</td>\n",
       "      <td>0.00</td>\n",
       "      <td>0.00</td>\n",
       "      <td>0.00</td>\n",
       "      <td>0.00</td>\n",
       "      <td>0.00</td>\n",
       "      <td>1.00</td>\n",
       "      <td>0.00</td>\n",
       "      <td>0.00</td>\n",
       "      <td>0.00</td>\n",
       "      <td>0.00</td>\n",
       "      <td>0.00</td>\n",
       "      <td>0.00</td>\n",
       "      <td>0.00</td>\n",
       "      <td>0.00</td>\n",
       "      <td>1.00</td>\n",
       "      <td>0.00</td>\n",
       "      <td>0.00</td>\n",
       "      <td>0.00</td>\n",
       "      <td>0.00</td>\n",
       "      <td>0.00</td>\n",
       "      <td>0.00</td>\n",
       "      <td>0.00</td>\n",
       "      <td>0.00</td>\n",
       "      <td>0.00</td>\n",
       "      <td>0.00</td>\n",
       "      <td>0.00</td>\n",
       "      <td>0.00</td>\n",
       "      <td>0.00</td>\n",
       "      <td>0.00</td>\n",
       "      <td>0.00</td>\n",
       "      <td>0.00</td>\n",
       "      <td>1.00</td>\n",
       "      <td>1.00</td>\n",
       "    </tr>\n",
       "  </tbody>\n",
       "</table>\n",
       "</div>"
      ],
      "text/plain": [
       "   age_at_release  max_sentence  ...  target_population  felony\n",
       "0           30.00         10.00  ...               0.00    1.00\n",
       "1           20.00         10.00  ...               1.00    1.00\n",
       "2           40.00          5.00  ...               0.00    1.00\n",
       "3           30.00         50.00  ...               1.00    1.00\n",
       "4           40.00          5.00  ...               1.00    1.00\n",
       "\n",
       "[5 rows x 60 columns]"
      ]
     },
     "execution_count": 60,
     "metadata": {},
     "output_type": "execute_result"
    }
   ],
   "source": [
    "X_train_smote[:5]"
   ]
  },
  {
   "cell_type": "markdown",
   "metadata": {},
   "source": [
    "### RandomForest with SMOTE"
   ]
  },
  {
   "cell_type": "code",
   "execution_count": 61,
   "metadata": {
    "ExecuteTime": {
     "end_time": "2021-07-10T21:04:14.972117Z",
     "start_time": "2021-07-10T21:04:13.821838Z"
    }
   },
   "outputs": [
    {
     "name": "stdout",
     "output_type": "stream",
     "text": [
      "------------------------------------------------------------\n",
      "\tCLASSIFICATION REPORT - RandomForest - SMOTE\n",
      "------------------------------------------------------------\n",
      "              precision    recall  f1-score   support\n",
      "\n",
      "           0       0.80      0.87      0.83       178\n",
      "           1       0.59      0.46      0.52        72\n",
      "\n",
      "    accuracy                           0.75       250\n",
      "   macro avg       0.69      0.66      0.67       250\n",
      "weighted avg       0.74      0.75      0.74       250\n",
      "\n"
     ]
    },
    {
     "data": {
      "image/png": "[encoded data removed]",
      "text/plain": [
       "<Figure size 720x288 with 3 Axes>"
      ]
     },
     "metadata": {
      "needs_background": "light"
     },
     "output_type": "display_data"
    },
    {
     "name": "stdout",
     "output_type": "stream",
     "text": [
      "Training Score = 0.95\n",
      "Test Score = 0.75\n"
     ]
    },
    {
     "data": {
      "image/png": "[encoded data removed]",
      "text/plain": [
       "<Figure size 432x288 with 1 Axes>"
      ]
     },
     "metadata": {
      "needs_background": "light"
     },
     "output_type": "display_data"
    }
   ],
   "source": [
    "clf = RandomForestClassifier()#class_weight='balanced')\n",
    "clf.fit(X_train_smote,y_train_smote)\n",
    "ji.evaluate_classification(clf,X_test_tf,y_test,X_train=X_train_tf,y_train=y_train,\n",
    "                           label='RandomForest - SMOTE')\n",
    "plot_importance(clf,X_test_tf)"
   ]
  },
  {
   "cell_type": "code",
   "execution_count": 62,
   "metadata": {
    "ExecuteTime": {
     "end_time": "2021-07-10T21:04:15.162457Z",
     "start_time": "2021-07-10T21:04:14.974892Z"
    }
   },
   "outputs": [
    {
     "data": {
      "text/plain": [
       "<AxesSubplot:ylabel='Count'>"
      ]
     },
     "execution_count": 62,
     "metadata": {},
     "output_type": "execute_result"
    },
    {
     "data": {
      "image/png": "[encoded data removed]",
      "text/plain": [
       "<Figure size 432x288 with 1 Axes>"
      ]
     },
     "metadata": {
      "needs_background": "light"
     },
     "output_type": "display_data"
    }
   ],
   "source": [
    "depths = [tree.get_depth() for tree in clf.estimators_]\n",
    "sns.histplot(depths)"
   ]
  },
  {
   "cell_type": "markdown",
   "metadata": {},
   "source": [
    "# GridSearch RF"
   ]
  },
  {
   "cell_type": "markdown",
   "metadata": {},
   "source": [
    "```python\n",
    "from sklearn.model_selection import RandomizedSearchCV,GridSearchCV\n",
    "\n",
    "clf = RandomForestClassifier()\n",
    "params ={'max_depth':[None,5,7,10,20,30,],\n",
    "         'min_samples_leaf':[1,2,3],\n",
    "         'criterion':['gini','entropy'],        \n",
    "        }\n",
    "\n",
    "\n",
    "grid = GridSearchCV(clf,params,scoring='recall_macro', n_jobs=-1)\n",
    "\n",
    "grid.fit(X_train_smote,y_train_smote)\n",
    "print(grid.best_params_)\n",
    "\n",
    "print(grid.best_score_)\n",
    "evaluate_classification(grid.best_estimator_,X_test_tf,y_test)\n",
    "```"
   ]
  },
  {
   "cell_type": "code",
   "execution_count": 63,
   "metadata": {
    "ExecuteTime": {
     "end_time": "2021-07-10T21:04:56.785614Z",
     "start_time": "2021-07-10T21:04:15.164604Z"
    }
   },
   "outputs": [
    {
     "name": "stdout",
     "output_type": "stream",
     "text": [
      "Fitting 3 folds for each of 324 candidates, totalling 972 fits\n",
      "{'criterion': 'entropy', 'max_depth': 30, 'min_samples_leaf': 1, 'min_samples_split': 2, 'n_estimators': 50}\n",
      "0.7888232929177511\n",
      "------------------------------------------------------------\n",
      "\tCLASSIFICATION REPORT - Test Data\n",
      "------------------------------------------------------------\n",
      "              precision    recall  f1-score   support\n",
      "\n",
      "           0       0.80      0.89      0.84       178\n",
      "           1       0.62      0.44      0.52        72\n",
      "\n",
      "    accuracy                           0.76       250\n",
      "   macro avg       0.71      0.67      0.68       250\n",
      "weighted avg       0.75      0.76      0.75       250\n",
      "\n"
     ]
    },
    {
     "data": {
      "image/png": "[encoded data removed]",
      "text/plain": [
       "<Figure size 720x288 with 3 Axes>"
      ]
     },
     "metadata": {
      "needs_background": "light"
     },
     "output_type": "display_data"
    },
    {
     "name": "stdout",
     "output_type": "stream",
     "text": [
      "Training Score = 0.96\n",
      "Test Score = 0.76\n"
     ]
    }
   ],
   "source": [
    "from sklearn.model_selection import RandomizedSearchCV,GridSearchCV\n",
    "\n",
    "clf = RandomForestClassifier()\n",
    "params ={'max_depth':[None,10,20,30,35,40],\n",
    "         'min_samples_leaf':[1,2,3],\n",
    "         'min_samples_split':[2,3,4],\n",
    "         'criterion':['gini','entropy'], \n",
    "         'n_estimators':[50,100,150]\n",
    "        }\n",
    "\n",
    "\n",
    "grid = GridSearchCV(clf,params,scoring='recall_macro', cv=3,\n",
    "                    n_jobs=-1,verbose=True)\n",
    "grid.fit(X_train_smote,y_train_smote)\n",
    "\n",
    "\n",
    "print(grid.best_params_)\n",
    "print(grid.best_score_)\n",
    "ji.evaluate_classification(grid.best_estimator_,X_test_tf,y_test,\n",
    "                           X_train=X_train_smote,y_train=y_train_smote)"
   ]
  },
  {
   "cell_type": "markdown",
   "metadata": {
    "ExecuteTime": {
     "end_time": "2020-10-06T17:28:50.840094Z",
     "start_time": "2020-10-06T17:28:50.836840Z"
    }
   },
   "source": [
    "## Bookmark: saving gridsearch\n",
    "https://stackabuse.com/scikit-learn-save-and-restore-models/"
   ]
  },
  {
   "cell_type": "code",
   "execution_count": 64,
   "metadata": {
    "ExecuteTime": {
     "end_time": "2021-07-10T21:04:56.842295Z",
     "start_time": "2021-07-10T21:04:56.788394Z"
    }
   },
   "outputs": [],
   "source": [
    "## Make a folder for saving models\n",
    "import os\n",
    "mpath = './models/'\n",
    "os.makedirs(mpath,exist_ok=True)"
   ]
  },
  {
   "cell_type": "code",
   "execution_count": 65,
   "metadata": {
    "ExecuteTime": {
     "end_time": "2021-07-10T21:04:56.955763Z",
     "start_time": "2021-07-10T21:04:56.845218Z"
    }
   },
   "outputs": [
    {
     "data": {
      "text/plain": [
       "['./models/rf_gridsearch_recall_macro.pkl']"
      ]
     },
     "execution_count": 65,
     "metadata": {},
     "output_type": "execute_result"
    }
   ],
   "source": [
    "import joblib\n",
    "## Save Grid\n",
    "joblib_file = mpath+'rf_gridsearch_recall_macro.pkl'\n",
    "joblib.dump(grid,joblib_file)"
   ]
  },
  {
   "cell_type": "code",
   "execution_count": 66,
   "metadata": {
    "ExecuteTime": {
     "end_time": "2021-07-10T21:04:57.046575Z",
     "start_time": "2021-07-10T21:04:56.958019Z"
    }
   },
   "outputs": [
    {
     "data": {
      "text/plain": [
       "{'criterion': 'entropy',\n",
       " 'max_depth': 30,\n",
       " 'min_samples_leaf': 1,\n",
       " 'min_samples_split': 2,\n",
       " 'n_estimators': 50}"
      ]
     },
     "execution_count": 66,
     "metadata": {},
     "output_type": "execute_result"
    }
   ],
   "source": [
    "grid_loaded = joblib.load(joblib_file)\n",
    "grid_loaded.best_params_"
   ]
  },
  {
   "cell_type": "markdown",
   "metadata": {},
   "source": [
    "### Testing Grid Results for Different Metrics"
   ]
  },
  {
   "cell_type": "code",
   "execution_count": 67,
   "metadata": {
    "ExecuteTime": {
     "end_time": "2021-07-10T21:04:57.116659Z",
     "start_time": "2021-07-10T21:04:57.049345Z"
    }
   },
   "outputs": [],
   "source": [
    "from tqdm.contrib import tenumerate\n",
    "# tenumerate()"
   ]
  },
  {
   "cell_type": "code",
   "execution_count": 68,
   "metadata": {
    "ExecuteTime": {
     "end_time": "2021-07-10T21:04:57.186436Z",
     "start_time": "2021-07-10T21:04:57.134950Z"
    }
   },
   "outputs": [],
   "source": [
    "\n",
    "if RUN_SEARCHES:\n",
    "    # scores =['recall','recall_macro','accuracy']\n",
    "\n",
    "    GRIDS={}\n",
    "\n",
    "    ## Build loop to make dict of grids for each score method\n",
    "    scores =['f1','f1_macro','roc_auc','recall','recall_macro']#,'accuracy','precision']\n",
    "\n",
    "    reports = {}\n",
    "    for _,score in tenumerate(scores):\n",
    "        line = '==='*30\n",
    "        print(line)\n",
    "        print(f'[i] Starting {score}',end='\\n'+line+\"\\n\")\n",
    "\n",
    "        GRIDS[score] = GridSearchCV(clf,params,cv=3,\n",
    "                                    scoring=score,\n",
    "                                    verbose=True,\n",
    "                                    n_jobs=-1)\n",
    "        GRIDS[score].fit(X_train_smote,y_train_smote)\n",
    "\n",
    "        print(f\"\\n[i] Best Params for scoring={score}:\" )\n",
    "        print(GRIDS[score].best_params_)\n",
    "        print('\\n\\n')\n",
    "\n",
    "        reports[score] = ji.evaluate_classification( \n",
    "            GRIDS[score].best_estimator_,\n",
    "            X_test_tf,y_test,label=score, \n",
    "            X_train=X_train_smote, y_train=y_train_smote,return_report=True)\n",
    "        print('\\n\\n')\n",
    "        ## Adding best_params to reports\n",
    "    #     reports[score]['best_params'] = GRIDS[score].best_params_"
   ]
  },
  {
   "cell_type": "markdown",
   "metadata": {},
   "source": [
    "# BOOKMARK 07/10/21"
   ]
  },
  {
   "cell_type": "code",
   "execution_count": 69,
   "metadata": {
    "ExecuteTime": {
     "end_time": "2021-07-10T21:04:57.239381Z",
     "start_time": "2021-07-10T21:04:57.191580Z"
    }
   },
   "outputs": [],
   "source": [
    "# pd.concat(reports)"
   ]
  },
  {
   "cell_type": "code",
   "execution_count": 70,
   "metadata": {
    "ExecuteTime": {
     "end_time": "2021-07-10T21:04:57.293384Z",
     "start_time": "2021-07-10T21:04:57.243101Z"
    }
   },
   "outputs": [],
   "source": [
    "if RUN_SEARCHES:\n",
    "    dfs=[]\n",
    "    for metric,result in reports.items():\n",
    "\n",
    "        result['scoring_param'] = metric\n",
    "        dfs.append(pd.DataFrame(result))\n",
    "\n",
    "    RESULTS = pd.concat(dfs).reset_index().set_index(['scoring_param','index'])\n",
    "    # RESULTS.drop('scoring param',inplace=True)\n",
    "    RESULTS"
   ]
  },
  {
   "cell_type": "markdown",
   "metadata": {},
   "source": [
    "## XGBoost"
   ]
  },
  {
   "cell_type": "code",
   "execution_count": 71,
   "metadata": {
    "ExecuteTime": {
     "end_time": "2021-07-10T21:04:57.473291Z",
     "start_time": "2021-07-10T21:04:57.296039Z"
    }
   },
   "outputs": [],
   "source": [
    "from xgboost import XGBRFClassifier"
   ]
  },
  {
   "cell_type": "code",
   "execution_count": 72,
   "metadata": {
    "ExecuteTime": {
     "end_time": "2021-07-10T21:04:57.527851Z",
     "start_time": "2021-07-10T21:04:57.475763Z"
    }
   },
   "outputs": [
    {
     "data": {
      "text/plain": [
       "0       1\n",
       "1       0\n",
       "2       0\n",
       "3       0\n",
       "4       0\n",
       "       ..\n",
       "1059    1\n",
       "1060    1\n",
       "1061    1\n",
       "1062    1\n",
       "1063    1\n",
       "Name: return_to_prison, Length: 1064, dtype: int64"
      ]
     },
     "execution_count": 72,
     "metadata": {},
     "output_type": "execute_result"
    }
   ],
   "source": [
    "y_train_smote"
   ]
  },
  {
   "cell_type": "code",
   "execution_count": 73,
   "metadata": {
    "ExecuteTime": {
     "end_time": "2021-07-10T21:04:57.828230Z",
     "start_time": "2021-07-10T21:04:57.530671Z"
    }
   },
   "outputs": [
    {
     "data": {
      "text/html": [
       "<div>\n",
       "<style scoped>\n",
       "    .dataframe tbody tr th:only-of-type {\n",
       "        vertical-align: middle;\n",
       "    }\n",
       "\n",
       "    .dataframe tbody tr th {\n",
       "        vertical-align: top;\n",
       "    }\n",
       "\n",
       "    .dataframe thead th {\n",
       "        text-align: right;\n",
       "    }\n",
       "</style>\n",
       "<table border=\"1\" class=\"dataframe\">\n",
       "  <thead>\n",
       "    <tr style=\"text-align: right;\">\n",
       "      <th></th>\n",
       "      <th>age_at_release</th>\n",
       "      <th>max_sentence</th>\n",
       "      <th>main_supervising_district_1JD</th>\n",
       "      <th>main_supervising_district_2JD</th>\n",
       "      <th>main_supervising_district_3JD</th>\n",
       "      <th>main_supervising_district_4JD</th>\n",
       "      <th>main_supervising_district_5JD</th>\n",
       "      <th>main_supervising_district_6JD</th>\n",
       "      <th>main_supervising_district_7JD</th>\n",
       "      <th>main_supervising_district_8JD</th>\n",
       "      <th>main_supervising_district_MISSING</th>\n",
       "      <th>release_type_Discharged – End of Sentence</th>\n",
       "      <th>release_type_MISSING</th>\n",
       "      <th>release_type_Parole</th>\n",
       "      <th>release_type_Special Sentence</th>\n",
       "      <th>race_ethnicity_American Indian or Alaska Native - Hispanic</th>\n",
       "      <th>race_ethnicity_American Indian or Alaska Native - Non-Hispanic</th>\n",
       "      <th>race_ethnicity_Asian or Pacific Islander - Non-Hispanic</th>\n",
       "      <th>race_ethnicity_Black - Non-Hispanic</th>\n",
       "      <th>race_ethnicity_White - Hispanic</th>\n",
       "      <th>race_ethnicity_White - Non-Hispanic</th>\n",
       "      <th>sex_Female</th>\n",
       "      <th>sex_Male</th>\n",
       "      <th>offense_class_Aggravated Misdemeanor</th>\n",
       "      <th>offense_class_B Felony</th>\n",
       "      <th>offense_class_C Felony</th>\n",
       "      <th>offense_class_D Felony</th>\n",
       "      <th>offense_class_Felony - Enhanced</th>\n",
       "      <th>offense_class_Other Felony</th>\n",
       "      <th>offense_class_Serious Misdemeanor</th>\n",
       "      <th>offense_type_Drug</th>\n",
       "      <th>offense_type_Other</th>\n",
       "      <th>offense_type_Property</th>\n",
       "      <th>offense_type_Public Order</th>\n",
       "      <th>offense_type_Violent</th>\n",
       "      <th>offense_subtype_Alcohol</th>\n",
       "      <th>offense_subtype_Arson</th>\n",
       "      <th>offense_subtype_Assault</th>\n",
       "      <th>offense_subtype_Burglary</th>\n",
       "      <th>offense_subtype_Drug Possession</th>\n",
       "      <th>offense_subtype_Flight/Escape</th>\n",
       "      <th>offense_subtype_Forgery/Fraud</th>\n",
       "      <th>offense_subtype_Murder/Manslaughter</th>\n",
       "      <th>offense_subtype_OWI</th>\n",
       "      <th>offense_subtype_Other Criminal</th>\n",
       "      <th>offense_subtype_Other Drug</th>\n",
       "      <th>offense_subtype_Other Violent</th>\n",
       "      <th>offense_subtype_Prostitution/Pimping</th>\n",
       "      <th>offense_subtype_Robbery</th>\n",
       "      <th>offense_subtype_Sex</th>\n",
       "      <th>offense_subtype_Sex Offender Registry/Residency</th>\n",
       "      <th>offense_subtype_Special Sentence Revocation</th>\n",
       "      <th>offense_subtype_Stolen Property</th>\n",
       "      <th>offense_subtype_Theft</th>\n",
       "      <th>offense_subtype_Traffic</th>\n",
       "      <th>offense_subtype_Trafficking</th>\n",
       "      <th>offense_subtype_Vandalism</th>\n",
       "      <th>offense_subtype_Weapons</th>\n",
       "      <th>target_population</th>\n",
       "      <th>felony</th>\n",
       "    </tr>\n",
       "  </thead>\n",
       "  <tbody>\n",
       "    <tr>\n",
       "      <th>count</th>\n",
       "      <td>750.00</td>\n",
       "      <td>750.00</td>\n",
       "      <td>750.00</td>\n",
       "      <td>750.00</td>\n",
       "      <td>750.00</td>\n",
       "      <td>750.00</td>\n",
       "      <td>750.00</td>\n",
       "      <td>750.00</td>\n",
       "      <td>750.00</td>\n",
       "      <td>750.00</td>\n",
       "      <td>750.00</td>\n",
       "      <td>750.00</td>\n",
       "      <td>750.00</td>\n",
       "      <td>750.00</td>\n",
       "      <td>750.00</td>\n",
       "      <td>750.00</td>\n",
       "      <td>750.00</td>\n",
       "      <td>750.00</td>\n",
       "      <td>750.00</td>\n",
       "      <td>750.00</td>\n",
       "      <td>750.00</td>\n",
       "      <td>750.00</td>\n",
       "      <td>750.00</td>\n",
       "      <td>750.00</td>\n",
       "      <td>750.00</td>\n",
       "      <td>750.00</td>\n",
       "      <td>750.00</td>\n",
       "      <td>750.00</td>\n",
       "      <td>750.00</td>\n",
       "      <td>750.00</td>\n",
       "      <td>750.00</td>\n",
       "      <td>750.00</td>\n",
       "      <td>750.00</td>\n",
       "      <td>750.00</td>\n",
       "      <td>750.00</td>\n",
       "      <td>750.00</td>\n",
       "      <td>750.00</td>\n",
       "      <td>750.00</td>\n",
       "      <td>750.00</td>\n",
       "      <td>750.00</td>\n",
       "      <td>750.00</td>\n",
       "      <td>750.00</td>\n",
       "      <td>750.00</td>\n",
       "      <td>750.00</td>\n",
       "      <td>750.00</td>\n",
       "      <td>750.00</td>\n",
       "      <td>750.00</td>\n",
       "      <td>750.00</td>\n",
       "      <td>750.00</td>\n",
       "      <td>750.00</td>\n",
       "      <td>750.00</td>\n",
       "      <td>750.00</td>\n",
       "      <td>750.00</td>\n",
       "      <td>750.00</td>\n",
       "      <td>750.00</td>\n",
       "      <td>750.00</td>\n",
       "      <td>750.00</td>\n",
       "      <td>750.00</td>\n",
       "      <td>750.00</td>\n",
       "      <td>750.00</td>\n",
       "    </tr>\n",
       "    <tr>\n",
       "      <th>mean</th>\n",
       "      <td>-0.00</td>\n",
       "      <td>0.00</td>\n",
       "      <td>0.00</td>\n",
       "      <td>-0.00</td>\n",
       "      <td>0.00</td>\n",
       "      <td>-0.00</td>\n",
       "      <td>0.00</td>\n",
       "      <td>-0.00</td>\n",
       "      <td>-0.00</td>\n",
       "      <td>0.00</td>\n",
       "      <td>0.00</td>\n",
       "      <td>0.00</td>\n",
       "      <td>-0.00</td>\n",
       "      <td>-0.00</td>\n",
       "      <td>0.00</td>\n",
       "      <td>0.00</td>\n",
       "      <td>-0.00</td>\n",
       "      <td>-0.00</td>\n",
       "      <td>-0.00</td>\n",
       "      <td>0.00</td>\n",
       "      <td>-0.00</td>\n",
       "      <td>-0.00</td>\n",
       "      <td>0.00</td>\n",
       "      <td>-0.00</td>\n",
       "      <td>0.00</td>\n",
       "      <td>-0.00</td>\n",
       "      <td>0.00</td>\n",
       "      <td>-0.00</td>\n",
       "      <td>0.00</td>\n",
       "      <td>-0.00</td>\n",
       "      <td>0.00</td>\n",
       "      <td>0.00</td>\n",
       "      <td>0.00</td>\n",
       "      <td>0.00</td>\n",
       "      <td>-0.00</td>\n",
       "      <td>-0.00</td>\n",
       "      <td>0.00</td>\n",
       "      <td>0.00</td>\n",
       "      <td>-0.00</td>\n",
       "      <td>-0.00</td>\n",
       "      <td>-0.00</td>\n",
       "      <td>-0.00</td>\n",
       "      <td>0.00</td>\n",
       "      <td>0.00</td>\n",
       "      <td>0.00</td>\n",
       "      <td>0.00</td>\n",
       "      <td>0.00</td>\n",
       "      <td>0.00</td>\n",
       "      <td>-0.00</td>\n",
       "      <td>0.00</td>\n",
       "      <td>-0.00</td>\n",
       "      <td>0.00</td>\n",
       "      <td>0.00</td>\n",
       "      <td>-0.00</td>\n",
       "      <td>0.00</td>\n",
       "      <td>0.00</td>\n",
       "      <td>-0.00</td>\n",
       "      <td>-0.00</td>\n",
       "      <td>-0.00</td>\n",
       "      <td>-0.00</td>\n",
       "    </tr>\n",
       "    <tr>\n",
       "      <th>std</th>\n",
       "      <td>1.00</td>\n",
       "      <td>1.00</td>\n",
       "      <td>1.00</td>\n",
       "      <td>1.00</td>\n",
       "      <td>1.00</td>\n",
       "      <td>1.00</td>\n",
       "      <td>1.00</td>\n",
       "      <td>1.00</td>\n",
       "      <td>1.00</td>\n",
       "      <td>1.00</td>\n",
       "      <td>1.00</td>\n",
       "      <td>1.00</td>\n",
       "      <td>1.00</td>\n",
       "      <td>1.00</td>\n",
       "      <td>1.00</td>\n",
       "      <td>1.00</td>\n",
       "      <td>1.00</td>\n",
       "      <td>1.00</td>\n",
       "      <td>1.00</td>\n",
       "      <td>1.00</td>\n",
       "      <td>1.00</td>\n",
       "      <td>1.00</td>\n",
       "      <td>1.00</td>\n",
       "      <td>1.00</td>\n",
       "      <td>1.00</td>\n",
       "      <td>1.00</td>\n",
       "      <td>1.00</td>\n",
       "      <td>1.00</td>\n",
       "      <td>1.00</td>\n",
       "      <td>1.00</td>\n",
       "      <td>1.00</td>\n",
       "      <td>1.00</td>\n",
       "      <td>1.00</td>\n",
       "      <td>1.00</td>\n",
       "      <td>1.00</td>\n",
       "      <td>1.00</td>\n",
       "      <td>1.00</td>\n",
       "      <td>1.00</td>\n",
       "      <td>1.00</td>\n",
       "      <td>1.00</td>\n",
       "      <td>1.00</td>\n",
       "      <td>1.00</td>\n",
       "      <td>1.00</td>\n",
       "      <td>1.00</td>\n",
       "      <td>1.00</td>\n",
       "      <td>1.00</td>\n",
       "      <td>1.00</td>\n",
       "      <td>1.00</td>\n",
       "      <td>1.00</td>\n",
       "      <td>1.00</td>\n",
       "      <td>1.00</td>\n",
       "      <td>1.00</td>\n",
       "      <td>1.00</td>\n",
       "      <td>1.00</td>\n",
       "      <td>1.00</td>\n",
       "      <td>1.00</td>\n",
       "      <td>1.00</td>\n",
       "      <td>1.00</td>\n",
       "      <td>1.00</td>\n",
       "      <td>1.00</td>\n",
       "    </tr>\n",
       "    <tr>\n",
       "      <th>min</th>\n",
       "      <td>-1.34</td>\n",
       "      <td>-0.73</td>\n",
       "      <td>-0.32</td>\n",
       "      <td>-0.29</td>\n",
       "      <td>-0.21</td>\n",
       "      <td>-0.18</td>\n",
       "      <td>-0.40</td>\n",
       "      <td>-0.20</td>\n",
       "      <td>-0.26</td>\n",
       "      <td>-0.27</td>\n",
       "      <td>-0.90</td>\n",
       "      <td>-0.89</td>\n",
       "      <td>-0.05</td>\n",
       "      <td>-1.08</td>\n",
       "      <td>-0.12</td>\n",
       "      <td>-0.04</td>\n",
       "      <td>-0.13</td>\n",
       "      <td>-0.05</td>\n",
       "      <td>-0.55</td>\n",
       "      <td>-0.28</td>\n",
       "      <td>-1.44</td>\n",
       "      <td>-0.32</td>\n",
       "      <td>-3.12</td>\n",
       "      <td>-0.43</td>\n",
       "      <td>-0.29</td>\n",
       "      <td>-0.62</td>\n",
       "      <td>-0.84</td>\n",
       "      <td>-0.27</td>\n",
       "      <td>-0.04</td>\n",
       "      <td>-0.09</td>\n",
       "      <td>-0.73</td>\n",
       "      <td>-0.12</td>\n",
       "      <td>-0.67</td>\n",
       "      <td>-0.36</td>\n",
       "      <td>-0.52</td>\n",
       "      <td>-0.08</td>\n",
       "      <td>-0.10</td>\n",
       "      <td>-0.35</td>\n",
       "      <td>-0.31</td>\n",
       "      <td>-0.20</td>\n",
       "      <td>-0.08</td>\n",
       "      <td>-0.25</td>\n",
       "      <td>-0.12</td>\n",
       "      <td>-0.22</td>\n",
       "      <td>-0.10</td>\n",
       "      <td>-0.18</td>\n",
       "      <td>-0.16</td>\n",
       "      <td>-0.04</td>\n",
       "      <td>-0.08</td>\n",
       "      <td>-0.25</td>\n",
       "      <td>-0.15</td>\n",
       "      <td>-0.04</td>\n",
       "      <td>-0.04</td>\n",
       "      <td>-0.40</td>\n",
       "      <td>-0.16</td>\n",
       "      <td>-0.63</td>\n",
       "      <td>-0.10</td>\n",
       "      <td>-0.10</td>\n",
       "      <td>-1.11</td>\n",
       "      <td>-2.27</td>\n",
       "    </tr>\n",
       "    <tr>\n",
       "      <th>25%</th>\n",
       "      <td>-0.50</td>\n",
       "      <td>-0.39</td>\n",
       "      <td>-0.32</td>\n",
       "      <td>-0.29</td>\n",
       "      <td>-0.21</td>\n",
       "      <td>-0.18</td>\n",
       "      <td>-0.40</td>\n",
       "      <td>-0.20</td>\n",
       "      <td>-0.26</td>\n",
       "      <td>-0.27</td>\n",
       "      <td>-0.90</td>\n",
       "      <td>-0.89</td>\n",
       "      <td>-0.05</td>\n",
       "      <td>-1.08</td>\n",
       "      <td>-0.12</td>\n",
       "      <td>-0.04</td>\n",
       "      <td>-0.13</td>\n",
       "      <td>-0.05</td>\n",
       "      <td>-0.55</td>\n",
       "      <td>-0.28</td>\n",
       "      <td>-1.44</td>\n",
       "      <td>-0.32</td>\n",
       "      <td>0.32</td>\n",
       "      <td>-0.43</td>\n",
       "      <td>-0.29</td>\n",
       "      <td>-0.62</td>\n",
       "      <td>-0.84</td>\n",
       "      <td>-0.27</td>\n",
       "      <td>-0.04</td>\n",
       "      <td>-0.09</td>\n",
       "      <td>-0.73</td>\n",
       "      <td>-0.12</td>\n",
       "      <td>-0.67</td>\n",
       "      <td>-0.36</td>\n",
       "      <td>-0.52</td>\n",
       "      <td>-0.08</td>\n",
       "      <td>-0.10</td>\n",
       "      <td>-0.35</td>\n",
       "      <td>-0.31</td>\n",
       "      <td>-0.20</td>\n",
       "      <td>-0.08</td>\n",
       "      <td>-0.25</td>\n",
       "      <td>-0.12</td>\n",
       "      <td>-0.22</td>\n",
       "      <td>-0.10</td>\n",
       "      <td>-0.18</td>\n",
       "      <td>-0.16</td>\n",
       "      <td>-0.04</td>\n",
       "      <td>-0.08</td>\n",
       "      <td>-0.25</td>\n",
       "      <td>-0.15</td>\n",
       "      <td>-0.04</td>\n",
       "      <td>-0.04</td>\n",
       "      <td>-0.40</td>\n",
       "      <td>-0.16</td>\n",
       "      <td>-0.63</td>\n",
       "      <td>-0.10</td>\n",
       "      <td>-0.10</td>\n",
       "      <td>-1.11</td>\n",
       "      <td>0.44</td>\n",
       "    </tr>\n",
       "    <tr>\n",
       "      <th>50%</th>\n",
       "      <td>-0.50</td>\n",
       "      <td>-0.39</td>\n",
       "      <td>-0.32</td>\n",
       "      <td>-0.29</td>\n",
       "      <td>-0.21</td>\n",
       "      <td>-0.18</td>\n",
       "      <td>-0.40</td>\n",
       "      <td>-0.20</td>\n",
       "      <td>-0.26</td>\n",
       "      <td>-0.27</td>\n",
       "      <td>-0.90</td>\n",
       "      <td>-0.89</td>\n",
       "      <td>-0.05</td>\n",
       "      <td>0.92</td>\n",
       "      <td>-0.12</td>\n",
       "      <td>-0.04</td>\n",
       "      <td>-0.13</td>\n",
       "      <td>-0.05</td>\n",
       "      <td>-0.55</td>\n",
       "      <td>-0.28</td>\n",
       "      <td>0.70</td>\n",
       "      <td>-0.32</td>\n",
       "      <td>0.32</td>\n",
       "      <td>-0.43</td>\n",
       "      <td>-0.29</td>\n",
       "      <td>-0.62</td>\n",
       "      <td>-0.84</td>\n",
       "      <td>-0.27</td>\n",
       "      <td>-0.04</td>\n",
       "      <td>-0.09</td>\n",
       "      <td>-0.73</td>\n",
       "      <td>-0.12</td>\n",
       "      <td>-0.67</td>\n",
       "      <td>-0.36</td>\n",
       "      <td>-0.52</td>\n",
       "      <td>-0.08</td>\n",
       "      <td>-0.10</td>\n",
       "      <td>-0.35</td>\n",
       "      <td>-0.31</td>\n",
       "      <td>-0.20</td>\n",
       "      <td>-0.08</td>\n",
       "      <td>-0.25</td>\n",
       "      <td>-0.12</td>\n",
       "      <td>-0.22</td>\n",
       "      <td>-0.10</td>\n",
       "      <td>-0.18</td>\n",
       "      <td>-0.16</td>\n",
       "      <td>-0.04</td>\n",
       "      <td>-0.08</td>\n",
       "      <td>-0.25</td>\n",
       "      <td>-0.15</td>\n",
       "      <td>-0.04</td>\n",
       "      <td>-0.04</td>\n",
       "      <td>-0.40</td>\n",
       "      <td>-0.16</td>\n",
       "      <td>-0.63</td>\n",
       "      <td>-0.10</td>\n",
       "      <td>-0.10</td>\n",
       "      <td>0.90</td>\n",
       "      <td>0.44</td>\n",
       "    </tr>\n",
       "    <tr>\n",
       "      <th>75%</th>\n",
       "      <td>0.33</td>\n",
       "      <td>0.03</td>\n",
       "      <td>-0.32</td>\n",
       "      <td>-0.29</td>\n",
       "      <td>-0.21</td>\n",
       "      <td>-0.18</td>\n",
       "      <td>-0.40</td>\n",
       "      <td>-0.20</td>\n",
       "      <td>-0.26</td>\n",
       "      <td>-0.27</td>\n",
       "      <td>1.11</td>\n",
       "      <td>1.12</td>\n",
       "      <td>-0.05</td>\n",
       "      <td>0.92</td>\n",
       "      <td>-0.12</td>\n",
       "      <td>-0.04</td>\n",
       "      <td>-0.13</td>\n",
       "      <td>-0.05</td>\n",
       "      <td>-0.55</td>\n",
       "      <td>-0.28</td>\n",
       "      <td>0.70</td>\n",
       "      <td>-0.32</td>\n",
       "      <td>0.32</td>\n",
       "      <td>-0.43</td>\n",
       "      <td>-0.29</td>\n",
       "      <td>1.61</td>\n",
       "      <td>1.19</td>\n",
       "      <td>-0.27</td>\n",
       "      <td>-0.04</td>\n",
       "      <td>-0.09</td>\n",
       "      <td>1.36</td>\n",
       "      <td>-0.12</td>\n",
       "      <td>1.50</td>\n",
       "      <td>-0.36</td>\n",
       "      <td>-0.52</td>\n",
       "      <td>-0.08</td>\n",
       "      <td>-0.10</td>\n",
       "      <td>-0.35</td>\n",
       "      <td>-0.31</td>\n",
       "      <td>-0.20</td>\n",
       "      <td>-0.08</td>\n",
       "      <td>-0.25</td>\n",
       "      <td>-0.12</td>\n",
       "      <td>-0.22</td>\n",
       "      <td>-0.10</td>\n",
       "      <td>-0.18</td>\n",
       "      <td>-0.16</td>\n",
       "      <td>-0.04</td>\n",
       "      <td>-0.08</td>\n",
       "      <td>-0.25</td>\n",
       "      <td>-0.15</td>\n",
       "      <td>-0.04</td>\n",
       "      <td>-0.04</td>\n",
       "      <td>-0.40</td>\n",
       "      <td>-0.16</td>\n",
       "      <td>1.60</td>\n",
       "      <td>-0.10</td>\n",
       "      <td>-0.10</td>\n",
       "      <td>0.90</td>\n",
       "      <td>0.44</td>\n",
       "    </tr>\n",
       "    <tr>\n",
       "      <th>max</th>\n",
       "      <td>2.85</td>\n",
       "      <td>3.38</td>\n",
       "      <td>3.09</td>\n",
       "      <td>3.45</td>\n",
       "      <td>4.74</td>\n",
       "      <td>5.50</td>\n",
       "      <td>2.49</td>\n",
       "      <td>4.90</td>\n",
       "      <td>3.91</td>\n",
       "      <td>3.74</td>\n",
       "      <td>1.11</td>\n",
       "      <td>1.12</td>\n",
       "      <td>19.34</td>\n",
       "      <td>0.92</td>\n",
       "      <td>8.60</td>\n",
       "      <td>27.37</td>\n",
       "      <td>7.84</td>\n",
       "      <td>19.34</td>\n",
       "      <td>1.81</td>\n",
       "      <td>3.59</td>\n",
       "      <td>0.70</td>\n",
       "      <td>3.12</td>\n",
       "      <td>0.32</td>\n",
       "      <td>2.34</td>\n",
       "      <td>3.49</td>\n",
       "      <td>1.61</td>\n",
       "      <td>1.19</td>\n",
       "      <td>3.66</td>\n",
       "      <td>27.37</td>\n",
       "      <td>11.14</td>\n",
       "      <td>1.36</td>\n",
       "      <td>8.60</td>\n",
       "      <td>1.50</td>\n",
       "      <td>2.74</td>\n",
       "      <td>1.92</td>\n",
       "      <td>12.21</td>\n",
       "      <td>9.63</td>\n",
       "      <td>2.85</td>\n",
       "      <td>3.19</td>\n",
       "      <td>5.08</td>\n",
       "      <td>12.21</td>\n",
       "      <td>4.05</td>\n",
       "      <td>8.20</td>\n",
       "      <td>4.52</td>\n",
       "      <td>9.63</td>\n",
       "      <td>5.62</td>\n",
       "      <td>6.20</td>\n",
       "      <td>27.37</td>\n",
       "      <td>12.21</td>\n",
       "      <td>4.01</td>\n",
       "      <td>6.57</td>\n",
       "      <td>27.37</td>\n",
       "      <td>27.37</td>\n",
       "      <td>2.49</td>\n",
       "      <td>6.38</td>\n",
       "      <td>1.60</td>\n",
       "      <td>10.30</td>\n",
       "      <td>10.30</td>\n",
       "      <td>0.90</td>\n",
       "      <td>0.44</td>\n",
       "    </tr>\n",
       "  </tbody>\n",
       "</table>\n",
       "</div>"
      ],
      "text/plain": [
       "       age_at_release  max_sentence  ...  target_population  felony\n",
       "count          750.00        750.00  ...             750.00  750.00\n",
       "mean            -0.00          0.00  ...              -0.00   -0.00\n",
       "std              1.00          1.00  ...               1.00    1.00\n",
       "min             -1.34         -0.73  ...              -1.11   -2.27\n",
       "25%             -0.50         -0.39  ...              -1.11    0.44\n",
       "50%             -0.50         -0.39  ...               0.90    0.44\n",
       "75%              0.33          0.03  ...               0.90    0.44\n",
       "max              2.85          3.38  ...               0.90    0.44\n",
       "\n",
       "[8 rows x 60 columns]"
      ]
     },
     "execution_count": 73,
     "metadata": {},
     "output_type": "execute_result"
    }
   ],
   "source": [
    "scaler = StandardScaler()\n",
    "X_train_reg = pd.DataFrame(scaler.fit_transform(X_train_tf),\n",
    "                           columns=X_train_tf.columns, index=X_train_tf.index)\n",
    "X_test_reg = pd.DataFrame(scaler.transform(X_test_tf),\n",
    "                          columns=X_train_tf.columns, index=X_test_tf.index)\n",
    "X_train_reg.describe()"
   ]
  },
  {
   "cell_type": "code",
   "execution_count": 74,
   "metadata": {
    "ExecuteTime": {
     "end_time": "2021-07-10T21:04:58.592394Z",
     "start_time": "2021-07-10T21:04:57.831455Z"
    }
   },
   "outputs": [
    {
     "data": {
      "text/plain": [
       "1    532\n",
       "0    532\n",
       "Name: return_to_prison, dtype: int64"
      ]
     },
     "execution_count": 74,
     "metadata": {},
     "output_type": "execute_result"
    }
   ],
   "source": [
    "## Getting cat features index\n",
    "cat_col_index = [False for col in num_cols]\n",
    "cat_col_index.extend([True for col in cat_features])\n",
    "cat_col_index.extend([True for col in encoded_cols])\n",
    "\n",
    "smote = SMOTENC(cat_col_index, n_jobs=-1)\n",
    "\n",
    "X_train_reg_smote,y_train_reg_smote = smote.fit_resample(X_train_reg,y_train)\n",
    "y_train_reg_smote.value_counts()"
   ]
  },
  {
   "cell_type": "code",
   "execution_count": null,
   "metadata": {},
   "outputs": [],
   "source": []
  },
  {
   "cell_type": "code",
   "execution_count": null,
   "metadata": {},
   "outputs": [],
   "source": []
  },
  {
   "cell_type": "code",
   "execution_count": 75,
   "metadata": {
    "ExecuteTime": {
     "end_time": "2021-07-10T21:05:00.166835Z",
     "start_time": "2021-07-10T21:04:58.594986Z"
    }
   },
   "outputs": [
    {
     "name": "stdout",
     "output_type": "stream",
     "text": [
      "[17:04:59] WARNING: /Users/travis/build/dmlc/xgboost/src/learner.cc:1095: Starting in XGBoost 1.3.0, the default evaluation metric used with the objective 'binary:logistic' was changed from 'error' to 'logloss'. Explicitly set eval_metric if you'd like to restore the old behavior.\n",
      "------------------------------------------------------------\n",
      "\tCLASSIFICATION REPORT - XGBoost Random Forest\n",
      "------------------------------------------------------------\n",
      "              precision    recall  f1-score   support\n",
      "\n",
      "           0       0.78      0.60      0.68       178\n",
      "           1       0.37      0.58      0.45        72\n",
      "\n",
      "    accuracy                           0.59       250\n",
      "   macro avg       0.57      0.59      0.56       250\n",
      "weighted avg       0.66      0.59      0.61       250\n",
      "\n"
     ]
    },
    {
     "data": {
      "image/png": "[encoded data removed]",
      "text/plain": [
       "<Figure size 720x288 with 3 Axes>"
      ]
     },
     "metadata": {
      "needs_background": "light"
     },
     "output_type": "display_data"
    },
    {
     "name": "stdout",
     "output_type": "stream",
     "text": [
      "Training Score = 0.75\n",
      "Test Score = 0.59\n"
     ]
    },
    {
     "data": {
      "image/png": "[encoded data removed]",
      "text/plain": [
       "<Figure size 432x288 with 1 Axes>"
      ]
     },
     "metadata": {
      "needs_background": "light"
     },
     "output_type": "display_data"
    }
   ],
   "source": [
    "clf = XGBRFClassifier(use_label_encoder=False)#class_weight='balanced')\n",
    "clf.fit(X_train_reg_smote,y_train_reg_smote)\n",
    "\n",
    "ji.evaluate_classification(clf,X_test_reg,y_test,\n",
    "                           X_train=X_train_reg_smote,y_train=y_train_reg_smote,\n",
    "                           label='XGBoost Random Forest');\n",
    "# plt.show()\n",
    "plot_importance(clf,X_test_tf)"
   ]
  },
  {
   "cell_type": "markdown",
   "metadata": {},
   "source": [
    "# LogisticRegression"
   ]
  },
  {
   "cell_type": "code",
   "execution_count": 76,
   "metadata": {
    "ExecuteTime": {
     "end_time": "2021-07-10T21:05:00.213677Z",
     "start_time": "2021-07-10T21:05:00.169423Z"
    }
   },
   "outputs": [],
   "source": [
    "# X_train_smote.describe()"
   ]
  },
  {
   "cell_type": "code",
   "execution_count": 77,
   "metadata": {
    "ExecuteTime": {
     "end_time": "2021-07-10T21:05:00.262486Z",
     "start_time": "2021-07-10T21:05:00.216175Z"
    }
   },
   "outputs": [],
   "source": [
    "# from sklearn.preprocessing import MinMaxScaler\n",
    "# scaler = MinMaxScaler()\n",
    "# X_train_logreg = scaler.fit_transform(X_train_smote)\n",
    "# X_test_logreg = scaler.transform(X_test_tf)"
   ]
  },
  {
   "cell_type": "code",
   "execution_count": 78,
   "metadata": {
    "ExecuteTime": {
     "end_time": "2021-07-10T21:05:00.576144Z",
     "start_time": "2021-07-10T21:05:00.265451Z"
    }
   },
   "outputs": [
    {
     "name": "stderr",
     "output_type": "stream",
     "text": [
      "[Parallel(n_jobs=-1)]: Using backend LokyBackend with 12 concurrent workers.\n",
      "[Parallel(n_jobs=-1)]: Done   5 out of   5 | elapsed:    0.2s finished\n"
     ]
    },
    {
     "data": {
      "text/plain": [
       "array([0.04641589])"
      ]
     },
     "execution_count": 78,
     "metadata": {},
     "output_type": "execute_result"
    }
   ],
   "source": [
    "logregCV = LogisticRegressionCV( scoring='recall',n_jobs=-1,verbose=True)#,penalty='l1',cv=3,\n",
    "#                                 solver='liblinear',max_iter=250,n_jobs=-1)\n",
    "\n",
    "logregCV.fit(X_train_reg_smote,y_train_reg_smote)\n",
    "logregCV.C_"
   ]
  },
  {
   "cell_type": "code",
   "execution_count": 79,
   "metadata": {
    "ExecuteTime": {
     "end_time": "2021-07-10T21:05:01.212788Z",
     "start_time": "2021-07-10T21:05:00.579516Z"
    },
    "scrolled": false
   },
   "outputs": [
    {
     "name": "stdout",
     "output_type": "stream",
     "text": [
      "------------------------------------------------------------\n",
      "\tCLASSIFICATION REPORT - Logistic Regression CV\n",
      "------------------------------------------------------------\n",
      "              precision    recall  f1-score   support\n",
      "\n",
      "           0       0.77      0.74      0.75       178\n",
      "           1       0.41      0.44      0.43        72\n",
      "\n",
      "    accuracy                           0.66       250\n",
      "   macro avg       0.59      0.59      0.59       250\n",
      "weighted avg       0.66      0.66      0.66       250\n",
      "\n"
     ]
    },
    {
     "data": {
      "image/png": "[encoded data removed]",
      "text/plain": [
       "<Figure size 720x288 with 3 Axes>"
      ]
     },
     "metadata": {
      "needs_background": "light"
     },
     "output_type": "display_data"
    },
    {
     "name": "stdout",
     "output_type": "stream",
     "text": [
      "Training Score = 0.75\n",
      "Test Score = 0.44\n"
     ]
    }
   ],
   "source": [
    "ji.evaluate_classification(logregCV,X_test_reg,y_test,  \n",
    "                           X_train=X_train_reg_smote,y_train=y_train_reg_smote,\n",
    "                           label='Logistic Regression CV')"
   ]
  },
  {
   "cell_type": "markdown",
   "metadata": {},
   "source": [
    "### SVC"
   ]
  },
  {
   "cell_type": "code",
   "execution_count": 80,
   "metadata": {
    "ExecuteTime": {
     "end_time": "2021-07-10T21:05:02.064190Z",
     "start_time": "2021-07-10T21:05:01.215808Z"
    }
   },
   "outputs": [
    {
     "name": "stdout",
     "output_type": "stream",
     "text": [
      "------------------------------------------------------------\n",
      "\tCLASSIFICATION REPORT - LinearSVC\n",
      "------------------------------------------------------------\n",
      "              precision    recall  f1-score   support\n",
      "\n",
      "           0       0.76      0.75      0.76       178\n",
      "           1       0.41      0.42      0.41        72\n",
      "\n",
      "    accuracy                           0.66       250\n",
      "   macro avg       0.58      0.58      0.58       250\n",
      "weighted avg       0.66      0.66      0.66       250\n",
      "\n"
     ]
    },
    {
     "data": {
      "image/png": "[encoded data removed]",
      "text/plain": [
       "<Figure size 720x288 with 3 Axes>"
      ]
     },
     "metadata": {
      "needs_background": "light"
     },
     "output_type": "display_data"
    },
    {
     "name": "stdout",
     "output_type": "stream",
     "text": [
      "Training Score = 0.72\n",
      "Test Score = 0.66\n"
     ]
    }
   ],
   "source": [
    "from sklearn.svm import LinearSVC\n",
    "clf = LinearSVC(penalty='l1',C=0.1,dual=False,max_iter=10000)\n",
    "clf.fit(X_train_reg_smote,y_train_reg_smote)\n",
    "\n",
    "ji.evaluate_classification(clf,X_test_reg,y_test,\n",
    "                           X_train=X_train_reg_smote,y_train=y_train_reg_smote,\n",
    "                           label='LinearSVC');\n",
    "# plt.show()"
   ]
  },
  {
   "cell_type": "code",
   "execution_count": 81,
   "metadata": {
    "ExecuteTime": {
     "end_time": "2021-07-10T21:05:02.900208Z",
     "start_time": "2021-07-10T21:05:02.067548Z"
    }
   },
   "outputs": [
    {
     "name": "stdout",
     "output_type": "stream",
     "text": [
      "------------------------------------------------------------\n",
      "\tCLASSIFICATION REPORT - LinearSVC\n",
      "------------------------------------------------------------\n",
      "              precision    recall  f1-score   support\n",
      "\n",
      "           0       0.77      0.71      0.74       178\n",
      "           1       0.41      0.49      0.44        72\n",
      "\n",
      "    accuracy                           0.65       250\n",
      "   macro avg       0.59      0.60      0.59       250\n",
      "weighted avg       0.67      0.65      0.66       250\n",
      "\n"
     ]
    },
    {
     "data": {
      "image/png": "[encoded data removed]",
      "text/plain": [
       "<Figure size 720x288 with 3 Axes>"
      ]
     },
     "metadata": {
      "needs_background": "light"
     },
     "output_type": "display_data"
    },
    {
     "name": "stdout",
     "output_type": "stream",
     "text": [
      "Training Score = 0.83\n",
      "Test Score = 0.65\n"
     ]
    }
   ],
   "source": [
    "from sklearn.neighbors import KNeighborsClassifier\n",
    "\n",
    "\n",
    "clf = KNeighborsClassifier()\n",
    "clf.fit(X_train_reg_smote,y_train_reg_smote)\n",
    "\n",
    "ji.evaluate_classification(clf,X_test_reg,y_test,\n",
    "                           X_train=X_train_reg_smote,y_train=y_train_reg_smote,\n",
    "                           label='LinearSVC');\n",
    "# plt.show()"
   ]
  },
  {
   "cell_type": "code",
   "execution_count": 82,
   "metadata": {
    "ExecuteTime": {
     "end_time": "2021-07-10T21:05:03.934803Z",
     "start_time": "2021-07-10T21:05:02.903417Z"
    }
   },
   "outputs": [
    {
     "name": "stdout",
     "output_type": "stream",
     "text": [
      "Fitting 3 folds for each of 8 candidates, totalling 24 fits\n",
      "{'n_neighbors': 4, 'p': 1}\n",
      "0.7512037821650823\n",
      "------------------------------------------------------------\n",
      "\tCLASSIFICATION REPORT - Test Data\n",
      "------------------------------------------------------------\n",
      "              precision    recall  f1-score   support\n",
      "\n",
      "           0       0.80      0.84      0.82       178\n",
      "           1       0.55      0.47      0.51        72\n",
      "\n",
      "    accuracy                           0.74       250\n",
      "   macro avg       0.67      0.66      0.66       250\n",
      "weighted avg       0.73      0.74      0.73       250\n",
      "\n"
     ]
    },
    {
     "data": {
      "image/png": "[encoded data removed]",
      "text/plain": [
       "<Figure size 720x288 with 3 Axes>"
      ]
     },
     "metadata": {
      "needs_background": "light"
     },
     "output_type": "display_data"
    },
    {
     "name": "stdout",
     "output_type": "stream",
     "text": [
      "Training Score = 0.85\n",
      "Test Score = 0.74\n"
     ]
    }
   ],
   "source": [
    "params = {'n_neighbors':[3,4,5,7],\n",
    "          'p':[1,2]\n",
    "         }\n",
    "\n",
    "clf = KNeighborsClassifier()\n",
    "\n",
    "\n",
    "grid = GridSearchCV(clf,params,scoring='f1', cv=3,\n",
    "                    n_jobs=-1,verbose=True)\n",
    "grid.fit(X_train_reg_smote,y_train_reg_smote)\n",
    "\n",
    "\n",
    "print(grid.best_params_)\n",
    "print(grid.best_score_)\n",
    "ji.evaluate_classification(grid.best_estimator_,X_test_reg,y_test,\n",
    "                           X_train=X_train_reg_smote,y_train=y_train_reg_smote)"
   ]
  },
  {
   "cell_type": "code",
   "execution_count": 83,
   "metadata": {
    "ExecuteTime": {
     "end_time": "2021-07-10T21:05:03.981945Z",
     "start_time": "2021-07-10T21:05:03.937190Z"
    }
   },
   "outputs": [],
   "source": [
    "# def get_coeffs(logregCV, X_train_smote,):\n",
    "#     coeffs = pd.Series(logregCV.coef_[0],index=X_train_smote.columns)\n",
    "#     coeffs['Intercept'] = logregCV.intercept_\n",
    "#     coeffs = coeffs.astype(float)\n",
    "#     return coeffs\n",
    "\n",
    "# coeffs = get_coeffs(logregCV,X_train_smote)\n",
    "# coeffs.sort_values().plot(kind='barh',figsize=(5,10))"
   ]
  },
  {
   "cell_type": "code",
   "execution_count": 84,
   "metadata": {
    "ExecuteTime": {
     "end_time": "2021-07-10T21:05:04.029391Z",
     "start_time": "2021-07-10T21:05:03.984259Z"
    }
   },
   "outputs": [],
   "source": [
    "# logregCV.C_, logregCV."
   ]
  },
  {
   "cell_type": "markdown",
   "metadata": {},
   "source": [
    "### Catboost"
   ]
  },
  {
   "cell_type": "code",
   "execution_count": null,
   "metadata": {
    "ExecuteTime": {
     "end_time": "2021-07-10T20:50:33.143060Z",
     "start_time": "2021-07-10T20:50:33.105368Z"
    }
   },
   "outputs": [],
   "source": []
  },
  {
   "cell_type": "code",
   "execution_count": 85,
   "metadata": {
    "ExecuteTime": {
     "end_time": "2021-07-10T21:05:04.164794Z",
     "start_time": "2021-07-10T21:05:04.032246Z"
    }
   },
   "outputs": [
    {
     "data": {
      "text/html": [
       "<div>\n",
       "<style scoped>\n",
       "    .dataframe tbody tr th:only-of-type {\n",
       "        vertical-align: middle;\n",
       "    }\n",
       "\n",
       "    .dataframe tbody tr th {\n",
       "        vertical-align: top;\n",
       "    }\n",
       "\n",
       "    .dataframe thead th {\n",
       "        text-align: right;\n",
       "    }\n",
       "</style>\n",
       "<table border=\"1\" class=\"dataframe\">\n",
       "  <thead>\n",
       "    <tr style=\"text-align: right;\">\n",
       "      <th></th>\n",
       "      <th>age_at_release</th>\n",
       "      <th>max_sentence</th>\n",
       "      <th>main_supervising_district_1JD</th>\n",
       "      <th>main_supervising_district_2JD</th>\n",
       "      <th>main_supervising_district_3JD</th>\n",
       "      <th>main_supervising_district_4JD</th>\n",
       "      <th>main_supervising_district_5JD</th>\n",
       "      <th>main_supervising_district_6JD</th>\n",
       "      <th>main_supervising_district_7JD</th>\n",
       "      <th>main_supervising_district_8JD</th>\n",
       "      <th>main_supervising_district_MISSING</th>\n",
       "      <th>release_type_Discharged – End of Sentence</th>\n",
       "      <th>release_type_MISSING</th>\n",
       "      <th>release_type_Parole</th>\n",
       "      <th>release_type_Special Sentence</th>\n",
       "      <th>race_ethnicity_American Indian or Alaska Native - Hispanic</th>\n",
       "      <th>race_ethnicity_American Indian or Alaska Native - Non-Hispanic</th>\n",
       "      <th>race_ethnicity_Asian or Pacific Islander - Non-Hispanic</th>\n",
       "      <th>race_ethnicity_Black - Non-Hispanic</th>\n",
       "      <th>race_ethnicity_White - Hispanic</th>\n",
       "      <th>race_ethnicity_White - Non-Hispanic</th>\n",
       "      <th>sex_Female</th>\n",
       "      <th>sex_Male</th>\n",
       "      <th>offense_class_Aggravated Misdemeanor</th>\n",
       "      <th>offense_class_B Felony</th>\n",
       "      <th>offense_class_C Felony</th>\n",
       "      <th>offense_class_D Felony</th>\n",
       "      <th>offense_class_Felony - Enhanced</th>\n",
       "      <th>offense_class_Other Felony</th>\n",
       "      <th>offense_class_Serious Misdemeanor</th>\n",
       "      <th>offense_type_Drug</th>\n",
       "      <th>offense_type_Other</th>\n",
       "      <th>offense_type_Property</th>\n",
       "      <th>offense_type_Public Order</th>\n",
       "      <th>offense_type_Violent</th>\n",
       "      <th>offense_subtype_Alcohol</th>\n",
       "      <th>offense_subtype_Arson</th>\n",
       "      <th>offense_subtype_Assault</th>\n",
       "      <th>offense_subtype_Burglary</th>\n",
       "      <th>offense_subtype_Drug Possession</th>\n",
       "      <th>offense_subtype_Flight/Escape</th>\n",
       "      <th>offense_subtype_Forgery/Fraud</th>\n",
       "      <th>offense_subtype_Murder/Manslaughter</th>\n",
       "      <th>offense_subtype_OWI</th>\n",
       "      <th>offense_subtype_Other Criminal</th>\n",
       "      <th>offense_subtype_Other Drug</th>\n",
       "      <th>offense_subtype_Other Violent</th>\n",
       "      <th>offense_subtype_Prostitution/Pimping</th>\n",
       "      <th>offense_subtype_Robbery</th>\n",
       "      <th>offense_subtype_Sex</th>\n",
       "      <th>offense_subtype_Sex Offender Registry/Residency</th>\n",
       "      <th>offense_subtype_Special Sentence Revocation</th>\n",
       "      <th>offense_subtype_Stolen Property</th>\n",
       "      <th>offense_subtype_Theft</th>\n",
       "      <th>offense_subtype_Traffic</th>\n",
       "      <th>offense_subtype_Trafficking</th>\n",
       "      <th>offense_subtype_Vandalism</th>\n",
       "      <th>offense_subtype_Weapons</th>\n",
       "      <th>target_population</th>\n",
       "      <th>felony</th>\n",
       "    </tr>\n",
       "  </thead>\n",
       "  <tbody>\n",
       "    <tr>\n",
       "      <th>575</th>\n",
       "      <td>30</td>\n",
       "      <td>10</td>\n",
       "      <td>0</td>\n",
       "      <td>0</td>\n",
       "      <td>0</td>\n",
       "      <td>0</td>\n",
       "      <td>0</td>\n",
       "      <td>0</td>\n",
       "      <td>0</td>\n",
       "      <td>0</td>\n",
       "      <td>1</td>\n",
       "      <td>1</td>\n",
       "      <td>0</td>\n",
       "      <td>0</td>\n",
       "      <td>0</td>\n",
       "      <td>0</td>\n",
       "      <td>0</td>\n",
       "      <td>0</td>\n",
       "      <td>1</td>\n",
       "      <td>0</td>\n",
       "      <td>0</td>\n",
       "      <td>0</td>\n",
       "      <td>1</td>\n",
       "      <td>0</td>\n",
       "      <td>0</td>\n",
       "      <td>1</td>\n",
       "      <td>0</td>\n",
       "      <td>0</td>\n",
       "      <td>0</td>\n",
       "      <td>0</td>\n",
       "      <td>1</td>\n",
       "      <td>0</td>\n",
       "      <td>0</td>\n",
       "      <td>0</td>\n",
       "      <td>0</td>\n",
       "      <td>0</td>\n",
       "      <td>0</td>\n",
       "      <td>0</td>\n",
       "      <td>0</td>\n",
       "      <td>0</td>\n",
       "      <td>0</td>\n",
       "      <td>0</td>\n",
       "      <td>0</td>\n",
       "      <td>0</td>\n",
       "      <td>0</td>\n",
       "      <td>0</td>\n",
       "      <td>0</td>\n",
       "      <td>0</td>\n",
       "      <td>0</td>\n",
       "      <td>0</td>\n",
       "      <td>0</td>\n",
       "      <td>0</td>\n",
       "      <td>0</td>\n",
       "      <td>0</td>\n",
       "      <td>0</td>\n",
       "      <td>1</td>\n",
       "      <td>0</td>\n",
       "      <td>0</td>\n",
       "      <td>0</td>\n",
       "      <td>1</td>\n",
       "    </tr>\n",
       "    <tr>\n",
       "      <th>839</th>\n",
       "      <td>20</td>\n",
       "      <td>10</td>\n",
       "      <td>0</td>\n",
       "      <td>0</td>\n",
       "      <td>0</td>\n",
       "      <td>0</td>\n",
       "      <td>0</td>\n",
       "      <td>0</td>\n",
       "      <td>1</td>\n",
       "      <td>0</td>\n",
       "      <td>0</td>\n",
       "      <td>0</td>\n",
       "      <td>0</td>\n",
       "      <td>1</td>\n",
       "      <td>0</td>\n",
       "      <td>0</td>\n",
       "      <td>0</td>\n",
       "      <td>0</td>\n",
       "      <td>0</td>\n",
       "      <td>0</td>\n",
       "      <td>1</td>\n",
       "      <td>0</td>\n",
       "      <td>1</td>\n",
       "      <td>0</td>\n",
       "      <td>0</td>\n",
       "      <td>1</td>\n",
       "      <td>0</td>\n",
       "      <td>0</td>\n",
       "      <td>0</td>\n",
       "      <td>0</td>\n",
       "      <td>0</td>\n",
       "      <td>0</td>\n",
       "      <td>1</td>\n",
       "      <td>0</td>\n",
       "      <td>0</td>\n",
       "      <td>0</td>\n",
       "      <td>0</td>\n",
       "      <td>0</td>\n",
       "      <td>0</td>\n",
       "      <td>0</td>\n",
       "      <td>0</td>\n",
       "      <td>0</td>\n",
       "      <td>0</td>\n",
       "      <td>0</td>\n",
       "      <td>0</td>\n",
       "      <td>0</td>\n",
       "      <td>0</td>\n",
       "      <td>0</td>\n",
       "      <td>0</td>\n",
       "      <td>0</td>\n",
       "      <td>0</td>\n",
       "      <td>0</td>\n",
       "      <td>0</td>\n",
       "      <td>0</td>\n",
       "      <td>0</td>\n",
       "      <td>0</td>\n",
       "      <td>1</td>\n",
       "      <td>0</td>\n",
       "      <td>1</td>\n",
       "      <td>1</td>\n",
       "    </tr>\n",
       "    <tr>\n",
       "      <th>370</th>\n",
       "      <td>40</td>\n",
       "      <td>5</td>\n",
       "      <td>0</td>\n",
       "      <td>0</td>\n",
       "      <td>0</td>\n",
       "      <td>0</td>\n",
       "      <td>0</td>\n",
       "      <td>0</td>\n",
       "      <td>0</td>\n",
       "      <td>0</td>\n",
       "      <td>1</td>\n",
       "      <td>1</td>\n",
       "      <td>0</td>\n",
       "      <td>0</td>\n",
       "      <td>0</td>\n",
       "      <td>0</td>\n",
       "      <td>0</td>\n",
       "      <td>0</td>\n",
       "      <td>0</td>\n",
       "      <td>0</td>\n",
       "      <td>1</td>\n",
       "      <td>0</td>\n",
       "      <td>1</td>\n",
       "      <td>0</td>\n",
       "      <td>0</td>\n",
       "      <td>0</td>\n",
       "      <td>1</td>\n",
       "      <td>0</td>\n",
       "      <td>0</td>\n",
       "      <td>0</td>\n",
       "      <td>0</td>\n",
       "      <td>0</td>\n",
       "      <td>1</td>\n",
       "      <td>0</td>\n",
       "      <td>0</td>\n",
       "      <td>0</td>\n",
       "      <td>0</td>\n",
       "      <td>0</td>\n",
       "      <td>1</td>\n",
       "      <td>0</td>\n",
       "      <td>0</td>\n",
       "      <td>0</td>\n",
       "      <td>0</td>\n",
       "      <td>0</td>\n",
       "      <td>0</td>\n",
       "      <td>0</td>\n",
       "      <td>0</td>\n",
       "      <td>0</td>\n",
       "      <td>0</td>\n",
       "      <td>0</td>\n",
       "      <td>0</td>\n",
       "      <td>0</td>\n",
       "      <td>0</td>\n",
       "      <td>0</td>\n",
       "      <td>0</td>\n",
       "      <td>0</td>\n",
       "      <td>0</td>\n",
       "      <td>0</td>\n",
       "      <td>0</td>\n",
       "      <td>1</td>\n",
       "    </tr>\n",
       "    <tr>\n",
       "      <th>3</th>\n",
       "      <td>30</td>\n",
       "      <td>50</td>\n",
       "      <td>0</td>\n",
       "      <td>0</td>\n",
       "      <td>0</td>\n",
       "      <td>0</td>\n",
       "      <td>0</td>\n",
       "      <td>1</td>\n",
       "      <td>0</td>\n",
       "      <td>0</td>\n",
       "      <td>0</td>\n",
       "      <td>0</td>\n",
       "      <td>0</td>\n",
       "      <td>1</td>\n",
       "      <td>0</td>\n",
       "      <td>0</td>\n",
       "      <td>0</td>\n",
       "      <td>0</td>\n",
       "      <td>0</td>\n",
       "      <td>0</td>\n",
       "      <td>1</td>\n",
       "      <td>0</td>\n",
       "      <td>1</td>\n",
       "      <td>0</td>\n",
       "      <td>1</td>\n",
       "      <td>0</td>\n",
       "      <td>0</td>\n",
       "      <td>0</td>\n",
       "      <td>0</td>\n",
       "      <td>0</td>\n",
       "      <td>0</td>\n",
       "      <td>1</td>\n",
       "      <td>0</td>\n",
       "      <td>0</td>\n",
       "      <td>0</td>\n",
       "      <td>0</td>\n",
       "      <td>0</td>\n",
       "      <td>0</td>\n",
       "      <td>0</td>\n",
       "      <td>0</td>\n",
       "      <td>0</td>\n",
       "      <td>0</td>\n",
       "      <td>0</td>\n",
       "      <td>0</td>\n",
       "      <td>1</td>\n",
       "      <td>0</td>\n",
       "      <td>0</td>\n",
       "      <td>0</td>\n",
       "      <td>0</td>\n",
       "      <td>0</td>\n",
       "      <td>0</td>\n",
       "      <td>0</td>\n",
       "      <td>0</td>\n",
       "      <td>0</td>\n",
       "      <td>0</td>\n",
       "      <td>0</td>\n",
       "      <td>0</td>\n",
       "      <td>0</td>\n",
       "      <td>1</td>\n",
       "      <td>1</td>\n",
       "    </tr>\n",
       "    <tr>\n",
       "      <th>112</th>\n",
       "      <td>40</td>\n",
       "      <td>5</td>\n",
       "      <td>0</td>\n",
       "      <td>0</td>\n",
       "      <td>0</td>\n",
       "      <td>0</td>\n",
       "      <td>1</td>\n",
       "      <td>0</td>\n",
       "      <td>0</td>\n",
       "      <td>0</td>\n",
       "      <td>0</td>\n",
       "      <td>0</td>\n",
       "      <td>0</td>\n",
       "      <td>1</td>\n",
       "      <td>0</td>\n",
       "      <td>0</td>\n",
       "      <td>0</td>\n",
       "      <td>0</td>\n",
       "      <td>0</td>\n",
       "      <td>0</td>\n",
       "      <td>1</td>\n",
       "      <td>1</td>\n",
       "      <td>0</td>\n",
       "      <td>0</td>\n",
       "      <td>0</td>\n",
       "      <td>0</td>\n",
       "      <td>1</td>\n",
       "      <td>0</td>\n",
       "      <td>0</td>\n",
       "      <td>0</td>\n",
       "      <td>0</td>\n",
       "      <td>0</td>\n",
       "      <td>1</td>\n",
       "      <td>0</td>\n",
       "      <td>0</td>\n",
       "      <td>0</td>\n",
       "      <td>0</td>\n",
       "      <td>0</td>\n",
       "      <td>0</td>\n",
       "      <td>0</td>\n",
       "      <td>0</td>\n",
       "      <td>1</td>\n",
       "      <td>0</td>\n",
       "      <td>0</td>\n",
       "      <td>0</td>\n",
       "      <td>0</td>\n",
       "      <td>0</td>\n",
       "      <td>0</td>\n",
       "      <td>0</td>\n",
       "      <td>0</td>\n",
       "      <td>0</td>\n",
       "      <td>0</td>\n",
       "      <td>0</td>\n",
       "      <td>0</td>\n",
       "      <td>0</td>\n",
       "      <td>0</td>\n",
       "      <td>0</td>\n",
       "      <td>0</td>\n",
       "      <td>1</td>\n",
       "      <td>1</td>\n",
       "    </tr>\n",
       "    <tr>\n",
       "      <th>...</th>\n",
       "      <td>...</td>\n",
       "      <td>...</td>\n",
       "      <td>...</td>\n",
       "      <td>...</td>\n",
       "      <td>...</td>\n",
       "      <td>...</td>\n",
       "      <td>...</td>\n",
       "      <td>...</td>\n",
       "      <td>...</td>\n",
       "      <td>...</td>\n",
       "      <td>...</td>\n",
       "      <td>...</td>\n",
       "      <td>...</td>\n",
       "      <td>...</td>\n",
       "      <td>...</td>\n",
       "      <td>...</td>\n",
       "      <td>...</td>\n",
       "      <td>...</td>\n",
       "      <td>...</td>\n",
       "      <td>...</td>\n",
       "      <td>...</td>\n",
       "      <td>...</td>\n",
       "      <td>...</td>\n",
       "      <td>...</td>\n",
       "      <td>...</td>\n",
       "      <td>...</td>\n",
       "      <td>...</td>\n",
       "      <td>...</td>\n",
       "      <td>...</td>\n",
       "      <td>...</td>\n",
       "      <td>...</td>\n",
       "      <td>...</td>\n",
       "      <td>...</td>\n",
       "      <td>...</td>\n",
       "      <td>...</td>\n",
       "      <td>...</td>\n",
       "      <td>...</td>\n",
       "      <td>...</td>\n",
       "      <td>...</td>\n",
       "      <td>...</td>\n",
       "      <td>...</td>\n",
       "      <td>...</td>\n",
       "      <td>...</td>\n",
       "      <td>...</td>\n",
       "      <td>...</td>\n",
       "      <td>...</td>\n",
       "      <td>...</td>\n",
       "      <td>...</td>\n",
       "      <td>...</td>\n",
       "      <td>...</td>\n",
       "      <td>...</td>\n",
       "      <td>...</td>\n",
       "      <td>...</td>\n",
       "      <td>...</td>\n",
       "      <td>...</td>\n",
       "      <td>...</td>\n",
       "      <td>...</td>\n",
       "      <td>...</td>\n",
       "      <td>...</td>\n",
       "      <td>...</td>\n",
       "    </tr>\n",
       "    <tr>\n",
       "      <th>271</th>\n",
       "      <td>30</td>\n",
       "      <td>2</td>\n",
       "      <td>0</td>\n",
       "      <td>0</td>\n",
       "      <td>0</td>\n",
       "      <td>0</td>\n",
       "      <td>0</td>\n",
       "      <td>0</td>\n",
       "      <td>0</td>\n",
       "      <td>0</td>\n",
       "      <td>1</td>\n",
       "      <td>1</td>\n",
       "      <td>0</td>\n",
       "      <td>0</td>\n",
       "      <td>0</td>\n",
       "      <td>0</td>\n",
       "      <td>0</td>\n",
       "      <td>0</td>\n",
       "      <td>0</td>\n",
       "      <td>0</td>\n",
       "      <td>1</td>\n",
       "      <td>0</td>\n",
       "      <td>1</td>\n",
       "      <td>1</td>\n",
       "      <td>0</td>\n",
       "      <td>0</td>\n",
       "      <td>0</td>\n",
       "      <td>0</td>\n",
       "      <td>0</td>\n",
       "      <td>0</td>\n",
       "      <td>0</td>\n",
       "      <td>0</td>\n",
       "      <td>0</td>\n",
       "      <td>0</td>\n",
       "      <td>1</td>\n",
       "      <td>0</td>\n",
       "      <td>0</td>\n",
       "      <td>1</td>\n",
       "      <td>0</td>\n",
       "      <td>0</td>\n",
       "      <td>0</td>\n",
       "      <td>0</td>\n",
       "      <td>0</td>\n",
       "      <td>0</td>\n",
       "      <td>0</td>\n",
       "      <td>0</td>\n",
       "      <td>0</td>\n",
       "      <td>0</td>\n",
       "      <td>0</td>\n",
       "      <td>0</td>\n",
       "      <td>0</td>\n",
       "      <td>0</td>\n",
       "      <td>0</td>\n",
       "      <td>0</td>\n",
       "      <td>0</td>\n",
       "      <td>0</td>\n",
       "      <td>0</td>\n",
       "      <td>0</td>\n",
       "      <td>0</td>\n",
       "      <td>0</td>\n",
       "    </tr>\n",
       "    <tr>\n",
       "      <th>765</th>\n",
       "      <td>50</td>\n",
       "      <td>10</td>\n",
       "      <td>0</td>\n",
       "      <td>0</td>\n",
       "      <td>0</td>\n",
       "      <td>0</td>\n",
       "      <td>0</td>\n",
       "      <td>0</td>\n",
       "      <td>0</td>\n",
       "      <td>0</td>\n",
       "      <td>1</td>\n",
       "      <td>1</td>\n",
       "      <td>0</td>\n",
       "      <td>0</td>\n",
       "      <td>0</td>\n",
       "      <td>0</td>\n",
       "      <td>0</td>\n",
       "      <td>0</td>\n",
       "      <td>0</td>\n",
       "      <td>0</td>\n",
       "      <td>1</td>\n",
       "      <td>0</td>\n",
       "      <td>1</td>\n",
       "      <td>0</td>\n",
       "      <td>0</td>\n",
       "      <td>1</td>\n",
       "      <td>0</td>\n",
       "      <td>0</td>\n",
       "      <td>0</td>\n",
       "      <td>0</td>\n",
       "      <td>0</td>\n",
       "      <td>0</td>\n",
       "      <td>0</td>\n",
       "      <td>0</td>\n",
       "      <td>1</td>\n",
       "      <td>0</td>\n",
       "      <td>0</td>\n",
       "      <td>0</td>\n",
       "      <td>0</td>\n",
       "      <td>0</td>\n",
       "      <td>0</td>\n",
       "      <td>0</td>\n",
       "      <td>0</td>\n",
       "      <td>0</td>\n",
       "      <td>0</td>\n",
       "      <td>0</td>\n",
       "      <td>0</td>\n",
       "      <td>0</td>\n",
       "      <td>0</td>\n",
       "      <td>1</td>\n",
       "      <td>0</td>\n",
       "      <td>0</td>\n",
       "      <td>0</td>\n",
       "      <td>0</td>\n",
       "      <td>0</td>\n",
       "      <td>0</td>\n",
       "      <td>0</td>\n",
       "      <td>0</td>\n",
       "      <td>0</td>\n",
       "      <td>1</td>\n",
       "    </tr>\n",
       "    <tr>\n",
       "      <th>860</th>\n",
       "      <td>40</td>\n",
       "      <td>10</td>\n",
       "      <td>0</td>\n",
       "      <td>0</td>\n",
       "      <td>0</td>\n",
       "      <td>0</td>\n",
       "      <td>1</td>\n",
       "      <td>0</td>\n",
       "      <td>0</td>\n",
       "      <td>0</td>\n",
       "      <td>0</td>\n",
       "      <td>0</td>\n",
       "      <td>0</td>\n",
       "      <td>1</td>\n",
       "      <td>0</td>\n",
       "      <td>0</td>\n",
       "      <td>0</td>\n",
       "      <td>0</td>\n",
       "      <td>0</td>\n",
       "      <td>0</td>\n",
       "      <td>1</td>\n",
       "      <td>0</td>\n",
       "      <td>1</td>\n",
       "      <td>0</td>\n",
       "      <td>0</td>\n",
       "      <td>1</td>\n",
       "      <td>0</td>\n",
       "      <td>0</td>\n",
       "      <td>0</td>\n",
       "      <td>0</td>\n",
       "      <td>0</td>\n",
       "      <td>0</td>\n",
       "      <td>0</td>\n",
       "      <td>0</td>\n",
       "      <td>1</td>\n",
       "      <td>0</td>\n",
       "      <td>0</td>\n",
       "      <td>0</td>\n",
       "      <td>0</td>\n",
       "      <td>0</td>\n",
       "      <td>0</td>\n",
       "      <td>0</td>\n",
       "      <td>1</td>\n",
       "      <td>0</td>\n",
       "      <td>0</td>\n",
       "      <td>0</td>\n",
       "      <td>0</td>\n",
       "      <td>0</td>\n",
       "      <td>0</td>\n",
       "      <td>0</td>\n",
       "      <td>0</td>\n",
       "      <td>0</td>\n",
       "      <td>0</td>\n",
       "      <td>0</td>\n",
       "      <td>0</td>\n",
       "      <td>0</td>\n",
       "      <td>0</td>\n",
       "      <td>0</td>\n",
       "      <td>1</td>\n",
       "      <td>1</td>\n",
       "    </tr>\n",
       "    <tr>\n",
       "      <th>562</th>\n",
       "      <td>70</td>\n",
       "      <td>2</td>\n",
       "      <td>0</td>\n",
       "      <td>0</td>\n",
       "      <td>0</td>\n",
       "      <td>0</td>\n",
       "      <td>0</td>\n",
       "      <td>0</td>\n",
       "      <td>0</td>\n",
       "      <td>0</td>\n",
       "      <td>1</td>\n",
       "      <td>1</td>\n",
       "      <td>0</td>\n",
       "      <td>0</td>\n",
       "      <td>0</td>\n",
       "      <td>0</td>\n",
       "      <td>0</td>\n",
       "      <td>0</td>\n",
       "      <td>0</td>\n",
       "      <td>0</td>\n",
       "      <td>1</td>\n",
       "      <td>0</td>\n",
       "      <td>1</td>\n",
       "      <td>1</td>\n",
       "      <td>0</td>\n",
       "      <td>0</td>\n",
       "      <td>0</td>\n",
       "      <td>0</td>\n",
       "      <td>0</td>\n",
       "      <td>0</td>\n",
       "      <td>0</td>\n",
       "      <td>0</td>\n",
       "      <td>1</td>\n",
       "      <td>0</td>\n",
       "      <td>0</td>\n",
       "      <td>0</td>\n",
       "      <td>0</td>\n",
       "      <td>0</td>\n",
       "      <td>1</td>\n",
       "      <td>0</td>\n",
       "      <td>0</td>\n",
       "      <td>0</td>\n",
       "      <td>0</td>\n",
       "      <td>0</td>\n",
       "      <td>0</td>\n",
       "      <td>0</td>\n",
       "      <td>0</td>\n",
       "      <td>0</td>\n",
       "      <td>0</td>\n",
       "      <td>0</td>\n",
       "      <td>0</td>\n",
       "      <td>0</td>\n",
       "      <td>0</td>\n",
       "      <td>0</td>\n",
       "      <td>0</td>\n",
       "      <td>0</td>\n",
       "      <td>0</td>\n",
       "      <td>0</td>\n",
       "      <td>0</td>\n",
       "      <td>0</td>\n",
       "    </tr>\n",
       "    <tr>\n",
       "      <th>21</th>\n",
       "      <td>40</td>\n",
       "      <td>5</td>\n",
       "      <td>0</td>\n",
       "      <td>0</td>\n",
       "      <td>0</td>\n",
       "      <td>0</td>\n",
       "      <td>0</td>\n",
       "      <td>1</td>\n",
       "      <td>0</td>\n",
       "      <td>0</td>\n",
       "      <td>0</td>\n",
       "      <td>0</td>\n",
       "      <td>0</td>\n",
       "      <td>1</td>\n",
       "      <td>0</td>\n",
       "      <td>0</td>\n",
       "      <td>0</td>\n",
       "      <td>0</td>\n",
       "      <td>0</td>\n",
       "      <td>0</td>\n",
       "      <td>1</td>\n",
       "      <td>0</td>\n",
       "      <td>1</td>\n",
       "      <td>0</td>\n",
       "      <td>0</td>\n",
       "      <td>0</td>\n",
       "      <td>1</td>\n",
       "      <td>0</td>\n",
       "      <td>0</td>\n",
       "      <td>0</td>\n",
       "      <td>0</td>\n",
       "      <td>0</td>\n",
       "      <td>0</td>\n",
       "      <td>0</td>\n",
       "      <td>1</td>\n",
       "      <td>0</td>\n",
       "      <td>0</td>\n",
       "      <td>1</td>\n",
       "      <td>0</td>\n",
       "      <td>0</td>\n",
       "      <td>0</td>\n",
       "      <td>0</td>\n",
       "      <td>0</td>\n",
       "      <td>0</td>\n",
       "      <td>0</td>\n",
       "      <td>0</td>\n",
       "      <td>0</td>\n",
       "      <td>0</td>\n",
       "      <td>0</td>\n",
       "      <td>0</td>\n",
       "      <td>0</td>\n",
       "      <td>0</td>\n",
       "      <td>0</td>\n",
       "      <td>0</td>\n",
       "      <td>0</td>\n",
       "      <td>0</td>\n",
       "      <td>0</td>\n",
       "      <td>0</td>\n",
       "      <td>1</td>\n",
       "      <td>1</td>\n",
       "    </tr>\n",
       "  </tbody>\n",
       "</table>\n",
       "<p>750 rows × 60 columns</p>\n",
       "</div>"
      ],
      "text/plain": [
       "     age_at_release  max_sentence  ...  target_population  felony\n",
       "575              30            10  ...                  0       1\n",
       "839              20            10  ...                  1       1\n",
       "370              40             5  ...                  0       1\n",
       "3                30            50  ...                  1       1\n",
       "112              40             5  ...                  1       1\n",
       "..              ...           ...  ...                ...     ...\n",
       "271              30             2  ...                  0       0\n",
       "765              50            10  ...                  0       1\n",
       "860              40            10  ...                  1       1\n",
       "562              70             2  ...                  0       0\n",
       "21               40             5  ...                  1       1\n",
       "\n",
       "[750 rows x 60 columns]"
      ]
     },
     "execution_count": 85,
     "metadata": {},
     "output_type": "execute_result"
    }
   ],
   "source": [
    "X_train_tf.astype(int)"
   ]
  },
  {
   "cell_type": "code",
   "execution_count": 86,
   "metadata": {
    "ExecuteTime": {
     "end_time": "2021-07-10T21:05:04.248241Z",
     "start_time": "2021-07-10T21:05:04.167525Z"
    }
   },
   "outputs": [],
   "source": [
    "# Import catboost Pool to create training and testing pools\n",
    "from catboost import Pool, CatBoostClassifier\n",
    "\n",
    "# train_pool =  Pool(data=X_train_tf.astype(int), label=y_train, cat_features=[int(i) for i in cat_col_index])\n",
    "# test_pool = Pool(data=X_test_tf.astype(int), label=y_test,  cat_features=[int(i) for i in cat_col_index])"
   ]
  },
  {
   "cell_type": "code",
   "execution_count": 87,
   "metadata": {
    "ExecuteTime": {
     "end_time": "2021-07-10T21:05:12.078812Z",
     "start_time": "2021-07-10T21:05:04.250509Z"
    }
   },
   "outputs": [
    {
     "data": {
      "application/vnd.jupyter.widget-view+json": {
       "model_id": "d162c0b9d29b4d34abfaf4e17e2e142c",
       "version_major": 2,
       "version_minor": 0
      },
      "text/plain": [
       "MetricVisualizer(layout=Layout(align_self='stretch', height='500px'))"
      ]
     },
     "metadata": {},
     "output_type": "display_data"
    },
    {
     "name": "stdout",
     "output_type": "stream",
     "text": [
      "------------------------------------------------------------\n",
      "\tCLASSIFICATION REPORT - Test Data\n",
      "------------------------------------------------------------\n",
      "              precision    recall  f1-score   support\n",
      "\n",
      "           0       0.78      0.74      0.76       178\n",
      "           1       0.43      0.49      0.46        72\n",
      "\n",
      "    accuracy                           0.67       250\n",
      "   macro avg       0.61      0.61      0.61       250\n",
      "weighted avg       0.68      0.67      0.67       250\n",
      "\n"
     ]
    },
    {
     "data": {
      "image/png": "[encoded data removed]",
      "text/plain": [
       "<Figure size 720x288 with 3 Axes>"
      ]
     },
     "metadata": {
      "needs_background": "light"
     },
     "output_type": "display_data"
    },
    {
     "name": "stdout",
     "output_type": "stream",
     "text": [
      "Training Score = 0.77\n",
      "Test Score = 0.67\n"
     ]
    }
   ],
   "source": [
    "# Instantiating CatBoostClassifier \n",
    "cb_base = CatBoostClassifier(\n",
    "    iterations=2000,#depth=12,\n",
    "    boosting_type='Ordered',\n",
    "    learning_rate=0.001,\n",
    "    thread_count=-1,\n",
    "    eval_metric='Recall',\n",
    "    silent=True,\n",
    "    allow_const_label=True\n",
    ")#,|\n",
    "cb_base.fit(X_train_reg_smote, y_train_reg_smote, plot=True, early_stopping_rounds=50)\n",
    "cb_base.best_score_\n",
    "\n",
    "ji.evaluate_classification(cb_base,X_test_reg,y_test, \n",
    "                          X_train=X_train_reg_smote,y_train=y_train_reg_smote)"
   ]
  },
  {
   "cell_type": "code",
   "execution_count": 88,
   "metadata": {
    "ExecuteTime": {
     "end_time": "2021-07-10T21:13:07.839408Z",
     "start_time": "2021-07-10T21:05:12.081247Z"
    }
   },
   "outputs": [
    {
     "data": {
      "application/vnd.jupyter.widget-view+json": {
       "model_id": "ce5d843f8cb24f27bef1f06af5e8981d",
       "version_major": 2,
       "version_minor": 0
      },
      "text/plain": [
       "MetricVisualizer(layout=Layout(align_self='stretch', height='500px'))"
      ]
     },
     "metadata": {},
     "output_type": "display_data"
    },
    {
     "name": "stdout",
     "output_type": "stream",
     "text": [
      "------------------------------------------------------------\n",
      "\tCLASSIFICATION REPORT - Test Data\n",
      "------------------------------------------------------------\n",
      "              precision    recall  f1-score   support\n",
      "\n",
      "           0       0.81      0.87      0.84       178\n",
      "           1       0.61      0.50      0.55        72\n",
      "\n",
      "    accuracy                           0.76       250\n",
      "   macro avg       0.71      0.69      0.69       250\n",
      "weighted avg       0.75      0.76      0.76       250\n",
      "\n"
     ]
    },
    {
     "data": {
      "image/png": "[encoded data removed]",
      "text/plain": [
       "<Figure size 720x288 with 3 Axes>"
      ]
     },
     "metadata": {
      "needs_background": "light"
     },
     "output_type": "display_data"
    },
    {
     "name": "stdout",
     "output_type": "stream",
     "text": [
      "Training Score = 0.93\n",
      "Test Score = 0.76\n"
     ]
    }
   ],
   "source": [
    "# Instantiating CatBoostClassifier \n",
    "cb_base = CatBoostClassifier(iterations=3000, depth=14,\n",
    "                            boosting_type='Ordered',\n",
    "                            learning_rate=0.03,\n",
    "                            thread_count=-1,\n",
    "                            eval_metric='AUC',\n",
    "                             silent=True,\n",
    "                            allow_const_label=True\n",
    ")#,|\n",
    "cb_base.fit(X_train_reg_smote, y_train_reg_smote, plot=True, early_stopping_rounds=30)\n",
    "cb_base.best_score_\n",
    "\n",
    "ji.evaluate_classification(cb_base,X_test_reg,y_test, \n",
    "                          X_train=X_train_reg_smote,y_train=y_train_reg_smote)"
   ]
  },
  {
   "cell_type": "code",
   "execution_count": 89,
   "metadata": {
    "ExecuteTime": {
     "end_time": "2021-07-10T21:13:07.870971Z",
     "start_time": "2021-07-10T21:13:07.841856Z"
    }
   },
   "outputs": [],
   "source": [
    "\n",
    "# joblib.dump(cb_base"
   ]
  },
  {
   "cell_type": "markdown",
   "metadata": {},
   "source": [
    "## TO DO: Try tune-sklearn\n",
    "- [Blog Post](https://towardsdatascience.com/5x-faster-scikit-learn-parameter-tuning-in-5-lines-of-code-be6bdd21833c)\n",
    "- [Documentation](https://github.com/ray-project/tune-sklearn)"
   ]
  },
  {
   "cell_type": "markdown",
   "metadata": {},
   "source": [
    "## StackingClassifier"
   ]
  },
  {
   "cell_type": "code",
   "execution_count": 90,
   "metadata": {
    "ExecuteTime": {
     "end_time": "2021-07-10T21:13:07.906207Z",
     "start_time": "2021-07-10T21:13:07.872737Z"
    }
   },
   "outputs": [],
   "source": [
    "from sklearn.ensemble import StackingClassifier\n",
    "knn = KNeighborsClassifier(n_neighbors=3, p=1)\n",
    "\n",
    "# stack = StackingClassifier(estimators=[\n",
    "#     ('rf',)\n",
    "# ])"
   ]
  },
  {
   "cell_type": "markdown",
   "metadata": {},
   "source": [
    "# CONCLUSIONS\n",
    "- **After adjusting for imbalanced classes, the most important factor for determining recidivism are:**\n",
    "    - **Age at Release**\n",
    "    - **Supervising Judicial District**\n",
    "    - **Release Type**\n",
    "    - **Crime Subtype**\n",
    "    \n",
    "    \n",
    "## Recommendatons\n",
    "- This model could be used to predict which prisoners due for release may at the greatest risk for recidivism.<br><br>\n",
    "    - Using this knowledge, the state of Iowa could put new programs into action that target those at high risk for recidivism and provide additional assistance and guidance following release.<br><br>\n",
    "    - Additionally, there could be additional counseling or education _prior_ to release to supply the inmate with tools and options to avoid returning to a life of crime.\n",
    "    \n",
    "# FUTURE DIRECTIONS\n",
    "- With more time and reliable performance, would perform cross-validation of our final model.<br><br>\n",
    "- Additional visuals summarizing the underlying features effects on recidivism.<br><br>\n",
    "- Adapting more available visualization tools to better display the underpinning of the model.\n",
    "<br><br>\n",
    "- Exploration of the predictability of crimes types committed by recidivists."
   ]
  },
  {
   "cell_type": "markdown",
   "metadata": {},
   "source": [
    "### POST-REVIEW SUGGESTIONS / IDEAS:\n",
    "- [ ] Try using reduction instead of SMOTE.\n",
    "- [ ] seaborn catplot bar graphs\n",
    "- [ ] Add tree or other visuals\n",
    "    - Try Mike's SHAP plots"
   ]
  },
  {
   "cell_type": "markdown",
   "metadata": {},
   "source": [
    "# APPENDIX"
   ]
  },
  {
   "cell_type": "code",
   "execution_count": 91,
   "metadata": {
    "ExecuteTime": {
     "end_time": "2021-07-10T21:13:07.944180Z",
     "start_time": "2021-07-10T21:13:07.908351Z"
    }
   },
   "outputs": [],
   "source": [
    "# STOP\n",
    "\n",
    "# from bs_ds import viz_tree\n",
    "\n",
    "# viz_tree(cb_clf)\n",
    "\n",
    "\n",
    "\n",
    "# compare_tree = sklearn.tree.DecisionTreeClassifier()\n",
    "# dir(compare_tree)\n",
    "\n",
    "# compare_tree.fit(X_train, y_train)\n",
    "\n",
    "# dir(compare_tree)\n",
    "\n",
    "# # This is the tree object that sklearn generates and is looking for \n",
    "# help(compare_tree.tree_)\n",
    "\n",
    "# dir(cb_clf)\n",
    "\n",
    "# help(cb_clf.get_metadata())\n",
    "\n",
    "# test = cb_clf.get_metadata()\n",
    "\n",
    "# help(cb_clf)"
   ]
  },
  {
   "cell_type": "markdown",
   "metadata": {},
   "source": [
    "# SHAP "
   ]
  },
  {
   "cell_type": "code",
   "execution_count": null,
   "metadata": {},
   "outputs": [],
   "source": []
  },
  {
   "cell_type": "markdown",
   "metadata": {},
   "source": [
    "### SHAP values\n",
    "https://github.com/jirvingphd/shap\n"
   ]
  },
  {
   "cell_type": "markdown",
   "metadata": {},
   "source": [
    "# Using SHAP and Shapely Values for Model Interpretation\n",
    "\n"
   ]
  },
  {
   "cell_type": "markdown",
   "metadata": {},
   "source": [
    "\n",
    "- White Paper on Shapely Values:\n",
    "    - https://arxiv.org/abs/1705.07874\n",
    "    \n",
    "- Blog Posts:\n",
    "    - https://towardsdatascience.com/explain-your-model-with-the-shap-values-bc36aac4de3d\n",
    "\n",
    "    - https://towardsdatascience.com/explain-any-models-with-the-shap-values-use-the-kernelexplainer-79de9464897a\n",
    "\n",
    "\n",
    "- Videos/Talks:\n",
    "    - [\"Open the Black Box: an intro to Model Interpretability with LIME and SHAP](https://youtu.be/C80SQe16Rao)\n",
    "    "
   ]
  },
  {
   "cell_type": "markdown",
   "metadata": {},
   "source": [
    "## Using SHAP"
   ]
  },
  {
   "cell_type": "markdown",
   "metadata": {},
   "source": [
    "- Uses game theory to explain feature importance and how a feature steered a model's prediction(s) by removing each feature and seeing the effect on the error.\n",
    "\n",
    "- SHAP has:\n",
    "    - `TreeExplainer`:\n",
    "        - compatible with sckit learn, xgboost, Catboost\n",
    "    - `KernelExplainer`:\n",
    "        - compatible with \"any\" model\n",
    "        \n",
    "\n",
    "\n",
    "- See [this blog post](https://towardsdatascience.com/explain-your-model-with-the-shap-values-bc36aac4de3d) for intro to topic and how to use with trees\n",
    "\n",
    "- For non-tree/random forest models [see this follow up post]( https://towardsdatascience.com/explain-any-models-with-the-shap-values-use-the-kernelexplainer-79de9464897a)\n",
    "\n",
    "        "
   ]
  },
  {
   "cell_type": "markdown",
   "metadata": {},
   "source": [
    "### To Get Expanations for Trees:\n"
   ]
  },
  {
   "cell_type": "markdown",
   "metadata": {},
   "source": [
    "\n",
    "- Import and initialize javascript:\n",
    "\n",
    "```python\n",
    "import shap \n",
    "shap.initjs()\n",
    "```\n",
    "1. Create a shap explainer using your fit model.\n",
    "\n",
    "```python\n",
    "explainer = shap.TreeExplainer(xgb_clf)\n",
    "```\n",
    "\n",
    "2. Get shapely values from explainer for your training data\n",
    "\n",
    "```python\n",
    "shap_values = explainer.shap_values(X_train,y_train)\n",
    "```            \n",
    "\n",
    "3. Select which type of the available plots you'd like to visualize\n",
    "\n",
    "    \n",
    "- **Types of Plots:**\n",
    "    - `summary_plot()`\n",
    "    - `dependence_plot()`\n",
    "    - `force_plot()` for a given observation\n",
    "    - `force_plot()` for all data"
   ]
  },
  {
   "cell_type": "markdown",
   "metadata": {},
   "source": [
    "### Summary Plot"
   ]
  },
  {
   "cell_type": "markdown",
   "metadata": {},
   "source": [
    "```python\n",
    "\n",
    "## For normal bar graph of importance:\n",
    "shap.summary_plot(shap_values,X_train,plot_type='bar')\n",
    "\n",
    "## For detail Shapely value visuals:\n",
    "shap.summary_plot(shap_values, X_train)\n",
    "```\n",
    "\n",
    "**`shap.summary_plot`**\n",
    "> - Feature importance: Variables are ranked in descending order.\n",
    "- Impact: The horizontal location shows whether the effect of that value is associated with a higher or lower prediction.\n",
    "- Original value: Color shows whether that variable is high (in red) or low (in blue) for that observation.\n"
   ]
  },
  {
   "cell_type": "markdown",
   "metadata": {},
   "source": [
    "**`shap.dependence_plot`**"
   ]
  },
  {
   "cell_type": "markdown",
   "metadata": {},
   "source": [
    "\n",
    "```python\n",
    "## To Auto-Select Feature Most correlated with a specific feature, just pass the desired feature's column name.\n",
    "\n",
    "shap.dependence_plot('super_dist', shap_values, X_train)\n",
    "\n",
    "## There is a way to specifically call out multiple features but I wasn't able to summarize it quickly for this nb\n",
    "```"
   ]
  },
  {
   "cell_type": "markdown",
   "metadata": {},
   "source": [
    "`shap.force_plot`"
   ]
  },
  {
   "cell_type": "markdown",
   "metadata": {},
   "source": [
    "To show an individual data point's prediction and the factors pushing it towards one class or another"
   ]
  },
  {
   "cell_type": "markdown",
   "metadata": {},
   "source": [
    "```python\n",
    "## Just using np to randomly select a row\n",
    "\n",
    "row = np.random.choice(range(len(X_train))\n",
    "                       \n",
    "shap.force_plot(explainer.expected_value, shap_values[row,:], X_train.iloc[row,:])\n",
    "```"
   ]
  },
  {
   "cell_type": "code",
   "execution_count": 92,
   "metadata": {
    "ExecuteTime": {
     "end_time": "2021-07-10T21:13:08.408405Z",
     "start_time": "2021-07-10T21:13:07.946125Z"
    }
   },
   "outputs": [
    {
     "name": "stdout",
     "output_type": "stream",
     "text": [
      "------------------------------------------------------------\n",
      "[i] CLASSIFICATION REPORT\n",
      "------------------------------------------------------------\n",
      "              precision    recall  f1-score   support\n",
      "\n",
      "   Non Recid       0.77      0.19      0.31       178\n",
      "   Recidivst       0.30      0.86      0.45        72\n",
      "\n",
      "    accuracy                           0.38       250\n",
      "   macro avg       0.54      0.53      0.38       250\n",
      "weighted avg       0.64      0.38      0.35       250\n",
      "\n",
      "------------------------------------------------------------\n",
      "\n",
      "\n"
     ]
    },
    {
     "data": {
      "image/png": "[encoded data removed]",
      "text/plain": [
       "<Figure size 720x288 with 3 Axes>"
      ]
     },
     "metadata": {
      "needs_background": "light"
     },
     "output_type": "display_data"
    }
   ],
   "source": [
    "clf = grid.best_estimator_\n",
    "\n",
    "evaluate_classification(clf, X_test_tf,y_test)"
   ]
  },
  {
   "cell_type": "code",
   "execution_count": 93,
   "metadata": {
    "ExecuteTime": {
     "end_time": "2021-07-10T21:13:08.442837Z",
     "start_time": "2021-07-10T21:13:08.410012Z"
    }
   },
   "outputs": [],
   "source": [
    "# %conda list shap\n",
    "\n",
    "# !pip install -U shap\n",
    "\n",
    "# %conda uninstall shap"
   ]
  },
  {
   "cell_type": "code",
   "execution_count": 94,
   "metadata": {
    "ExecuteTime": {
     "end_time": "2021-07-10T21:13:08.717444Z",
     "start_time": "2021-07-10T21:13:08.444818Z"
    }
   },
   "outputs": [
    {
     "ename": "ModuleNotFoundError",
     "evalue": "No module named 'shap'",
     "output_type": "error",
     "traceback": [
      "\u001b[0;31m---------------------------------------------------------------------------\u001b[0m",
      "\u001b[0;31mModuleNotFoundError\u001b[0m                       Traceback (most recent call last)",
      "\u001b[0;32m<ipython-input-94-57047d62e0cd>\u001b[0m in \u001b[0;36m<module>\u001b[0;34m\u001b[0m\n\u001b[0;32m----> 1\u001b[0;31m \u001b[0;32mimport\u001b[0m \u001b[0mshap\u001b[0m\u001b[0;34m\u001b[0m\u001b[0;34m\u001b[0m\u001b[0m\n\u001b[0m\u001b[1;32m      2\u001b[0m \u001b[0mshap\u001b[0m\u001b[0;34m.\u001b[0m\u001b[0minitjs\u001b[0m\u001b[0;34m(\u001b[0m\u001b[0;34m)\u001b[0m\u001b[0;34m\u001b[0m\u001b[0;34m\u001b[0m\u001b[0m\n",
      "\u001b[0;31mModuleNotFoundError\u001b[0m: No module named 'shap'"
     ]
    }
   ],
   "source": [
    "import shap\n",
    "shap.initjs()"
   ]
  },
  {
   "cell_type": "code",
   "execution_count": null,
   "metadata": {
    "ExecuteTime": {
     "end_time": "2021-07-10T21:13:08.719637Z",
     "start_time": "2021-07-10T21:04:05.397Z"
    }
   },
   "outputs": [],
   "source": [
    "shap.__version__"
   ]
  },
  {
   "cell_type": "code",
   "execution_count": null,
   "metadata": {
    "ExecuteTime": {
     "end_time": "2021-07-10T21:13:08.721014Z",
     "start_time": "2021-07-10T21:04:05.403Z"
    }
   },
   "outputs": [],
   "source": [
    "X_shap = shap.sample(X_test_tf)\n",
    "X_shap"
   ]
  },
  {
   "cell_type": "code",
   "execution_count": null,
   "metadata": {
    "ExecuteTime": {
     "end_time": "2021-07-10T21:13:08.722822Z",
     "start_time": "2021-07-10T21:04:05.407Z"
    }
   },
   "outputs": [],
   "source": [
    "# plt.style.use('seaborn-notebook')"
   ]
  },
  {
   "cell_type": "code",
   "execution_count": null,
   "metadata": {
    "ExecuteTime": {
     "end_time": "2021-07-10T21:13:08.724152Z",
     "start_time": "2021-07-10T21:04:05.412Z"
    }
   },
   "outputs": [],
   "source": [
    "explainer = shap.TreeExplainer(clf)"
   ]
  },
  {
   "cell_type": "code",
   "execution_count": null,
   "metadata": {
    "ExecuteTime": {
     "end_time": "2021-07-10T21:13:08.725446Z",
     "start_time": "2021-07-10T21:04:05.416Z"
    }
   },
   "outputs": [],
   "source": [
    "shap_vals = explainer.shap_values(X_shap)"
   ]
  },
  {
   "cell_type": "code",
   "execution_count": null,
   "metadata": {
    "ExecuteTime": {
     "end_time": "2021-07-10T21:13:08.726793Z",
     "start_time": "2021-07-10T21:04:05.421Z"
    }
   },
   "outputs": [],
   "source": [
    "shap_ixn_vals = explainer.shap_interaction_values(X_shap)"
   ]
  },
  {
   "cell_type": "code",
   "execution_count": null,
   "metadata": {
    "ExecuteTime": {
     "end_time": "2021-07-10T21:13:08.727995Z",
     "start_time": "2021-07-10T21:04:05.425Z"
    }
   },
   "outputs": [],
   "source": [
    "\n",
    "shap.summary_plot(shap_vals, X_shap,plot_type='dot')"
   ]
  },
  {
   "cell_type": "code",
   "execution_count": null,
   "metadata": {
    "ExecuteTime": {
     "end_time": "2021-07-10T21:13:08.729180Z",
     "start_time": "2021-07-10T21:04:05.430Z"
    }
   },
   "outputs": [],
   "source": [
    "shap.force_plot(explainer.expected_value, X_shap[:1000],X_train[:1000])"
   ]
  },
  {
   "cell_type": "code",
   "execution_count": null,
   "metadata": {
    "ExecuteTime": {
     "end_time": "2021-07-10T21:13:08.730680Z",
     "start_time": "2021-07-10T21:04:05.435Z"
    }
   },
   "outputs": [],
   "source": [
    "shap.summary_plot(shap_vals, X_train, plot_type=\"bar\")"
   ]
  },
  {
   "cell_type": "code",
   "execution_count": null,
   "metadata": {},
   "outputs": [],
   "source": []
  }
 ],
 "metadata": {
  "kernelspec": {
   "display_name": "My Env",
   "language": "python",
   "name": "myenv"
  },
  "language_info": {
   "codemirror_mode": {
    "name": "ipython",
    "version": 3
   },
   "file_extension": ".py",
   "mimetype": "text/x-python",
   "name": "python",
   "nbconvert_exporter": "python",
   "pygments_lexer": "ipython3",
   "version": "3.8.5"
  },
  "toc": {
   "base_numbering": 1,
   "nav_menu": {},
   "number_sections": false,
   "sideBar": true,
   "skip_h1_title": false,
   "title_cell": "Table of Contents",
   "title_sidebar": "Contents",
   "toc_cell": false,
   "toc_position": {
    "height": "calc(100% - 180px)",
    "left": "10px",
    "top": "150px",
    "width": "307.173px"
   },
   "toc_section_display": true,
   "toc_window_display": true
  },
  "varInspector": {
   "cols": {
    "lenName": 16,
    "lenType": 16,
    "lenVar": 40
   },
   "kernels_config": {
    "python": {
     "delete_cmd_postfix": "",
     "delete_cmd_prefix": "del ",
     "library": "var_list.py",
     "varRefreshCmd": "print(var_dic_list())"
    },
    "r": {
     "delete_cmd_postfix": ") ",
     "delete_cmd_prefix": "rm(",
     "library": "var_list.r",
     "varRefreshCmd": "cat(var_dic_list()) "
    }
   },
   "oldHeight": 572.166222,
   "position": {
    "height": "593.931px",
    "left": "841.588px",
    "right": "20px",
    "top": "77px",
    "width": "705.306px"
   },
   "types_to_exclude": [
    "module",
    "function",
    "builtin_function_or_method",
    "instance",
    "_Feature"
   ],
   "varInspector_section_display": "block",
   "window_display": false
  }
 },
 "nbformat": 4,
 "nbformat_minor": 2
}
